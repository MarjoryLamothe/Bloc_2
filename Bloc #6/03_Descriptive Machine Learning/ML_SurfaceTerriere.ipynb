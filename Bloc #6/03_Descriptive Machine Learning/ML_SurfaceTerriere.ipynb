{
 "cells": [
  {
   "cell_type": "code",
   "execution_count": 1,
   "metadata": {},
   "outputs": [],
   "source": [
    "import pandas as pd\n",
    "import seaborn as sns\n",
    "import matplotlib.pyplot as plt\n",
    "import plotly.express as px"
   ]
  },
  {
   "cell_type": "markdown",
   "metadata": {},
   "source": [
    "## 1. load data"
   ]
  },
  {
   "cell_type": "code",
   "execution_count": 2,
   "metadata": {},
   "outputs": [],
   "source": [
    "dataset = pd.read_excel('big_merge_V2_meteo.xlsx', sheet_name=\"Sheet1\")"
   ]
  },
  {
   "cell_type": "code",
   "execution_count": 3,
   "metadata": {},
   "outputs": [
    {
     "data": {
      "text/html": [
       "<div>\n",
       "<style scoped>\n",
       "    .dataframe tbody tr th:only-of-type {\n",
       "        vertical-align: middle;\n",
       "    }\n",
       "\n",
       "    .dataframe tbody tr th {\n",
       "        vertical-align: top;\n",
       "    }\n",
       "\n",
       "    .dataframe thead th {\n",
       "        text-align: right;\n",
       "    }\n",
       "</style>\n",
       "<table border=\"1\" class=\"dataframe\">\n",
       "  <thead>\n",
       "    <tr style=\"text-align: right;\">\n",
       "      <th></th>\n",
       "      <th>Unnamed: 0</th>\n",
       "      <th>PARCELLE</th>\n",
       "      <th>LAT</th>\n",
       "      <th>LON</th>\n",
       "      <th>ALT</th>\n",
       "      <th>PRODREG</th>\n",
       "      <th>HT_VEG</th>\n",
       "      <th>DATE</th>\n",
       "      <th>SLOPE25</th>\n",
       "      <th>ASPECT25</th>\n",
       "      <th>...</th>\n",
       "      <th>ENDOMMAGEMENT</th>\n",
       "      <th>NB_DEGAT_ARBRE</th>\n",
       "      <th>PRCP_SUM</th>\n",
       "      <th>PRCP</th>\n",
       "      <th>PRCP_GROWTH</th>\n",
       "      <th>TAVE_AVG</th>\n",
       "      <th>TAVE</th>\n",
       "      <th>TAVE_GROWTH</th>\n",
       "      <th>PRCP_S_S</th>\n",
       "      <th>PRCP_G_S</th>\n",
       "    </tr>\n",
       "  </thead>\n",
       "  <tbody>\n",
       "    <tr>\n",
       "      <th>0</th>\n",
       "      <td>0</td>\n",
       "      <td>51</td>\n",
       "      <td>47.781623</td>\n",
       "      <td>8.612822</td>\n",
       "      <td>715.91897</td>\n",
       "      <td>1</td>\n",
       "      <td>3</td>\n",
       "      <td>1984-04-10</td>\n",
       "      <td>58.407726</td>\n",
       "      <td>67.342415</td>\n",
       "      <td>...</td>\n",
       "      <td>1</td>\n",
       "      <td>1</td>\n",
       "      <td>NaN</td>\n",
       "      <td>NaN</td>\n",
       "      <td>NaN</td>\n",
       "      <td>NaN</td>\n",
       "      <td>NaN</td>\n",
       "      <td>NaN</td>\n",
       "      <td>0.000000</td>\n",
       "      <td>0.000000</td>\n",
       "    </tr>\n",
       "    <tr>\n",
       "      <th>1</th>\n",
       "      <td>2403</td>\n",
       "      <td>51</td>\n",
       "      <td>47.781623</td>\n",
       "      <td>8.612822</td>\n",
       "      <td>715.91897</td>\n",
       "      <td>1</td>\n",
       "      <td>3</td>\n",
       "      <td>1994-10-19</td>\n",
       "      <td>58.407726</td>\n",
       "      <td>67.342415</td>\n",
       "      <td>...</td>\n",
       "      <td>1</td>\n",
       "      <td>1</td>\n",
       "      <td>1288.892</td>\n",
       "      <td>10.2</td>\n",
       "      <td>569.6721</td>\n",
       "      <td>8.8859</td>\n",
       "      <td>9.026806</td>\n",
       "      <td>13.84776</td>\n",
       "      <td>117.278617</td>\n",
       "      <td>51.835496</td>\n",
       "    </tr>\n",
       "  </tbody>\n",
       "</table>\n",
       "<p>2 rows × 113 columns</p>\n",
       "</div>"
      ],
      "text/plain": [
       "   Unnamed: 0  PARCELLE        LAT       LON        ALT  PRODREG  HT_VEG  \\\n",
       "0           0        51  47.781623  8.612822  715.91897        1       3   \n",
       "1        2403        51  47.781623  8.612822  715.91897        1       3   \n",
       "\n",
       "        DATE    SLOPE25   ASPECT25  ... ENDOMMAGEMENT  NB_DEGAT_ARBRE  \\\n",
       "0 1984-04-10  58.407726  67.342415  ...             1               1   \n",
       "1 1994-10-19  58.407726  67.342415  ...             1               1   \n",
       "\n",
       "   PRCP_SUM  PRCP  PRCP_GROWTH  TAVE_AVG      TAVE  TAVE_GROWTH    PRCP_S_S  \\\n",
       "0       NaN   NaN          NaN       NaN       NaN          NaN    0.000000   \n",
       "1  1288.892  10.2     569.6721    8.8859  9.026806     13.84776  117.278617   \n",
       "\n",
       "    PRCP_G_S  \n",
       "0   0.000000  \n",
       "1  51.835496  \n",
       "\n",
       "[2 rows x 113 columns]"
      ]
     },
     "execution_count": 3,
     "metadata": {},
     "output_type": "execute_result"
    }
   ],
   "source": [
    "dataset.head(2)"
   ]
  },
  {
   "cell_type": "code",
   "execution_count": 4,
   "metadata": {},
   "outputs": [],
   "source": [
    "dataset.drop([\"Unnamed: 0\", \"ETAGE\", \"ENDOMMAGEMENT\", \"NB_DEGAT_ARBRE\"], axis = 1, inplace=True)"
   ]
  },
  {
   "cell_type": "code",
   "execution_count": 5,
   "metadata": {},
   "outputs": [
    {
     "name": "stdout",
     "output_type": "stream",
     "text": [
      "Index(['PARCELLE', 'LAT', 'LON', 'ALT', 'PRODREG', 'HT_VEG', 'DATE', 'SLOPE25',\n",
      "       'ASPECT25', 'ORIENTATION',\n",
      "       ...\n",
      "       'HAUTEUR_ARBRE', 'AGE_ARBRE', 'PRCP_SUM', 'PRCP', 'PRCP_GROWTH',\n",
      "       'TAVE_AVG', 'TAVE', 'TAVE_GROWTH', 'PRCP_S_S', 'PRCP_G_S'],\n",
      "      dtype='object', length=109)\n",
      "(9612, 109)\n"
     ]
    }
   ],
   "source": [
    "print(dataset.columns)\n",
    "print(dataset.shape)"
   ]
  },
  {
   "cell_type": "markdown",
   "metadata": {},
   "source": [
    "- features list"
   ]
  },
  {
   "cell_type": "code",
   "execution_count": 6,
   "metadata": {},
   "outputs": [],
   "source": [
    "# list of the target variables conducted in the project\n",
    "## 'PERF_CROI', 'SURF_TER_HA', 'DEGRAD_PPL', 'TAUX_COUV_RAJ', '25_GRID_PER', 'VOL_BOIS_MANQUANT', 'ACCR', 'UNIT_ACCR', 'UNIT_VOL_BOIS_MANQUANT'\n",
    "\n",
    "# categorical features\n",
    "## 'PARCELLE', 'PRODREG', 'DATE', 'ASPECT25', 'UNIT_VEG_FINE', 'UNIT_VEG_GROS', 'MODE_REGEN', 'INTENSITE_EXPLOIT', 'TRACES_FEU', 'NIV_DEV', 'MELANGE', 'RELIEF', 'DEG_FERMETURE', 'STR_PPL',\n",
    "## 'TYPE_FORET305', 'TYP_RAJ_PPL', 'TAUX_COUV_RAJ_FIN', 'TAUX_COUV_RAJ_ASS', 'ESPECE_DOM', 'FEU_RES', 'TYPE_FORET', 'PERI_CHENAUX', 'PERI_COULEES', 'PERI_AVALANCH', 'PERI_CHUTES', 'LFI',\n",
    "##  'ORIENTATION', 'INT_IFN2_IFN3', 'INT_IFN3-IFN4'\n",
    "\n",
    "# ordonated categorical features\n",
    "## 'HT_VEG', 'QUAL_STATION', 'REBOISEMENT_AN', 'TAILLE_PPL', 'DIV_STR_PPL_CLASS', 'SDI_CLASSE', 'NEXT_INTER_DATE', 'NEXT_INTER_TYPE', 'SURCHARGE', 'PROCESS_SILVA'\n",
    "\n",
    "# numerical features \n",
    "## 'LAT', 'LON', 'ALT', 'SLOPE25', 'AGE_PPL', 'DIV_STR_PPL', 'DDOM', 'DEG_SUR_PER', 'LAST_INTER_DATE', 'TIGES_VIV_H', 'SDI',  'EPIC_PER', 'SAPIN_PER', 'PIN_PER', 'MELEZ_PER', 'ARO_PER', 'OTHER_CONIF_PER',\n",
    "## 'HETR_PER', 'ERAB_PER', 'FREN_PER', 'CHEN_PER', 'DGANTCA', 'OTHER_FEUILL_PER', 'CONIF_PER_STD', 'ARBUST_PER', 'FEUILL_PER', 'CONIF_PER', 'SURF_TROU_AER', 'V_ALL', 'V_FICHT', 'V_TANNE', 'V_FOEHR',\n",
    "## 'V_LARCH', 'V_ARVEN', 'V_UENDH', 'V_BUCHE', 'V_AHORN', 'V_ESCHE', 'V_EICHE', 'V_CASTA', 'V_UELBH', 'NB_SAISON', 'VOL_BOIS_MANQUANT_NDH', 'VOL_BOIS_MANQUANT_LBH', 'UNIT_VOL_BOIS_MANQUANT_NDH',\n",
    "## 'UNIT_VOL_BOIS_MANQUANT_LBH', 'ACCR_NDH', 'ACCR_LBH',  'UNIT_ACCR_NDH', 'UNIT_ACCR_LBH', 'DBH', 'HAUTEUR_ARBRE', 'AGE_ARBRE', 'PRCP_SUM', 'PRCP', 'PRCP_GROWTH', 'TAVE_AVG',\n",
    "## 'TAVE', 'TAVE_GROWTH', 'PRCP_S_S', 'PRCP_G_S'"
   ]
  },
  {
   "cell_type": "code",
   "execution_count": 7,
   "metadata": {},
   "outputs": [],
   "source": [
    "# LFI target\n",
    "#lfi = \"LFI3\"\n",
    "\n",
    "# the target variable of this script\n",
    "target = \"SURF_TER_HA\"\n",
    "\n",
    "# potential features\n",
    "categorical_features = ['LFI','ORIENTATION', 'RELIEF', 'PRODREG', 'PERI_CHENAUX', 'PERI_COULEES', 'PERI_AVALANCH', 'PERI_CHUTES',\n",
    "                        'MODE_REGEN', 'NIV_DEV', 'MELANGE', 'TYP_RAJ_PPL', 'ESPECE_DOM', 'FEU_RES', 'TYPE_FORET',\n",
    "                        'TRACES_FEU', 'INTENSITE_EXPLOIT', 'INT_IFN2_IFN3', 'INT_IFN3-IFN4']\n",
    "\n",
    "ordi_categorical_features = ['HT_VEG', 'QUAL_STATION', 'REBOISEMENT_AN', 'TAILLE_PPL']\n",
    "\n",
    "numerical_features = ['LAT', 'LON', 'ALT', 'SLOPE25', 'AGE_PPL', 'DIV_STR_PPL', 'DDOM', 'DEG_SUR_PER', 'SDI', 'FEUILL_PER', 'CONIF_PER', 'SURF_TROU_AER', 'DBH', 'HAUTEUR_ARBRE', 'AGE_ARBRE',\n",
    "                      'PRCP_SUM', 'PRCP', 'PRCP_GROWTH', 'TAVE_AVG', 'TAVE', 'TAVE_GROWTH', 'PRCP_S_S', 'PRCP_G_S']"
   ]
  },
  {
   "cell_type": "code",
   "execution_count": 45,
   "metadata": {},
   "outputs": [
    {
     "data": {
      "text/plain": [
       "0"
      ]
     },
     "execution_count": 45,
     "metadata": {},
     "output_type": "execute_result"
    }
   ],
   "source": [
    "len(dataset.loc[dataset[target].isna(), target])"
   ]
  },
  {
   "cell_type": "code",
   "execution_count": 37,
   "metadata": {},
   "outputs": [],
   "source": [
    "# adding aridity index\n",
    "dataset[\"AI\"] = dataset['PRCP_GROWTH'] / dataset['TAVE_GROWTH']"
   ]
  },
  {
   "cell_type": "markdown",
   "metadata": {},
   "source": [
    "## 2. Linear regression models"
   ]
  },
  {
   "cell_type": "code",
   "execution_count": 48,
   "metadata": {},
   "outputs": [],
   "source": [
    "from sklearn.model_selection import train_test_split\n",
    "from sklearn.pipeline import Pipeline\n",
    "from sklearn.impute import SimpleImputer\n",
    "from sklearn.preprocessing import  OneHotEncoder, StandardScaler, OrdinalEncoder\n",
    "from sklearn.compose import ColumnTransformer\n",
    "from sklearn.model_selection import cross_val_score, GridSearchCV\n",
    "from sklearn.linear_model import LinearRegression, Lasso\n",
    "from sklearn.metrics import accuracy_score, r2_score, mean_absolute_percentage_error\n",
    "from sklearn.metrics import classification_report, precision_score, recall_score"
   ]
  },
  {
   "cell_type": "markdown",
   "metadata": {},
   "source": [
    "### 2.1 baseline"
   ]
  },
  {
   "cell_type": "code",
   "execution_count": 9,
   "metadata": {},
   "outputs": [
    {
     "name": "stdout",
     "output_type": "stream",
     "text": [
      "Explanatory variables :  Index(['ALT'], dtype='object')\n",
      "Dividing into train and test sets...\n",
      "...Done.\n"
     ]
    }
   ],
   "source": [
    "# selection of the feature\n",
    "features_list = ['ALT']\n",
    "# separation of the data\n",
    "X = dataset.loc[:, features_list]\n",
    "Y = dataset.loc[:, target]\n",
    "\n",
    "print('Explanatory variables : ', X.columns)\n",
    "\n",
    "# Divide dataset Train set & Test set \n",
    "print(\"Dividing into train and test sets...\")\n",
    "X_train, X_test, Y_train, Y_test = train_test_split(X, Y, test_size=0.2, random_state=0)\n",
    "print(\"...Done.\")"
   ]
  },
  {
   "cell_type": "code",
   "execution_count": 10,
   "metadata": {},
   "outputs": [
    {
     "name": "stdout",
     "output_type": "stream",
     "text": [
      "Encoding categorical features and standardizing numerical features...\n",
      "...Done\n",
      "[[ 0.52817489]\n",
      " [ 0.62056846]\n",
      " [ 1.29520774]\n",
      " [ 0.84398735]\n",
      " [-0.18011225]]\n",
      "Encoding categorical features and standardizing numerical features...\n",
      "...Done\n",
      "[[ 0.18811703]\n",
      " [-0.97793356]\n",
      " [-1.56846622]\n",
      " [-0.04168493]\n",
      " [-0.1751173 ]]\n"
     ]
    }
   ],
   "source": [
    "# Put here all the preprocessings\n",
    "print(\"Encoding categorical features and standardizing numerical features...\")\n",
    "preprocessor = Pipeline(steps=[\n",
    "    ('imputer', SimpleImputer(strategy='median')),\n",
    "    ('scaler', StandardScaler())\n",
    "])\n",
    "X_train = preprocessor.fit_transform(X_train)\n",
    "print(\"...Done\")\n",
    "print(X_train[0:5,:])\n",
    "\n",
    "print(\"Encoding categorical features and standardizing numerical features...\")\n",
    "X_test = preprocessor.transform(X_test)\n",
    "print(\"...Done\")\n",
    "print(X_test[0:5,:])"
   ]
  },
  {
   "cell_type": "code",
   "execution_count": 11,
   "metadata": {},
   "outputs": [
    {
     "name": "stdout",
     "output_type": "stream",
     "text": [
      "Train model...\n",
      "...Done.\n"
     ]
    }
   ],
   "source": [
    "# Train model\n",
    "print(\"Train model...\")\n",
    "baseline = LinearRegression()\n",
    "baseline.fit(X_train, Y_train)\n",
    "print(\"...Done.\")"
   ]
  },
  {
   "cell_type": "code",
   "execution_count": 12,
   "metadata": {},
   "outputs": [],
   "source": [
    "# predicted values\n",
    "Y_train_pred = baseline.predict(X_train)\n",
    "Y_test_pred = baseline.predict(X_test)"
   ]
  },
  {
   "cell_type": "code",
   "execution_count": 13,
   "metadata": {},
   "outputs": [
    {
     "name": "stdout",
     "output_type": "stream",
     "text": [
      "R2 score on training set :  0.0029434890691342197\n",
      "R2 score on test set :  0.00027274185953685137\n"
     ]
    }
   ],
   "source": [
    "# Print R^2 scores\n",
    "print(\"R2 score on training set : \", r2_score(Y_train, Y_train_pred))\n",
    "print(\"R2 score on test set : \", r2_score(Y_test, Y_test_pred))"
   ]
  },
  {
   "cell_type": "markdown",
   "metadata": {},
   "source": [
    "### 2.2 model_LR1: numerical features"
   ]
  },
  {
   "cell_type": "code",
   "execution_count": 14,
   "metadata": {},
   "outputs": [
    {
     "name": "stdout",
     "output_type": "stream",
     "text": [
      "Explanatory variables :  Index(['LAT', 'LON', 'ALT', 'SLOPE25', 'AGE_PPL', 'DIV_STR_PPL', 'DDOM',\n",
      "       'DEG_SUR_PER', 'SDI', 'FEUILL_PER', 'CONIF_PER', 'SURF_TROU_AER', 'DBH',\n",
      "       'HAUTEUR_ARBRE', 'AGE_ARBRE', 'PRCP_SUM', 'PRCP', 'PRCP_GROWTH',\n",
      "       'TAVE_AVG', 'TAVE', 'TAVE_GROWTH'],\n",
      "      dtype='object')\n",
      "Dividing into train and test sets...\n",
      "...Done.\n"
     ]
    }
   ],
   "source": [
    "# selection of the feature\n",
    "features_list = ['LAT', 'LON', 'ALT', 'SLOPE25', 'AGE_PPL', 'DIV_STR_PPL', 'DDOM', 'DEG_SUR_PER', 'SDI', 'FEUILL_PER', 'CONIF_PER', 'SURF_TROU_AER', 'DBH', 'HAUTEUR_ARBRE', 'AGE_ARBRE',\n",
    "                'PRCP_SUM', 'PRCP', 'PRCP_GROWTH', 'TAVE_AVG', 'TAVE', 'TAVE_GROWTH']\n",
    "# separation of the data\n",
    "X = dataset.loc[:, features_list]\n",
    "Y = dataset.loc[:, target]\n",
    "\n",
    "print('Explanatory variables : ', X.columns)\n",
    "\n",
    "# Divide dataset Train set & Test set \n",
    "print(\"Dividing into train and test sets...\")\n",
    "X_train, X_test, Y_train, Y_test = train_test_split(X, Y, test_size=0.2, random_state=0)\n",
    "print(\"...Done.\")"
   ]
  },
  {
   "cell_type": "code",
   "execution_count": 15,
   "metadata": {},
   "outputs": [
    {
     "name": "stdout",
     "output_type": "stream",
     "text": [
      "Encoding categorical features and standardizing numerical features...\n",
      "...Done\n",
      "[[-0.35717251  0.33833912  0.52817489 -1.19846874  1.35798089  2.0105166\n",
      "   1.17248088 -0.16512923 -0.60057101 -0.29232772  0.25510912 -0.89255041\n",
      "   2.10679595  1.2718684  -0.08449005 -0.28884312  0.38522877  0.01227071\n",
      "   0.40119749  1.08993594  0.74972315]\n",
      " [-0.56407401 -1.30422116  0.62056846 -0.28279796 -0.03471188  0.01305404\n",
      "  -1.0167825  -0.16512923 -1.20733556 -0.29232772  0.25510912 -0.89255041\n",
      "  -0.62598    -0.00658919 -0.08449005  0.10727424 -0.0634572   0.15555016\n",
      "   0.05669531  0.10025377  0.108916  ]\n",
      " [-1.34590789 -0.44605071  1.29520774  0.1957839  -0.03471188 -1.98440853\n",
      "  -0.21352759 -0.16512923  0.04783424 -0.29232772  0.25510912 -0.89255041\n",
      "  -0.31366275 -0.8828354  -0.08449005 -0.14984228 -0.20351618  0.26519476\n",
      "   1.17490331  0.97690736  0.19773302]\n",
      " [ 0.52466104 -0.30078189  0.84398735 -0.72693004 -0.03471188  2.34342703\n",
      "   0.68422789  0.97135362  1.09777486 -0.95451417  1.07591063  0.71203694\n",
      "   0.77944763  0.26633996 -0.08449005  0.39643559  0.0568563   0.33624059\n",
      "   0.55309876  0.32572283 -0.36033339]\n",
      " [-1.39456823  0.73592574 -0.18011225  0.29145898 -0.4326241  -2.48377417\n",
      "  -0.71753067 -0.16512923 -0.8801586  -0.29232772  0.25510912 -0.89255041\n",
      "  -0.39174206 -0.81101194 -0.08449005  0.26925447 -0.79433313  0.49709554\n",
      "  -0.93751502 -1.81928968 -1.03472418]]\n",
      "Encoding categorical features and standardizing numerical features...\n",
      "...Done\n",
      "[[ 0.92151989  1.36035323  0.18811703  0.63939965 -0.03471188  0.01305404\n",
      "   0.27472539 -0.16512923 -0.05626752 -0.29232772  0.25510912 -0.89255041\n",
      "  -0.9773369  -0.02095388 -0.08449005  0.10727424 -0.0634572   0.15555016\n",
      "   0.05669531  0.10025377  0.108916  ]\n",
      " [ 0.8591463  -0.31290118 -0.97793356 -0.64997634 -0.03471188  1.17824053\n",
      "   1.0779803  -0.16512923  1.23459431  1.85977826 -1.7148145   1.24689939\n",
      "   0.38905107  0.9127511  -0.08449005  0.73824175 -0.01168094  0.5777115\n",
      "   1.00351905  0.24056482 -0.84934247]\n",
      " [ 2.00166263  1.12854632 -1.56846622 -0.78820696  0.56215645  1.34469575\n",
      "   1.28273155  0.97135362  0.33634483  0.36985874 -0.23737178  0.17717449\n",
      "   1.01368557  1.48733878 -0.08449005 -0.29546803  0.75376226  0.31658763\n",
      "  -0.57575884 -1.65037708  0.55429759]\n",
      " [-0.09721794 -0.49597995 -0.04168493  0.46227515 -1.7059432   0.01305404\n",
      "  -2.40279097 -0.16512923 -1.72487003 -0.29232772  0.25510912 -0.89255041\n",
      "  -1.48485244 -0.00658919 -0.08449005  0.10727424 -0.0634572   0.15555016\n",
      "   0.05669531  0.10025377  0.108916  ]\n",
      " [-1.14787836 -0.24109457 -0.1751173   0.18226552 -1.62636075  0.01305404\n",
      "  -1.37903472 -0.16512923 -0.38641882  2.3564181  -2.20729541  0.71203694\n",
      "  -0.78213862 -0.00658919 -0.08449005  0.72350071 -0.85138628  0.5142106\n",
      "  -0.86156439  0.90265086  0.90834728]]\n",
      "Train model...\n",
      "...Done.\n"
     ]
    }
   ],
   "source": [
    "# Put here all the preprocessings\n",
    "print(\"Encoding categorical features and standardizing numerical features...\")\n",
    "preprocessor = Pipeline(steps=[\n",
    "    ('imputer', SimpleImputer(strategy='median')),\n",
    "    ('scaler', StandardScaler())\n",
    "])\n",
    "X_train = preprocessor.fit_transform(X_train)\n",
    "print(\"...Done\")\n",
    "print(X_train[0:5,:])\n",
    "\n",
    "print(\"Encoding categorical features and standardizing numerical features...\")\n",
    "X_test = preprocessor.transform(X_test)\n",
    "print(\"...Done\")\n",
    "print(X_test[0:5,:])\n",
    "\n",
    "# Train model\n",
    "print(\"Train model...\")\n",
    "model_LR1 = LinearRegression()\n",
    "model_LR1.fit(X_train, Y_train)\n",
    "print(\"...Done.\")"
   ]
  },
  {
   "cell_type": "code",
   "execution_count": 16,
   "metadata": {},
   "outputs": [
    {
     "name": "stdout",
     "output_type": "stream",
     "text": [
      "R2 score on training set :  0.97932201551735\n",
      "R2 score on test set :  0.9763014524171582\n"
     ]
    }
   ],
   "source": [
    "# predicted values\n",
    "Y_train_pred = model_LR1.predict(X_train)\n",
    "Y_test_pred = model_LR1.predict(X_test)\n",
    "\n",
    "# Print R^2 scores\n",
    "print(\"R2 score on training set : \", r2_score(Y_train, Y_train_pred))\n",
    "print(\"R2 score on test set : \", r2_score(Y_test, Y_test_pred))"
   ]
  },
  {
   "cell_type": "code",
   "execution_count": 17,
   "metadata": {},
   "outputs": [
    {
     "data": {
      "text/html": [
       "<div>\n",
       "<style scoped>\n",
       "    .dataframe tbody tr th:only-of-type {\n",
       "        vertical-align: middle;\n",
       "    }\n",
       "\n",
       "    .dataframe tbody tr th {\n",
       "        vertical-align: top;\n",
       "    }\n",
       "\n",
       "    .dataframe thead th {\n",
       "        text-align: right;\n",
       "    }\n",
       "</style>\n",
       "<table border=\"1\" class=\"dataframe\">\n",
       "  <thead>\n",
       "    <tr style=\"text-align: right;\">\n",
       "      <th></th>\n",
       "      <th>coefficients</th>\n",
       "    </tr>\n",
       "  </thead>\n",
       "  <tbody>\n",
       "    <tr>\n",
       "      <th>ALT</th>\n",
       "      <td>0.000539</td>\n",
       "    </tr>\n",
       "    <tr>\n",
       "      <th>PRCP_GROWTH</th>\n",
       "      <td>0.003648</td>\n",
       "    </tr>\n",
       "    <tr>\n",
       "      <th>SLOPE25</th>\n",
       "      <td>0.010764</td>\n",
       "    </tr>\n",
       "    <tr>\n",
       "      <th>TAVE_AVG</th>\n",
       "      <td>0.017710</td>\n",
       "    </tr>\n",
       "    <tr>\n",
       "      <th>TAVE_GROWTH</th>\n",
       "      <td>0.021416</td>\n",
       "    </tr>\n",
       "    <tr>\n",
       "      <th>PRCP_SUM</th>\n",
       "      <td>0.029955</td>\n",
       "    </tr>\n",
       "    <tr>\n",
       "      <th>FEUILL_PER</th>\n",
       "      <td>0.030122</td>\n",
       "    </tr>\n",
       "    <tr>\n",
       "      <th>PRCP</th>\n",
       "      <td>0.037768</td>\n",
       "    </tr>\n",
       "    <tr>\n",
       "      <th>DEG_SUR_PER</th>\n",
       "      <td>0.043101</td>\n",
       "    </tr>\n",
       "    <tr>\n",
       "      <th>SURF_TROU_AER</th>\n",
       "      <td>0.050763</td>\n",
       "    </tr>\n",
       "    <tr>\n",
       "      <th>TAVE</th>\n",
       "      <td>0.062664</td>\n",
       "    </tr>\n",
       "    <tr>\n",
       "      <th>AGE_PPL</th>\n",
       "      <td>0.088075</td>\n",
       "    </tr>\n",
       "    <tr>\n",
       "      <th>AGE_ARBRE</th>\n",
       "      <td>0.166629</td>\n",
       "    </tr>\n",
       "    <tr>\n",
       "      <th>CONIF_PER</th>\n",
       "      <td>0.197446</td>\n",
       "    </tr>\n",
       "    <tr>\n",
       "      <th>LON</th>\n",
       "      <td>0.214154</td>\n",
       "    </tr>\n",
       "    <tr>\n",
       "      <th>LAT</th>\n",
       "      <td>0.259658</td>\n",
       "    </tr>\n",
       "    <tr>\n",
       "      <th>HAUTEUR_ARBRE</th>\n",
       "      <td>0.451787</td>\n",
       "    </tr>\n",
       "    <tr>\n",
       "      <th>DIV_STR_PPL</th>\n",
       "      <td>0.489842</td>\n",
       "    </tr>\n",
       "    <tr>\n",
       "      <th>DDOM</th>\n",
       "      <td>1.053160</td>\n",
       "    </tr>\n",
       "    <tr>\n",
       "      <th>DBH</th>\n",
       "      <td>2.213783</td>\n",
       "    </tr>\n",
       "    <tr>\n",
       "      <th>SDI</th>\n",
       "      <td>18.058506</td>\n",
       "    </tr>\n",
       "  </tbody>\n",
       "</table>\n",
       "</div>"
      ],
      "text/plain": [
       "               coefficients\n",
       "ALT                0.000539\n",
       "PRCP_GROWTH        0.003648\n",
       "SLOPE25            0.010764\n",
       "TAVE_AVG           0.017710\n",
       "TAVE_GROWTH        0.021416\n",
       "PRCP_SUM           0.029955\n",
       "FEUILL_PER         0.030122\n",
       "PRCP               0.037768\n",
       "DEG_SUR_PER        0.043101\n",
       "SURF_TROU_AER      0.050763\n",
       "TAVE               0.062664\n",
       "AGE_PPL            0.088075\n",
       "AGE_ARBRE          0.166629\n",
       "CONIF_PER          0.197446\n",
       "LON                0.214154\n",
       "LAT                0.259658\n",
       "HAUTEUR_ARBRE      0.451787\n",
       "DIV_STR_PPL        0.489842\n",
       "DDOM               1.053160\n",
       "DBH                2.213783\n",
       "SDI               18.058506"
      ]
     },
     "execution_count": 17,
     "metadata": {},
     "output_type": "execute_result"
    }
   ],
   "source": [
    "coefs = pd.DataFrame(index = features_list, data = model_LR1.coef_.transpose(), columns=[\"coefficients\"])\n",
    "# Compute abs() and sort values\n",
    "feature_importance = abs(coefs).sort_values(by = 'coefficients')\n",
    "feature_importance"
   ]
  },
  {
   "cell_type": "code",
   "execution_count": 18,
   "metadata": {},
   "outputs": [
    {
     "data": {
      "application/vnd.plotly.v1+json": {
       "config": {
        "plotlyServerURL": "https://plot.ly"
       },
       "data": [
        {
         "alignmentgroup": "True",
         "hovertemplate": "variable=coefficients<br>value=%{x}<br>index=%{y}<extra></extra>",
         "legendgroup": "coefficients",
         "marker": {
          "color": "#636efa",
          "pattern": {
           "shape": ""
          }
         },
         "name": "coefficients",
         "offsetgroup": "coefficients",
         "orientation": "h",
         "showlegend": true,
         "textposition": "auto",
         "type": "bar",
         "x": [
          0.0005392558076417313,
          0.0036478356530529887,
          0.010763876230304887,
          0.01770967786483818,
          0.021415829314966828,
          0.02995543070076143,
          0.030121725681428048,
          0.03776760448148664,
          0.04310057586637281,
          0.05076292099657124,
          0.06266390854611492,
          0.08807531175689484,
          0.1666294879044687,
          0.19744605752115785,
          0.21415439315203333,
          0.2596576137800521,
          0.45178740839474596,
          0.48984187895954917,
          1.053160121545106,
          2.213782583795861,
          18.05850557450992
         ],
         "xaxis": "x",
         "y": [
          "ALT",
          "PRCP_GROWTH",
          "SLOPE25",
          "TAVE_AVG",
          "TAVE_GROWTH",
          "PRCP_SUM",
          "FEUILL_PER",
          "PRCP",
          "DEG_SUR_PER",
          "SURF_TROU_AER",
          "TAVE",
          "AGE_PPL",
          "AGE_ARBRE",
          "CONIF_PER",
          "LON",
          "LAT",
          "HAUTEUR_ARBRE",
          "DIV_STR_PPL",
          "DDOM",
          "DBH",
          "SDI"
         ],
         "yaxis": "y"
        }
       ],
       "layout": {
        "barmode": "relative",
        "legend": {
         "title": {
          "text": "variable"
         },
         "tracegroupgap": 0
        },
        "margin": {
         "l": 120,
         "t": 60
        },
        "showlegend": false,
        "template": {
         "data": {
          "bar": [
           {
            "error_x": {
             "color": "#2a3f5f"
            },
            "error_y": {
             "color": "#2a3f5f"
            },
            "marker": {
             "line": {
              "color": "#E5ECF6",
              "width": 0.5
             },
             "pattern": {
              "fillmode": "overlay",
              "size": 10,
              "solidity": 0.2
             }
            },
            "type": "bar"
           }
          ],
          "barpolar": [
           {
            "marker": {
             "line": {
              "color": "#E5ECF6",
              "width": 0.5
             },
             "pattern": {
              "fillmode": "overlay",
              "size": 10,
              "solidity": 0.2
             }
            },
            "type": "barpolar"
           }
          ],
          "carpet": [
           {
            "aaxis": {
             "endlinecolor": "#2a3f5f",
             "gridcolor": "white",
             "linecolor": "white",
             "minorgridcolor": "white",
             "startlinecolor": "#2a3f5f"
            },
            "baxis": {
             "endlinecolor": "#2a3f5f",
             "gridcolor": "white",
             "linecolor": "white",
             "minorgridcolor": "white",
             "startlinecolor": "#2a3f5f"
            },
            "type": "carpet"
           }
          ],
          "choropleth": [
           {
            "colorbar": {
             "outlinewidth": 0,
             "ticks": ""
            },
            "type": "choropleth"
           }
          ],
          "contour": [
           {
            "colorbar": {
             "outlinewidth": 0,
             "ticks": ""
            },
            "colorscale": [
             [
              0,
              "#0d0887"
             ],
             [
              0.1111111111111111,
              "#46039f"
             ],
             [
              0.2222222222222222,
              "#7201a8"
             ],
             [
              0.3333333333333333,
              "#9c179e"
             ],
             [
              0.4444444444444444,
              "#bd3786"
             ],
             [
              0.5555555555555556,
              "#d8576b"
             ],
             [
              0.6666666666666666,
              "#ed7953"
             ],
             [
              0.7777777777777778,
              "#fb9f3a"
             ],
             [
              0.8888888888888888,
              "#fdca26"
             ],
             [
              1,
              "#f0f921"
             ]
            ],
            "type": "contour"
           }
          ],
          "contourcarpet": [
           {
            "colorbar": {
             "outlinewidth": 0,
             "ticks": ""
            },
            "type": "contourcarpet"
           }
          ],
          "heatmap": [
           {
            "colorbar": {
             "outlinewidth": 0,
             "ticks": ""
            },
            "colorscale": [
             [
              0,
              "#0d0887"
             ],
             [
              0.1111111111111111,
              "#46039f"
             ],
             [
              0.2222222222222222,
              "#7201a8"
             ],
             [
              0.3333333333333333,
              "#9c179e"
             ],
             [
              0.4444444444444444,
              "#bd3786"
             ],
             [
              0.5555555555555556,
              "#d8576b"
             ],
             [
              0.6666666666666666,
              "#ed7953"
             ],
             [
              0.7777777777777778,
              "#fb9f3a"
             ],
             [
              0.8888888888888888,
              "#fdca26"
             ],
             [
              1,
              "#f0f921"
             ]
            ],
            "type": "heatmap"
           }
          ],
          "heatmapgl": [
           {
            "colorbar": {
             "outlinewidth": 0,
             "ticks": ""
            },
            "colorscale": [
             [
              0,
              "#0d0887"
             ],
             [
              0.1111111111111111,
              "#46039f"
             ],
             [
              0.2222222222222222,
              "#7201a8"
             ],
             [
              0.3333333333333333,
              "#9c179e"
             ],
             [
              0.4444444444444444,
              "#bd3786"
             ],
             [
              0.5555555555555556,
              "#d8576b"
             ],
             [
              0.6666666666666666,
              "#ed7953"
             ],
             [
              0.7777777777777778,
              "#fb9f3a"
             ],
             [
              0.8888888888888888,
              "#fdca26"
             ],
             [
              1,
              "#f0f921"
             ]
            ],
            "type": "heatmapgl"
           }
          ],
          "histogram": [
           {
            "marker": {
             "pattern": {
              "fillmode": "overlay",
              "size": 10,
              "solidity": 0.2
             }
            },
            "type": "histogram"
           }
          ],
          "histogram2d": [
           {
            "colorbar": {
             "outlinewidth": 0,
             "ticks": ""
            },
            "colorscale": [
             [
              0,
              "#0d0887"
             ],
             [
              0.1111111111111111,
              "#46039f"
             ],
             [
              0.2222222222222222,
              "#7201a8"
             ],
             [
              0.3333333333333333,
              "#9c179e"
             ],
             [
              0.4444444444444444,
              "#bd3786"
             ],
             [
              0.5555555555555556,
              "#d8576b"
             ],
             [
              0.6666666666666666,
              "#ed7953"
             ],
             [
              0.7777777777777778,
              "#fb9f3a"
             ],
             [
              0.8888888888888888,
              "#fdca26"
             ],
             [
              1,
              "#f0f921"
             ]
            ],
            "type": "histogram2d"
           }
          ],
          "histogram2dcontour": [
           {
            "colorbar": {
             "outlinewidth": 0,
             "ticks": ""
            },
            "colorscale": [
             [
              0,
              "#0d0887"
             ],
             [
              0.1111111111111111,
              "#46039f"
             ],
             [
              0.2222222222222222,
              "#7201a8"
             ],
             [
              0.3333333333333333,
              "#9c179e"
             ],
             [
              0.4444444444444444,
              "#bd3786"
             ],
             [
              0.5555555555555556,
              "#d8576b"
             ],
             [
              0.6666666666666666,
              "#ed7953"
             ],
             [
              0.7777777777777778,
              "#fb9f3a"
             ],
             [
              0.8888888888888888,
              "#fdca26"
             ],
             [
              1,
              "#f0f921"
             ]
            ],
            "type": "histogram2dcontour"
           }
          ],
          "mesh3d": [
           {
            "colorbar": {
             "outlinewidth": 0,
             "ticks": ""
            },
            "type": "mesh3d"
           }
          ],
          "parcoords": [
           {
            "line": {
             "colorbar": {
              "outlinewidth": 0,
              "ticks": ""
             }
            },
            "type": "parcoords"
           }
          ],
          "pie": [
           {
            "automargin": true,
            "type": "pie"
           }
          ],
          "scatter": [
           {
            "fillpattern": {
             "fillmode": "overlay",
             "size": 10,
             "solidity": 0.2
            },
            "type": "scatter"
           }
          ],
          "scatter3d": [
           {
            "line": {
             "colorbar": {
              "outlinewidth": 0,
              "ticks": ""
             }
            },
            "marker": {
             "colorbar": {
              "outlinewidth": 0,
              "ticks": ""
             }
            },
            "type": "scatter3d"
           }
          ],
          "scattercarpet": [
           {
            "marker": {
             "colorbar": {
              "outlinewidth": 0,
              "ticks": ""
             }
            },
            "type": "scattercarpet"
           }
          ],
          "scattergeo": [
           {
            "marker": {
             "colorbar": {
              "outlinewidth": 0,
              "ticks": ""
             }
            },
            "type": "scattergeo"
           }
          ],
          "scattergl": [
           {
            "marker": {
             "colorbar": {
              "outlinewidth": 0,
              "ticks": ""
             }
            },
            "type": "scattergl"
           }
          ],
          "scattermapbox": [
           {
            "marker": {
             "colorbar": {
              "outlinewidth": 0,
              "ticks": ""
             }
            },
            "type": "scattermapbox"
           }
          ],
          "scatterpolar": [
           {
            "marker": {
             "colorbar": {
              "outlinewidth": 0,
              "ticks": ""
             }
            },
            "type": "scatterpolar"
           }
          ],
          "scatterpolargl": [
           {
            "marker": {
             "colorbar": {
              "outlinewidth": 0,
              "ticks": ""
             }
            },
            "type": "scatterpolargl"
           }
          ],
          "scatterternary": [
           {
            "marker": {
             "colorbar": {
              "outlinewidth": 0,
              "ticks": ""
             }
            },
            "type": "scatterternary"
           }
          ],
          "surface": [
           {
            "colorbar": {
             "outlinewidth": 0,
             "ticks": ""
            },
            "colorscale": [
             [
              0,
              "#0d0887"
             ],
             [
              0.1111111111111111,
              "#46039f"
             ],
             [
              0.2222222222222222,
              "#7201a8"
             ],
             [
              0.3333333333333333,
              "#9c179e"
             ],
             [
              0.4444444444444444,
              "#bd3786"
             ],
             [
              0.5555555555555556,
              "#d8576b"
             ],
             [
              0.6666666666666666,
              "#ed7953"
             ],
             [
              0.7777777777777778,
              "#fb9f3a"
             ],
             [
              0.8888888888888888,
              "#fdca26"
             ],
             [
              1,
              "#f0f921"
             ]
            ],
            "type": "surface"
           }
          ],
          "table": [
           {
            "cells": {
             "fill": {
              "color": "#EBF0F8"
             },
             "line": {
              "color": "white"
             }
            },
            "header": {
             "fill": {
              "color": "#C8D4E3"
             },
             "line": {
              "color": "white"
             }
            },
            "type": "table"
           }
          ]
         },
         "layout": {
          "annotationdefaults": {
           "arrowcolor": "#2a3f5f",
           "arrowhead": 0,
           "arrowwidth": 1
          },
          "autotypenumbers": "strict",
          "coloraxis": {
           "colorbar": {
            "outlinewidth": 0,
            "ticks": ""
           }
          },
          "colorscale": {
           "diverging": [
            [
             0,
             "#8e0152"
            ],
            [
             0.1,
             "#c51b7d"
            ],
            [
             0.2,
             "#de77ae"
            ],
            [
             0.3,
             "#f1b6da"
            ],
            [
             0.4,
             "#fde0ef"
            ],
            [
             0.5,
             "#f7f7f7"
            ],
            [
             0.6,
             "#e6f5d0"
            ],
            [
             0.7,
             "#b8e186"
            ],
            [
             0.8,
             "#7fbc41"
            ],
            [
             0.9,
             "#4d9221"
            ],
            [
             1,
             "#276419"
            ]
           ],
           "sequential": [
            [
             0,
             "#0d0887"
            ],
            [
             0.1111111111111111,
             "#46039f"
            ],
            [
             0.2222222222222222,
             "#7201a8"
            ],
            [
             0.3333333333333333,
             "#9c179e"
            ],
            [
             0.4444444444444444,
             "#bd3786"
            ],
            [
             0.5555555555555556,
             "#d8576b"
            ],
            [
             0.6666666666666666,
             "#ed7953"
            ],
            [
             0.7777777777777778,
             "#fb9f3a"
            ],
            [
             0.8888888888888888,
             "#fdca26"
            ],
            [
             1,
             "#f0f921"
            ]
           ],
           "sequentialminus": [
            [
             0,
             "#0d0887"
            ],
            [
             0.1111111111111111,
             "#46039f"
            ],
            [
             0.2222222222222222,
             "#7201a8"
            ],
            [
             0.3333333333333333,
             "#9c179e"
            ],
            [
             0.4444444444444444,
             "#bd3786"
            ],
            [
             0.5555555555555556,
             "#d8576b"
            ],
            [
             0.6666666666666666,
             "#ed7953"
            ],
            [
             0.7777777777777778,
             "#fb9f3a"
            ],
            [
             0.8888888888888888,
             "#fdca26"
            ],
            [
             1,
             "#f0f921"
            ]
           ]
          },
          "colorway": [
           "#636efa",
           "#EF553B",
           "#00cc96",
           "#ab63fa",
           "#FFA15A",
           "#19d3f3",
           "#FF6692",
           "#B6E880",
           "#FF97FF",
           "#FECB52"
          ],
          "font": {
           "color": "#2a3f5f"
          },
          "geo": {
           "bgcolor": "white",
           "lakecolor": "white",
           "landcolor": "#E5ECF6",
           "showlakes": true,
           "showland": true,
           "subunitcolor": "white"
          },
          "hoverlabel": {
           "align": "left"
          },
          "hovermode": "closest",
          "mapbox": {
           "style": "light"
          },
          "paper_bgcolor": "white",
          "plot_bgcolor": "#E5ECF6",
          "polar": {
           "angularaxis": {
            "gridcolor": "white",
            "linecolor": "white",
            "ticks": ""
           },
           "bgcolor": "#E5ECF6",
           "radialaxis": {
            "gridcolor": "white",
            "linecolor": "white",
            "ticks": ""
           }
          },
          "scene": {
           "xaxis": {
            "backgroundcolor": "#E5ECF6",
            "gridcolor": "white",
            "gridwidth": 2,
            "linecolor": "white",
            "showbackground": true,
            "ticks": "",
            "zerolinecolor": "white"
           },
           "yaxis": {
            "backgroundcolor": "#E5ECF6",
            "gridcolor": "white",
            "gridwidth": 2,
            "linecolor": "white",
            "showbackground": true,
            "ticks": "",
            "zerolinecolor": "white"
           },
           "zaxis": {
            "backgroundcolor": "#E5ECF6",
            "gridcolor": "white",
            "gridwidth": 2,
            "linecolor": "white",
            "showbackground": true,
            "ticks": "",
            "zerolinecolor": "white"
           }
          },
          "shapedefaults": {
           "line": {
            "color": "#2a3f5f"
           }
          },
          "ternary": {
           "aaxis": {
            "gridcolor": "white",
            "linecolor": "white",
            "ticks": ""
           },
           "baxis": {
            "gridcolor": "white",
            "linecolor": "white",
            "ticks": ""
           },
           "bgcolor": "#E5ECF6",
           "caxis": {
            "gridcolor": "white",
            "linecolor": "white",
            "ticks": ""
           }
          },
          "title": {
           "x": 0.05
          },
          "xaxis": {
           "automargin": true,
           "gridcolor": "white",
           "linecolor": "white",
           "ticks": "",
           "title": {
            "standoff": 15
           },
           "zerolinecolor": "white",
           "zerolinewidth": 2
          },
          "yaxis": {
           "automargin": true,
           "gridcolor": "white",
           "linecolor": "white",
           "ticks": "",
           "title": {
            "standoff": 15
           },
           "zerolinecolor": "white",
           "zerolinewidth": 2
          }
         }
        },
        "xaxis": {
         "anchor": "y",
         "domain": [
          0,
          1
         ],
         "title": {
          "text": "value"
         }
        },
        "yaxis": {
         "anchor": "x",
         "domain": [
          0,
          1
         ],
         "title": {
          "text": "index"
         }
        }
       }
      }
     },
     "metadata": {},
     "output_type": "display_data"
    }
   ],
   "source": [
    "# Plot coefficients\n",
    "fig = px.bar(feature_importance, orientation = 'h')\n",
    "fig.update_layout(showlegend = False, \n",
    "                  margin = {'l': 120} # to avoid cropping of column names\n",
    "                 )\n",
    "fig.show()"
   ]
  },
  {
   "cell_type": "markdown",
   "metadata": {},
   "source": [
    "### 2.3 model_LR2: all kind of features"
   ]
  },
  {
   "cell_type": "markdown",
   "metadata": {},
   "source": [
    "- NB: SDI is removed because it is computed from tree diameter and tree density"
   ]
  },
  {
   "cell_type": "code",
   "execution_count": 29,
   "metadata": {},
   "outputs": [
    {
     "name": "stdout",
     "output_type": "stream",
     "text": [
      "Explanatory variables :  Index(['ALT', 'SLOPE25', 'AGE_PPL', 'DIV_STR_PPL', 'DDOM', 'DEG_SUR_PER',\n",
      "       'FEUILL_PER', 'CONIF_PER', 'SURF_TROU_AER', 'DBH', 'HAUTEUR_ARBRE',\n",
      "       'AGE_ARBRE', 'PRCP_SUM', 'PRCP', 'PRCP_GROWTH', 'TAVE_AVG', 'TAVE',\n",
      "       'TAVE_GROWTH', 'HT_VEG', 'QUAL_STATION', 'REBOISEMENT_AN', 'TAILLE_PPL',\n",
      "       'LFI', 'ORIENTATION', 'RELIEF', 'PRODREG', 'PERI_CHENAUX',\n",
      "       'PERI_COULEES', 'PERI_AVALANCH', 'PERI_CHUTES', 'MODE_REGEN', 'NIV_DEV',\n",
      "       'MELANGE', 'TYP_RAJ_PPL', 'ESPECE_DOM', 'FEU_RES', 'TYPE_FORET',\n",
      "       'TRACES_FEU', 'INTENSITE_EXPLOIT', 'INT_IFN2_IFN3', 'INT_IFN3-IFN4'],\n",
      "      dtype='object')\n",
      "Dividing into train and test sets...\n",
      "...Done.\n"
     ]
    }
   ],
   "source": [
    "features_list = ['ALT', 'SLOPE25', 'AGE_PPL', 'DIV_STR_PPL', 'DDOM', 'DEG_SUR_PER', 'FEUILL_PER', 'CONIF_PER', 'SURF_TROU_AER', 'DBH', 'HAUTEUR_ARBRE', 'AGE_ARBRE',\n",
    "                'PRCP_SUM', 'PRCP', 'PRCP_GROWTH', 'TAVE_AVG', 'TAVE', 'TAVE_GROWTH',\n",
    "                \n",
    "                'HT_VEG', 'QUAL_STATION', 'REBOISEMENT_AN', 'TAILLE_PPL',\n",
    "\n",
    "                'LFI','ORIENTATION', 'RELIEF', 'PRODREG', 'PERI_CHENAUX', 'PERI_COULEES', 'PERI_AVALANCH', 'PERI_CHUTES',\n",
    "                'MODE_REGEN', 'NIV_DEV', 'MELANGE', 'TYP_RAJ_PPL', 'ESPECE_DOM', 'FEU_RES', 'TYPE_FORET',\n",
    "                'TRACES_FEU', 'INTENSITE_EXPLOIT', 'INT_IFN2_IFN3', 'INT_IFN3-IFN4']\n",
    "# separation of the data\n",
    "X = dataset.loc[:, features_list]\n",
    "Y = dataset.loc[:, target]\n",
    "\n",
    "print('Explanatory variables : ', X.columns)\n",
    "\n",
    "# Divide dataset Train set & Test set \n",
    "print(\"Dividing into train and test sets...\")\n",
    "X_train, X_test, Y_train, Y_test = train_test_split(X, Y, test_size=0.2, random_state=0)\n",
    "print(\"...Done.\")"
   ]
  },
  {
   "cell_type": "code",
   "execution_count": 30,
   "metadata": {},
   "outputs": [
    {
     "name": "stdout",
     "output_type": "stream",
     "text": [
      "Encoding categorical features and standardizing numerical features...\n",
      "...Done\n",
      "[[ 0.52817489 -1.19846874  1.35798089  2.0105166   1.17248088 -0.16512923\n",
      "  -0.29232772  0.25510912 -0.89255041  2.10679595  1.2718684  -0.08449005\n",
      "  -0.28884312  0.38522877  0.01227071  0.40119749  1.08993594  0.74972315\n",
      "   1.          0.          0.          0.          0.          1.\n",
      "   0.          0.          0.          0.          0.          0.\n",
      "   1.          0.          0.          0.          0.          0.\n",
      "   1.          0.          1.          0.          0.          1.\n",
      "   1.          0.          0.          0.          0.          0.\n",
      "   0.          0.          0.          1.          0.          1.\n",
      "   0.          0.          0.          1.          0.          0.\n",
      "   0.          0.          0.          1.          0.          0.\n",
      "   0.          0.          0.          0.          0.          0.\n",
      "   1.          0.          0.          0.          0.          0.\n",
      "   0.          1.          1.          0.          0.          0.\n",
      "   1.          0.          0.          2.          1.          0.\n",
      "   0.        ]\n",
      " [ 0.62056846 -0.28279796 -0.03471188  0.01305404 -1.0167825  -0.16512923\n",
      "  -0.29232772  0.25510912 -0.89255041 -0.62598    -0.00658919 -0.08449005\n",
      "   0.10727424 -0.0634572   0.15555016  0.05669531  0.10025377  0.108916\n",
      "   0.          0.          0.          0.          0.          0.\n",
      "   0.          0.          0.          0.          0.          0.\n",
      "   1.          0.          0.          0.          1.          0.\n",
      "   0.          1.          0.          1.          0.          1.\n",
      "   1.          0.          0.          0.          0.          0.\n",
      "   0.          0.          0.          0.          1.          0.\n",
      "   1.          0.          0.          1.          0.          0.\n",
      "   1.          0.          0.          0.          0.          0.\n",
      "   0.          0.          0.          0.          0.          0.\n",
      "   1.          0.          0.          0.          0.          0.\n",
      "   0.          1.          0.          1.          0.          0.\n",
      "   0.          0.          0.          2.          1.          0.\n",
      "   0.        ]]\n",
      "Encoding categorical features and standardizing numerical features...\n",
      "...Done\n",
      "[[ 0.18811703  0.63939965 -0.03471188  0.01305404  0.27472539 -0.16512923\n",
      "  -0.29232772  0.25510912 -0.89255041 -0.9773369  -0.02095388 -0.08449005\n",
      "   0.10727424 -0.0634572   0.15555016  0.05669531  0.10025377  0.108916\n",
      "   0.          0.          0.          0.          0.          1.\n",
      "   0.          0.          0.          0.          0.          0.\n",
      "   1.          0.          0.          0.          0.          1.\n",
      "   0.          1.          0.          1.          0.          1.\n",
      "   1.          0.          0.          0.          0.          0.\n",
      "   0.          0.          0.          0.          1.          1.\n",
      "   0.          0.          0.          1.          0.          0.\n",
      "   1.          0.          0.          0.          0.          0.\n",
      "   0.          0.          0.          0.          0.          0.\n",
      "   1.          0.          0.          0.          0.          0.\n",
      "   0.          1.          0.          1.          0.          0.\n",
      "   0.          0.          0.          2.          2.          0.\n",
      "   0.        ]\n",
      " [-0.97793356 -0.64997634 -0.03471188  1.17824053  1.0779803  -0.16512923\n",
      "   1.85977826 -1.7148145   1.24689939  0.38905107  0.9127511  -0.08449005\n",
      "   0.73824175 -0.01168094  0.5777115   1.00351905  0.24056482 -0.84934247\n",
      "   0.          1.          0.          0.          0.          0.\n",
      "   1.          0.          0.          0.          0.          0.\n",
      "   1.          0.          0.          0.          1.          0.\n",
      "   0.          0.          1.          0.          0.          1.\n",
      "   1.          1.          0.          0.          0.          0.\n",
      "   0.          0.          1.          0.          0.          0.\n",
      "   0.          1.          0.          1.          0.          0.\n",
      "   0.          0.          0.          0.          0.          0.\n",
      "   1.          0.          0.          0.          0.          0.\n",
      "   0.          1.          1.          0.          0.          0.\n",
      "   0.          1.          1.          0.          0.          1.\n",
      "   0.          0.          0.          0.          2.          0.\n",
      "   3.        ]]\n"
     ]
    }
   ],
   "source": [
    "numeric_features = ['ALT', 'SLOPE25', 'AGE_PPL', 'DIV_STR_PPL', 'DDOM', 'DEG_SUR_PER', 'FEUILL_PER', 'CONIF_PER', 'SURF_TROU_AER', 'DBH', 'HAUTEUR_ARBRE', 'AGE_ARBRE',\n",
    "                    'PRCP_SUM', 'PRCP', 'PRCP_GROWTH', 'TAVE_AVG', 'TAVE', 'TAVE_GROWTH']\n",
    "categorical_features = ['LFI','ORIENTATION', 'RELIEF', 'PRODREG', 'PERI_CHENAUX', 'PERI_COULEES', 'PERI_AVALANCH', 'PERI_CHUTES',\n",
    "                        'MODE_REGEN', 'NIV_DEV', 'MELANGE', 'TYP_RAJ_PPL', 'ESPECE_DOM', 'FEU_RES', 'TYPE_FORET',\n",
    "                        'TRACES_FEU', 'INTENSITE_EXPLOIT', 'INT_IFN2_IFN3', 'INT_IFN3-IFN4']\n",
    "ordi_categorical_features = ['HT_VEG', 'QUAL_STATION', 'REBOISEMENT_AN', 'TAILLE_PPL']\n",
    "\n",
    "# preprocessings\n",
    "print(\"Encoding categorical features and standardizing numerical features...\")\n",
    "\n",
    "numeric_transformer = Pipeline(steps=[\n",
    "    ('imputer', SimpleImputer(strategy='median')),\n",
    "    ('scaler', StandardScaler())\n",
    "])\n",
    "\n",
    "categorical_transformer = Pipeline(\n",
    "    steps=[\n",
    "        ('imputer', SimpleImputer(strategy='most_frequent')),\n",
    "        ('encoder', OneHotEncoder(drop='first'))\n",
    "    ])\n",
    "\n",
    "ordi_cate_transformer = Pipeline(\n",
    "    steps=[\n",
    "        ('imputer', SimpleImputer(strategy='most_frequent')),\n",
    "        ('ordi_encoder', OrdinalEncoder(encoded_missing_value=0))\n",
    "    ])\n",
    "\n",
    "\n",
    "preprocessor = ColumnTransformer(\n",
    "    transformers=[\n",
    "        ('num', numeric_transformer, numeric_features),\n",
    "        ('cat', categorical_transformer, categorical_features),\n",
    "        ('ordicat', ordi_cate_transformer, ordi_categorical_features)\n",
    "    ])\n",
    "\n",
    "\n",
    "X_train = preprocessor.fit_transform(X_train)\n",
    "print(\"...Done\")\n",
    "print(X_train[0:2,:])\n",
    "\n",
    "print(\"Encoding categorical features and standardizing numerical features...\")\n",
    "X_test = preprocessor.transform(X_test)\n",
    "print(\"...Done\")\n",
    "print(X_test[0:2,:])"
   ]
  },
  {
   "cell_type": "code",
   "execution_count": 31,
   "metadata": {},
   "outputs": [
    {
     "name": "stdout",
     "output_type": "stream",
     "text": [
      "Train model...\n",
      "...Done.\n"
     ]
    }
   ],
   "source": [
    "# Train model\n",
    "print(\"Train model...\")\n",
    "model_LR2 = LinearRegression()\n",
    "model_LR2.fit(X_train, Y_train)\n",
    "print(\"...Done.\")"
   ]
  },
  {
   "cell_type": "code",
   "execution_count": 32,
   "metadata": {},
   "outputs": [
    {
     "name": "stdout",
     "output_type": "stream",
     "text": [
      "R2 score on training set :  0.5873560426719713\n",
      "R2 score on test set :  0.5833638185106782\n",
      "MAPE score on training set :  468829886617822.56\n",
      "MAPE score on test set :  372016870953667.75\n"
     ]
    }
   ],
   "source": [
    "# predicted values\n",
    "Y_train_pred = model_LR2.predict(X_train)\n",
    "Y_test_pred = model_LR2.predict(X_test)\n",
    "\n",
    "# Print R^2 scores\n",
    "print(\"R2 score on training set : \", r2_score(Y_train, Y_train_pred))\n",
    "print(\"R2 score on test set : \", r2_score(Y_test, Y_test_pred))\n",
    "\n",
    "# Print MAPE score\n",
    "print(\"MAPE score on training set : \", mean_absolute_percentage_error(Y_train, Y_train_pred))\n",
    "print(\"MAPE score on test set : \", mean_absolute_percentage_error(Y_test, Y_test_pred))"
   ]
  },
  {
   "cell_type": "code",
   "execution_count": 35,
   "metadata": {},
   "outputs": [
    {
     "name": "stdout",
     "output_type": "stream",
     "text": [
      "Names of columns corresponding to each coefficient:  ['ALT', 'SLOPE25', 'AGE_PPL', 'DIV_STR_PPL', 'DDOM', 'DEG_SUR_PER', 'FEUILL_PER', 'CONIF_PER', 'SURF_TROU_AER', 'DBH', 'HAUTEUR_ARBRE', 'AGE_ARBRE', 'PRCP_SUM', 'PRCP', 'PRCP_GROWTH', 'TAVE_AVG', 'TAVE', 'TAVE_GROWTH', 'x0_LFI2', 'x0_LFI3', 'x0_LFI4', 'x1_N', 'x1_NE', 'x1_NO', 'x1_O', 'x1_S', 'x1_SE', 'x1_SO', 'x2_1', 'x2_2', 'x2_3', 'x2_4', 'x2_5', 'x3_2', 'x3_3', 'x3_4', 'x3_5', 'x4_1', 'x4_2', 'x5_2', 'x6_1', 'x6_2', 'x7_2', 'x8_1', 'x8_2', 'x8_3', 'x8_4', 'x9_1', 'x9_2', 'x9_3', 'x9_4', 'x9_5', 'x9_6', 'x10_1', 'x10_2', 'x10_3', 'x10_4', 'x11_1', 'x11_2', 'x11_3', 'x12_1', 'x12_2', 'x12_3', 'x12_4', 'x12_5', 'x12_6', 'x12_7', 'x12_8', 'x12_9', 'x12_10', 'x12_11', 'x12_12', 'x13_1', 'x13_2', 'x14_1', 'x14_2', 'x14_3', 'x14_4', 'x14_5', 'x15_2', 'x16_1', 'x16_2', 'x16_3', 'x17_1', 'x17_2', 'x18_1', 'x18_2', 'x0', 'x1', 'x2', 'x3']\n"
     ]
    },
    {
     "data": {
      "text/html": [
       "<div>\n",
       "<style scoped>\n",
       "    .dataframe tbody tr th:only-of-type {\n",
       "        vertical-align: middle;\n",
       "    }\n",
       "\n",
       "    .dataframe tbody tr th {\n",
       "        vertical-align: top;\n",
       "    }\n",
       "\n",
       "    .dataframe thead th {\n",
       "        text-align: right;\n",
       "    }\n",
       "</style>\n",
       "<table border=\"1\" class=\"dataframe\">\n",
       "  <thead>\n",
       "    <tr style=\"text-align: right;\">\n",
       "      <th></th>\n",
       "      <th>coefficients</th>\n",
       "    </tr>\n",
       "  </thead>\n",
       "  <tbody>\n",
       "    <tr>\n",
       "      <th>x16_3</th>\n",
       "      <td>2.526855e-02</td>\n",
       "    </tr>\n",
       "    <tr>\n",
       "      <th>TAVE_GROWTH</th>\n",
       "      <td>7.141730e-02</td>\n",
       "    </tr>\n",
       "    <tr>\n",
       "      <th>x3_2</th>\n",
       "      <td>8.337402e-02</td>\n",
       "    </tr>\n",
       "    <tr>\n",
       "      <th>x1_SE</th>\n",
       "      <td>1.012442e-01</td>\n",
       "    </tr>\n",
       "    <tr>\n",
       "      <th>TAVE</th>\n",
       "      <td>1.123685e-01</td>\n",
       "    </tr>\n",
       "    <tr>\n",
       "      <th>...</th>\n",
       "      <td>...</td>\n",
       "    </tr>\n",
       "    <tr>\n",
       "      <th>x9_3</th>\n",
       "      <td>2.058906e+12</td>\n",
       "    </tr>\n",
       "    <tr>\n",
       "      <th>x0_LFI2</th>\n",
       "      <td>3.461660e+12</td>\n",
       "    </tr>\n",
       "    <tr>\n",
       "      <th>x17_1</th>\n",
       "      <td>3.461660e+12</td>\n",
       "    </tr>\n",
       "    <tr>\n",
       "      <th>x17_2</th>\n",
       "      <td>3.461660e+12</td>\n",
       "    </tr>\n",
       "    <tr>\n",
       "      <th>x0_LFI3</th>\n",
       "      <td>4.450740e+12</td>\n",
       "    </tr>\n",
       "  </tbody>\n",
       "</table>\n",
       "<p>91 rows × 1 columns</p>\n",
       "</div>"
      ],
      "text/plain": [
       "             coefficients\n",
       "x16_3        2.526855e-02\n",
       "TAVE_GROWTH  7.141730e-02\n",
       "x3_2         8.337402e-02\n",
       "x1_SE        1.012442e-01\n",
       "TAVE         1.123685e-01\n",
       "...                   ...\n",
       "x9_3         2.058906e+12\n",
       "x0_LFI2      3.461660e+12\n",
       "x17_1        3.461660e+12\n",
       "x17_2        3.461660e+12\n",
       "x0_LFI3      4.450740e+12\n",
       "\n",
       "[91 rows x 1 columns]"
      ]
     },
     "execution_count": 35,
     "metadata": {},
     "output_type": "execute_result"
    }
   ],
   "source": [
    "column_names = []\n",
    "for name, pipeline, features_list in preprocessor.transformers_:\n",
    "    if name == 'num':\n",
    "        features = features_list\n",
    "    elif name == 'cat':\n",
    "        features = pipeline.named_steps['encoder'].get_feature_names_out()\n",
    "    else:\n",
    "        features = pipeline.named_steps['ordi_encoder'].get_feature_names_out()\n",
    "    column_names.extend(features)\n",
    "\n",
    "print(\"Names of columns corresponding to each coefficient: \", column_names)\n",
    "\n",
    "coefs = pd.DataFrame(index = column_names, data = model_LR2.coef_.transpose(), columns=[\"coefficients\"])\n",
    "# Compute abs() and sort values\n",
    "feature_importance = abs(coefs).sort_values(by = 'coefficients')\n",
    "feature_importance"
   ]
  },
  {
   "cell_type": "code",
   "execution_count": 36,
   "metadata": {},
   "outputs": [
    {
     "data": {
      "application/vnd.plotly.v1+json": {
       "config": {
        "plotlyServerURL": "https://plot.ly"
       },
       "data": [
        {
         "alignmentgroup": "True",
         "hovertemplate": "variable=coefficients<br>value=%{x}<br>index=%{y}<extra></extra>",
         "legendgroup": "coefficients",
         "marker": {
          "color": "#636efa",
          "pattern": {
           "shape": ""
          }
         },
         "name": "coefficients",
         "offsetgroup": "coefficients",
         "orientation": "h",
         "showlegend": true,
         "textposition": "auto",
         "type": "bar",
         "x": [
          0.0252685546875,
          0.07141729650078332,
          0.0833740234375,
          0.10124422691778745,
          0.11236847076428891,
          0.11725226027285585,
          0.18713506406418356,
          0.20499083075715174,
          0.22865668295854658,
          0.239013671875,
          0.2408555534440704,
          0.24169921875,
          0.255859375,
          0.2737589682192845,
          0.3125,
          0.3343505859375,
          0.36029440909851296,
          0.3885402849413859,
          0.43914794921875,
          0.4488651829467907,
          0.5615234375,
          0.5617194342187584,
          0.5766368545690828,
          0.71051025390625,
          0.7386145669233111,
          0.8978271484375,
          0.9921121150261967,
          1.0244708051441214,
          1.0730097251206658,
          1.115562812122347,
          1.1469993018170537,
          1.154052734375,
          1.3654490339651144,
          1.762801202224355,
          2.3074311771404794,
          2.563323974609375,
          2.566989428028182,
          2.674454055602719,
          2.995849609375,
          4.115937741918889,
          4.18804931640625,
          5.14422607421875,
          6.227031008384324,
          6.596948362534371,
          7.023887634277344,
          7.894635420578242,
          8.096435546875,
          8.3966064453125,
          14.064453125,
          14.2921142578125,
          17.41972330382608,
          20620744242.825806,
          20620744245.97061,
          74534021395.60414,
          74534021398.34282,
          74534021398.45038,
          74534021399.85512,
          914545548444.561,
          914545548444.5729,
          914545548447.5399,
          914545548448.8882,
          914545548449.0183,
          1009700314087.793,
          1727877776427.5898,
          1727877776430.2468,
          1727877776432.2075,
          1727877776432.6675,
          1727877776432.9956,
          1727877776433.082,
          1727877776433.444,
          1727877776433.5947,
          1727877776434.394,
          1727877776434.61,
          1727877776435.793,
          1727877776439.026,
          1727877776458.963,
          1727877776459.1711,
          2058906153940.95,
          2058906153941.92,
          2058906153943.402,
          2058906153944.2957,
          2058906153946.1377,
          2058906153949.8887,
          2058906153951.9053,
          2058906153952.842,
          2058906153954.7964,
          2058906153954.9885,
          3461660434648.582,
          3461660434649.251,
          3461660434649.282,
          4450740004492.015
         ],
         "xaxis": "x",
         "y": [
          "x16_3",
          "TAVE_GROWTH",
          "x3_2",
          "x1_SE",
          "TAVE",
          "DEG_SUR_PER",
          "x1_NO",
          "CONIF_PER",
          "AGE_PPL",
          "x2",
          "PRCP",
          "x0",
          "x7_2",
          "SLOPE25",
          "x16_1",
          "x15_2",
          "FEUILL_PER",
          "HAUTEUR_ARBRE",
          "x3",
          "AGE_ARBRE",
          "x1",
          "TAVE_AVG",
          "x1_O",
          "x3_4",
          "x1_SO",
          "x16_2",
          "x2_4",
          "x1_S",
          "ALT",
          "PRCP_SUM",
          "SURF_TROU_AER",
          "x5_2",
          "PRCP_GROWTH",
          "x1_N",
          "x2_3",
          "x3_3",
          "DIV_STR_PPL",
          "x1_NE",
          "x3_5",
          "x2_5",
          "x11_1",
          "x11_2",
          "x2_2",
          "x2_1",
          "x11_3",
          "DBH",
          "x4_2",
          "x4_1",
          "x6_2",
          "x6_1",
          "DDOM",
          "x18_1",
          "x18_2",
          "x8_4",
          "x8_3",
          "x8_1",
          "x8_2",
          "x14_3",
          "x14_4",
          "x14_1",
          "x14_5",
          "x14_2",
          "x0_LFI4",
          "x12_6",
          "x12_11",
          "x12_7",
          "x12_9",
          "x12_1",
          "x12_12",
          "x12_3",
          "x12_2",
          "x12_10",
          "x12_8",
          "x12_4",
          "x12_5",
          "x13_1",
          "x13_2",
          "x10_1",
          "x10_2",
          "x10_4",
          "x10_3",
          "x9_1",
          "x9_6",
          "x9_2",
          "x9_5",
          "x9_4",
          "x9_3",
          "x0_LFI2",
          "x17_1",
          "x17_2",
          "x0_LFI3"
         ],
         "yaxis": "y"
        }
       ],
       "layout": {
        "barmode": "relative",
        "legend": {
         "title": {
          "text": "variable"
         },
         "tracegroupgap": 0
        },
        "margin": {
         "l": 120,
         "t": 60
        },
        "showlegend": false,
        "template": {
         "data": {
          "bar": [
           {
            "error_x": {
             "color": "#2a3f5f"
            },
            "error_y": {
             "color": "#2a3f5f"
            },
            "marker": {
             "line": {
              "color": "#E5ECF6",
              "width": 0.5
             },
             "pattern": {
              "fillmode": "overlay",
              "size": 10,
              "solidity": 0.2
             }
            },
            "type": "bar"
           }
          ],
          "barpolar": [
           {
            "marker": {
             "line": {
              "color": "#E5ECF6",
              "width": 0.5
             },
             "pattern": {
              "fillmode": "overlay",
              "size": 10,
              "solidity": 0.2
             }
            },
            "type": "barpolar"
           }
          ],
          "carpet": [
           {
            "aaxis": {
             "endlinecolor": "#2a3f5f",
             "gridcolor": "white",
             "linecolor": "white",
             "minorgridcolor": "white",
             "startlinecolor": "#2a3f5f"
            },
            "baxis": {
             "endlinecolor": "#2a3f5f",
             "gridcolor": "white",
             "linecolor": "white",
             "minorgridcolor": "white",
             "startlinecolor": "#2a3f5f"
            },
            "type": "carpet"
           }
          ],
          "choropleth": [
           {
            "colorbar": {
             "outlinewidth": 0,
             "ticks": ""
            },
            "type": "choropleth"
           }
          ],
          "contour": [
           {
            "colorbar": {
             "outlinewidth": 0,
             "ticks": ""
            },
            "colorscale": [
             [
              0,
              "#0d0887"
             ],
             [
              0.1111111111111111,
              "#46039f"
             ],
             [
              0.2222222222222222,
              "#7201a8"
             ],
             [
              0.3333333333333333,
              "#9c179e"
             ],
             [
              0.4444444444444444,
              "#bd3786"
             ],
             [
              0.5555555555555556,
              "#d8576b"
             ],
             [
              0.6666666666666666,
              "#ed7953"
             ],
             [
              0.7777777777777778,
              "#fb9f3a"
             ],
             [
              0.8888888888888888,
              "#fdca26"
             ],
             [
              1,
              "#f0f921"
             ]
            ],
            "type": "contour"
           }
          ],
          "contourcarpet": [
           {
            "colorbar": {
             "outlinewidth": 0,
             "ticks": ""
            },
            "type": "contourcarpet"
           }
          ],
          "heatmap": [
           {
            "colorbar": {
             "outlinewidth": 0,
             "ticks": ""
            },
            "colorscale": [
             [
              0,
              "#0d0887"
             ],
             [
              0.1111111111111111,
              "#46039f"
             ],
             [
              0.2222222222222222,
              "#7201a8"
             ],
             [
              0.3333333333333333,
              "#9c179e"
             ],
             [
              0.4444444444444444,
              "#bd3786"
             ],
             [
              0.5555555555555556,
              "#d8576b"
             ],
             [
              0.6666666666666666,
              "#ed7953"
             ],
             [
              0.7777777777777778,
              "#fb9f3a"
             ],
             [
              0.8888888888888888,
              "#fdca26"
             ],
             [
              1,
              "#f0f921"
             ]
            ],
            "type": "heatmap"
           }
          ],
          "heatmapgl": [
           {
            "colorbar": {
             "outlinewidth": 0,
             "ticks": ""
            },
            "colorscale": [
             [
              0,
              "#0d0887"
             ],
             [
              0.1111111111111111,
              "#46039f"
             ],
             [
              0.2222222222222222,
              "#7201a8"
             ],
             [
              0.3333333333333333,
              "#9c179e"
             ],
             [
              0.4444444444444444,
              "#bd3786"
             ],
             [
              0.5555555555555556,
              "#d8576b"
             ],
             [
              0.6666666666666666,
              "#ed7953"
             ],
             [
              0.7777777777777778,
              "#fb9f3a"
             ],
             [
              0.8888888888888888,
              "#fdca26"
             ],
             [
              1,
              "#f0f921"
             ]
            ],
            "type": "heatmapgl"
           }
          ],
          "histogram": [
           {
            "marker": {
             "pattern": {
              "fillmode": "overlay",
              "size": 10,
              "solidity": 0.2
             }
            },
            "type": "histogram"
           }
          ],
          "histogram2d": [
           {
            "colorbar": {
             "outlinewidth": 0,
             "ticks": ""
            },
            "colorscale": [
             [
              0,
              "#0d0887"
             ],
             [
              0.1111111111111111,
              "#46039f"
             ],
             [
              0.2222222222222222,
              "#7201a8"
             ],
             [
              0.3333333333333333,
              "#9c179e"
             ],
             [
              0.4444444444444444,
              "#bd3786"
             ],
             [
              0.5555555555555556,
              "#d8576b"
             ],
             [
              0.6666666666666666,
              "#ed7953"
             ],
             [
              0.7777777777777778,
              "#fb9f3a"
             ],
             [
              0.8888888888888888,
              "#fdca26"
             ],
             [
              1,
              "#f0f921"
             ]
            ],
            "type": "histogram2d"
           }
          ],
          "histogram2dcontour": [
           {
            "colorbar": {
             "outlinewidth": 0,
             "ticks": ""
            },
            "colorscale": [
             [
              0,
              "#0d0887"
             ],
             [
              0.1111111111111111,
              "#46039f"
             ],
             [
              0.2222222222222222,
              "#7201a8"
             ],
             [
              0.3333333333333333,
              "#9c179e"
             ],
             [
              0.4444444444444444,
              "#bd3786"
             ],
             [
              0.5555555555555556,
              "#d8576b"
             ],
             [
              0.6666666666666666,
              "#ed7953"
             ],
             [
              0.7777777777777778,
              "#fb9f3a"
             ],
             [
              0.8888888888888888,
              "#fdca26"
             ],
             [
              1,
              "#f0f921"
             ]
            ],
            "type": "histogram2dcontour"
           }
          ],
          "mesh3d": [
           {
            "colorbar": {
             "outlinewidth": 0,
             "ticks": ""
            },
            "type": "mesh3d"
           }
          ],
          "parcoords": [
           {
            "line": {
             "colorbar": {
              "outlinewidth": 0,
              "ticks": ""
             }
            },
            "type": "parcoords"
           }
          ],
          "pie": [
           {
            "automargin": true,
            "type": "pie"
           }
          ],
          "scatter": [
           {
            "fillpattern": {
             "fillmode": "overlay",
             "size": 10,
             "solidity": 0.2
            },
            "type": "scatter"
           }
          ],
          "scatter3d": [
           {
            "line": {
             "colorbar": {
              "outlinewidth": 0,
              "ticks": ""
             }
            },
            "marker": {
             "colorbar": {
              "outlinewidth": 0,
              "ticks": ""
             }
            },
            "type": "scatter3d"
           }
          ],
          "scattercarpet": [
           {
            "marker": {
             "colorbar": {
              "outlinewidth": 0,
              "ticks": ""
             }
            },
            "type": "scattercarpet"
           }
          ],
          "scattergeo": [
           {
            "marker": {
             "colorbar": {
              "outlinewidth": 0,
              "ticks": ""
             }
            },
            "type": "scattergeo"
           }
          ],
          "scattergl": [
           {
            "marker": {
             "colorbar": {
              "outlinewidth": 0,
              "ticks": ""
             }
            },
            "type": "scattergl"
           }
          ],
          "scattermapbox": [
           {
            "marker": {
             "colorbar": {
              "outlinewidth": 0,
              "ticks": ""
             }
            },
            "type": "scattermapbox"
           }
          ],
          "scatterpolar": [
           {
            "marker": {
             "colorbar": {
              "outlinewidth": 0,
              "ticks": ""
             }
            },
            "type": "scatterpolar"
           }
          ],
          "scatterpolargl": [
           {
            "marker": {
             "colorbar": {
              "outlinewidth": 0,
              "ticks": ""
             }
            },
            "type": "scatterpolargl"
           }
          ],
          "scatterternary": [
           {
            "marker": {
             "colorbar": {
              "outlinewidth": 0,
              "ticks": ""
             }
            },
            "type": "scatterternary"
           }
          ],
          "surface": [
           {
            "colorbar": {
             "outlinewidth": 0,
             "ticks": ""
            },
            "colorscale": [
             [
              0,
              "#0d0887"
             ],
             [
              0.1111111111111111,
              "#46039f"
             ],
             [
              0.2222222222222222,
              "#7201a8"
             ],
             [
              0.3333333333333333,
              "#9c179e"
             ],
             [
              0.4444444444444444,
              "#bd3786"
             ],
             [
              0.5555555555555556,
              "#d8576b"
             ],
             [
              0.6666666666666666,
              "#ed7953"
             ],
             [
              0.7777777777777778,
              "#fb9f3a"
             ],
             [
              0.8888888888888888,
              "#fdca26"
             ],
             [
              1,
              "#f0f921"
             ]
            ],
            "type": "surface"
           }
          ],
          "table": [
           {
            "cells": {
             "fill": {
              "color": "#EBF0F8"
             },
             "line": {
              "color": "white"
             }
            },
            "header": {
             "fill": {
              "color": "#C8D4E3"
             },
             "line": {
              "color": "white"
             }
            },
            "type": "table"
           }
          ]
         },
         "layout": {
          "annotationdefaults": {
           "arrowcolor": "#2a3f5f",
           "arrowhead": 0,
           "arrowwidth": 1
          },
          "autotypenumbers": "strict",
          "coloraxis": {
           "colorbar": {
            "outlinewidth": 0,
            "ticks": ""
           }
          },
          "colorscale": {
           "diverging": [
            [
             0,
             "#8e0152"
            ],
            [
             0.1,
             "#c51b7d"
            ],
            [
             0.2,
             "#de77ae"
            ],
            [
             0.3,
             "#f1b6da"
            ],
            [
             0.4,
             "#fde0ef"
            ],
            [
             0.5,
             "#f7f7f7"
            ],
            [
             0.6,
             "#e6f5d0"
            ],
            [
             0.7,
             "#b8e186"
            ],
            [
             0.8,
             "#7fbc41"
            ],
            [
             0.9,
             "#4d9221"
            ],
            [
             1,
             "#276419"
            ]
           ],
           "sequential": [
            [
             0,
             "#0d0887"
            ],
            [
             0.1111111111111111,
             "#46039f"
            ],
            [
             0.2222222222222222,
             "#7201a8"
            ],
            [
             0.3333333333333333,
             "#9c179e"
            ],
            [
             0.4444444444444444,
             "#bd3786"
            ],
            [
             0.5555555555555556,
             "#d8576b"
            ],
            [
             0.6666666666666666,
             "#ed7953"
            ],
            [
             0.7777777777777778,
             "#fb9f3a"
            ],
            [
             0.8888888888888888,
             "#fdca26"
            ],
            [
             1,
             "#f0f921"
            ]
           ],
           "sequentialminus": [
            [
             0,
             "#0d0887"
            ],
            [
             0.1111111111111111,
             "#46039f"
            ],
            [
             0.2222222222222222,
             "#7201a8"
            ],
            [
             0.3333333333333333,
             "#9c179e"
            ],
            [
             0.4444444444444444,
             "#bd3786"
            ],
            [
             0.5555555555555556,
             "#d8576b"
            ],
            [
             0.6666666666666666,
             "#ed7953"
            ],
            [
             0.7777777777777778,
             "#fb9f3a"
            ],
            [
             0.8888888888888888,
             "#fdca26"
            ],
            [
             1,
             "#f0f921"
            ]
           ]
          },
          "colorway": [
           "#636efa",
           "#EF553B",
           "#00cc96",
           "#ab63fa",
           "#FFA15A",
           "#19d3f3",
           "#FF6692",
           "#B6E880",
           "#FF97FF",
           "#FECB52"
          ],
          "font": {
           "color": "#2a3f5f"
          },
          "geo": {
           "bgcolor": "white",
           "lakecolor": "white",
           "landcolor": "#E5ECF6",
           "showlakes": true,
           "showland": true,
           "subunitcolor": "white"
          },
          "hoverlabel": {
           "align": "left"
          },
          "hovermode": "closest",
          "mapbox": {
           "style": "light"
          },
          "paper_bgcolor": "white",
          "plot_bgcolor": "#E5ECF6",
          "polar": {
           "angularaxis": {
            "gridcolor": "white",
            "linecolor": "white",
            "ticks": ""
           },
           "bgcolor": "#E5ECF6",
           "radialaxis": {
            "gridcolor": "white",
            "linecolor": "white",
            "ticks": ""
           }
          },
          "scene": {
           "xaxis": {
            "backgroundcolor": "#E5ECF6",
            "gridcolor": "white",
            "gridwidth": 2,
            "linecolor": "white",
            "showbackground": true,
            "ticks": "",
            "zerolinecolor": "white"
           },
           "yaxis": {
            "backgroundcolor": "#E5ECF6",
            "gridcolor": "white",
            "gridwidth": 2,
            "linecolor": "white",
            "showbackground": true,
            "ticks": "",
            "zerolinecolor": "white"
           },
           "zaxis": {
            "backgroundcolor": "#E5ECF6",
            "gridcolor": "white",
            "gridwidth": 2,
            "linecolor": "white",
            "showbackground": true,
            "ticks": "",
            "zerolinecolor": "white"
           }
          },
          "shapedefaults": {
           "line": {
            "color": "#2a3f5f"
           }
          },
          "ternary": {
           "aaxis": {
            "gridcolor": "white",
            "linecolor": "white",
            "ticks": ""
           },
           "baxis": {
            "gridcolor": "white",
            "linecolor": "white",
            "ticks": ""
           },
           "bgcolor": "#E5ECF6",
           "caxis": {
            "gridcolor": "white",
            "linecolor": "white",
            "ticks": ""
           }
          },
          "title": {
           "x": 0.05
          },
          "xaxis": {
           "automargin": true,
           "gridcolor": "white",
           "linecolor": "white",
           "ticks": "",
           "title": {
            "standoff": 15
           },
           "zerolinecolor": "white",
           "zerolinewidth": 2
          },
          "yaxis": {
           "automargin": true,
           "gridcolor": "white",
           "linecolor": "white",
           "ticks": "",
           "title": {
            "standoff": 15
           },
           "zerolinecolor": "white",
           "zerolinewidth": 2
          }
         }
        },
        "xaxis": {
         "anchor": "y",
         "domain": [
          0,
          1
         ],
         "title": {
          "text": "value"
         }
        },
        "yaxis": {
         "anchor": "x",
         "domain": [
          0,
          1
         ],
         "title": {
          "text": "index"
         }
        }
       }
      }
     },
     "metadata": {},
     "output_type": "display_data"
    }
   ],
   "source": [
    "# Plot coefficients\n",
    "fig = px.bar(feature_importance, orientation = 'h')\n",
    "fig.update_layout(showlegend = False, \n",
    "                  margin = {'l': 120} # to avoid cropping of column names\n",
    "                 )\n",
    "fig.show()"
   ]
  },
  {
   "cell_type": "markdown",
   "metadata": {},
   "source": [
    "### 2.4 model_GL1: all kind of features, lasso grid search"
   ]
  },
  {
   "cell_type": "code",
   "execution_count": 84,
   "metadata": {},
   "outputs": [
    {
     "name": "stdout",
     "output_type": "stream",
     "text": [
      "Explanatory variables :  Index(['ALT', 'SLOPE25', 'AGE_PPL', 'DIV_STR_PPL', 'DDOM', 'DEG_SUR_PER',\n",
      "       'FEUILL_PER', 'CONIF_PER', 'SURF_TROU_AER', 'DBH', 'HAUTEUR_ARBRE',\n",
      "       'AGE_ARBRE', 'PRCP_SUM', 'PRCP', 'PRCP_GROWTH', 'TAVE_AVG', 'TAVE',\n",
      "       'TAVE_GROWTH', 'AI', 'HT_VEG', 'QUAL_STATION', 'REBOISEMENT_AN',\n",
      "       'TAILLE_PPL', 'LFI', 'ORIENTATION', 'RELIEF', 'PRODREG', 'PERI_CHENAUX',\n",
      "       'PERI_COULEES', 'PERI_AVALANCH', 'PERI_CHUTES', 'MODE_REGEN', 'NIV_DEV',\n",
      "       'MELANGE', 'TYP_RAJ_PPL', 'ESPECE_DOM', 'FEU_RES', 'TYPE_FORET',\n",
      "       'TRACES_FEU', 'INTENSITE_EXPLOIT', 'INT_IFN2_IFN3', 'INT_IFN3-IFN4'],\n",
      "      dtype='object')\n",
      "Dividing into train and test sets...\n",
      "...Done.\n"
     ]
    }
   ],
   "source": [
    "features_list = ['ALT', 'SLOPE25', 'AGE_PPL', 'DIV_STR_PPL', 'DDOM', 'DEG_SUR_PER', 'FEUILL_PER', 'CONIF_PER', 'SURF_TROU_AER', 'DBH', 'HAUTEUR_ARBRE', 'AGE_ARBRE',\n",
    "                'PRCP_SUM', 'PRCP', 'PRCP_GROWTH', 'TAVE_AVG', 'TAVE', 'TAVE_GROWTH', 'AI',\n",
    "                \n",
    "                'HT_VEG', 'QUAL_STATION', 'REBOISEMENT_AN', 'TAILLE_PPL',\n",
    "\n",
    "                'LFI','ORIENTATION', 'RELIEF', 'PRODREG', 'PERI_CHENAUX', 'PERI_COULEES', 'PERI_AVALANCH', 'PERI_CHUTES',\n",
    "                'MODE_REGEN', 'NIV_DEV', 'MELANGE', 'TYP_RAJ_PPL', 'ESPECE_DOM', 'FEU_RES', 'TYPE_FORET',\n",
    "                'TRACES_FEU', 'INTENSITE_EXPLOIT', 'INT_IFN2_IFN3', 'INT_IFN3-IFN4']\n",
    "# separation of the data\n",
    "X = dataset.loc[:, features_list]\n",
    "Y = dataset.loc[:, target]\n",
    "\n",
    "print('Explanatory variables : ', X.columns)\n",
    "\n",
    "# Divide dataset Train set & Test set \n",
    "print(\"Dividing into train and test sets...\")\n",
    "X_train, X_test, Y_train, Y_test = train_test_split(X, Y, test_size=0.2, random_state=0)\n",
    "print(\"...Done.\")"
   ]
  },
  {
   "cell_type": "code",
   "execution_count": 85,
   "metadata": {},
   "outputs": [
    {
     "name": "stdout",
     "output_type": "stream",
     "text": [
      "Encoding categorical features and standardizing numerical features...\n",
      "...Done\n",
      "[[ 0.52817489 -1.19846874  1.35798089  2.0105166   1.17248088 -0.16512923\n",
      "  -0.29232772  0.25510912 -0.89255041  2.10679595  1.2718684  -0.08449005\n",
      "  -0.28884312  0.38522877  0.01227071  0.40119749  1.08993594  0.74972315\n",
      "  -0.14623632  1.          0.          0.          0.          0.\n",
      "   1.          0.          0.          0.          0.          0.\n",
      "   0.          1.          0.          0.          0.          0.\n",
      "   0.          1.          0.          1.          0.          0.\n",
      "   1.          1.          0.          0.          0.          0.\n",
      "   0.          0.          0.          0.          1.          0.\n",
      "   1.          0.          0.          0.          1.          0.\n",
      "   0.          0.          0.          0.          1.          0.\n",
      "   0.          0.          0.          0.          0.          0.\n",
      "   0.          1.          0.          0.          0.          0.\n",
      "   0.          0.          1.          1.          0.          0.\n",
      "   0.          1.          0.          0.          2.          1.\n",
      "   0.          0.        ]]\n",
      "Encoding categorical features and standardizing numerical features...\n",
      "...Done\n",
      "[[ 0.18811703  0.63939965 -0.03471188  0.01305404  0.27472539 -0.16512923\n",
      "  -0.29232772  0.25510912 -0.89255041 -0.9773369  -0.02095388 -0.08449005\n",
      "   0.10727424 -0.0634572   0.15555016  0.05669531  0.10025377  0.108916\n",
      "   0.07506856  0.          0.          0.          0.          0.\n",
      "   1.          0.          0.          0.          0.          0.\n",
      "   0.          1.          0.          0.          0.          0.\n",
      "   1.          0.          1.          0.          1.          0.\n",
      "   1.          1.          0.          0.          0.          0.\n",
      "   0.          0.          0.          0.          0.          1.\n",
      "   1.          0.          0.          0.          1.          0.\n",
      "   0.          1.          0.          0.          0.          0.\n",
      "   0.          0.          0.          0.          0.          0.\n",
      "   0.          1.          0.          0.          0.          0.\n",
      "   0.          0.          1.          0.          1.          0.\n",
      "   0.          0.          0.          0.          2.          2.\n",
      "   0.          0.        ]]\n"
     ]
    }
   ],
   "source": [
    "numeric_features = ['ALT', 'SLOPE25', 'AGE_PPL', 'DIV_STR_PPL', 'DDOM', 'DEG_SUR_PER', 'FEUILL_PER', 'CONIF_PER', 'SURF_TROU_AER', 'DBH', 'HAUTEUR_ARBRE', 'AGE_ARBRE',\n",
    "                    'PRCP_SUM', 'PRCP', 'PRCP_GROWTH', 'TAVE_AVG', 'TAVE', 'TAVE_GROWTH', 'AI']\n",
    "categorical_features = ['LFI','ORIENTATION', 'RELIEF', 'PRODREG', 'PERI_CHENAUX', 'PERI_COULEES', 'PERI_AVALANCH', 'PERI_CHUTES',\n",
    "                        'MODE_REGEN', 'NIV_DEV', 'MELANGE', 'TYP_RAJ_PPL', 'ESPECE_DOM', 'FEU_RES', 'TYPE_FORET',\n",
    "                        'TRACES_FEU', 'INTENSITE_EXPLOIT', 'INT_IFN2_IFN3', 'INT_IFN3-IFN4']\n",
    "ordi_categorical_features = ['HT_VEG', 'QUAL_STATION', 'REBOISEMENT_AN', 'TAILLE_PPL']\n",
    "\n",
    "# preprocessings\n",
    "print(\"Encoding categorical features and standardizing numerical features...\")\n",
    "\n",
    "numeric_transformer = Pipeline(steps=[\n",
    "    ('imputer', SimpleImputer(strategy='median')),\n",
    "    ('scaler', StandardScaler())\n",
    "])\n",
    "\n",
    "categorical_transformer = Pipeline(\n",
    "    steps=[\n",
    "        ('imputer', SimpleImputer(strategy='most_frequent')),\n",
    "        ('encoder', OneHotEncoder(drop='first'))\n",
    "    ])\n",
    "\n",
    "ordi_cate_transformer = Pipeline(\n",
    "    steps=[\n",
    "        ('imputer', SimpleImputer(strategy='most_frequent')),\n",
    "        ('ordi_encoder', OrdinalEncoder(encoded_missing_value=0))\n",
    "    ])\n",
    "\n",
    "\n",
    "preprocessor = ColumnTransformer(\n",
    "    transformers=[\n",
    "        ('num', numeric_transformer, numeric_features),\n",
    "        ('cat', categorical_transformer, categorical_features),\n",
    "        ('ordicat', ordi_cate_transformer, ordi_categorical_features)\n",
    "    ])\n",
    "\n",
    "\n",
    "X_train = preprocessor.fit_transform(X_train)\n",
    "print(\"...Done\")\n",
    "print(X_train[0:1,:])\n",
    "\n",
    "print(\"Encoding categorical features and standardizing numerical features...\")\n",
    "X_test = preprocessor.transform(X_test)\n",
    "print(\"...Done\")\n",
    "print(X_test[0:1,:])"
   ]
  },
  {
   "cell_type": "code",
   "execution_count": 86,
   "metadata": {},
   "outputs": [
    {
     "name": "stdout",
     "output_type": "stream",
     "text": [
      "10-fold cross-validation...\n",
      "The cross-validated R2-score is :  0.5433799416702676\n",
      "The standard deviation is :  0.042281257887540696\n"
     ]
    }
   ],
   "source": [
    "# Perform 3-fold cross-validation to evaluate the generalized R2 score obtained with a Ridge model\n",
    "print(\"10-fold cross-validation...\")\n",
    "model_GL1 = Lasso(alpha=0.2)\n",
    "scores = cross_val_score(model_GL1, X_train, Y_train, cv=10)\n",
    "print('The cross-validated R2-score is : ', scores.mean())\n",
    "print('The standard deviation is : ', scores.std())"
   ]
  },
  {
   "cell_type": "code",
   "execution_count": 87,
   "metadata": {},
   "outputs": [
    {
     "name": "stdout",
     "output_type": "stream",
     "text": [
      "Grid search...\n",
      "...Done.\n",
      "Best hyperparameters :  {'alpha': 0.006}\n",
      "Best R2 score :  0.5817068356005759\n"
     ]
    }
   ],
   "source": [
    "# Perform grid search\n",
    "print(\"Grid search...\")\n",
    "model_GL1 = Lasso()\n",
    "# Grid of values to be tested\n",
    "params = {\n",
    "    'alpha': [0.006, 0.007, 0.008, 0.009, 0.01]\n",
    "}\n",
    "gridsearchL = GridSearchCV(model_GL1, param_grid = params, cv = 10)\n",
    "gridsearchL.fit(X_train, Y_train)\n",
    "print(\"...Done.\")\n",
    "print(\"Best hyperparameters : \", gridsearchL.best_params_)\n",
    "print(\"Best R2 score : \", gridsearchL.best_score_)"
   ]
  },
  {
   "cell_type": "code",
   "execution_count": 88,
   "metadata": {},
   "outputs": [
    {
     "name": "stdout",
     "output_type": "stream",
     "text": [
      "R2 score on training set :  0.5867303238603039\n",
      "R2 score on test set :  0.5841187952170324\n",
      "MAPE score on training set :  464698557716197.4\n",
      "MAPE score on test set :  368830667432888.94\n"
     ]
    }
   ],
   "source": [
    "# predicted values\n",
    "Y_train_pred = gridsearchL.predict(X_train)\n",
    "Y_test_pred = gridsearchL.predict(X_test)\n",
    "\n",
    "# Print R^2 scores\n",
    "print(\"R2 score on training set : \", r2_score(Y_train, Y_train_pred))\n",
    "print(\"R2 score on test set : \", r2_score(Y_test, Y_test_pred))\n",
    "\n",
    "# Print MAPE score\n",
    "print(\"MAPE score on training set : \", mean_absolute_percentage_error(Y_train, Y_train_pred))\n",
    "print(\"MAPE score on test set : \", mean_absolute_percentage_error(Y_test, Y_test_pred))"
   ]
  },
  {
   "cell_type": "markdown",
   "metadata": {},
   "source": [
    "## 3. Decision Trees"
   ]
  },
  {
   "cell_type": "code",
   "execution_count": 80,
   "metadata": {},
   "outputs": [],
   "source": [
    "from sklearn.model_selection import train_test_split\n",
    "from sklearn.pipeline import Pipeline\n",
    "from sklearn.impute import SimpleImputer\n",
    "from sklearn.preprocessing import  OneHotEncoder, StandardScaler, OrdinalEncoder\n",
    "from sklearn.compose import ColumnTransformer\n",
    "from sklearn.tree import DecisionTreeRegressor\n",
    "from sklearn.ensemble import RandomForestRegressor\n",
    "from sklearn.metrics import accuracy_score, r2_score"
   ]
  },
  {
   "cell_type": "code",
   "execution_count": 90,
   "metadata": {},
   "outputs": [
    {
     "name": "stdout",
     "output_type": "stream",
     "text": [
      "Explanatory variables :  Index(['ALT', 'SLOPE25', 'AGE_PPL', 'DIV_STR_PPL', 'DDOM', 'DEG_SUR_PER',\n",
      "       'FEUILL_PER', 'CONIF_PER', 'SURF_TROU_AER', 'DBH', 'HAUTEUR_ARBRE',\n",
      "       'AGE_ARBRE', 'PRCP_SUM', 'PRCP', 'PRCP_GROWTH', 'TAVE_AVG', 'TAVE',\n",
      "       'TAVE_GROWTH', 'AI', 'HT_VEG', 'QUAL_STATION', 'REBOISEMENT_AN',\n",
      "       'TAILLE_PPL', 'LFI', 'ORIENTATION', 'RELIEF', 'PRODREG', 'PERI_CHENAUX',\n",
      "       'PERI_COULEES', 'PERI_AVALANCH', 'PERI_CHUTES', 'MODE_REGEN', 'NIV_DEV',\n",
      "       'MELANGE', 'TYP_RAJ_PPL', 'ESPECE_DOM', 'FEU_RES', 'TYPE_FORET',\n",
      "       'TRACES_FEU', 'INTENSITE_EXPLOIT', 'INT_IFN2_IFN3', 'INT_IFN3-IFN4'],\n",
      "      dtype='object')\n",
      "Dividing into train and test sets...\n",
      "...Done.\n"
     ]
    }
   ],
   "source": [
    "features_list = ['ALT', 'SLOPE25', 'AGE_PPL', 'DIV_STR_PPL', 'DDOM', 'DEG_SUR_PER', 'FEUILL_PER', 'CONIF_PER', 'SURF_TROU_AER', 'DBH', 'HAUTEUR_ARBRE', 'AGE_ARBRE',\n",
    "                'PRCP_SUM', 'PRCP', 'PRCP_GROWTH', 'TAVE_AVG', 'TAVE', 'TAVE_GROWTH', 'AI',\n",
    "                \n",
    "                'HT_VEG', 'QUAL_STATION', 'REBOISEMENT_AN', 'TAILLE_PPL',\n",
    "\n",
    "                'LFI','ORIENTATION', 'RELIEF', 'PRODREG', 'PERI_CHENAUX', 'PERI_COULEES', 'PERI_AVALANCH', 'PERI_CHUTES',\n",
    "                'MODE_REGEN', 'NIV_DEV', 'MELANGE', 'TYP_RAJ_PPL', 'ESPECE_DOM', 'FEU_RES', 'TYPE_FORET',\n",
    "                'TRACES_FEU', 'INTENSITE_EXPLOIT', 'INT_IFN2_IFN3', 'INT_IFN3-IFN4']\n",
    "# separation of the data\n",
    "X = dataset.loc[:, features_list]\n",
    "Y = dataset.loc[:, target]\n",
    "\n",
    "print('Explanatory variables : ', X.columns)\n",
    "\n",
    "# Divide dataset Train set & Test set \n",
    "print(\"Dividing into train and test sets...\")\n",
    "X_train, X_test, Y_train, Y_test = train_test_split(X, Y, test_size=0.2, random_state=0)\n",
    "print(\"...Done.\")"
   ]
  },
  {
   "cell_type": "code",
   "execution_count": 91,
   "metadata": {},
   "outputs": [
    {
     "name": "stdout",
     "output_type": "stream",
     "text": [
      "Encoding categorical features and standardizing numerical features...\n",
      "...Done\n",
      "[[ 0.52817489 -1.19846874  1.35798089  2.0105166   1.17248088 -0.16512923\n",
      "  -0.29232772  0.25510912 -0.89255041  2.10679595  1.2718684  -0.08449005\n",
      "  -0.28884312  0.38522877  0.01227071  0.40119749  1.08993594  0.74972315\n",
      "  -0.14623632  1.          0.          0.          0.          0.\n",
      "   1.          0.          0.          0.          0.          0.\n",
      "   0.          1.          0.          0.          0.          0.\n",
      "   0.          1.          0.          1.          0.          0.\n",
      "   1.          1.          0.          0.          0.          0.\n",
      "   0.          0.          0.          0.          1.          0.\n",
      "   1.          0.          0.          0.          1.          0.\n",
      "   0.          0.          0.          0.          1.          0.\n",
      "   0.          0.          0.          0.          0.          0.\n",
      "   0.          1.          0.          0.          0.          0.\n",
      "   0.          0.          1.          1.          0.          0.\n",
      "   0.          1.          0.          0.          2.          1.\n",
      "   0.          0.        ]]\n",
      "Encoding categorical features and standardizing numerical features...\n",
      "...Done\n",
      "[[ 0.18811703  0.63939965 -0.03471188  0.01305404  0.27472539 -0.16512923\n",
      "  -0.29232772  0.25510912 -0.89255041 -0.9773369  -0.02095388 -0.08449005\n",
      "   0.10727424 -0.0634572   0.15555016  0.05669531  0.10025377  0.108916\n",
      "   0.07506856  0.          0.          0.          0.          0.\n",
      "   1.          0.          0.          0.          0.          0.\n",
      "   0.          1.          0.          0.          0.          0.\n",
      "   1.          0.          1.          0.          1.          0.\n",
      "   1.          1.          0.          0.          0.          0.\n",
      "   0.          0.          0.          0.          0.          1.\n",
      "   1.          0.          0.          0.          1.          0.\n",
      "   0.          1.          0.          0.          0.          0.\n",
      "   0.          0.          0.          0.          0.          0.\n",
      "   0.          1.          0.          0.          0.          0.\n",
      "   0.          0.          1.          0.          1.          0.\n",
      "   0.          0.          0.          0.          2.          2.\n",
      "   0.          0.        ]]\n"
     ]
    }
   ],
   "source": [
    "numeric_features = ['ALT', 'SLOPE25', 'AGE_PPL', 'DIV_STR_PPL', 'DDOM', 'DEG_SUR_PER', 'FEUILL_PER', 'CONIF_PER', 'SURF_TROU_AER', 'DBH', 'HAUTEUR_ARBRE', 'AGE_ARBRE',\n",
    "                    'PRCP_SUM', 'PRCP', 'PRCP_GROWTH', 'TAVE_AVG', 'TAVE', 'TAVE_GROWTH', 'AI']\n",
    "categorical_features = ['LFI','ORIENTATION', 'RELIEF', 'PRODREG', 'PERI_CHENAUX', 'PERI_COULEES', 'PERI_AVALANCH', 'PERI_CHUTES',\n",
    "                        'MODE_REGEN', 'NIV_DEV', 'MELANGE', 'TYP_RAJ_PPL', 'ESPECE_DOM', 'FEU_RES', 'TYPE_FORET',\n",
    "                        'TRACES_FEU', 'INTENSITE_EXPLOIT', 'INT_IFN2_IFN3', 'INT_IFN3-IFN4']\n",
    "ordi_categorical_features = ['HT_VEG', 'QUAL_STATION', 'REBOISEMENT_AN', 'TAILLE_PPL']\n",
    "\n",
    "# preprocessings\n",
    "print(\"Encoding categorical features and standardizing numerical features...\")\n",
    "\n",
    "numeric_transformer = Pipeline(steps=[\n",
    "    ('imputer', SimpleImputer(strategy='median')),\n",
    "    ('scaler', StandardScaler())\n",
    "])\n",
    "\n",
    "categorical_transformer = Pipeline(\n",
    "    steps=[\n",
    "        ('imputer', SimpleImputer(strategy='most_frequent')),\n",
    "        ('encoder', OneHotEncoder(drop='first'))\n",
    "    ])\n",
    "\n",
    "ordi_cate_transformer = Pipeline(\n",
    "    steps=[\n",
    "        ('imputer', SimpleImputer(strategy='most_frequent')),\n",
    "        ('ordi_encoder', OrdinalEncoder(encoded_missing_value=0))\n",
    "    ])\n",
    "\n",
    "\n",
    "preprocessor = ColumnTransformer(\n",
    "    transformers=[\n",
    "        ('num', numeric_transformer, numeric_features),\n",
    "        ('cat', categorical_transformer, categorical_features),\n",
    "        ('ordicat', ordi_cate_transformer, ordi_categorical_features)\n",
    "    ])\n",
    "\n",
    "\n",
    "X_train = preprocessor.fit_transform(X_train)\n",
    "print(\"...Done\")\n",
    "print(X_train[0:1,:])\n",
    "\n",
    "print(\"Encoding categorical features and standardizing numerical features...\")\n",
    "X_test = preprocessor.transform(X_test)\n",
    "print(\"...Done\")\n",
    "print(X_test[0:1,:])"
   ]
  },
  {
   "cell_type": "code",
   "execution_count": 78,
   "metadata": {},
   "outputs": [
    {
     "name": "stdout",
     "output_type": "stream",
     "text": [
      "DecTree instance...\n",
      "Train model...\n",
      "...Done.\n"
     ]
    }
   ],
   "source": [
    "print(\"DecTree instance...\")\n",
    "model_DT1 = DecisionTreeRegressor(criterion='absolute_error')\n",
    "\n",
    "print(\"Train model...\")\n",
    "regDT1 = model_DT1.fit(X_train, Y_train)\n",
    "print(\"...Done.\")"
   ]
  },
  {
   "cell_type": "code",
   "execution_count": 79,
   "metadata": {},
   "outputs": [
    {
     "data": {
      "text/plain": [
       "0.2522810369590851"
      ]
     },
     "execution_count": 79,
     "metadata": {},
     "output_type": "execute_result"
    }
   ],
   "source": [
    "Y_test_pred = regDT1.predict(X_test)\n",
    "r2_score(Y_test, Y_test_pred)"
   ]
  },
  {
   "cell_type": "markdown",
   "metadata": {},
   "source": [
    "## 4. Random Forest"
   ]
  },
  {
   "cell_type": "code",
   "execution_count": 81,
   "metadata": {},
   "outputs": [
    {
     "name": "stdout",
     "output_type": "stream",
     "text": [
      "Grid search...\n",
      "...Done.\n",
      "Best hyperparameters :  {'max_depth': 10, 'min_samples_leaf': 5, 'min_samples_split': 8, 'n_estimators': 100}\n",
      "Best validation accuracy :  0.6133703714734282\n"
     ]
    }
   ],
   "source": [
    "# Perform grid search\n",
    "print(\"Grid search...\")\n",
    "model_RF1 = RandomForestRegressor()\n",
    "\n",
    "# Grid of values to be tested\n",
    "params = {\n",
    "    'max_depth': [2, 4, 6, 8, 10],\n",
    "    'min_samples_leaf': [1, 2, 5],\n",
    "    'min_samples_split': [2, 4, 8],\n",
    "    'n_estimators': [10, 20, 40, 60, 80, 100]\n",
    "}\n",
    "gridsearch = GridSearchCV(model_RF1, param_grid = params, cv = 10)\n",
    "gridsearch.fit(X_train, Y_train)\n",
    "print(\"...Done.\")\n",
    "print(\"Best hyperparameters : \", gridsearch.best_params_)\n",
    "print(\"Best validation accuracy : \", gridsearch.best_score_)"
   ]
  },
  {
   "cell_type": "code",
   "execution_count": 82,
   "metadata": {},
   "outputs": [
    {
     "name": "stdout",
     "output_type": "stream",
     "text": [
      "Predictions on training set...\n",
      "...Done.\n",
      "[29.98508505 14.3308961  43.78437005 ... 34.04040538 10.87054284\n",
      " 43.63182972]\n",
      "\n",
      "Predictions on test set...\n",
      "...Done.\n",
      "[42.37145922 56.77802909 51.94460613 ... 43.96878577 30.86477429\n",
      " 16.86493477]\n",
      "\n"
     ]
    }
   ],
   "source": [
    "# Predictions on training set\n",
    "print(\"Predictions on training set...\")\n",
    "Y_train_pred = gridsearch.predict(X_train)\n",
    "print(\"...Done.\")\n",
    "print(Y_train_pred)\n",
    "print()\n",
    "\n",
    "# Predictions on test set\n",
    "print(\"Predictions on test set...\")\n",
    "Y_test_pred = gridsearch.predict(X_test)\n",
    "print(\"...Done.\")\n",
    "print(Y_test_pred)\n",
    "print()"
   ]
  },
  {
   "cell_type": "code",
   "execution_count": 83,
   "metadata": {},
   "outputs": [
    {
     "name": "stdout",
     "output_type": "stream",
     "text": [
      "accuracy on training set :  0.7451749409092054\n",
      "accuracy on test set :  0.6387957718061528\n",
      "\n"
     ]
    }
   ],
   "source": [
    "# Print scores\n",
    "print(\"R2 on training set : \", r2_score(Y_train, Y_train_pred))\n",
    "print(\"R2 on test set : \", r2_score(Y_test, Y_test_pred))\n",
    "print()"
   ]
  },
  {
   "cell_type": "markdown",
   "metadata": {},
   "source": [
    "## 5. HistGradientBoost"
   ]
  },
  {
   "cell_type": "markdown",
   "metadata": {},
   "source": [
    "### 5.0 preprocessing"
   ]
  },
  {
   "cell_type": "code",
   "execution_count": 89,
   "metadata": {},
   "outputs": [],
   "source": [
    "from sklearn.ensemble import HistGradientBoostingRegressor"
   ]
  },
  {
   "cell_type": "code",
   "execution_count": 92,
   "metadata": {},
   "outputs": [
    {
     "name": "stdout",
     "output_type": "stream",
     "text": [
      "Explanatory variables :  Index(['ALT', 'SLOPE25', 'AGE_PPL', 'DIV_STR_PPL', 'DDOM', 'DEG_SUR_PER',\n",
      "       'FEUILL_PER', 'CONIF_PER', 'SURF_TROU_AER', 'DBH', 'HAUTEUR_ARBRE',\n",
      "       'AGE_ARBRE', 'PRCP_SUM', 'PRCP', 'PRCP_GROWTH', 'TAVE_AVG', 'TAVE',\n",
      "       'TAVE_GROWTH', 'AI', 'HT_VEG', 'QUAL_STATION', 'REBOISEMENT_AN',\n",
      "       'TAILLE_PPL', 'LFI', 'ORIENTATION', 'RELIEF', 'PRODREG', 'PERI_CHENAUX',\n",
      "       'PERI_COULEES', 'PERI_AVALANCH', 'PERI_CHUTES', 'MODE_REGEN', 'NIV_DEV',\n",
      "       'MELANGE', 'TYP_RAJ_PPL', 'ESPECE_DOM', 'FEU_RES', 'TYPE_FORET',\n",
      "       'TRACES_FEU', 'INTENSITE_EXPLOIT', 'INT_IFN2_IFN3', 'INT_IFN3-IFN4'],\n",
      "      dtype='object')\n",
      "Dividing into train and test sets...\n",
      "...Done.\n"
     ]
    }
   ],
   "source": [
    "features_list = ['ALT', 'SLOPE25', 'AGE_PPL', 'DIV_STR_PPL', 'DDOM', 'DEG_SUR_PER', 'FEUILL_PER', 'CONIF_PER', 'SURF_TROU_AER', 'DBH', 'HAUTEUR_ARBRE', 'AGE_ARBRE',\n",
    "                'PRCP_SUM', 'PRCP', 'PRCP_GROWTH', 'TAVE_AVG', 'TAVE', 'TAVE_GROWTH', 'AI',\n",
    "                \n",
    "                'HT_VEG', 'QUAL_STATION', 'REBOISEMENT_AN', 'TAILLE_PPL',\n",
    "\n",
    "                'LFI','ORIENTATION', 'RELIEF', 'PRODREG', 'PERI_CHENAUX', 'PERI_COULEES', 'PERI_AVALANCH', 'PERI_CHUTES',\n",
    "                'MODE_REGEN', 'NIV_DEV', 'MELANGE', 'TYP_RAJ_PPL', 'ESPECE_DOM', 'FEU_RES', 'TYPE_FORET',\n",
    "                'TRACES_FEU', 'INTENSITE_EXPLOIT', 'INT_IFN2_IFN3', 'INT_IFN3-IFN4']\n",
    "# separation of the data\n",
    "X = dataset.loc[:, features_list]\n",
    "Y = dataset.loc[:, target]\n",
    "\n",
    "print('Explanatory variables : ', X.columns)\n",
    "\n",
    "# Divide dataset Train set & Test set \n",
    "print(\"Dividing into train and test sets...\")\n",
    "X_train, X_test, Y_train, Y_test = train_test_split(X, Y, test_size=0.2, random_state=0)\n",
    "print(\"...Done.\")"
   ]
  },
  {
   "cell_type": "code",
   "execution_count": 93,
   "metadata": {},
   "outputs": [
    {
     "name": "stdout",
     "output_type": "stream",
     "text": [
      "Encoding categorical features and standardizing numerical features...\n",
      "...Done\n",
      "[[ 0.52817489 -1.19846874  1.13189916  1.74635084  1.16010984         nan\n",
      "          nan         nan -0.89255041  2.08766884  1.16246221         nan\n",
      "  -0.21997191  0.31588031  0.05550972  0.36419439  0.97507164  0.68240666\n",
      "  -0.10529533  1.          0.          0.          0.          0.\n",
      "   1.          0.          0.          0.          0.          0.\n",
      "   0.          1.          0.          0.          0.          0.\n",
      "   0.          1.          0.          1.          0.          0.\n",
      "   1.          1.          0.          0.          0.          0.\n",
      "   0.          0.          0.          0.          1.          0.\n",
      "   1.          0.          0.          0.          1.          0.\n",
      "   0.          0.          0.          0.          1.          0.\n",
      "   0.          0.          0.          0.          0.          0.\n",
      "   0.          1.          0.          0.          0.          0.\n",
      "   0.          0.          1.          1.          0.          0.\n",
      "   0.          1.          0.          0.          2.          1.\n",
      "   0.          0.        ]]\n",
      "Encoding categorical features and standardizing numerical features...\n",
      "...Done\n",
      "[[ 0.18811703  0.63939965         nan         nan  0.27221111         nan\n",
      "          nan         nan -0.89255041 -0.97044663 -0.02034442         nan\n",
      "          nan         nan         nan         nan         nan         nan\n",
      "          nan  0.          0.          0.          0.          0.\n",
      "   1.          0.          0.          0.          0.          0.\n",
      "   0.          1.          0.          0.          0.          0.\n",
      "   1.          0.          1.          0.          1.          0.\n",
      "   1.          1.          0.          0.          0.          0.\n",
      "   0.          0.          0.          0.          0.          1.\n",
      "   1.          0.          0.          0.          1.          0.\n",
      "   0.          1.          0.          0.          0.          0.\n",
      "   0.          0.          0.          0.          0.          0.\n",
      "   0.          1.          0.          0.          0.          0.\n",
      "   0.          0.          1.          0.          1.          0.\n",
      "   0.          0.          0.          0.          2.          2.\n",
      "   0.          0.        ]]\n"
     ]
    }
   ],
   "source": [
    "numeric_features = ['ALT', 'SLOPE25', 'AGE_PPL', 'DIV_STR_PPL', 'DDOM', 'DEG_SUR_PER', 'FEUILL_PER', 'CONIF_PER', 'SURF_TROU_AER', 'DBH', 'HAUTEUR_ARBRE', 'AGE_ARBRE',\n",
    "                    'PRCP_SUM', 'PRCP', 'PRCP_GROWTH', 'TAVE_AVG', 'TAVE', 'TAVE_GROWTH', 'AI']\n",
    "categorical_features = ['LFI','ORIENTATION', 'RELIEF', 'PRODREG', 'PERI_CHENAUX', 'PERI_COULEES', 'PERI_AVALANCH', 'PERI_CHUTES',\n",
    "                        'MODE_REGEN', 'NIV_DEV', 'MELANGE', 'TYP_RAJ_PPL', 'ESPECE_DOM', 'FEU_RES', 'TYPE_FORET',\n",
    "                        'TRACES_FEU', 'INTENSITE_EXPLOIT', 'INT_IFN2_IFN3', 'INT_IFN3-IFN4']\n",
    "ordi_categorical_features = ['HT_VEG', 'QUAL_STATION', 'REBOISEMENT_AN', 'TAILLE_PPL']\n",
    "\n",
    "# preprocessings\n",
    "print(\"Encoding categorical features and standardizing numerical features...\")\n",
    "\n",
    "numeric_transformer = Pipeline(steps=[\n",
    "    ('scaler', StandardScaler())\n",
    "])\n",
    "\n",
    "categorical_transformer = Pipeline(steps=[\n",
    "        ('encoder', OneHotEncoder(drop='first'))\n",
    "    ])\n",
    "\n",
    "ordi_cate_transformer = Pipeline(steps=[\n",
    "        ('ordi_encoder', OrdinalEncoder(encoded_missing_value=0))\n",
    "    ])\n",
    "\n",
    "\n",
    "preprocessor = ColumnTransformer(\n",
    "    transformers=[\n",
    "        ('num', numeric_transformer, numeric_features),\n",
    "        ('cat', categorical_transformer, categorical_features),\n",
    "        ('ordicat', ordi_cate_transformer, ordi_categorical_features)\n",
    "    ])\n",
    "\n",
    "\n",
    "X_train = preprocessor.fit_transform(X_train)\n",
    "print(\"...Done\")\n",
    "print(X_train[0:1,:])\n",
    "\n",
    "print(\"Encoding categorical features and standardizing numerical features...\")\n",
    "X_test = preprocessor.transform(X_test)\n",
    "print(\"...Done\")\n",
    "print(X_test[0:1,:])"
   ]
  },
  {
   "cell_type": "markdown",
   "metadata": {},
   "source": [
    "### 5.1 premier HGB regressor"
   ]
  },
  {
   "cell_type": "code",
   "execution_count": 94,
   "metadata": {},
   "outputs": [],
   "source": [
    "# model with default parameters\n",
    "## loss = squared_error\n",
    "## learning_rate = 0.1\n",
    "## max_iter = 100\n",
    "## max_leaf_nodes = 31\n",
    "## max_depth = None\n",
    "## min_samples_leaf = 20\n",
    "## l2_regularization = 0\n",
    "## max_bins = 255\n",
    "\n",
    "model_HGB1 = HistGradientBoostingRegressor()"
   ]
  },
  {
   "cell_type": "code",
   "execution_count": 98,
   "metadata": {},
   "outputs": [
    {
     "name": "stdout",
     "output_type": "stream",
     "text": [
      "R2 on training set :  0.8232105568516119\n",
      "R2 on test set :  0.67777165667339\n",
      "\n"
     ]
    }
   ],
   "source": [
    "# model training\n",
    "model_HGB1.fit(X_train, Y_train)\n",
    "\n",
    "# Predictions on training set\n",
    "Y_train_pred = model_HGB1.predict(X_train)\n",
    "\n",
    "# Predictions on test set\n",
    "Y_test_pred = model_HGB1.predict(X_test)\n",
    "\n",
    "# Print scores\n",
    "print(\"R2 on training set : \", r2_score(Y_train, Y_train_pred))\n",
    "print(\"R2 on test set : \", r2_score(Y_test, Y_test_pred))\n",
    "print()"
   ]
  },
  {
   "cell_type": "markdown",
   "metadata": {},
   "source": [
    "- overfitting (train > test)"
   ]
  },
  {
   "cell_type": "code",
   "execution_count": 114,
   "metadata": {},
   "outputs": [],
   "source": [
    "## loss = squared_error\n",
    "## learning_rate = 0.1\n",
    "## max_iter = 100 # max number of trees\n",
    "## max_leaf_nodes = 31\n",
    "## max_depth = None\n",
    "## min_samples_leaf = 20\n",
    "## l2_regularization = 0\n",
    "## max_bins = 255\n",
    "\n",
    "#model_HGB2 = HistGradientBoostingRegressor(learning_rate = 0.04, min_samples_leaf = 10)\n",
    "model_HGB2 = HistGradientBoostingRegressor(learning_rate = 0.04, max_iter = 200, min_samples_leaf = 10)"
   ]
  },
  {
   "cell_type": "code",
   "execution_count": 115,
   "metadata": {},
   "outputs": [
    {
     "name": "stdout",
     "output_type": "stream",
     "text": [
      "R2 on training set :  0.8175112633928302\n",
      "R2 on test set :  0.6818758681818697\n",
      "\n"
     ]
    }
   ],
   "source": [
    "# model training\n",
    "model_HGB2.fit(X_train, Y_train)\n",
    "\n",
    "# Predictions on training set\n",
    "Y_train_pred = model_HGB2.predict(X_train)\n",
    "\n",
    "# Predictions on test set\n",
    "Y_test_pred = model_HGB2.predict(X_test)\n",
    "\n",
    "# Print scores\n",
    "print(\"R2 on training set : \", r2_score(Y_train, Y_train_pred))\n",
    "print(\"R2 on test set : \", r2_score(Y_test, Y_test_pred))\n",
    "print()"
   ]
  },
  {
   "cell_type": "markdown",
   "metadata": {},
   "source": [
    "### 5.2 grid search of HGB regressor"
   ]
  },
  {
   "cell_type": "code",
   "execution_count": 120,
   "metadata": {},
   "outputs": [
    {
     "name": "stdout",
     "output_type": "stream",
     "text": [
      "Grid search...\n",
      "...Done.\n",
      "Best hyperparameters :  {'learning_rate': 0.1, 'max_iter': 500, 'min_samples_leaf': 5}\n",
      "Best validation accuracy :  0.6720235979212023\n"
     ]
    }
   ],
   "source": [
    "# Perform grid search\n",
    "print(\"Grid search...\")\n",
    "model_HGB3 = HistGradientBoostingRegressor()\n",
    "# Grid of values to be tested\n",
    "params = {\n",
    "    'min_samples_leaf': [5, 7, 10],\n",
    "    'learning_rate': [0.03, 0.04, 0.05, 0.07, 0.1],\n",
    "    'max_iter': [200, 400, 500]\n",
    "}\n",
    "gridsearchHGB3 = GridSearchCV(model_HGB3, param_grid = params, cv = 10, n_jobs=5)\n",
    "gridsearchHGB3.fit(X_train, Y_train)\n",
    "print(\"...Done.\")\n",
    "print(\"Best hyperparameters : \", gridsearchHGB3.best_params_)\n",
    "print(\"Best validation accuracy : \", gridsearchHGB3.best_score_)"
   ]
  },
  {
   "cell_type": "code",
   "execution_count": 121,
   "metadata": {},
   "outputs": [
    {
     "name": "stdout",
     "output_type": "stream",
     "text": [
      "R2 on training set :  0.9719498535939143\n",
      "R2 on test set :  0.7118824182893746\n",
      "\n"
     ]
    }
   ],
   "source": [
    "# Predictions on training set\n",
    "Y_train_pred = gridsearchHGB3.predict(X_train)\n",
    "\n",
    "# Predictions on test set\n",
    "Y_test_pred = gridsearchHGB3.predict(X_test)\n",
    "\n",
    "# Print scores\n",
    "print(\"R2 on training set : \", r2_score(Y_train, Y_train_pred))\n",
    "print(\"R2 on test set : \", r2_score(Y_test, Y_test_pred))\n",
    "print()"
   ]
  }
 ],
 "metadata": {
  "kernelspec": {
   "display_name": "Python 3.10.8 64-bit (microsoft store)",
   "language": "python",
   "name": "python3"
  },
  "language_info": {
   "codemirror_mode": {
    "name": "ipython",
    "version": 3
   },
   "file_extension": ".py",
   "mimetype": "text/x-python",
   "name": "python",
   "nbconvert_exporter": "python",
   "pygments_lexer": "ipython3",
   "version": "3.10.8"
  },
  "orig_nbformat": 4,
  "vscode": {
   "interpreter": {
    "hash": "f051514c3c3f25d6a4d371df10e2175126c3741bf115cca1aeaf8b2da7487448"
   }
  }
 },
 "nbformat": 4,
 "nbformat_minor": 2
}
