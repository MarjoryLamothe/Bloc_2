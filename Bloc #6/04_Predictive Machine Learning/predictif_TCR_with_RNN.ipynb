{
  "cells": [
    {
      "cell_type": "code",
      "execution_count": 3,
      "metadata": {
        "id": "F-xnvpnQb1eP"
      },
      "outputs": [
        {
          "name": "stderr",
          "output_type": "stream",
          "text": [
            "c:\\Users\\PC\\anaconda3\\envs\\tf\\lib\\site-packages\\tensorflow_addons\\utils\\ensure_tf_install.py:53: UserWarning: Tensorflow Addons supports using Python ops for all Tensorflow versions above or equal to 2.8.0 and strictly below 2.11.0 (nightly versions are not supported). \n",
            " The versions of TensorFlow you are currently using is 2.11.0 and is not supported. \n",
            "Some things might work, some things might not.\n",
            "If you were to encounter a bug, do not file an issue.\n",
            "If you want to make sure you're using a tested and supported configuration, either change the TensorFlow version or the TensorFlow Addons's version. \n",
            "You can find the compatibility matrix in TensorFlow Addon's readme:\n",
            "https://github.com/tensorflow/addons\n",
            "  warnings.warn(\n"
          ]
        }
      ],
      "source": [
        "import pandas as pd\n",
        "import numpy as np\n",
        "import plotly.express as px\n",
        "import copy\n",
        "\n",
        "from sklearn.preprocessing import OneHotEncoder, StandardScaler, LabelEncoder, OrdinalEncoder\n",
        "from sklearn.impute import KNNImputer, SimpleImputer\n",
        "from sklearn.pipeline import Pipeline\n",
        "from sklearn.linear_model import Ridge, RidgeClassifier\n",
        "from sklearn.model_selection import train_test_split\n",
        "from sklearn.compose import ColumnTransformer\n",
        "from sklearn.model_selection import cross_val_score, GridSearchCV\n",
        "from sklearn.metrics import r2_score, accuracy_score, f1_score\n",
        "\n",
        "import tensorflow as tf\n",
        "import tensorflow_addons as tfa"
      ]
    },
    {
      "cell_type": "code",
      "execution_count": 4,
      "metadata": {},
      "outputs": [],
      "source": [
        "TARGET = 'TAUX_COUV_RAJ'"
      ]
    },
    {
      "cell_type": "code",
      "execution_count": 5,
      "metadata": {
        "id": "9P-_u-rOcDyp"
      },
      "outputs": [],
      "source": [
        "data_base = pd.read_excel('./big_merge_V2_meteo_SAT.xlsx').drop('Unnamed: 0', axis=1)"
      ]
    },
    {
      "cell_type": "code",
      "execution_count": 6,
      "metadata": {},
      "outputs": [],
      "source": [
        "data_base['LFI'] = data_base['LFI'].map({'LFI1' : 1,\n",
        "                                               'LFI2' : 2,\n",
        "                                               'LFI3' : 3,\n",
        "                                               'LFI4' : 4 })"
      ]
    },
    {
      "cell_type": "code",
      "execution_count": 7,
      "metadata": {},
      "outputs": [],
      "source": [
        "data_base.sort_values(['PARCELLE', 'LFI'], inplace=True)"
      ]
    },
    {
      "cell_type": "code",
      "execution_count": 8,
      "metadata": {},
      "outputs": [
        {
          "data": {
            "text/html": [
              "<div>\n",
              "<style scoped>\n",
              "    .dataframe tbody tr th:only-of-type {\n",
              "        vertical-align: middle;\n",
              "    }\n",
              "\n",
              "    .dataframe tbody tr th {\n",
              "        vertical-align: top;\n",
              "    }\n",
              "\n",
              "    .dataframe thead th {\n",
              "        text-align: right;\n",
              "    }\n",
              "</style>\n",
              "<table border=\"1\" class=\"dataframe\">\n",
              "  <thead>\n",
              "    <tr style=\"text-align: right;\">\n",
              "      <th></th>\n",
              "      <th>PARCELLE</th>\n",
              "      <th>LAT</th>\n",
              "      <th>LON</th>\n",
              "      <th>ALT</th>\n",
              "      <th>PRODREG</th>\n",
              "      <th>HT_VEG</th>\n",
              "      <th>DATE</th>\n",
              "      <th>SLOPE25</th>\n",
              "      <th>ASPECT25</th>\n",
              "      <th>ORIENTATION</th>\n",
              "      <th>...</th>\n",
              "      <th>TAVE_AVG</th>\n",
              "      <th>TAVE</th>\n",
              "      <th>TAVE_GROWTH</th>\n",
              "      <th>PRCP_S_S</th>\n",
              "      <th>PRCP_G_S</th>\n",
              "      <th>NDVI</th>\n",
              "      <th>EVI</th>\n",
              "      <th>NDMI</th>\n",
              "      <th>NDWI</th>\n",
              "      <th>DSWI</th>\n",
              "    </tr>\n",
              "  </thead>\n",
              "  <tbody>\n",
              "    <tr>\n",
              "      <th>0</th>\n",
              "      <td>51</td>\n",
              "      <td>47.781623</td>\n",
              "      <td>8.612822</td>\n",
              "      <td>715.918970</td>\n",
              "      <td>1</td>\n",
              "      <td>3</td>\n",
              "      <td>1984-04-10</td>\n",
              "      <td>58.407726</td>\n",
              "      <td>67.342415</td>\n",
              "      <td>E</td>\n",
              "      <td>...</td>\n",
              "      <td>NaN</td>\n",
              "      <td>NaN</td>\n",
              "      <td>NaN</td>\n",
              "      <td>0.0</td>\n",
              "      <td>0.0</td>\n",
              "      <td>0.3779</td>\n",
              "      <td>0.0146</td>\n",
              "      <td>0.2264</td>\n",
              "      <td>-0.3325</td>\n",
              "      <td>0.4705</td>\n",
              "    </tr>\n",
              "    <tr>\n",
              "      <th>5</th>\n",
              "      <td>384</td>\n",
              "      <td>47.736528</td>\n",
              "      <td>8.625154</td>\n",
              "      <td>563.829759</td>\n",
              "      <td>1</td>\n",
              "      <td>2</td>\n",
              "      <td>1984-04-09</td>\n",
              "      <td>55.683254</td>\n",
              "      <td>253.354935</td>\n",
              "      <td>O</td>\n",
              "      <td>...</td>\n",
              "      <td>NaN</td>\n",
              "      <td>NaN</td>\n",
              "      <td>NaN</td>\n",
              "      <td>0.0</td>\n",
              "      <td>0.0</td>\n",
              "      <td>0.2861</td>\n",
              "      <td>0.0071</td>\n",
              "      <td>0.3293</td>\n",
              "      <td>-0.2327</td>\n",
              "      <td>0.3518</td>\n",
              "    </tr>\n",
              "    <tr>\n",
              "      <th>9</th>\n",
              "      <td>1239</td>\n",
              "      <td>47.668637</td>\n",
              "      <td>9.036432</td>\n",
              "      <td>564.885846</td>\n",
              "      <td>2</td>\n",
              "      <td>2</td>\n",
              "      <td>1985-04-01</td>\n",
              "      <td>43.496788</td>\n",
              "      <td>356.177185</td>\n",
              "      <td>N</td>\n",
              "      <td>...</td>\n",
              "      <td>NaN</td>\n",
              "      <td>NaN</td>\n",
              "      <td>NaN</td>\n",
              "      <td>0.0</td>\n",
              "      <td>0.0</td>\n",
              "      <td>0.6749</td>\n",
              "      <td>0.0219</td>\n",
              "      <td>0.2021</td>\n",
              "      <td>-0.5865</td>\n",
              "      <td>0.8626</td>\n",
              "    </tr>\n",
              "    <tr>\n",
              "      <th>14</th>\n",
              "      <td>1419</td>\n",
              "      <td>47.660188</td>\n",
              "      <td>8.996234</td>\n",
              "      <td>563.551602</td>\n",
              "      <td>2</td>\n",
              "      <td>2</td>\n",
              "      <td>1985-03-27</td>\n",
              "      <td>29.557123</td>\n",
              "      <td>15.000126</td>\n",
              "      <td>NE</td>\n",
              "      <td>...</td>\n",
              "      <td>NaN</td>\n",
              "      <td>NaN</td>\n",
              "      <td>NaN</td>\n",
              "      <td>0.0</td>\n",
              "      <td>0.0</td>\n",
              "      <td>0.6092</td>\n",
              "      <td>0.0201</td>\n",
              "      <td>0.1112</td>\n",
              "      <td>-0.5143</td>\n",
              "      <td>0.6521</td>\n",
              "    </tr>\n",
              "    <tr>\n",
              "      <th>19</th>\n",
              "      <td>1431</td>\n",
              "      <td>47.659089</td>\n",
              "      <td>9.076087</td>\n",
              "      <td>539.769096</td>\n",
              "      <td>2</td>\n",
              "      <td>2</td>\n",
              "      <td>1985-04-19</td>\n",
              "      <td>53.450974</td>\n",
              "      <td>57.142380</td>\n",
              "      <td>E</td>\n",
              "      <td>...</td>\n",
              "      <td>NaN</td>\n",
              "      <td>NaN</td>\n",
              "      <td>NaN</td>\n",
              "      <td>0.0</td>\n",
              "      <td>0.0</td>\n",
              "      <td>0.7039</td>\n",
              "      <td>0.0245</td>\n",
              "      <td>0.1949</td>\n",
              "      <td>-0.5983</td>\n",
              "      <td>0.8834</td>\n",
              "    </tr>\n",
              "    <tr>\n",
              "      <th>...</th>\n",
              "      <td>...</td>\n",
              "      <td>...</td>\n",
              "      <td>...</td>\n",
              "      <td>...</td>\n",
              "      <td>...</td>\n",
              "      <td>...</td>\n",
              "      <td>...</td>\n",
              "      <td>...</td>\n",
              "      <td>...</td>\n",
              "      <td>...</td>\n",
              "      <td>...</td>\n",
              "      <td>...</td>\n",
              "      <td>...</td>\n",
              "      <td>...</td>\n",
              "      <td>...</td>\n",
              "      <td>...</td>\n",
              "      <td>...</td>\n",
              "      <td>...</td>\n",
              "      <td>...</td>\n",
              "      <td>...</td>\n",
              "      <td>...</td>\n",
              "    </tr>\n",
              "    <tr>\n",
              "      <th>9595</th>\n",
              "      <td>164918</td>\n",
              "      <td>45.878794</td>\n",
              "      <td>8.997103</td>\n",
              "      <td>628.697500</td>\n",
              "      <td>5</td>\n",
              "      <td>2</td>\n",
              "      <td>1985-03-13</td>\n",
              "      <td>25.137402</td>\n",
              "      <td>288.773682</td>\n",
              "      <td>O</td>\n",
              "      <td>...</td>\n",
              "      <td>NaN</td>\n",
              "      <td>NaN</td>\n",
              "      <td>NaN</td>\n",
              "      <td>0.0</td>\n",
              "      <td>0.0</td>\n",
              "      <td>0.6280</td>\n",
              "      <td>0.0208</td>\n",
              "      <td>0.1838</td>\n",
              "      <td>-0.5329</td>\n",
              "      <td>0.7604</td>\n",
              "    </tr>\n",
              "    <tr>\n",
              "      <th>9598</th>\n",
              "      <td>164922</td>\n",
              "      <td>45.878434</td>\n",
              "      <td>9.022856</td>\n",
              "      <td>653.469928</td>\n",
              "      <td>5</td>\n",
              "      <td>2</td>\n",
              "      <td>1985-03-15</td>\n",
              "      <td>70.188095</td>\n",
              "      <td>202.628372</td>\n",
              "      <td>SO</td>\n",
              "      <td>...</td>\n",
              "      <td>NaN</td>\n",
              "      <td>NaN</td>\n",
              "      <td>NaN</td>\n",
              "      <td>0.0</td>\n",
              "      <td>0.0</td>\n",
              "      <td>0.6796</td>\n",
              "      <td>0.0253</td>\n",
              "      <td>0.2015</td>\n",
              "      <td>-0.5812</td>\n",
              "      <td>0.8639</td>\n",
              "    </tr>\n",
              "    <tr>\n",
              "      <th>9602</th>\n",
              "      <td>164999</td>\n",
              "      <td>45.869621</td>\n",
              "      <td>9.009721</td>\n",
              "      <td>685.404591</td>\n",
              "      <td>5</td>\n",
              "      <td>2</td>\n",
              "      <td>1985-03-11</td>\n",
              "      <td>60.882717</td>\n",
              "      <td>192.627838</td>\n",
              "      <td>S</td>\n",
              "      <td>...</td>\n",
              "      <td>NaN</td>\n",
              "      <td>NaN</td>\n",
              "      <td>NaN</td>\n",
              "      <td>0.0</td>\n",
              "      <td>0.0</td>\n",
              "      <td>0.6270</td>\n",
              "      <td>0.0211</td>\n",
              "      <td>0.1165</td>\n",
              "      <td>-0.5465</td>\n",
              "      <td>0.6925</td>\n",
              "    </tr>\n",
              "    <tr>\n",
              "      <th>9607</th>\n",
              "      <td>165003</td>\n",
              "      <td>45.869258</td>\n",
              "      <td>9.035470</td>\n",
              "      <td>668.776978</td>\n",
              "      <td>5</td>\n",
              "      <td>2</td>\n",
              "      <td>1985-03-18</td>\n",
              "      <td>57.909958</td>\n",
              "      <td>319.882141</td>\n",
              "      <td>NO</td>\n",
              "      <td>...</td>\n",
              "      <td>NaN</td>\n",
              "      <td>NaN</td>\n",
              "      <td>NaN</td>\n",
              "      <td>0.0</td>\n",
              "      <td>0.0</td>\n",
              "      <td>0.6385</td>\n",
              "      <td>0.0184</td>\n",
              "      <td>0.2485</td>\n",
              "      <td>-0.5291</td>\n",
              "      <td>0.8416</td>\n",
              "    </tr>\n",
              "    <tr>\n",
              "      <th>9609</th>\n",
              "      <td>165065</td>\n",
              "      <td>45.860080</td>\n",
              "      <td>9.048080</td>\n",
              "      <td>996.563990</td>\n",
              "      <td>5</td>\n",
              "      <td>3</td>\n",
              "      <td>1985-03-14</td>\n",
              "      <td>46.400490</td>\n",
              "      <td>228.468475</td>\n",
              "      <td>SO</td>\n",
              "      <td>...</td>\n",
              "      <td>NaN</td>\n",
              "      <td>NaN</td>\n",
              "      <td>NaN</td>\n",
              "      <td>0.0</td>\n",
              "      <td>0.0</td>\n",
              "      <td>0.6815</td>\n",
              "      <td>0.0224</td>\n",
              "      <td>0.2499</td>\n",
              "      <td>-0.5828</td>\n",
              "      <td>0.9330</td>\n",
              "    </tr>\n",
              "  </tbody>\n",
              "</table>\n",
              "<p>2403 rows × 117 columns</p>\n",
              "</div>"
            ],
            "text/plain": [
              "      PARCELLE        LAT       LON         ALT  PRODREG  HT_VEG       DATE  \\\n",
              "0           51  47.781623  8.612822  715.918970        1       3 1984-04-10   \n",
              "5          384  47.736528  8.625154  563.829759        1       2 1984-04-09   \n",
              "9         1239  47.668637  9.036432  564.885846        2       2 1985-04-01   \n",
              "14        1419  47.660188  8.996234  563.551602        2       2 1985-03-27   \n",
              "19        1431  47.659089  9.076087  539.769096        2       2 1985-04-19   \n",
              "...        ...        ...       ...         ...      ...     ...        ...   \n",
              "9595    164918  45.878794  8.997103  628.697500        5       2 1985-03-13   \n",
              "9598    164922  45.878434  9.022856  653.469928        5       2 1985-03-15   \n",
              "9602    164999  45.869621  9.009721  685.404591        5       2 1985-03-11   \n",
              "9607    165003  45.869258  9.035470  668.776978        5       2 1985-03-18   \n",
              "9609    165065  45.860080  9.048080  996.563990        5       3 1985-03-14   \n",
              "\n",
              "        SLOPE25    ASPECT25 ORIENTATION  ...  TAVE_AVG  TAVE  TAVE_GROWTH  \\\n",
              "0     58.407726   67.342415           E  ...       NaN   NaN          NaN   \n",
              "5     55.683254  253.354935           O  ...       NaN   NaN          NaN   \n",
              "9     43.496788  356.177185           N  ...       NaN   NaN          NaN   \n",
              "14    29.557123   15.000126          NE  ...       NaN   NaN          NaN   \n",
              "19    53.450974   57.142380           E  ...       NaN   NaN          NaN   \n",
              "...         ...         ...         ...  ...       ...   ...          ...   \n",
              "9595  25.137402  288.773682           O  ...       NaN   NaN          NaN   \n",
              "9598  70.188095  202.628372          SO  ...       NaN   NaN          NaN   \n",
              "9602  60.882717  192.627838           S  ...       NaN   NaN          NaN   \n",
              "9607  57.909958  319.882141          NO  ...       NaN   NaN          NaN   \n",
              "9609  46.400490  228.468475          SO  ...       NaN   NaN          NaN   \n",
              "\n",
              "      PRCP_S_S  PRCP_G_S    NDVI     EVI    NDMI    NDWI    DSWI  \n",
              "0          0.0       0.0  0.3779  0.0146  0.2264 -0.3325  0.4705  \n",
              "5          0.0       0.0  0.2861  0.0071  0.3293 -0.2327  0.3518  \n",
              "9          0.0       0.0  0.6749  0.0219  0.2021 -0.5865  0.8626  \n",
              "14         0.0       0.0  0.6092  0.0201  0.1112 -0.5143  0.6521  \n",
              "19         0.0       0.0  0.7039  0.0245  0.1949 -0.5983  0.8834  \n",
              "...        ...       ...     ...     ...     ...     ...     ...  \n",
              "9595       0.0       0.0  0.6280  0.0208  0.1838 -0.5329  0.7604  \n",
              "9598       0.0       0.0  0.6796  0.0253  0.2015 -0.5812  0.8639  \n",
              "9602       0.0       0.0  0.6270  0.0211  0.1165 -0.5465  0.6925  \n",
              "9607       0.0       0.0  0.6385  0.0184  0.2485 -0.5291  0.8416  \n",
              "9609       0.0       0.0  0.6815  0.0224  0.2499 -0.5828  0.9330  \n",
              "\n",
              "[2403 rows x 117 columns]"
            ]
          },
          "execution_count": 8,
          "metadata": {},
          "output_type": "execute_result"
        }
      ],
      "source": [
        "data_base.loc[(data_base[TARGET]==-1) & (data_base['LFI']==1),:]"
      ]
    },
    {
      "cell_type": "markdown",
      "metadata": {
        "id": "D9f0gOtzfjKT"
      },
      "source": [
        "PREPROCESSING _ Code base for models temporal predictions"
      ]
    },
    {
      "cell_type": "markdown",
      "metadata": {},
      "source": [
        "Ici, features engineering (création de nouvelles features à partir de la liste connues):"
      ]
    },
    {
      "cell_type": "code",
      "execution_count": 9,
      "metadata": {},
      "outputs": [],
      "source": [
        "# adding aridity index\n",
        "data_base[\"AI\"] = data_base['PRCP_GROWTH'] / data_base['TAVE_GROWTH']\n",
        "# adding H/D index\n",
        "data_base[\"H_D\"] = data_base['HAUTEUR_ARBRE'] / data_base['DBH']\n"
      ]
    },
    {
      "cell_type": "code",
      "execution_count": 10,
      "metadata": {},
      "outputs": [],
      "source": [
        "cat_strict = ['PRODREG', 'ESPECE_DOM', 'TYP_RAJ_PPL', 'DEG_FERMETURE', 'STR_PPL', 'RELIEF'] #exemple 'PRODREG', 'ESPECE_DOM', 'TYP_RAJ_PPL', 'DEG_FERMETURE', 'STR_PPL', 'RELIEF'\n",
        "cat_ord_miss = ['TAUX_COUV_RAJ', 'HT_VEG', 'DEGRAD_PPL'] #exemple 'TAILLE_PPL', 'MELANGE', 'QUAL_STATION', 'TAUX_COUV_RAJ', 'SURF_TROU_AER', 'HT_VEG'\n",
        "numerics = ['PARCELLE', 'LFI', 'UNIT_ACCR','H_D','AI','SDI', 'AGE_PPL','ALT', 'TIGES_VIV_H', 'SURF_TER_HA', 'FEUILL_PER', 'CONIF_PER','PERF_CROI'] #exemple\n",
        "\n",
        "add_meteo_known = ['PRCP', 'TAVE_AVG',\t'TAVE', 'TAVE_GROWTH', 'PRCP_S_S',\t'PRCP_G_S']\n",
        "\n",
        "add_SAT_known = ['NDVI', 'EVI', 'NDMI', 'NDWI', 'DSWI']"
      ]
    },
    {
      "cell_type": "code",
      "execution_count": 11,
      "metadata": {},
      "outputs": [],
      "source": [
        "data_red = data_base[numerics + add_meteo_known + add_SAT_known + cat_ord_miss + cat_strict]"
      ]
    },
    {
      "cell_type": "markdown",
      "metadata": {},
      "source": [
        "Traitement des données catégorielles ordonnées en numériques (gestion des \"-1\" éventuels) :"
      ]
    },
    {
      "cell_type": "code",
      "execution_count": 12,
      "metadata": {},
      "outputs": [
        {
          "name": "stderr",
          "output_type": "stream",
          "text": [
            "C:\\Users\\PC\\AppData\\Local\\Temp\\ipykernel_1536\\3536129329.py:2: SettingWithCopyWarning: \n",
            "A value is trying to be set on a copy of a slice from a DataFrame.\n",
            "Try using .loc[row_indexer,col_indexer] = value instead\n",
            "\n",
            "See the caveats in the documentation: https://pandas.pydata.org/pandas-docs/stable/user_guide/indexing.html#returning-a-view-versus-a-copy\n",
            "  data_red[cat] = data_red[cat].apply(lambda v : int(v) if v!=-1 else np.nan)\n"
          ]
        }
      ],
      "source": [
        "for cat in cat_ord_miss:\n",
        "  data_red[cat] = data_red[cat].apply(lambda v : int(v) if v!=-1 else np.nan)"
      ]
    },
    {
      "cell_type": "code",
      "execution_count": 13,
      "metadata": {},
      "outputs": [],
      "source": [
        "for i in range(len(data_red)):\n",
        "    for j in range(len(data_red.columns)):\n",
        "        if np.isnan(data_red.iloc[i,j]) or data_red.iloc[i,j]==np.nan:\n",
        "            next_value = copy.copy(data_red.iloc[i+1,j])\n",
        "            data_red.iloc[i,j] = next_value"
      ]
    },
    {
      "cell_type": "code",
      "execution_count": 14,
      "metadata": {},
      "outputs": [],
      "source": [
        "numerics_features = numerics + add_meteo_known + add_SAT_known"
      ]
    },
    {
      "cell_type": "code",
      "execution_count": 15,
      "metadata": {},
      "outputs": [],
      "source": [
        "preprocessor_past = ColumnTransformer(\n",
        "    [(\"num\", KNNImputer(), numerics_features),\n",
        "    ('ord_cat', SimpleImputer(strategy='most_frequent'), cat_ord_miss),\n",
        "     (\"cat_strict\", SimpleImputer(strategy='most_frequent'), cat_strict)])"
      ]
    },
    {
      "cell_type": "code",
      "execution_count": 16,
      "metadata": {},
      "outputs": [],
      "source": [
        "data_red_past = data_red.loc[data_red['LFI']!=4,:]\n",
        "data_red_future = data_red.loc[data_red['LFI']==4,:]"
      ]
    },
    {
      "cell_type": "code",
      "execution_count": 17,
      "metadata": {},
      "outputs": [],
      "source": [
        "data_part_past = pd.DataFrame(preprocessor_past.fit_transform(data_red_past), columns=data_red.columns)"
      ]
    },
    {
      "cell_type": "code",
      "execution_count": 18,
      "metadata": {},
      "outputs": [],
      "source": [
        "data_red_clean = pd.concat([data_part_past, data_red_future], axis=0)"
      ]
    },
    {
      "cell_type": "code",
      "execution_count": 19,
      "metadata": {},
      "outputs": [],
      "source": [
        "data_red_clean.sort_values(['PARCELLE','LFI'], inplace=True)"
      ]
    },
    {
      "cell_type": "code",
      "execution_count": 20,
      "metadata": {},
      "outputs": [],
      "source": [
        "data_red_clean.drop('PARCELLE', axis=1, inplace=True)"
      ]
    },
    {
      "cell_type": "code",
      "execution_count": 21,
      "metadata": {},
      "outputs": [
        {
          "data": {
            "text/plain": [
              "'PARCELLE'"
            ]
          },
          "execution_count": 21,
          "metadata": {},
          "output_type": "execute_result"
        }
      ],
      "source": [
        "numerics_features.pop(0)"
      ]
    },
    {
      "cell_type": "code",
      "execution_count": 22,
      "metadata": {},
      "outputs": [],
      "source": [
        "numerics_transforms_tot = Pipeline(\n",
        "    [(\"imputer\", SimpleImputer()),\n",
        "    ('encoder',StandardScaler())\n",
        "])\n",
        "categorials_transforms_tot = Pipeline([\n",
        "    (\"imputer\", SimpleImputer(strategy='most_frequent')),\n",
        "    ('encoder',OneHotEncoder(drop=\"first\"))\n",
        "])\n",
        "\n",
        "ordinal_cat_transforms_tot = Pipeline([\n",
        "    (\"imputer\", SimpleImputer(strategy='most_frequent')),\n",
        "    ('encoder',OrdinalEncoder())\n",
        "])\n",
        "\n",
        "preprocessor_tot = ColumnTransformer(\n",
        "    [(\"num\", numerics_transforms_tot, numerics_features),\n",
        "    (\"ord_cat\", ordinal_cat_transforms_tot, cat_ord_miss),\n",
        "     (\"cat_strict\", categorials_transforms_tot, cat_strict)])"
      ]
    },
    {
      "cell_type": "code",
      "execution_count": 19,
      "metadata": {},
      "outputs": [],
      "source": [
        "#data_red['ORIENTATION'] = data_red['ORIENTATION'].map({'N':0,'NE':1,'E':2,'SE':3,'S':4,'SO':5,'O':6,'NO':7})\n",
        "#data_red['ORIENTATION_f'] = data_red['ORIENTATION_f'].map({'N':0,'NE':1,'E':2,'SE':3,'S':4,'SO':5,'O':6,'NO':7})\n"
      ]
    },
    {
      "cell_type": "code",
      "execution_count": 23,
      "metadata": {},
      "outputs": [],
      "source": [
        "X_train, X_test = train_test_split(data_red_clean, test_size=2000, shuffle=False, random_state=2)"
      ]
    },
    {
      "cell_type": "code",
      "execution_count": 24,
      "metadata": {},
      "outputs": [],
      "source": [
        "X_train = preprocessor_tot.fit_transform(X_train)\n",
        "X_test = preprocessor_tot.transform(X_test)"
      ]
    },
    {
      "cell_type": "code",
      "execution_count": 25,
      "metadata": {},
      "outputs": [],
      "source": [
        "list_features_in = []\n",
        "for feat in (numerics_features + cat_ord_miss):\n",
        "  list_features_in.append(feat)\n",
        "for cat in cat_strict:\n",
        "  nb_lab = len(data_red[cat].unique())-1\n",
        "  for i in range(nb_lab):\n",
        "    list_features_in.append(f'{cat}_{i}')"
      ]
    },
    {
      "cell_type": "code",
      "execution_count": 26,
      "metadata": {},
      "outputs": [],
      "source": [
        "df_train = pd.DataFrame(X_train, columns=list_features_in)\n",
        "df_test = pd.DataFrame(X_test, columns=list_features_in)"
      ]
    },
    {
      "cell_type": "code",
      "execution_count": 27,
      "metadata": {},
      "outputs": [
        {
          "data": {
            "text/html": [
              "<div>\n",
              "<style scoped>\n",
              "    .dataframe tbody tr th:only-of-type {\n",
              "        vertical-align: middle;\n",
              "    }\n",
              "\n",
              "    .dataframe tbody tr th {\n",
              "        vertical-align: top;\n",
              "    }\n",
              "\n",
              "    .dataframe thead th {\n",
              "        text-align: right;\n",
              "    }\n",
              "</style>\n",
              "<table border=\"1\" class=\"dataframe\">\n",
              "  <thead>\n",
              "    <tr style=\"text-align: right;\">\n",
              "      <th></th>\n",
              "      <th>LFI</th>\n",
              "      <th>UNIT_ACCR</th>\n",
              "      <th>H_D</th>\n",
              "      <th>AI</th>\n",
              "      <th>SDI</th>\n",
              "      <th>AGE_PPL</th>\n",
              "      <th>ALT</th>\n",
              "      <th>TIGES_VIV_H</th>\n",
              "      <th>SURF_TER_HA</th>\n",
              "      <th>FEUILL_PER</th>\n",
              "      <th>...</th>\n",
              "      <th>DEG_FERMETURE_10</th>\n",
              "      <th>STR_PPL_0</th>\n",
              "      <th>STR_PPL_1</th>\n",
              "      <th>STR_PPL_2</th>\n",
              "      <th>STR_PPL_3</th>\n",
              "      <th>RELIEF_0</th>\n",
              "      <th>RELIEF_1</th>\n",
              "      <th>RELIEF_2</th>\n",
              "      <th>RELIEF_3</th>\n",
              "      <th>RELIEF_4</th>\n",
              "    </tr>\n",
              "  </thead>\n",
              "  <tbody>\n",
              "    <tr>\n",
              "      <th>0</th>\n",
              "      <td>-1.341641</td>\n",
              "      <td>0.389518</td>\n",
              "      <td>-2.357521e-01</td>\n",
              "      <td>0.595565</td>\n",
              "      <td>-0.109457</td>\n",
              "      <td>-0.399088</td>\n",
              "      <td>-1.315250</td>\n",
              "      <td>0.450609</td>\n",
              "      <td>-0.284712</td>\n",
              "      <td>0.846990</td>\n",
              "      <td>...</td>\n",
              "      <td>0.0</td>\n",
              "      <td>0.0</td>\n",
              "      <td>1.0</td>\n",
              "      <td>0.0</td>\n",
              "      <td>0.0</td>\n",
              "      <td>0.0</td>\n",
              "      <td>0.0</td>\n",
              "      <td>1.0</td>\n",
              "      <td>0.0</td>\n",
              "      <td>0.0</td>\n",
              "    </tr>\n",
              "    <tr>\n",
              "      <th>1</th>\n",
              "      <td>-0.447214</td>\n",
              "      <td>0.389518</td>\n",
              "      <td>7.387722e-01</td>\n",
              "      <td>0.595565</td>\n",
              "      <td>0.278931</td>\n",
              "      <td>-0.312550</td>\n",
              "      <td>-1.315250</td>\n",
              "      <td>0.643619</td>\n",
              "      <td>0.095678</td>\n",
              "      <td>0.763643</td>\n",
              "      <td>...</td>\n",
              "      <td>0.0</td>\n",
              "      <td>0.0</td>\n",
              "      <td>1.0</td>\n",
              "      <td>0.0</td>\n",
              "      <td>0.0</td>\n",
              "      <td>0.0</td>\n",
              "      <td>0.0</td>\n",
              "      <td>1.0</td>\n",
              "      <td>0.0</td>\n",
              "      <td>0.0</td>\n",
              "    </tr>\n",
              "    <tr>\n",
              "      <th>2</th>\n",
              "      <td>0.447214</td>\n",
              "      <td>0.182919</td>\n",
              "      <td>8.797411e-01</td>\n",
              "      <td>0.749904</td>\n",
              "      <td>0.741438</td>\n",
              "      <td>-0.572165</td>\n",
              "      <td>-1.315250</td>\n",
              "      <td>0.868796</td>\n",
              "      <td>0.557136</td>\n",
              "      <td>0.763643</td>\n",
              "      <td>...</td>\n",
              "      <td>0.0</td>\n",
              "      <td>1.0</td>\n",
              "      <td>0.0</td>\n",
              "      <td>0.0</td>\n",
              "      <td>0.0</td>\n",
              "      <td>0.0</td>\n",
              "      <td>0.0</td>\n",
              "      <td>1.0</td>\n",
              "      <td>0.0</td>\n",
              "      <td>0.0</td>\n",
              "    </tr>\n",
              "    <tr>\n",
              "      <th>3</th>\n",
              "      <td>1.341641</td>\n",
              "      <td>0.630551</td>\n",
              "      <td>8.857496e-01</td>\n",
              "      <td>-1.357143</td>\n",
              "      <td>0.782945</td>\n",
              "      <td>-0.485626</td>\n",
              "      <td>-1.315250</td>\n",
              "      <td>0.707955</td>\n",
              "      <td>0.646517</td>\n",
              "      <td>1.180378</td>\n",
              "      <td>...</td>\n",
              "      <td>0.0</td>\n",
              "      <td>1.0</td>\n",
              "      <td>0.0</td>\n",
              "      <td>0.0</td>\n",
              "      <td>0.0</td>\n",
              "      <td>0.0</td>\n",
              "      <td>0.0</td>\n",
              "      <td>1.0</td>\n",
              "      <td>0.0</td>\n",
              "      <td>0.0</td>\n",
              "    </tr>\n",
              "    <tr>\n",
              "      <th>4</th>\n",
              "      <td>-1.341641</td>\n",
              "      <td>0.263263</td>\n",
              "      <td>-4.114060e-01</td>\n",
              "      <td>1.183067</td>\n",
              "      <td>0.836311</td>\n",
              "      <td>0.552834</td>\n",
              "      <td>-1.699120</td>\n",
              "      <td>-0.160587</td>\n",
              "      <td>1.045096</td>\n",
              "      <td>0.819208</td>\n",
              "      <td>...</td>\n",
              "      <td>0.0</td>\n",
              "      <td>0.0</td>\n",
              "      <td>1.0</td>\n",
              "      <td>0.0</td>\n",
              "      <td>0.0</td>\n",
              "      <td>0.0</td>\n",
              "      <td>0.0</td>\n",
              "      <td>1.0</td>\n",
              "      <td>0.0</td>\n",
              "      <td>0.0</td>\n",
              "    </tr>\n",
              "    <tr>\n",
              "      <th>...</th>\n",
              "      <td>...</td>\n",
              "      <td>...</td>\n",
              "      <td>...</td>\n",
              "      <td>...</td>\n",
              "      <td>...</td>\n",
              "      <td>...</td>\n",
              "      <td>...</td>\n",
              "      <td>...</td>\n",
              "      <td>...</td>\n",
              "      <td>...</td>\n",
              "      <td>...</td>\n",
              "      <td>...</td>\n",
              "      <td>...</td>\n",
              "      <td>...</td>\n",
              "      <td>...</td>\n",
              "      <td>...</td>\n",
              "      <td>...</td>\n",
              "      <td>...</td>\n",
              "      <td>...</td>\n",
              "      <td>...</td>\n",
              "      <td>...</td>\n",
              "    </tr>\n",
              "    <tr>\n",
              "      <th>7607</th>\n",
              "      <td>1.341641</td>\n",
              "      <td>-0.310624</td>\n",
              "      <td>1.429520e+00</td>\n",
              "      <td>-0.453480</td>\n",
              "      <td>-0.269555</td>\n",
              "      <td>0.000000</td>\n",
              "      <td>1.300293</td>\n",
              "      <td>0.675787</td>\n",
              "      <td>-0.487380</td>\n",
              "      <td>-0.903298</td>\n",
              "      <td>...</td>\n",
              "      <td>0.0</td>\n",
              "      <td>0.0</td>\n",
              "      <td>0.0</td>\n",
              "      <td>1.0</td>\n",
              "      <td>0.0</td>\n",
              "      <td>0.0</td>\n",
              "      <td>0.0</td>\n",
              "      <td>1.0</td>\n",
              "      <td>0.0</td>\n",
              "      <td>0.0</td>\n",
              "    </tr>\n",
              "    <tr>\n",
              "      <th>7608</th>\n",
              "      <td>-1.341641</td>\n",
              "      <td>-0.253236</td>\n",
              "      <td>-1.957827e+00</td>\n",
              "      <td>0.226291</td>\n",
              "      <td>0.320438</td>\n",
              "      <td>0.795141</td>\n",
              "      <td>1.296270</td>\n",
              "      <td>0.442341</td>\n",
              "      <td>0.191296</td>\n",
              "      <td>-0.819951</td>\n",
              "      <td>...</td>\n",
              "      <td>0.0</td>\n",
              "      <td>0.0</td>\n",
              "      <td>0.0</td>\n",
              "      <td>1.0</td>\n",
              "      <td>0.0</td>\n",
              "      <td>0.0</td>\n",
              "      <td>0.0</td>\n",
              "      <td>1.0</td>\n",
              "      <td>0.0</td>\n",
              "      <td>0.0</td>\n",
              "    </tr>\n",
              "    <tr>\n",
              "      <th>7609</th>\n",
              "      <td>-0.447214</td>\n",
              "      <td>-0.253236</td>\n",
              "      <td>-1.444781e+00</td>\n",
              "      <td>0.226291</td>\n",
              "      <td>0.044713</td>\n",
              "      <td>2.456678</td>\n",
              "      <td>1.296270</td>\n",
              "      <td>-0.192610</td>\n",
              "      <td>0.059302</td>\n",
              "      <td>-0.903298</td>\n",
              "      <td>...</td>\n",
              "      <td>0.0</td>\n",
              "      <td>0.0</td>\n",
              "      <td>0.0</td>\n",
              "      <td>1.0</td>\n",
              "      <td>0.0</td>\n",
              "      <td>0.0</td>\n",
              "      <td>0.0</td>\n",
              "      <td>1.0</td>\n",
              "      <td>0.0</td>\n",
              "      <td>0.0</td>\n",
              "    </tr>\n",
              "    <tr>\n",
              "      <th>7610</th>\n",
              "      <td>0.447214</td>\n",
              "      <td>-0.069592</td>\n",
              "      <td>-1.143951e+00</td>\n",
              "      <td>0.474640</td>\n",
              "      <td>1.088318</td>\n",
              "      <td>2.456678</td>\n",
              "      <td>1.296270</td>\n",
              "      <td>0.289287</td>\n",
              "      <td>1.155784</td>\n",
              "      <td>-0.903298</td>\n",
              "      <td>...</td>\n",
              "      <td>0.0</td>\n",
              "      <td>1.0</td>\n",
              "      <td>0.0</td>\n",
              "      <td>0.0</td>\n",
              "      <td>0.0</td>\n",
              "      <td>0.0</td>\n",
              "      <td>0.0</td>\n",
              "      <td>1.0</td>\n",
              "      <td>0.0</td>\n",
              "      <td>0.0</td>\n",
              "    </tr>\n",
              "    <tr>\n",
              "      <th>7611</th>\n",
              "      <td>1.341641</td>\n",
              "      <td>-0.390969</td>\n",
              "      <td>4.069180e-16</td>\n",
              "      <td>-0.777328</td>\n",
              "      <td>0.880783</td>\n",
              "      <td>-1.558702</td>\n",
              "      <td>1.296270</td>\n",
              "      <td>0.050650</td>\n",
              "      <td>0.995729</td>\n",
              "      <td>-0.903298</td>\n",
              "      <td>...</td>\n",
              "      <td>0.0</td>\n",
              "      <td>0.0</td>\n",
              "      <td>1.0</td>\n",
              "      <td>0.0</td>\n",
              "      <td>0.0</td>\n",
              "      <td>0.0</td>\n",
              "      <td>0.0</td>\n",
              "      <td>1.0</td>\n",
              "      <td>0.0</td>\n",
              "      <td>0.0</td>\n",
              "    </tr>\n",
              "  </tbody>\n",
              "</table>\n",
              "<p>7612 rows × 65 columns</p>\n",
              "</div>"
            ],
            "text/plain": [
              "           LFI  UNIT_ACCR           H_D        AI       SDI   AGE_PPL  \\\n",
              "0    -1.341641   0.389518 -2.357521e-01  0.595565 -0.109457 -0.399088   \n",
              "1    -0.447214   0.389518  7.387722e-01  0.595565  0.278931 -0.312550   \n",
              "2     0.447214   0.182919  8.797411e-01  0.749904  0.741438 -0.572165   \n",
              "3     1.341641   0.630551  8.857496e-01 -1.357143  0.782945 -0.485626   \n",
              "4    -1.341641   0.263263 -4.114060e-01  1.183067  0.836311  0.552834   \n",
              "...        ...        ...           ...       ...       ...       ...   \n",
              "7607  1.341641  -0.310624  1.429520e+00 -0.453480 -0.269555  0.000000   \n",
              "7608 -1.341641  -0.253236 -1.957827e+00  0.226291  0.320438  0.795141   \n",
              "7609 -0.447214  -0.253236 -1.444781e+00  0.226291  0.044713  2.456678   \n",
              "7610  0.447214  -0.069592 -1.143951e+00  0.474640  1.088318  2.456678   \n",
              "7611  1.341641  -0.390969  4.069180e-16 -0.777328  0.880783 -1.558702   \n",
              "\n",
              "           ALT  TIGES_VIV_H  SURF_TER_HA  FEUILL_PER  ...  DEG_FERMETURE_10  \\\n",
              "0    -1.315250     0.450609    -0.284712    0.846990  ...               0.0   \n",
              "1    -1.315250     0.643619     0.095678    0.763643  ...               0.0   \n",
              "2    -1.315250     0.868796     0.557136    0.763643  ...               0.0   \n",
              "3    -1.315250     0.707955     0.646517    1.180378  ...               0.0   \n",
              "4    -1.699120    -0.160587     1.045096    0.819208  ...               0.0   \n",
              "...        ...          ...          ...         ...  ...               ...   \n",
              "7607  1.300293     0.675787    -0.487380   -0.903298  ...               0.0   \n",
              "7608  1.296270     0.442341     0.191296   -0.819951  ...               0.0   \n",
              "7609  1.296270    -0.192610     0.059302   -0.903298  ...               0.0   \n",
              "7610  1.296270     0.289287     1.155784   -0.903298  ...               0.0   \n",
              "7611  1.296270     0.050650     0.995729   -0.903298  ...               0.0   \n",
              "\n",
              "      STR_PPL_0  STR_PPL_1  STR_PPL_2  STR_PPL_3  RELIEF_0  RELIEF_1  \\\n",
              "0           0.0        1.0        0.0        0.0       0.0       0.0   \n",
              "1           0.0        1.0        0.0        0.0       0.0       0.0   \n",
              "2           1.0        0.0        0.0        0.0       0.0       0.0   \n",
              "3           1.0        0.0        0.0        0.0       0.0       0.0   \n",
              "4           0.0        1.0        0.0        0.0       0.0       0.0   \n",
              "...         ...        ...        ...        ...       ...       ...   \n",
              "7607        0.0        0.0        1.0        0.0       0.0       0.0   \n",
              "7608        0.0        0.0        1.0        0.0       0.0       0.0   \n",
              "7609        0.0        0.0        1.0        0.0       0.0       0.0   \n",
              "7610        1.0        0.0        0.0        0.0       0.0       0.0   \n",
              "7611        0.0        1.0        0.0        0.0       0.0       0.0   \n",
              "\n",
              "      RELIEF_2  RELIEF_3  RELIEF_4  \n",
              "0          1.0       0.0       0.0  \n",
              "1          1.0       0.0       0.0  \n",
              "2          1.0       0.0       0.0  \n",
              "3          1.0       0.0       0.0  \n",
              "4          1.0       0.0       0.0  \n",
              "...        ...       ...       ...  \n",
              "7607       1.0       0.0       0.0  \n",
              "7608       1.0       0.0       0.0  \n",
              "7609       1.0       0.0       0.0  \n",
              "7610       1.0       0.0       0.0  \n",
              "7611       1.0       0.0       0.0  \n",
              "\n",
              "[7612 rows x 65 columns]"
            ]
          },
          "execution_count": 27,
          "metadata": {},
          "output_type": "execute_result"
        }
      ],
      "source": [
        "df_train"
      ]
    },
    {
      "cell_type": "code",
      "execution_count": 28,
      "metadata": {},
      "outputs": [
        {
          "name": "stderr",
          "output_type": "stream",
          "text": [
            "c:\\Users\\PC\\anaconda3\\envs\\tf\\lib\\site-packages\\keras\\utils\\timeseries_dataset.py:270: FutureWarning: The behavior of `series[i:j]` with an integer-dtype index is deprecated. In a future version, this will be treated as *label-based* indexing, consistent with e.g. `series[i]` lookups. To retain the old behavior, use `series.iloc[i:j]`. To get the future behavior, use `series.loc[i:j]`.\n",
            "  dataset = tf.data.Dataset.from_tensors(array[start_index:end_index])\n"
          ]
        }
      ],
      "source": [
        "ds_train = tf.keras.utils.timeseries_dataset_from_array(\n",
        "    data=X_train,\n",
        "    targets=df_train[TARGET][3:],\n",
        "    sequence_length=3,\n",
        "    sequence_stride=4,\n",
        "    shuffle=False,\n",
        "    batch_size=32)"
      ]
    },
    {
      "cell_type": "code",
      "execution_count": 29,
      "metadata": {},
      "outputs": [],
      "source": [
        "for batch in ds_train.take(1):\n",
        "  inputs, targets = batch"
      ]
    },
    {
      "cell_type": "code",
      "execution_count": 30,
      "metadata": {},
      "outputs": [
        {
          "data": {
            "text/plain": [
              "<tf.Tensor: shape=(3, 65), dtype=float64, numpy=\n",
              "array([[-1.34164079,  0.38951802, -0.23575207,  0.595565  , -0.10945651,\n",
              "        -0.39908786, -1.3152496 ,  0.4506092 , -0.28471247,  0.84699012,\n",
              "        -0.76347084,  1.48765271, -0.48237455,  0.64459185, -1.30976505,\n",
              "        -0.75013904, -1.70349493, -1.65952795,  0.40569241,  0.86018684,\n",
              "         0.79631398, -0.41554427,  0.4174749 ,  1.        ,  1.        ,\n",
              "         0.        ,  0.        ,  0.        ,  0.        ,  0.        ,\n",
              "         0.        ,  0.        ,  0.        ,  0.        ,  0.        ,\n",
              "         0.        ,  1.        ,  0.        ,  0.        ,  0.        ,\n",
              "         0.        ,  0.        ,  0.        ,  0.        ,  0.        ,\n",
              "         1.        ,  0.        ,  0.        ,  0.        ,  0.        ,\n",
              "         0.        ,  0.        ,  0.        ,  0.        ,  0.        ,\n",
              "         0.        ,  0.        ,  1.        ,  0.        ,  0.        ,\n",
              "         0.        ,  0.        ,  1.        ,  0.        ,  0.        ],\n",
              "       [-0.4472136 ,  0.38951802,  0.7387722 ,  0.595565  ,  0.27893092,\n",
              "        -0.31254952, -1.3152496 ,  0.64361851,  0.09567832,  0.76364306,\n",
              "        -0.65550859,  1.48765271, -0.48237455,  0.64459185, -1.30976505,\n",
              "        -0.75013904,  0.59367837,  0.51094124,  0.96720833,  1.03163763,\n",
              "         1.18783387, -1.12451796,  1.20479608,  1.        ,  1.        ,\n",
              "         0.        ,  0.        ,  0.        ,  0.        ,  0.        ,\n",
              "         0.        ,  0.        ,  0.        ,  0.        ,  0.        ,\n",
              "         0.        ,  1.        ,  0.        ,  0.        ,  0.        ,\n",
              "         0.        ,  0.        ,  1.        ,  0.        ,  0.        ,\n",
              "         0.        ,  1.        ,  0.        ,  0.        ,  0.        ,\n",
              "         0.        ,  0.        ,  0.        ,  0.        ,  0.        ,\n",
              "         0.        ,  0.        ,  1.        ,  0.        ,  0.        ,\n",
              "         0.        ,  0.        ,  1.        ,  0.        ,  0.        ],\n",
              "       [ 0.4472136 ,  0.18291863,  0.87974112,  0.74990436,  0.74143809,\n",
              "        -0.57216456, -1.3152496 ,  0.86879603,  0.557136  ,  0.76364306,\n",
              "        -0.65550859,  1.48765271, -1.74034622,  0.86697291, -2.80005908,\n",
              "        -0.08636798,  0.70573066,  0.66635372,  1.86109723,  2.40324391,\n",
              "         0.82294798, -2.00646415,  2.19405056,  1.        ,  1.        ,\n",
              "         0.        ,  0.        ,  0.        ,  0.        ,  0.        ,\n",
              "         0.        ,  0.        ,  0.        ,  0.        ,  0.        ,\n",
              "         0.        ,  1.        ,  0.        ,  0.        ,  0.        ,\n",
              "         0.        ,  0.        ,  1.        ,  0.        ,  0.        ,\n",
              "         1.        ,  0.        ,  0.        ,  0.        ,  0.        ,\n",
              "         0.        ,  0.        ,  0.        ,  0.        ,  0.        ,\n",
              "         0.        ,  1.        ,  0.        ,  0.        ,  0.        ,\n",
              "         0.        ,  0.        ,  1.        ,  0.        ,  0.        ]])>"
            ]
          },
          "execution_count": 30,
          "metadata": {},
          "output_type": "execute_result"
        }
      ],
      "source": [
        "inputs[0]"
      ]
    },
    {
      "cell_type": "code",
      "execution_count": 31,
      "metadata": {},
      "outputs": [
        {
          "data": {
            "text/plain": [
              "<tf.Tensor: shape=(32,), dtype=float64, numpy=\n",
              "array([1., 5., 4., 4., 3., 4., 2., 3., 4., 2., 5., 1., 4., 2., 4., 2., 2.,\n",
              "       3., 2., 1., 3., 3., 5., 5., 1., 5., 3., 3., 4., 3., 2., 4.])>"
            ]
          },
          "execution_count": 31,
          "metadata": {},
          "output_type": "execute_result"
        }
      ],
      "source": [
        "targets"
      ]
    },
    {
      "cell_type": "code",
      "execution_count": 32,
      "metadata": {},
      "outputs": [
        {
          "data": {
            "text/plain": [
              "[1.0, 5.0, 4.0, 4.0, 3.0, 4.0, 2.0, 3.0, 4.0, 2.0]"
            ]
          },
          "execution_count": 32,
          "metadata": {},
          "output_type": "execute_result"
        }
      ],
      "source": [
        "true_values = []\n",
        "for i in range(len(X_train)//4):\n",
        "    true_values.append(df_train.iloc[i*4+3,:][TARGET])\n",
        "true_values[0:10]"
      ]
    },
    {
      "cell_type": "code",
      "execution_count": 33,
      "metadata": {},
      "outputs": [],
      "source": [
        "ds_test = tf.keras.utils.timeseries_dataset_from_array(\n",
        "    data=X_test,\n",
        "    targets=df_test[TARGET][3:],\n",
        "    sequence_length=3,\n",
        "    sequence_stride=4,\n",
        "    shuffle=False,\n",
        "    batch_size=32)"
      ]
    },
    {
      "cell_type": "code",
      "execution_count": 34,
      "metadata": {},
      "outputs": [],
      "source": [
        "model = tf.keras.models.Sequential([\n",
        "        tf.keras.layers.GRU(64, input_shape=(3,65,), return_sequences=True),\n",
        "        tf.keras.layers.GRU(32, return_sequences=True),\n",
        "        tf.keras.layers.GRU(16, return_sequences=False),\n",
        "        tf.keras.layers.Dense(6, \"softmax\")\n",
        "    ])"
      ]
    },
    {
      "cell_type": "code",
      "execution_count": 35,
      "metadata": {},
      "outputs": [
        {
          "name": "stdout",
          "output_type": "stream",
          "text": [
            "Model: \"sequential\"\n",
            "_________________________________________________________________\n",
            " Layer (type)                Output Shape              Param #   \n",
            "=================================================================\n",
            " gru (GRU)                   (None, 3, 64)             25152     \n",
            "                                                                 \n",
            " gru_1 (GRU)                 (None, 3, 32)             9408      \n",
            "                                                                 \n",
            " gru_2 (GRU)                 (None, 16)                2400      \n",
            "                                                                 \n",
            " dense (Dense)               (None, 6)                 102       \n",
            "                                                                 \n",
            "=================================================================\n",
            "Total params: 37,062\n",
            "Trainable params: 37,062\n",
            "Non-trainable params: 0\n",
            "_________________________________________________________________\n"
          ]
        }
      ],
      "source": [
        "model.summary()"
      ]
    },
    {
      "cell_type": "code",
      "execution_count": 36,
      "metadata": {},
      "outputs": [],
      "source": [
        "model.compile(\n",
        "    loss=tf.keras.losses.SparseCategoricalCrossentropy(),\n",
        "    optimizer=tf.keras.optimizers.Adam(),\n",
        "    metrics=tf.keras.metrics.SparseCategoricalAccuracy())"
      ]
    },
    {
      "cell_type": "code",
      "execution_count": 37,
      "metadata": {},
      "outputs": [
        {
          "name": "stdout",
          "output_type": "stream",
          "text": [
            "Epoch 1/5\n",
            "60/60 [==============================] - 8s 30ms/step - loss: 1.5241 - sparse_categorical_accuracy: 0.3710 - val_loss: 1.2749 - val_sparse_categorical_accuracy: 0.4820\n",
            "Epoch 2/5\n",
            "60/60 [==============================] - 1s 9ms/step - loss: 1.3559 - sparse_categorical_accuracy: 0.4430 - val_loss: 1.1212 - val_sparse_categorical_accuracy: 0.5360\n",
            "Epoch 3/5\n",
            "60/60 [==============================] - 1s 9ms/step - loss: 1.2646 - sparse_categorical_accuracy: 0.4724 - val_loss: 1.0664 - val_sparse_categorical_accuracy: 0.5660\n",
            "Epoch 4/5\n",
            "60/60 [==============================] - 1s 9ms/step - loss: 1.2041 - sparse_categorical_accuracy: 0.4913 - val_loss: 1.0410 - val_sparse_categorical_accuracy: 0.5700\n",
            "Epoch 5/5\n",
            "60/60 [==============================] - 1s 9ms/step - loss: 1.1652 - sparse_categorical_accuracy: 0.5097 - val_loss: 1.0290 - val_sparse_categorical_accuracy: 0.5840\n"
          ]
        },
        {
          "data": {
            "text/plain": [
              "<keras.callbacks.History at 0x20b84339a00>"
            ]
          },
          "execution_count": 37,
          "metadata": {},
          "output_type": "execute_result"
        }
      ],
      "source": [
        "model.fit(ds_train, epochs=5, validation_data=ds_test)"
      ]
    },
    {
      "cell_type": "code",
      "execution_count": 38,
      "metadata": {},
      "outputs": [],
      "source": [
        "true_values = []\n",
        "predictions = []\n",
        "for i in range(int(len(X_test)/4)):\n",
        "    true_values.append(df_test.iloc[i*4+3,:][TARGET])\n",
        "    predictions.append(np.argmax(np.array(model(tf.expand_dims(X_test[i*4:i*4+3], axis=0)))))\n"
      ]
    },
    {
      "cell_type": "code",
      "execution_count": 39,
      "metadata": {},
      "outputs": [
        {
          "data": {
            "text/plain": [
              "0.584"
            ]
          },
          "execution_count": 39,
          "metadata": {},
          "output_type": "execute_result"
        }
      ],
      "source": [
        "accuracy_score(true_values, predictions)"
      ]
    },
    {
      "cell_type": "code",
      "execution_count": 40,
      "metadata": {},
      "outputs": [
        {
          "data": {
            "text/plain": [
              "0.584"
            ]
          },
          "execution_count": 40,
          "metadata": {},
          "output_type": "execute_result"
        }
      ],
      "source": [
        "f1_score(true_values, predictions, average='micro')"
      ]
    },
    {
      "cell_type": "code",
      "execution_count": 41,
      "metadata": {},
      "outputs": [
        {
          "data": {
            "text/plain": [
              "<tf.Variable 'gru/gru_cell/kernel:0' shape=(65, 192) dtype=float32, numpy=\n",
              "array([[ 0.01048008, -0.04823827,  0.01822506, ..., -0.10715173,\n",
              "        -0.07404789, -0.02912361],\n",
              "       [-0.07027055,  0.1111234 ,  0.18567605, ...,  0.0129995 ,\n",
              "        -0.04067235,  0.07406255],\n",
              "       [ 0.03629403,  0.02296891,  0.00043701, ..., -0.05024128,\n",
              "         0.11198583,  0.11958723],\n",
              "       ...,\n",
              "       [ 0.0945673 ,  0.04020444, -0.20314421, ..., -0.08203019,\n",
              "        -0.03287517, -0.02107593],\n",
              "       [ 0.04529237,  0.1396778 ,  0.0677603 , ...,  0.00675721,\n",
              "        -0.01603221, -0.04973365],\n",
              "       [-0.06834095,  0.04153753,  0.19447212, ..., -0.0162204 ,\n",
              "         0.06791436,  0.02335494]], dtype=float32)>"
            ]
          },
          "execution_count": 41,
          "metadata": {},
          "output_type": "execute_result"
        }
      ],
      "source": [
        "model.layers[0].trainable_variables[0]"
      ]
    },
    {
      "cell_type": "code",
      "execution_count": 42,
      "metadata": {},
      "outputs": [],
      "source": [
        "coeff_mean = []\n",
        "for i in range(65):\n",
        "    coeff_mean.append(np.mean(model.layers[0].trainable_variables[0][i]))"
      ]
    },
    {
      "cell_type": "code",
      "execution_count": 43,
      "metadata": {},
      "outputs": [],
      "source": [
        "df_coef = pd.DataFrame(coeff_mean, columns=['Coeff'], index= list_features_in)"
      ]
    },
    {
      "cell_type": "code",
      "execution_count": 44,
      "metadata": {},
      "outputs": [
        {
          "data": {
            "application/vnd.plotly.v1+json": {
              "config": {
                "plotlyServerURL": "https://plot.ly"
              },
              "data": [
                {
                  "alignmentgroup": "True",
                  "hovertemplate": "variable=Coeff<br>index=%{x}<br>value=%{y}<extra></extra>",
                  "legendgroup": "Coeff",
                  "marker": {
                    "color": "#636efa",
                    "pattern": {
                      "shape": ""
                    }
                  },
                  "name": "Coeff",
                  "offsetgroup": "Coeff",
                  "orientation": "v",
                  "showlegend": true,
                  "textposition": "auto",
                  "type": "bar",
                  "x": [
                    "LFI",
                    "UNIT_ACCR",
                    "H_D",
                    "AI",
                    "SDI",
                    "AGE_PPL",
                    "ALT",
                    "TIGES_VIV_H",
                    "SURF_TER_HA",
                    "FEUILL_PER",
                    "CONIF_PER",
                    "PERF_CROI",
                    "PRCP",
                    "TAVE_AVG",
                    "TAVE",
                    "TAVE_GROWTH",
                    "PRCP_S_S",
                    "PRCP_G_S",
                    "NDVI",
                    "EVI",
                    "NDMI",
                    "NDWI",
                    "DSWI",
                    "TAUX_COUV_RAJ",
                    "HT_VEG",
                    "DEGRAD_PPL",
                    "PRODREG_0",
                    "PRODREG_1",
                    "PRODREG_2",
                    "PRODREG_3",
                    "ESPECE_DOM_0",
                    "ESPECE_DOM_1",
                    "ESPECE_DOM_2",
                    "ESPECE_DOM_3",
                    "ESPECE_DOM_4",
                    "ESPECE_DOM_5",
                    "ESPECE_DOM_6",
                    "ESPECE_DOM_7",
                    "ESPECE_DOM_8",
                    "ESPECE_DOM_9",
                    "ESPECE_DOM_10",
                    "ESPECE_DOM_11",
                    "TYP_RAJ_PPL_0",
                    "TYP_RAJ_PPL_1",
                    "TYP_RAJ_PPL_2",
                    "DEG_FERMETURE_0",
                    "DEG_FERMETURE_1",
                    "DEG_FERMETURE_2",
                    "DEG_FERMETURE_3",
                    "DEG_FERMETURE_4",
                    "DEG_FERMETURE_5",
                    "DEG_FERMETURE_6",
                    "DEG_FERMETURE_7",
                    "DEG_FERMETURE_8",
                    "DEG_FERMETURE_9",
                    "DEG_FERMETURE_10",
                    "STR_PPL_0",
                    "STR_PPL_1",
                    "STR_PPL_2",
                    "STR_PPL_3",
                    "RELIEF_0",
                    "RELIEF_1",
                    "RELIEF_2",
                    "RELIEF_3",
                    "RELIEF_4"
                  ],
                  "xaxis": "x",
                  "y": [
                    -0.006560232490301132,
                    -0.0030630503315478563,
                    0.0013589285081252456,
                    -0.002601659158244729,
                    0.003986842930316925,
                    0.006147686392068863,
                    -0.0007943944074213505,
                    -0.0066896420903503895,
                    0.013194136321544647,
                    0.006967624649405479,
                    -0.004366617184132338,
                    0.009881936945021152,
                    0.0068906270898878574,
                    0.006267895456403494,
                    -0.009229819290339947,
                    0.00859557930380106,
                    0.007325226906687021,
                    -0.00256243534386158,
                    0.003930989652872086,
                    -0.005687702912837267,
                    0.003161327913403511,
                    0.010449412278831005,
                    0.005093101412057877,
                    -0.020196491852402687,
                    -0.01583067886531353,
                    -0.009327179752290249,
                    -0.01326738577336073,
                    0.011289789341390133,
                    -0.014534041285514832,
                    0.0007218134705908597,
                    -0.002494448097422719,
                    -0.019514447078108788,
                    -0.011374722234904766,
                    0.0019629045855253935,
                    -0.00866356585174799,
                    -0.01017326395958662,
                    -0.010418176651000977,
                    -0.00824031326919794,
                    0.01050005853176117,
                    -0.006993982475250959,
                    -0.005608429666608572,
                    -0.005172304343432188,
                    -0.02866513468325138,
                    0.00350737851113081,
                    -0.010793142020702362,
                    -0.007264634128659964,
                    -0.00874052383005619,
                    0.000030086996048339643,
                    0.006604224443435669,
                    -0.015773769468069077,
                    0.0009452725644223392,
                    -0.0011946404119953513,
                    -0.012475188821554184,
                    -0.01928163506090641,
                    0.01036017294973135,
                    0.01255027111619711,
                    0.00026251529925502837,
                    -0.018111659213900566,
                    -0.007289553061127663,
                    0.011193337850272655,
                    -0.0034523860085755587,
                    -0.0035743683110922575,
                    -0.008283204399049282,
                    -0.001271059620194137,
                    -0.0030547594651579857
                  ],
                  "yaxis": "y"
                }
              ],
              "layout": {
                "barmode": "relative",
                "legend": {
                  "title": {
                    "text": "variable"
                  },
                  "tracegroupgap": 0
                },
                "template": {
                  "data": {
                    "bar": [
                      {
                        "error_x": {
                          "color": "#2a3f5f"
                        },
                        "error_y": {
                          "color": "#2a3f5f"
                        },
                        "marker": {
                          "line": {
                            "color": "#E5ECF6",
                            "width": 0.5
                          },
                          "pattern": {
                            "fillmode": "overlay",
                            "size": 10,
                            "solidity": 0.2
                          }
                        },
                        "type": "bar"
                      }
                    ],
                    "barpolar": [
                      {
                        "marker": {
                          "line": {
                            "color": "#E5ECF6",
                            "width": 0.5
                          },
                          "pattern": {
                            "fillmode": "overlay",
                            "size": 10,
                            "solidity": 0.2
                          }
                        },
                        "type": "barpolar"
                      }
                    ],
                    "carpet": [
                      {
                        "aaxis": {
                          "endlinecolor": "#2a3f5f",
                          "gridcolor": "white",
                          "linecolor": "white",
                          "minorgridcolor": "white",
                          "startlinecolor": "#2a3f5f"
                        },
                        "baxis": {
                          "endlinecolor": "#2a3f5f",
                          "gridcolor": "white",
                          "linecolor": "white",
                          "minorgridcolor": "white",
                          "startlinecolor": "#2a3f5f"
                        },
                        "type": "carpet"
                      }
                    ],
                    "choropleth": [
                      {
                        "colorbar": {
                          "outlinewidth": 0,
                          "ticks": ""
                        },
                        "type": "choropleth"
                      }
                    ],
                    "contour": [
                      {
                        "colorbar": {
                          "outlinewidth": 0,
                          "ticks": ""
                        },
                        "colorscale": [
                          [
                            0,
                            "#0d0887"
                          ],
                          [
                            0.1111111111111111,
                            "#46039f"
                          ],
                          [
                            0.2222222222222222,
                            "#7201a8"
                          ],
                          [
                            0.3333333333333333,
                            "#9c179e"
                          ],
                          [
                            0.4444444444444444,
                            "#bd3786"
                          ],
                          [
                            0.5555555555555556,
                            "#d8576b"
                          ],
                          [
                            0.6666666666666666,
                            "#ed7953"
                          ],
                          [
                            0.7777777777777778,
                            "#fb9f3a"
                          ],
                          [
                            0.8888888888888888,
                            "#fdca26"
                          ],
                          [
                            1,
                            "#f0f921"
                          ]
                        ],
                        "type": "contour"
                      }
                    ],
                    "contourcarpet": [
                      {
                        "colorbar": {
                          "outlinewidth": 0,
                          "ticks": ""
                        },
                        "type": "contourcarpet"
                      }
                    ],
                    "heatmap": [
                      {
                        "colorbar": {
                          "outlinewidth": 0,
                          "ticks": ""
                        },
                        "colorscale": [
                          [
                            0,
                            "#0d0887"
                          ],
                          [
                            0.1111111111111111,
                            "#46039f"
                          ],
                          [
                            0.2222222222222222,
                            "#7201a8"
                          ],
                          [
                            0.3333333333333333,
                            "#9c179e"
                          ],
                          [
                            0.4444444444444444,
                            "#bd3786"
                          ],
                          [
                            0.5555555555555556,
                            "#d8576b"
                          ],
                          [
                            0.6666666666666666,
                            "#ed7953"
                          ],
                          [
                            0.7777777777777778,
                            "#fb9f3a"
                          ],
                          [
                            0.8888888888888888,
                            "#fdca26"
                          ],
                          [
                            1,
                            "#f0f921"
                          ]
                        ],
                        "type": "heatmap"
                      }
                    ],
                    "heatmapgl": [
                      {
                        "colorbar": {
                          "outlinewidth": 0,
                          "ticks": ""
                        },
                        "colorscale": [
                          [
                            0,
                            "#0d0887"
                          ],
                          [
                            0.1111111111111111,
                            "#46039f"
                          ],
                          [
                            0.2222222222222222,
                            "#7201a8"
                          ],
                          [
                            0.3333333333333333,
                            "#9c179e"
                          ],
                          [
                            0.4444444444444444,
                            "#bd3786"
                          ],
                          [
                            0.5555555555555556,
                            "#d8576b"
                          ],
                          [
                            0.6666666666666666,
                            "#ed7953"
                          ],
                          [
                            0.7777777777777778,
                            "#fb9f3a"
                          ],
                          [
                            0.8888888888888888,
                            "#fdca26"
                          ],
                          [
                            1,
                            "#f0f921"
                          ]
                        ],
                        "type": "heatmapgl"
                      }
                    ],
                    "histogram": [
                      {
                        "marker": {
                          "pattern": {
                            "fillmode": "overlay",
                            "size": 10,
                            "solidity": 0.2
                          }
                        },
                        "type": "histogram"
                      }
                    ],
                    "histogram2d": [
                      {
                        "colorbar": {
                          "outlinewidth": 0,
                          "ticks": ""
                        },
                        "colorscale": [
                          [
                            0,
                            "#0d0887"
                          ],
                          [
                            0.1111111111111111,
                            "#46039f"
                          ],
                          [
                            0.2222222222222222,
                            "#7201a8"
                          ],
                          [
                            0.3333333333333333,
                            "#9c179e"
                          ],
                          [
                            0.4444444444444444,
                            "#bd3786"
                          ],
                          [
                            0.5555555555555556,
                            "#d8576b"
                          ],
                          [
                            0.6666666666666666,
                            "#ed7953"
                          ],
                          [
                            0.7777777777777778,
                            "#fb9f3a"
                          ],
                          [
                            0.8888888888888888,
                            "#fdca26"
                          ],
                          [
                            1,
                            "#f0f921"
                          ]
                        ],
                        "type": "histogram2d"
                      }
                    ],
                    "histogram2dcontour": [
                      {
                        "colorbar": {
                          "outlinewidth": 0,
                          "ticks": ""
                        },
                        "colorscale": [
                          [
                            0,
                            "#0d0887"
                          ],
                          [
                            0.1111111111111111,
                            "#46039f"
                          ],
                          [
                            0.2222222222222222,
                            "#7201a8"
                          ],
                          [
                            0.3333333333333333,
                            "#9c179e"
                          ],
                          [
                            0.4444444444444444,
                            "#bd3786"
                          ],
                          [
                            0.5555555555555556,
                            "#d8576b"
                          ],
                          [
                            0.6666666666666666,
                            "#ed7953"
                          ],
                          [
                            0.7777777777777778,
                            "#fb9f3a"
                          ],
                          [
                            0.8888888888888888,
                            "#fdca26"
                          ],
                          [
                            1,
                            "#f0f921"
                          ]
                        ],
                        "type": "histogram2dcontour"
                      }
                    ],
                    "mesh3d": [
                      {
                        "colorbar": {
                          "outlinewidth": 0,
                          "ticks": ""
                        },
                        "type": "mesh3d"
                      }
                    ],
                    "parcoords": [
                      {
                        "line": {
                          "colorbar": {
                            "outlinewidth": 0,
                            "ticks": ""
                          }
                        },
                        "type": "parcoords"
                      }
                    ],
                    "pie": [
                      {
                        "automargin": true,
                        "type": "pie"
                      }
                    ],
                    "scatter": [
                      {
                        "fillpattern": {
                          "fillmode": "overlay",
                          "size": 10,
                          "solidity": 0.2
                        },
                        "type": "scatter"
                      }
                    ],
                    "scatter3d": [
                      {
                        "line": {
                          "colorbar": {
                            "outlinewidth": 0,
                            "ticks": ""
                          }
                        },
                        "marker": {
                          "colorbar": {
                            "outlinewidth": 0,
                            "ticks": ""
                          }
                        },
                        "type": "scatter3d"
                      }
                    ],
                    "scattercarpet": [
                      {
                        "marker": {
                          "colorbar": {
                            "outlinewidth": 0,
                            "ticks": ""
                          }
                        },
                        "type": "scattercarpet"
                      }
                    ],
                    "scattergeo": [
                      {
                        "marker": {
                          "colorbar": {
                            "outlinewidth": 0,
                            "ticks": ""
                          }
                        },
                        "type": "scattergeo"
                      }
                    ],
                    "scattergl": [
                      {
                        "marker": {
                          "colorbar": {
                            "outlinewidth": 0,
                            "ticks": ""
                          }
                        },
                        "type": "scattergl"
                      }
                    ],
                    "scattermapbox": [
                      {
                        "marker": {
                          "colorbar": {
                            "outlinewidth": 0,
                            "ticks": ""
                          }
                        },
                        "type": "scattermapbox"
                      }
                    ],
                    "scatterpolar": [
                      {
                        "marker": {
                          "colorbar": {
                            "outlinewidth": 0,
                            "ticks": ""
                          }
                        },
                        "type": "scatterpolar"
                      }
                    ],
                    "scatterpolargl": [
                      {
                        "marker": {
                          "colorbar": {
                            "outlinewidth": 0,
                            "ticks": ""
                          }
                        },
                        "type": "scatterpolargl"
                      }
                    ],
                    "scatterternary": [
                      {
                        "marker": {
                          "colorbar": {
                            "outlinewidth": 0,
                            "ticks": ""
                          }
                        },
                        "type": "scatterternary"
                      }
                    ],
                    "surface": [
                      {
                        "colorbar": {
                          "outlinewidth": 0,
                          "ticks": ""
                        },
                        "colorscale": [
                          [
                            0,
                            "#0d0887"
                          ],
                          [
                            0.1111111111111111,
                            "#46039f"
                          ],
                          [
                            0.2222222222222222,
                            "#7201a8"
                          ],
                          [
                            0.3333333333333333,
                            "#9c179e"
                          ],
                          [
                            0.4444444444444444,
                            "#bd3786"
                          ],
                          [
                            0.5555555555555556,
                            "#d8576b"
                          ],
                          [
                            0.6666666666666666,
                            "#ed7953"
                          ],
                          [
                            0.7777777777777778,
                            "#fb9f3a"
                          ],
                          [
                            0.8888888888888888,
                            "#fdca26"
                          ],
                          [
                            1,
                            "#f0f921"
                          ]
                        ],
                        "type": "surface"
                      }
                    ],
                    "table": [
                      {
                        "cells": {
                          "fill": {
                            "color": "#EBF0F8"
                          },
                          "line": {
                            "color": "white"
                          }
                        },
                        "header": {
                          "fill": {
                            "color": "#C8D4E3"
                          },
                          "line": {
                            "color": "white"
                          }
                        },
                        "type": "table"
                      }
                    ]
                  },
                  "layout": {
                    "annotationdefaults": {
                      "arrowcolor": "#2a3f5f",
                      "arrowhead": 0,
                      "arrowwidth": 1
                    },
                    "autotypenumbers": "strict",
                    "coloraxis": {
                      "colorbar": {
                        "outlinewidth": 0,
                        "ticks": ""
                      }
                    },
                    "colorscale": {
                      "diverging": [
                        [
                          0,
                          "#8e0152"
                        ],
                        [
                          0.1,
                          "#c51b7d"
                        ],
                        [
                          0.2,
                          "#de77ae"
                        ],
                        [
                          0.3,
                          "#f1b6da"
                        ],
                        [
                          0.4,
                          "#fde0ef"
                        ],
                        [
                          0.5,
                          "#f7f7f7"
                        ],
                        [
                          0.6,
                          "#e6f5d0"
                        ],
                        [
                          0.7,
                          "#b8e186"
                        ],
                        [
                          0.8,
                          "#7fbc41"
                        ],
                        [
                          0.9,
                          "#4d9221"
                        ],
                        [
                          1,
                          "#276419"
                        ]
                      ],
                      "sequential": [
                        [
                          0,
                          "#0d0887"
                        ],
                        [
                          0.1111111111111111,
                          "#46039f"
                        ],
                        [
                          0.2222222222222222,
                          "#7201a8"
                        ],
                        [
                          0.3333333333333333,
                          "#9c179e"
                        ],
                        [
                          0.4444444444444444,
                          "#bd3786"
                        ],
                        [
                          0.5555555555555556,
                          "#d8576b"
                        ],
                        [
                          0.6666666666666666,
                          "#ed7953"
                        ],
                        [
                          0.7777777777777778,
                          "#fb9f3a"
                        ],
                        [
                          0.8888888888888888,
                          "#fdca26"
                        ],
                        [
                          1,
                          "#f0f921"
                        ]
                      ],
                      "sequentialminus": [
                        [
                          0,
                          "#0d0887"
                        ],
                        [
                          0.1111111111111111,
                          "#46039f"
                        ],
                        [
                          0.2222222222222222,
                          "#7201a8"
                        ],
                        [
                          0.3333333333333333,
                          "#9c179e"
                        ],
                        [
                          0.4444444444444444,
                          "#bd3786"
                        ],
                        [
                          0.5555555555555556,
                          "#d8576b"
                        ],
                        [
                          0.6666666666666666,
                          "#ed7953"
                        ],
                        [
                          0.7777777777777778,
                          "#fb9f3a"
                        ],
                        [
                          0.8888888888888888,
                          "#fdca26"
                        ],
                        [
                          1,
                          "#f0f921"
                        ]
                      ]
                    },
                    "colorway": [
                      "#636efa",
                      "#EF553B",
                      "#00cc96",
                      "#ab63fa",
                      "#FFA15A",
                      "#19d3f3",
                      "#FF6692",
                      "#B6E880",
                      "#FF97FF",
                      "#FECB52"
                    ],
                    "font": {
                      "color": "#2a3f5f"
                    },
                    "geo": {
                      "bgcolor": "white",
                      "lakecolor": "white",
                      "landcolor": "#E5ECF6",
                      "showlakes": true,
                      "showland": true,
                      "subunitcolor": "white"
                    },
                    "hoverlabel": {
                      "align": "left"
                    },
                    "hovermode": "closest",
                    "mapbox": {
                      "style": "light"
                    },
                    "paper_bgcolor": "white",
                    "plot_bgcolor": "#E5ECF6",
                    "polar": {
                      "angularaxis": {
                        "gridcolor": "white",
                        "linecolor": "white",
                        "ticks": ""
                      },
                      "bgcolor": "#E5ECF6",
                      "radialaxis": {
                        "gridcolor": "white",
                        "linecolor": "white",
                        "ticks": ""
                      }
                    },
                    "scene": {
                      "xaxis": {
                        "backgroundcolor": "#E5ECF6",
                        "gridcolor": "white",
                        "gridwidth": 2,
                        "linecolor": "white",
                        "showbackground": true,
                        "ticks": "",
                        "zerolinecolor": "white"
                      },
                      "yaxis": {
                        "backgroundcolor": "#E5ECF6",
                        "gridcolor": "white",
                        "gridwidth": 2,
                        "linecolor": "white",
                        "showbackground": true,
                        "ticks": "",
                        "zerolinecolor": "white"
                      },
                      "zaxis": {
                        "backgroundcolor": "#E5ECF6",
                        "gridcolor": "white",
                        "gridwidth": 2,
                        "linecolor": "white",
                        "showbackground": true,
                        "ticks": "",
                        "zerolinecolor": "white"
                      }
                    },
                    "shapedefaults": {
                      "line": {
                        "color": "#2a3f5f"
                      }
                    },
                    "ternary": {
                      "aaxis": {
                        "gridcolor": "white",
                        "linecolor": "white",
                        "ticks": ""
                      },
                      "baxis": {
                        "gridcolor": "white",
                        "linecolor": "white",
                        "ticks": ""
                      },
                      "bgcolor": "#E5ECF6",
                      "caxis": {
                        "gridcolor": "white",
                        "linecolor": "white",
                        "ticks": ""
                      }
                    },
                    "title": {
                      "x": 0.05
                    },
                    "xaxis": {
                      "automargin": true,
                      "gridcolor": "white",
                      "linecolor": "white",
                      "ticks": "",
                      "title": {
                        "standoff": 15
                      },
                      "zerolinecolor": "white",
                      "zerolinewidth": 2
                    },
                    "yaxis": {
                      "automargin": true,
                      "gridcolor": "white",
                      "linecolor": "white",
                      "ticks": "",
                      "title": {
                        "standoff": 15
                      },
                      "zerolinecolor": "white",
                      "zerolinewidth": 2
                    }
                  }
                },
                "title": {
                  "text": "Features importance for target : TAUX_COUV_RAJ with Lasso Linear Regression"
                },
                "xaxis": {
                  "anchor": "y",
                  "domain": [
                    0,
                    1
                  ],
                  "title": {
                    "text": "index"
                  }
                },
                "yaxis": {
                  "anchor": "x",
                  "domain": [
                    0,
                    1
                  ],
                  "title": {
                    "text": "value"
                  }
                }
              }
            }
          },
          "metadata": {},
          "output_type": "display_data"
        }
      ],
      "source": [
        "fig = px.bar(df_coef['Coeff'], title=f\"Features importance for target : {TARGET} with Lasso Linear Regression\")\n",
        "fig.show()"
      ]
    },
    {
      "cell_type": "code",
      "execution_count": null,
      "metadata": {},
      "outputs": [],
      "source": []
    }
  ],
  "metadata": {
    "colab": {
      "provenance": []
    },
    "kernelspec": {
      "display_name": "Python 3.9.15 ('tf')",
      "language": "python",
      "name": "python3"
    },
    "language_info": {
      "codemirror_mode": {
        "name": "ipython",
        "version": 3
      },
      "file_extension": ".py",
      "mimetype": "text/x-python",
      "name": "python",
      "nbconvert_exporter": "python",
      "pygments_lexer": "ipython3",
      "version": "3.9.15"
    },
    "vscode": {
      "interpreter": {
        "hash": "5189243fad43be7f8e8d3cb4543ab2ad97db75cb5cafeb529b891f799005b4bf"
      }
    }
  },
  "nbformat": 4,
  "nbformat_minor": 0
}
