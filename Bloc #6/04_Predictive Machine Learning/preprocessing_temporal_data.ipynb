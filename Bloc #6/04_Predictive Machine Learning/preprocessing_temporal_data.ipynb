{
  "cells": [
    {
      "cell_type": "code",
      "execution_count": 156,
      "metadata": {
        "id": "F-xnvpnQb1eP"
      },
      "outputs": [],
      "source": [
        "import pandas as pd\n",
        "import numpy as np"
      ]
    },
    {
      "cell_type": "code",
      "execution_count": 157,
      "metadata": {
        "id": "9P-_u-rOcDyp"
      },
      "outputs": [],
      "source": [
        "data_base = pd.read_excel('./DATA_preprocess_EDA_base/big_merge_V2_meteo_SAT.xlsx').drop('Unnamed: 0', axis=1)"
      ]
    },
    {
      "cell_type": "code",
      "execution_count": 158,
      "metadata": {
        "colab": {
          "base_uri": "https://localhost:8080/",
          "height": 386
        },
        "id": "ioh5f_DKcihR",
        "outputId": "89424d11-ef30-4364-d279-87bc382be05f"
      },
      "outputs": [
        {
          "data": {
            "text/html": [
              "<div>\n",
              "<style scoped>\n",
              "    .dataframe tbody tr th:only-of-type {\n",
              "        vertical-align: middle;\n",
              "    }\n",
              "\n",
              "    .dataframe tbody tr th {\n",
              "        vertical-align: top;\n",
              "    }\n",
              "\n",
              "    .dataframe thead th {\n",
              "        text-align: right;\n",
              "    }\n",
              "</style>\n",
              "<table border=\"1\" class=\"dataframe\">\n",
              "  <thead>\n",
              "    <tr style=\"text-align: right;\">\n",
              "      <th></th>\n",
              "      <th>PARCELLE</th>\n",
              "      <th>LAT</th>\n",
              "      <th>LON</th>\n",
              "      <th>ALT</th>\n",
              "      <th>PRODREG</th>\n",
              "      <th>HT_VEG</th>\n",
              "      <th>DATE</th>\n",
              "      <th>SLOPE25</th>\n",
              "      <th>ASPECT25</th>\n",
              "      <th>ORIENTATION</th>\n",
              "      <th>...</th>\n",
              "      <th>TAVE_AVG</th>\n",
              "      <th>TAVE</th>\n",
              "      <th>TAVE_GROWTH</th>\n",
              "      <th>PRCP_S_S</th>\n",
              "      <th>PRCP_G_S</th>\n",
              "      <th>NDVI</th>\n",
              "      <th>EVI</th>\n",
              "      <th>NDMI</th>\n",
              "      <th>NDWI</th>\n",
              "      <th>DSWI</th>\n",
              "    </tr>\n",
              "  </thead>\n",
              "  <tbody>\n",
              "    <tr>\n",
              "      <th>0</th>\n",
              "      <td>51</td>\n",
              "      <td>47.781623</td>\n",
              "      <td>8.612822</td>\n",
              "      <td>715.918970</td>\n",
              "      <td>1</td>\n",
              "      <td>3</td>\n",
              "      <td>1984-04-10</td>\n",
              "      <td>58.407726</td>\n",
              "      <td>67.342415</td>\n",
              "      <td>E</td>\n",
              "      <td>...</td>\n",
              "      <td>NaN</td>\n",
              "      <td>NaN</td>\n",
              "      <td>NaN</td>\n",
              "      <td>0.000000</td>\n",
              "      <td>0.000000</td>\n",
              "      <td>0.3779</td>\n",
              "      <td>0.0146</td>\n",
              "      <td>0.2264</td>\n",
              "      <td>-0.3325</td>\n",
              "      <td>0.4705</td>\n",
              "    </tr>\n",
              "    <tr>\n",
              "      <th>1</th>\n",
              "      <td>51</td>\n",
              "      <td>47.781623</td>\n",
              "      <td>8.612822</td>\n",
              "      <td>715.918970</td>\n",
              "      <td>1</td>\n",
              "      <td>3</td>\n",
              "      <td>1994-10-19</td>\n",
              "      <td>58.407726</td>\n",
              "      <td>67.342415</td>\n",
              "      <td>E</td>\n",
              "      <td>...</td>\n",
              "      <td>8.6567</td>\n",
              "      <td>9.017907</td>\n",
              "      <td>13.881706</td>\n",
              "      <td>115.666797</td>\n",
              "      <td>50.258061</td>\n",
              "      <td>0.4992</td>\n",
              "      <td>0.0160</td>\n",
              "      <td>0.2705</td>\n",
              "      <td>-0.4653</td>\n",
              "      <td>0.6865</td>\n",
              "    </tr>\n",
              "    <tr>\n",
              "      <th>2</th>\n",
              "      <td>51</td>\n",
              "      <td>47.781623</td>\n",
              "      <td>8.612822</td>\n",
              "      <td>715.918970</td>\n",
              "      <td>1</td>\n",
              "      <td>3</td>\n",
              "      <td>2011-11-09</td>\n",
              "      <td>58.407726</td>\n",
              "      <td>67.342415</td>\n",
              "      <td>E</td>\n",
              "      <td>...</td>\n",
              "      <td>8.8129</td>\n",
              "      <td>4.521227</td>\n",
              "      <td>14.696609</td>\n",
              "      <td>118.682917</td>\n",
              "      <td>55.673864</td>\n",
              "      <td>-0.1255</td>\n",
              "      <td>-0.0138</td>\n",
              "      <td>0.0107</td>\n",
              "      <td>0.1121</td>\n",
              "      <td>-0.0810</td>\n",
              "    </tr>\n",
              "    <tr>\n",
              "      <th>3</th>\n",
              "      <td>51</td>\n",
              "      <td>47.781623</td>\n",
              "      <td>8.612822</td>\n",
              "      <td>715.918970</td>\n",
              "      <td>1</td>\n",
              "      <td>3</td>\n",
              "      <td>2005-11-01</td>\n",
              "      <td>58.407726</td>\n",
              "      <td>67.342415</td>\n",
              "      <td>E</td>\n",
              "      <td>...</td>\n",
              "      <td>8.7947</td>\n",
              "      <td>3.070213</td>\n",
              "      <td>14.416862</td>\n",
              "      <td>122.371409</td>\n",
              "      <td>54.540621</td>\n",
              "      <td>0.6923</td>\n",
              "      <td>0.0272</td>\n",
              "      <td>0.2294</td>\n",
              "      <td>-0.6305</td>\n",
              "      <td>0.9579</td>\n",
              "    </tr>\n",
              "    <tr>\n",
              "      <th>4</th>\n",
              "      <td>384</td>\n",
              "      <td>47.736528</td>\n",
              "      <td>8.625154</td>\n",
              "      <td>563.829759</td>\n",
              "      <td>1</td>\n",
              "      <td>2</td>\n",
              "      <td>1995-07-10</td>\n",
              "      <td>55.683254</td>\n",
              "      <td>253.354935</td>\n",
              "      <td>O</td>\n",
              "      <td>...</td>\n",
              "      <td>8.3280</td>\n",
              "      <td>19.689020</td>\n",
              "      <td>13.741095</td>\n",
              "      <td>123.236130</td>\n",
              "      <td>55.141756</td>\n",
              "      <td>0.5552</td>\n",
              "      <td>0.0149</td>\n",
              "      <td>0.2017</td>\n",
              "      <td>-0.4864</td>\n",
              "      <td>0.6996</td>\n",
              "    </tr>\n",
              "  </tbody>\n",
              "</table>\n",
              "<p>5 rows × 117 columns</p>\n",
              "</div>"
            ],
            "text/plain": [
              "   PARCELLE        LAT       LON         ALT  PRODREG  HT_VEG       DATE  \\\n",
              "0        51  47.781623  8.612822  715.918970        1       3 1984-04-10   \n",
              "1        51  47.781623  8.612822  715.918970        1       3 1994-10-19   \n",
              "2        51  47.781623  8.612822  715.918970        1       3 2011-11-09   \n",
              "3        51  47.781623  8.612822  715.918970        1       3 2005-11-01   \n",
              "4       384  47.736528  8.625154  563.829759        1       2 1995-07-10   \n",
              "\n",
              "     SLOPE25    ASPECT25 ORIENTATION  ...  TAVE_AVG       TAVE  TAVE_GROWTH  \\\n",
              "0  58.407726   67.342415           E  ...       NaN        NaN          NaN   \n",
              "1  58.407726   67.342415           E  ...    8.6567   9.017907    13.881706   \n",
              "2  58.407726   67.342415           E  ...    8.8129   4.521227    14.696609   \n",
              "3  58.407726   67.342415           E  ...    8.7947   3.070213    14.416862   \n",
              "4  55.683254  253.354935           O  ...    8.3280  19.689020    13.741095   \n",
              "\n",
              "     PRCP_S_S   PRCP_G_S    NDVI     EVI    NDMI    NDWI    DSWI  \n",
              "0    0.000000   0.000000  0.3779  0.0146  0.2264 -0.3325  0.4705  \n",
              "1  115.666797  50.258061  0.4992  0.0160  0.2705 -0.4653  0.6865  \n",
              "2  118.682917  55.673864 -0.1255 -0.0138  0.0107  0.1121 -0.0810  \n",
              "3  122.371409  54.540621  0.6923  0.0272  0.2294 -0.6305  0.9579  \n",
              "4  123.236130  55.141756  0.5552  0.0149  0.2017 -0.4864  0.6996  \n",
              "\n",
              "[5 rows x 117 columns]"
            ]
          },
          "execution_count": 158,
          "metadata": {},
          "output_type": "execute_result"
        }
      ],
      "source": [
        "data_base.head()"
      ]
    },
    {
      "cell_type": "markdown",
      "metadata": {
        "id": "D9f0gOtzfjKT"
      },
      "source": [
        "PREPROCESSING _ Code base for models temporal predictions"
      ]
    },
    {
      "cell_type": "markdown",
      "metadata": {},
      "source": [
        "Ici, features engineering (création de nouvelles features à partir de la liste connues):"
      ]
    },
    {
      "cell_type": "code",
      "execution_count": 160,
      "metadata": {},
      "outputs": [],
      "source": [
        "# Exemple, formule sécheresse..."
      ]
    },
    {
      "cell_type": "markdown",
      "metadata": {},
      "source": [
        "### Choix TARGET et Features :"
      ]
    },
    {
      "cell_type": "markdown",
      "metadata": {},
      "source": [
        "Target :"
      ]
    },
    {
      "cell_type": "code",
      "execution_count": 162,
      "metadata": {
        "id": "ONWylCfRdilS"
      },
      "outputs": [],
      "source": [
        "TARGET = ['TAUX_COUV_RAJ'] #exemple"
      ]
    },
    {
      "cell_type": "markdown",
      "metadata": {},
      "source": [
        "Features :"
      ]
    },
    {
      "cell_type": "code",
      "execution_count": 163,
      "metadata": {},
      "outputs": [],
      "source": [
        "# --- PAST --- \n",
        "# Attention : on peut, logiquement, inclure la TARGET... (connue dans le passé)\n",
        "cat_strict = ['TAUX_COUV_RAJ','PRODREG','UNIT_VEG_GROS'] #exemple\n",
        "cat_ord_miss = ['TAILLE_PPL', 'MELANGE', 'HT_VEG'] #exemple\n",
        "numerics = ['ALT','SLOPE25','QUAL_STATION','AGE_PPL','PERF_CROI', 'PRCP', 'TAVE_AVG',\t'TAVE', 'TAVE_GROWTH', 'PRCP_S_S', 'PRCP_G_S', 'NDVI', 'EVI', 'NDMI', 'NDWI', 'DSWI'] #exemple\n",
        "\n",
        "# --- FUTURE KNOWN ---\n",
        "# Attention : logiquement les features, potentiellement connues dans le futur ci-dessous sont aussi répertoriées ci-dessus dans le passé\n",
        "add_cat_IFN_stable = []\n",
        "add_cat_ord_IFN_stable = []\n",
        "add_IFN_numerics_stable = ['ALT'] #exemple\n",
        "# données potentiellement connues car stables par parcelles :\n",
        "#['LAT', 'LON', 'ALT', 'PRODREG', 'HT_VEG', 'SLOPE25', 'ASPECT25', 'ORIENTATION', 'PERF_CROI', 'QUAL_STATION', 'UNIT_VEG_FINE',\n",
        "# 'UNIT_VEG_GROS', 'PROCESS_SILVA', 'PERI_CHENAUX', 'PERI_COULEES','PERI_AVALANCH', 'PERI_CHUTES', 'ETAGE', 'ENDOMMAGEMENT','NB_DEGAT_ARBRE']\n",
        "# + données extrapolées grâce à des technologies prometteuses (satellites ?)....\n",
        "\n",
        "add_meteo_known = ['PRCP', 'TAVE_AVG',\t'TAVE', 'TAVE_GROWTH', 'PRCP_S_S',\t'PRCP_G_S']\n",
        "\n",
        "add_SAT_known = ['NDVI', 'EVI', 'NDMI', 'NDWI', 'DSWI']"
      ]
    },
    {
      "cell_type": "code",
      "execution_count": 164,
      "metadata": {},
      "outputs": [],
      "source": [
        "features_past = numerics + cat_strict + cat_ord_miss\n",
        "features_future = add_cat_IFN_stable + add_cat_ord_IFN_stable + add_IFN_numerics_stable + add_meteo_known + add_SAT_known"
      ]
    },
    {
      "cell_type": "code",
      "execution_count": 165,
      "metadata": {
        "id": "OkL-2XrZdDvZ"
      },
      "outputs": [],
      "source": [
        "data_LFI1 = data_base.loc[data_base['LFI']=='LFI1',:].sort_values('PARCELLE')\n",
        "data_LFI2 = data_base.loc[data_base['LFI']=='LFI2',:].sort_values('PARCELLE')\n",
        "data_LFI3 = data_base.loc[data_base['LFI']=='LFI3',:].sort_values('PARCELLE')\n",
        "data_LFI4 = data_base.loc[data_base['LFI']=='LFI4',:].sort_values('PARCELLE')"
      ]
    },
    {
      "cell_type": "code",
      "execution_count": 166,
      "metadata": {},
      "outputs": [],
      "source": [
        "future_feat_names = []\n",
        "add_cat_strict_feat_names = []\n",
        "add_cat_ord_feat_names = []\n",
        "add_numerics_feat_names = []\n",
        "\n",
        "for cat in features_future:\n",
        "    lfi2_list = data_LFI2[cat].to_list()\n",
        "    lfi3_list = data_LFI3[cat].to_list()\n",
        "    lfi4_list = data_LFI4[cat].to_list()\n",
        "    data_LFI1[cat + \"_f\"] = lfi2_list\n",
        "    data_LFI2[cat + \"_f\"] = lfi2_list\n",
        "    data_LFI3[cat + \"_f\"] = lfi2_list\n",
        "    future_feat_names.append(cat + '_f')\n",
        "    if cat in add_cat_ord_IFN_stable:\n",
        "        add_cat_ord_feat_names.append(cat + '_f')\n",
        "    elif cat in add_cat_IFN_stable:\n",
        "        add_cat_strict_feat_names.append(cat + '_f')\n",
        "    else:\n",
        "        add_numerics_feat_names.append(cat + '_f')\n"
      ]
    },
    {
      "cell_type": "code",
      "execution_count": 167,
      "metadata": {},
      "outputs": [],
      "source": [
        "data_red = pd.concat([data_LFI1, data_LFI2, data_LFI3], axis=0)[features_past + future_feat_names]\n",
        "Y = pd.concat([data_LFI2[TARGET], data_LFI3[TARGET], data_LFI4[TARGET]], axis = 0)"
      ]
    },
    {
      "cell_type": "code",
      "execution_count": 168,
      "metadata": {},
      "outputs": [
        {
          "data": {
            "text/html": [
              "<div>\n",
              "<style scoped>\n",
              "    .dataframe tbody tr th:only-of-type {\n",
              "        vertical-align: middle;\n",
              "    }\n",
              "\n",
              "    .dataframe tbody tr th {\n",
              "        vertical-align: top;\n",
              "    }\n",
              "\n",
              "    .dataframe thead th {\n",
              "        text-align: right;\n",
              "    }\n",
              "</style>\n",
              "<table border=\"1\" class=\"dataframe\">\n",
              "  <thead>\n",
              "    <tr style=\"text-align: right;\">\n",
              "      <th></th>\n",
              "      <th>ALT</th>\n",
              "      <th>SLOPE25</th>\n",
              "      <th>QUAL_STATION</th>\n",
              "      <th>AGE_PPL</th>\n",
              "      <th>PERF_CROI</th>\n",
              "      <th>PRCP</th>\n",
              "      <th>TAVE_AVG</th>\n",
              "      <th>TAVE</th>\n",
              "      <th>TAVE_GROWTH</th>\n",
              "      <th>PRCP_S_S</th>\n",
              "      <th>...</th>\n",
              "      <th>TAVE_AVG_f</th>\n",
              "      <th>TAVE_f</th>\n",
              "      <th>TAVE_GROWTH_f</th>\n",
              "      <th>PRCP_S_S_f</th>\n",
              "      <th>PRCP_G_S_f</th>\n",
              "      <th>NDVI_f</th>\n",
              "      <th>EVI_f</th>\n",
              "      <th>NDMI_f</th>\n",
              "      <th>NDWI_f</th>\n",
              "      <th>DSWI_f</th>\n",
              "    </tr>\n",
              "  </thead>\n",
              "  <tbody>\n",
              "    <tr>\n",
              "      <th>0</th>\n",
              "      <td>715.918970</td>\n",
              "      <td>58.407726</td>\n",
              "      <td>4</td>\n",
              "      <td>85.0</td>\n",
              "      <td>4676</td>\n",
              "      <td>NaN</td>\n",
              "      <td>NaN</td>\n",
              "      <td>NaN</td>\n",
              "      <td>NaN</td>\n",
              "      <td>0.0</td>\n",
              "      <td>...</td>\n",
              "      <td>8.6567</td>\n",
              "      <td>9.017907</td>\n",
              "      <td>13.881706</td>\n",
              "      <td>115.666797</td>\n",
              "      <td>50.258061</td>\n",
              "      <td>0.4992</td>\n",
              "      <td>0.0160</td>\n",
              "      <td>0.2705</td>\n",
              "      <td>-0.4653</td>\n",
              "      <td>0.6865</td>\n",
              "    </tr>\n",
              "    <tr>\n",
              "      <th>5</th>\n",
              "      <td>563.829759</td>\n",
              "      <td>55.683254</td>\n",
              "      <td>3</td>\n",
              "      <td>140.0</td>\n",
              "      <td>3402</td>\n",
              "      <td>NaN</td>\n",
              "      <td>NaN</td>\n",
              "      <td>NaN</td>\n",
              "      <td>NaN</td>\n",
              "      <td>0.0</td>\n",
              "      <td>...</td>\n",
              "      <td>8.3280</td>\n",
              "      <td>19.689020</td>\n",
              "      <td>13.741095</td>\n",
              "      <td>123.236130</td>\n",
              "      <td>55.141756</td>\n",
              "      <td>0.5552</td>\n",
              "      <td>0.0149</td>\n",
              "      <td>0.2017</td>\n",
              "      <td>-0.4864</td>\n",
              "      <td>0.6996</td>\n",
              "    </tr>\n",
              "    <tr>\n",
              "      <th>9</th>\n",
              "      <td>564.885846</td>\n",
              "      <td>43.496788</td>\n",
              "      <td>4</td>\n",
              "      <td>80.0</td>\n",
              "      <td>5617</td>\n",
              "      <td>NaN</td>\n",
              "      <td>NaN</td>\n",
              "      <td>NaN</td>\n",
              "      <td>NaN</td>\n",
              "      <td>0.0</td>\n",
              "      <td>...</td>\n",
              "      <td>9.1600</td>\n",
              "      <td>12.259857</td>\n",
              "      <td>14.464487</td>\n",
              "      <td>110.778326</td>\n",
              "      <td>51.717751</td>\n",
              "      <td>0.5633</td>\n",
              "      <td>0.0153</td>\n",
              "      <td>0.1727</td>\n",
              "      <td>-0.5002</td>\n",
              "      <td>0.6852</td>\n",
              "    </tr>\n",
              "    <tr>\n",
              "      <th>14</th>\n",
              "      <td>563.551602</td>\n",
              "      <td>29.557123</td>\n",
              "      <td>3</td>\n",
              "      <td>2.0</td>\n",
              "      <td>4258</td>\n",
              "      <td>NaN</td>\n",
              "      <td>NaN</td>\n",
              "      <td>NaN</td>\n",
              "      <td>NaN</td>\n",
              "      <td>0.0</td>\n",
              "      <td>...</td>\n",
              "      <td>8.9985</td>\n",
              "      <td>11.576915</td>\n",
              "      <td>14.352682</td>\n",
              "      <td>111.841829</td>\n",
              "      <td>52.584194</td>\n",
              "      <td>0.6059</td>\n",
              "      <td>0.0197</td>\n",
              "      <td>0.2269</td>\n",
              "      <td>-0.5588</td>\n",
              "      <td>0.8384</td>\n",
              "    </tr>\n",
              "    <tr>\n",
              "      <th>19</th>\n",
              "      <td>539.769096</td>\n",
              "      <td>53.450974</td>\n",
              "      <td>3</td>\n",
              "      <td>130.0</td>\n",
              "      <td>4330</td>\n",
              "      <td>NaN</td>\n",
              "      <td>NaN</td>\n",
              "      <td>NaN</td>\n",
              "      <td>NaN</td>\n",
              "      <td>0.0</td>\n",
              "      <td>...</td>\n",
              "      <td>9.2676</td>\n",
              "      <td>12.310067</td>\n",
              "      <td>14.590373</td>\n",
              "      <td>108.512739</td>\n",
              "      <td>50.565995</td>\n",
              "      <td>0.6012</td>\n",
              "      <td>0.0184</td>\n",
              "      <td>0.2029</td>\n",
              "      <td>-0.5486</td>\n",
              "      <td>0.7902</td>\n",
              "    </tr>\n",
              "  </tbody>\n",
              "</table>\n",
              "<p>5 rows × 34 columns</p>\n",
              "</div>"
            ],
            "text/plain": [
              "           ALT    SLOPE25  QUAL_STATION  AGE_PPL  PERF_CROI  PRCP  TAVE_AVG  \\\n",
              "0   715.918970  58.407726             4     85.0       4676   NaN       NaN   \n",
              "5   563.829759  55.683254             3    140.0       3402   NaN       NaN   \n",
              "9   564.885846  43.496788             4     80.0       5617   NaN       NaN   \n",
              "14  563.551602  29.557123             3      2.0       4258   NaN       NaN   \n",
              "19  539.769096  53.450974             3    130.0       4330   NaN       NaN   \n",
              "\n",
              "    TAVE  TAVE_GROWTH  PRCP_S_S  ...  TAVE_AVG_f     TAVE_f  TAVE_GROWTH_f  \\\n",
              "0    NaN          NaN       0.0  ...      8.6567   9.017907      13.881706   \n",
              "5    NaN          NaN       0.0  ...      8.3280  19.689020      13.741095   \n",
              "9    NaN          NaN       0.0  ...      9.1600  12.259857      14.464487   \n",
              "14   NaN          NaN       0.0  ...      8.9985  11.576915      14.352682   \n",
              "19   NaN          NaN       0.0  ...      9.2676  12.310067      14.590373   \n",
              "\n",
              "    PRCP_S_S_f  PRCP_G_S_f  NDVI_f   EVI_f  NDMI_f  NDWI_f  DSWI_f  \n",
              "0   115.666797   50.258061  0.4992  0.0160  0.2705 -0.4653  0.6865  \n",
              "5   123.236130   55.141756  0.5552  0.0149  0.2017 -0.4864  0.6996  \n",
              "9   110.778326   51.717751  0.5633  0.0153  0.1727 -0.5002  0.6852  \n",
              "14  111.841829   52.584194  0.6059  0.0197  0.2269 -0.5588  0.8384  \n",
              "19  108.512739   50.565995  0.6012  0.0184  0.2029 -0.5486  0.7902  \n",
              "\n",
              "[5 rows x 34 columns]"
            ]
          },
          "execution_count": 168,
          "metadata": {},
          "output_type": "execute_result"
        }
      ],
      "source": [
        "data_red.head()"
      ]
    },
    {
      "cell_type": "code",
      "execution_count": 169,
      "metadata": {},
      "outputs": [
        {
          "data": {
            "text/html": [
              "<div>\n",
              "<style scoped>\n",
              "    .dataframe tbody tr th:only-of-type {\n",
              "        vertical-align: middle;\n",
              "    }\n",
              "\n",
              "    .dataframe tbody tr th {\n",
              "        vertical-align: top;\n",
              "    }\n",
              "\n",
              "    .dataframe thead th {\n",
              "        text-align: right;\n",
              "    }\n",
              "</style>\n",
              "<table border=\"1\" class=\"dataframe\">\n",
              "  <thead>\n",
              "    <tr style=\"text-align: right;\">\n",
              "      <th></th>\n",
              "      <th>TAUX_COUV_RAJ</th>\n",
              "    </tr>\n",
              "  </thead>\n",
              "  <tbody>\n",
              "    <tr>\n",
              "      <th>1</th>\n",
              "      <td>2</td>\n",
              "    </tr>\n",
              "    <tr>\n",
              "      <th>4</th>\n",
              "      <td>6</td>\n",
              "    </tr>\n",
              "    <tr>\n",
              "      <th>8</th>\n",
              "      <td>6</td>\n",
              "    </tr>\n",
              "    <tr>\n",
              "      <th>13</th>\n",
              "      <td>6</td>\n",
              "    </tr>\n",
              "    <tr>\n",
              "      <th>16</th>\n",
              "      <td>5</td>\n",
              "    </tr>\n",
              "  </tbody>\n",
              "</table>\n",
              "</div>"
            ],
            "text/plain": [
              "    TAUX_COUV_RAJ\n",
              "1               2\n",
              "4               6\n",
              "8               6\n",
              "13              6\n",
              "16              5"
            ]
          },
          "execution_count": 169,
          "metadata": {},
          "output_type": "execute_result"
        }
      ],
      "source": [
        "Y.head()"
      ]
    },
    {
      "cell_type": "markdown",
      "metadata": {},
      "source": [
        "Traitement des données catégorielles ordonnées en numériques (gestion des \"-1\" éventuels) :"
      ]
    },
    {
      "cell_type": "code",
      "execution_count": 170,
      "metadata": {},
      "outputs": [],
      "source": [
        "feats_cat_ord = cat_ord_miss + add_cat_ord_feat_names\n",
        "for cat in feats_cat_ord:\n",
        "  data_red[cat] = data_red[cat].apply(lambda v : v if v!=-1 else np.nan)"
      ]
    },
    {
      "cell_type": "markdown",
      "metadata": {},
      "source": [
        "LISTE DES FEATURES NUMERIQUES ET CATEGORIELLES EN VUE DU PREPROCESSING DE MODELE :"
      ]
    },
    {
      "cell_type": "code",
      "execution_count": 171,
      "metadata": {},
      "outputs": [],
      "source": [
        "numerics_features = numerics + feats_cat_ord + add_numerics_feat_names\n",
        "feats_cat_strict = cat_strict + add_cat_strict_feat_names"
      ]
    }
  ],
  "metadata": {
    "colab": {
      "provenance": []
    },
    "kernelspec": {
      "display_name": "Python 3.9.13 ('base')",
      "language": "python",
      "name": "python3"
    },
    "language_info": {
      "codemirror_mode": {
        "name": "ipython",
        "version": 3
      },
      "file_extension": ".py",
      "mimetype": "text/x-python",
      "name": "python",
      "nbconvert_exporter": "python",
      "pygments_lexer": "ipython3",
      "version": "3.9.13"
    },
    "vscode": {
      "interpreter": {
        "hash": "1cca9558bc5ad879ec93cc030b157d75f18267527c60932cecaace349eef54dd"
      }
    }
  },
  "nbformat": 4,
  "nbformat_minor": 0
}
