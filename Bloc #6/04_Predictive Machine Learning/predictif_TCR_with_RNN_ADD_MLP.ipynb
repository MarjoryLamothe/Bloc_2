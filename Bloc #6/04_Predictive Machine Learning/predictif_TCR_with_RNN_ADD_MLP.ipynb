{
  "cells": [
    {
      "cell_type": "code",
      "execution_count": 1,
      "metadata": {
        "id": "F-xnvpnQb1eP"
      },
      "outputs": [
        {
          "name": "stderr",
          "output_type": "stream",
          "text": [
            "c:\\Users\\PC\\anaconda3\\envs\\tf\\lib\\site-packages\\tensorflow_addons\\utils\\ensure_tf_install.py:53: UserWarning: Tensorflow Addons supports using Python ops for all Tensorflow versions above or equal to 2.8.0 and strictly below 2.11.0 (nightly versions are not supported). \n",
            " The versions of TensorFlow you are currently using is 2.11.0 and is not supported. \n",
            "Some things might work, some things might not.\n",
            "If you were to encounter a bug, do not file an issue.\n",
            "If you want to make sure you're using a tested and supported configuration, either change the TensorFlow version or the TensorFlow Addons's version. \n",
            "You can find the compatibility matrix in TensorFlow Addon's readme:\n",
            "https://github.com/tensorflow/addons\n",
            "  warnings.warn(\n"
          ]
        }
      ],
      "source": [
        "import pandas as pd\n",
        "import numpy as np\n",
        "import plotly.express as px\n",
        "import copy\n",
        "\n",
        "from sklearn.preprocessing import OneHotEncoder, StandardScaler, LabelEncoder, OrdinalEncoder\n",
        "from sklearn.impute import KNNImputer, SimpleImputer\n",
        "from sklearn.pipeline import Pipeline\n",
        "from sklearn.linear_model import Ridge, RidgeClassifier\n",
        "from sklearn.model_selection import train_test_split\n",
        "from sklearn.compose import ColumnTransformer\n",
        "from sklearn.model_selection import cross_val_score, GridSearchCV\n",
        "from sklearn.metrics import r2_score, accuracy_score, f1_score\n",
        "\n",
        "import tensorflow as tf\n",
        "import tensorflow_addons as tfa"
      ]
    },
    {
      "cell_type": "code",
      "execution_count": 2,
      "metadata": {},
      "outputs": [],
      "source": [
        "TARGET = 'TAUX_COUV_RAJ'"
      ]
    },
    {
      "cell_type": "code",
      "execution_count": 147,
      "metadata": {
        "id": "9P-_u-rOcDyp"
      },
      "outputs": [],
      "source": [
        "data_base = pd.read_excel('./big_merge_V2_meteo_SAT.xlsx').drop('Unnamed: 0', axis=1)"
      ]
    },
    {
      "cell_type": "code",
      "execution_count": 148,
      "metadata": {},
      "outputs": [],
      "source": [
        "data_base['LFI'] = data_base['LFI'].map({'LFI1' : 1,\n",
        "                                               'LFI2' : 2,\n",
        "                                               'LFI3' : 3,\n",
        "                                               'LFI4' : 4 })"
      ]
    },
    {
      "cell_type": "code",
      "execution_count": 149,
      "metadata": {},
      "outputs": [],
      "source": [
        "data_base['ORIENTATION'] = data_base['ORIENTATION'].map({'N':0,'NE':1,'E':2,'SE':3,'S':4,'SO':5,'O':6,'NO':7})\n",
        "#data_red['ORIENTATION_f'] = data_red['ORIENTATION_f'].map({'N':0,'NE':1,'E':2,'SE':3,'S':4,'SO':5,'O':6,'NO':7})\n"
      ]
    },
    {
      "cell_type": "code",
      "execution_count": 150,
      "metadata": {},
      "outputs": [],
      "source": [
        "data_base.sort_values(['PARCELLE', 'LFI'], inplace=True)"
      ]
    },
    {
      "cell_type": "code",
      "execution_count": 151,
      "metadata": {},
      "outputs": [
        {
          "data": {
            "text/html": [
              "<div>\n",
              "<style scoped>\n",
              "    .dataframe tbody tr th:only-of-type {\n",
              "        vertical-align: middle;\n",
              "    }\n",
              "\n",
              "    .dataframe tbody tr th {\n",
              "        vertical-align: top;\n",
              "    }\n",
              "\n",
              "    .dataframe thead th {\n",
              "        text-align: right;\n",
              "    }\n",
              "</style>\n",
              "<table border=\"1\" class=\"dataframe\">\n",
              "  <thead>\n",
              "    <tr style=\"text-align: right;\">\n",
              "      <th></th>\n",
              "      <th>PARCELLE</th>\n",
              "      <th>LAT</th>\n",
              "      <th>LON</th>\n",
              "      <th>ALT</th>\n",
              "      <th>PRODREG</th>\n",
              "      <th>HT_VEG</th>\n",
              "      <th>DATE</th>\n",
              "      <th>SLOPE25</th>\n",
              "      <th>ASPECT25</th>\n",
              "      <th>ORIENTATION</th>\n",
              "      <th>...</th>\n",
              "      <th>TAVE_AVG</th>\n",
              "      <th>TAVE</th>\n",
              "      <th>TAVE_GROWTH</th>\n",
              "      <th>PRCP_S_S</th>\n",
              "      <th>PRCP_G_S</th>\n",
              "      <th>NDVI</th>\n",
              "      <th>EVI</th>\n",
              "      <th>NDMI</th>\n",
              "      <th>NDWI</th>\n",
              "      <th>DSWI</th>\n",
              "    </tr>\n",
              "  </thead>\n",
              "  <tbody>\n",
              "  </tbody>\n",
              "</table>\n",
              "<p>0 rows × 117 columns</p>\n",
              "</div>"
            ],
            "text/plain": [
              "Empty DataFrame\n",
              "Columns: [PARCELLE, LAT, LON, ALT, PRODREG, HT_VEG, DATE, SLOPE25, ASPECT25, ORIENTATION, PERF_CROI, QUAL_STATION, UNIT_VEG_FINE, UNIT_VEG_GROS, REBOISEMENT_AN, SURF_TER_HA, AGE_PPL, MODE_REGEN, TAILLE_PPL, INTENSITE_EXPLOIT, TRACES_FEU, DEGRAD_PPL, DIV_STR_PPL, DIV_STR_PPL_CLASS, DDOM, DEG_SUR_PER, LAST_INTER_DATE, TIGES_VIV_H, SDI, SDI_CLASSE, INT_IFN2_IFN3, INT_IFN3-IFN4, NIV_DEV, MELANGE, NEXT_INTER_DATE, NEXT_INTER_TYPE, RELIEF, DEG_FERMETURE, STR_PPL, TYPE_FORET305, SURCHARGE, TYP_RAJ_PPL, TAUX_COUV_RAJ, TAUX_COUV_RAJ_FIN, TAUX_COUV_RAJ_ASS, ESPECE_DOM, FEU_RES, TYPE_FORET, EPIC_PER, SAPIN_PER, PIN_PER, MELEZ_PER, ARO_PER, OTHER_CONIF_PER, HETR_PER, ERAB_PER, FREN_PER, CHEN_PER, DGANTCA, OTHER_FEUILL_PER, CONIF_PER_STD, ARBUST_PER, FEUILL_PER, CONIF_PER, PROCESS_SILVA, PERI_CHENAUX, PERI_COULEES, PERI_AVALANCH, PERI_CHUTES, 25_GRID_PER, SURF_TROU_AER, V_ALL, V_FICHT, V_TANNE, V_FOEHR, V_LARCH, V_ARVEN, V_UENDH, V_BUCHE, V_AHORN, V_ESCHE, V_EICHE, V_CASTA, V_UELBH, LFI, NB_SAISON, VOL_BOIS_MANQUANT_NDH, VOL_BOIS_MANQUANT_LBH, VOL_BOIS_MANQUANT, UNIT_VOL_BOIS_MANQUANT_NDH, UNIT_VOL_BOIS_MANQUANT_LBH, UNIT_VOL_BOIS_MANQUANT, ACCR_NDH, ACCR_LBH, ACCR, UNIT_ACCR_NDH, UNIT_ACCR_LBH, UNIT_ACCR, DBH, HAUTEUR_ARBRE, ...]\n",
              "Index: []\n",
              "\n",
              "[0 rows x 117 columns]"
            ]
          },
          "execution_count": 151,
          "metadata": {},
          "output_type": "execute_result"
        }
      ],
      "source": [
        "data_base.loc[(data_base[TARGET]==-1) & (data_base['LFI']==4),:]"
      ]
    },
    {
      "cell_type": "markdown",
      "metadata": {
        "id": "D9f0gOtzfjKT"
      },
      "source": [
        "PREPROCESSING _ Code base for models temporal predictions"
      ]
    },
    {
      "cell_type": "markdown",
      "metadata": {},
      "source": [
        "Ici, features engineering (création de nouvelles features à partir de la liste connues):"
      ]
    },
    {
      "cell_type": "code",
      "execution_count": 152,
      "metadata": {},
      "outputs": [],
      "source": [
        "# adding aridity index\n",
        "data_base[\"AI\"] = data_base['PRCP_GROWTH'] / data_base['TAVE_GROWTH']\n",
        "# adding H/D index\n",
        "data_base[\"H_D\"] = data_base['HAUTEUR_ARBRE'] / data_base['DBH']\n"
      ]
    },
    {
      "cell_type": "code",
      "execution_count": 153,
      "metadata": {},
      "outputs": [],
      "source": [
        "\n",
        "# --- PAST ---\n",
        "cat_strict_past = ['PRODREG', 'ESPECE_DOM', 'TYP_RAJ_PPL', 'ORIENTATION', 'RELIEF'] #exemple 'PRODREG', 'ESPECE_DOM', 'TYP_RAJ_PPL', 'DEG_FERMETURE', 'STR_PPL', 'RELIEF'\n",
        "cat_ord_past = ['TAUX_COUV_RAJ', 'HT_VEG', 'DEGRAD_PPL', 'NIV_DEV', 'QUAL_STATION'] #exemple 'TAILLE_PPL', 'MELANGE', 'QUAL_STATION', 'TAUX_COUV_RAJ', 'SURF_TROU_AER', 'HT_VEG'\n",
        "numerics_past = [ 'LFI', 'SLOPE25', '25_GRID_PER', 'UNIT_ACCR','H_D','AI','SDI', 'AGE_PPL','ALT', 'TIGES_VIV_H', 'SURF_TER_HA', 'FEUILL_PER', 'CONIF_PER','PERF_CROI'] #exemple\n",
        "\n",
        "# --- FUTURE ---\n",
        "cat_strict_future = ['ORIENTATION']\n",
        "cat_ord_future = ['QUAL_STATION']\n",
        "numerics_future = ['LFI', 'ALT', 'SLOPE25', 'PERF_CROI']\n",
        "add_meteo_known = ['PRCP', 'TAVE_AVG',\t'TAVE', 'TAVE_GROWTH', 'PRCP_S_S',\t'PRCP_G_S', 'AI']\n",
        "add_SAT_known = ['NDVI', 'EVI', 'NDMI', 'NDWI', 'DSWI']"
      ]
    },
    {
      "cell_type": "code",
      "execution_count": 154,
      "metadata": {},
      "outputs": [],
      "source": [
        "feats_past = cat_strict_past + cat_ord_past + numerics_past\n",
        "feats_future_base = cat_strict_future + cat_ord_future + numerics_future + add_meteo_known + add_SAT_known"
      ]
    },
    {
      "cell_type": "code",
      "execution_count": 221,
      "metadata": {},
      "outputs": [],
      "source": [
        "feats_future_f_names = []\n",
        "feats_future_f_ord = []\n",
        "feats_future_f_num = []\n",
        "feats_future_f_cat_strict  = []\n",
        "\n",
        "for cat in feats_future_base:\n",
        "    feat_list = data_base[cat].to_list()\n",
        "    data_base[cat + \"_f\"] = feat_list\n",
        "    feats_future_f_names.append(cat + '_f')\n",
        "    if cat in cat_ord_future:\n",
        "        feats_future_f_ord.append(cat + \"_f\")\n",
        "    if cat in cat_strict_future:\n",
        "        feats_future_f_cat_strict.append(cat + \"_f\")\n",
        "    if cat in (numerics_future + add_SAT_known + add_meteo_known):\n",
        "        feats_future_f_num.append(cat + \"_f\")"
      ]
    },
    {
      "cell_type": "code",
      "execution_count": 222,
      "metadata": {},
      "outputs": [],
      "source": [
        "feats_total = feats_past + feats_future_f_names"
      ]
    },
    {
      "cell_type": "code",
      "execution_count": 223,
      "metadata": {},
      "outputs": [],
      "source": [
        "data_red = data_base[feats_total]"
      ]
    },
    {
      "cell_type": "markdown",
      "metadata": {},
      "source": [
        "Traitement des données catégorielles ordonnées en numériques (gestion des \"-1\" éventuels) :"
      ]
    },
    {
      "cell_type": "code",
      "execution_count": 224,
      "metadata": {},
      "outputs": [
        {
          "name": "stderr",
          "output_type": "stream",
          "text": [
            "C:\\Users\\PC\\AppData\\Local\\Temp\\ipykernel_11012\\2055104711.py:2: SettingWithCopyWarning:\n",
            "\n",
            "\n",
            "A value is trying to be set on a copy of a slice from a DataFrame.\n",
            "Try using .loc[row_indexer,col_indexer] = value instead\n",
            "\n",
            "See the caveats in the documentation: https://pandas.pydata.org/pandas-docs/stable/user_guide/indexing.html#returning-a-view-versus-a-copy\n",
            "\n"
          ]
        }
      ],
      "source": [
        "for cat in (cat_ord_past + feats_future_f_ord):\n",
        "  data_red[cat] = data_red[cat].apply(lambda v : int(v) if v!=-1 else np.nan)"
      ]
    },
    {
      "cell_type": "markdown",
      "metadata": {},
      "source": [
        "Tentative préalable de missing value par la valeur t+1 pour LFI1, t-1 ou t+1 pour LFI2, t-1 pour LFI3 :"
      ]
    },
    {
      "cell_type": "code",
      "execution_count": 225,
      "metadata": {},
      "outputs": [],
      "source": [
        "for i in range(len(data_red)):\n",
        "    for j in range(len(data_red.columns)):\n",
        "        if i%4==0:\n",
        "            if np.isnan(data_red.iloc[i,j]) or data_red.iloc[i,j]==np.nan:\n",
        "                next_value = copy.copy(data_red.iloc[i+1,j])\n",
        "                data_red.iloc[i,j] = next_value\n",
        "        elif i%4==1:\n",
        "            if np.isnan(data_red.iloc[i,j]) or data_red.iloc[i,j]==np.nan:\n",
        "                if np.isnan(data_red.iloc[i-1,j]) or data_red.iloc[i-1,j]==np.nan:\n",
        "                    past_value = copy.copy(data_red.iloc[i-1,j])\n",
        "                    data_red.iloc[i,j] = past_value\n",
        "                else:\n",
        "                    next_value = copy.copy(data_red.iloc[i+1,j])\n",
        "                    data_red.iloc[i,j] = next_value\n",
        "        elif i%4==2:\n",
        "            if np.isnan(data_red.iloc[i,j]) or data_red.iloc[i,j]==np.nan:\n",
        "                past_value = copy.copy(data_red.iloc[i-1,j])\n",
        "                data_red.iloc[i,j] = past_value"
      ]
    },
    {
      "cell_type": "code",
      "execution_count": 226,
      "metadata": {},
      "outputs": [],
      "source": [
        "ordinal_cat_tot = cat_ord_past + feats_future_f_ord\n",
        "categorials_strict_tot = cat_strict_past + feats_future_f_cat_strict"
      ]
    },
    {
      "cell_type": "code",
      "execution_count": 227,
      "metadata": {},
      "outputs": [],
      "source": [
        "numerics_transforms_past = Pipeline(\n",
        "    [(\"imputer\", KNNImputer()),\n",
        "    ('encoder',StandardScaler())\n",
        "])\n",
        "\n",
        "numerics_transforms_future = Pipeline(\n",
        "    [(\"imputer\", SimpleImputer()),\n",
        "    ('encoder',StandardScaler())\n",
        "])\n",
        "\n",
        "categorials_transforms = Pipeline([\n",
        "    (\"imputer\", SimpleImputer(strategy='most_frequent')),\n",
        "    ('encoder',OneHotEncoder(drop=\"first\"))\n",
        "])\n",
        "\n",
        "ordinal_cat_transforms = Pipeline([\n",
        "    (\"imputer\", SimpleImputer(strategy='most_frequent')),\n",
        "    ('encoder',OrdinalEncoder())\n",
        "])\n",
        "\n",
        "preprocessor = ColumnTransformer(\n",
        "    [(\"num_past\", numerics_transforms_past, numerics_past),\n",
        "    ('num_future', numerics_transforms_future, feats_future_f_num),\n",
        "    (\"ord_cat\", ordinal_cat_transforms, ordinal_cat_tot),\n",
        "     (\"cat_strict\", categorials_transforms, categorials_strict_tot)])"
      ]
    },
    {
      "cell_type": "code",
      "execution_count": 231,
      "metadata": {},
      "outputs": [],
      "source": [
        "X_train, X_test = train_test_split(data_red, test_size=2000, shuffle=False, random_state=2)"
      ]
    },
    {
      "cell_type": "code",
      "execution_count": 232,
      "metadata": {},
      "outputs": [],
      "source": [
        "X_train = preprocessor.fit_transform(X_train)\n",
        "X_test = preprocessor.transform(X_test)"
      ]
    },
    {
      "cell_type": "code",
      "execution_count": 233,
      "metadata": {},
      "outputs": [
        {
          "data": {
            "text/plain": [
              "(7612, 74)"
            ]
          },
          "execution_count": 233,
          "metadata": {},
          "output_type": "execute_result"
        }
      ],
      "source": [
        "np.shape(X_train)"
      ]
    },
    {
      "cell_type": "code",
      "execution_count": 234,
      "metadata": {},
      "outputs": [],
      "source": [
        "list_features_in = []\n",
        "list_cat_strict_past = []\n",
        "list_cat_strict_future = []\n",
        "\n",
        "for feat in (numerics_past + feats_future_f_num + ordinal_cat_tot):\n",
        "  list_features_in.append(feat)\n",
        "\n",
        "for cat in cat_strict_past:\n",
        "  nb_lab = len(data_red[cat].unique())-1\n",
        "  for i in range(nb_lab):\n",
        "    list_features_in.append(f'{cat}_{i}')\n",
        "    list_cat_strict_past.append(f'{cat}_{i}')\n",
        "  \n",
        "for cat in feats_future_f_cat_strict:\n",
        "  nb_lab = len(data_red[cat].unique())-1\n",
        "  for i in range(nb_lab):\n",
        "    list_features_in.append(f'{cat}_{i}')\n",
        "    list_cat_strict_future.append(f'{cat}_{i}')"
      ]
    },
    {
      "cell_type": "code",
      "execution_count": 235,
      "metadata": {},
      "outputs": [],
      "source": [
        "df_train = pd.DataFrame(X_train, columns=list_features_in)\n",
        "df_test = pd.DataFrame(X_test, columns=list_features_in)"
      ]
    },
    {
      "cell_type": "code",
      "execution_count": 236,
      "metadata": {},
      "outputs": [
        {
          "data": {
            "text/plain": [
              "24"
            ]
          },
          "execution_count": 236,
          "metadata": {},
          "output_type": "execute_result"
        }
      ],
      "source": [
        "len(feats_future_f_num + feats_future_f_ord + list_cat_strict_future)"
      ]
    },
    {
      "cell_type": "code",
      "execution_count": 237,
      "metadata": {},
      "outputs": [],
      "source": [
        "list_feats_future = feats_future_f_num + feats_future_f_ord + list_cat_strict_future"
      ]
    },
    {
      "cell_type": "code",
      "execution_count": 239,
      "metadata": {},
      "outputs": [],
      "source": [
        "df_train_past = df_train[numerics_past + cat_ord_past + list_cat_strict_past]\n",
        "df_train_future = df_train[feats_future_f_num + feats_future_f_ord + list_cat_strict_future]\n",
        "\n",
        "df_test_past = df_test[numerics_past + cat_ord_past + list_cat_strict_past]\n",
        "df_test_future = df_test[feats_future_f_num + feats_future_f_ord + list_cat_strict_future]"
      ]
    },
    {
      "cell_type": "code",
      "execution_count": 243,
      "metadata": {},
      "outputs": [],
      "source": [
        "X_train_past = df_train_past.iloc[[i for i in range(len(df_train_past)) if i%4!=3],:].to_numpy()\n",
        "X_train_past_3D = X_train_past.reshape(len(X_train_past)//3, 3, np.shape(X_train_past)[1])\n",
        "train_tensor_past = tf.convert_to_tensor(X_train_past_3D)"
      ]
    },
    {
      "cell_type": "code",
      "execution_count": 244,
      "metadata": {},
      "outputs": [],
      "source": [
        "X_test_past = df_test_past.iloc[[i for i in range(len(df_test_past)) if i%4!=3],:].to_numpy()\n",
        "X_test_past_3D = X_test_past.reshape(len(X_test_past)//3, 3, np.shape(X_test_past)[1])\n",
        "test_tensor_past = tf.convert_to_tensor(X_test_past_3D)"
      ]
    },
    {
      "cell_type": "code",
      "execution_count": 245,
      "metadata": {},
      "outputs": [],
      "source": [
        "X_train_future = df_train_future.iloc[[i for i in range(len(df_train_future)) if i%4==3],:].to_numpy()\n",
        "train_tensor_future = tf.convert_to_tensor(X_train_future)"
      ]
    },
    {
      "cell_type": "code",
      "execution_count": 246,
      "metadata": {},
      "outputs": [],
      "source": [
        "X_test_future = df_test_future.iloc[[i for i in range(len(df_test_future)) if i%4==3],:].to_numpy()\n",
        "test_tensor_future = tf.convert_to_tensor(X_test_future)"
      ]
    },
    {
      "cell_type": "code",
      "execution_count": 247,
      "metadata": {},
      "outputs": [],
      "source": [
        "targets_train = []\n",
        "for i in range(len(X_train)//4):\n",
        "    targets_train.append(df_train.iloc[i*4+3,:][TARGET])\n",
        "y_train = tf.convert_to_tensor(targets_train)"
      ]
    },
    {
      "cell_type": "code",
      "execution_count": 248,
      "metadata": {},
      "outputs": [],
      "source": [
        "targets_test = []\n",
        "for i in range(len(X_test)//4):\n",
        "    targets_test.append(df_test.iloc[i*4+3,:][TARGET])\n",
        "y_test = tf.convert_to_tensor(targets_test)"
      ]
    },
    {
      "cell_type": "code",
      "execution_count": 249,
      "metadata": {},
      "outputs": [],
      "source": [
        "GRU_past = tf.keras.models.Sequential([\n",
        "        tf.keras.layers.GRU(64, input_shape=(3,np.shape(X_train_past)[1],), return_sequences=True),\n",
        "        tf.keras.layers.GRU(32, return_sequences=True),\n",
        "        tf.keras.layers.GRU(16, return_sequences=False),\n",
        "        tf.keras.layers.Dropout(0.1)\n",
        "    ])"
      ]
    },
    {
      "cell_type": "code",
      "execution_count": 250,
      "metadata": {},
      "outputs": [
        {
          "data": {
            "text/plain": [
              "<tf.Tensor: shape=(1, 16), dtype=float32, numpy=\n",
              "array([[-0.01906813,  0.02465295, -0.18239641,  0.10592219,  0.00374953,\n",
              "         0.0020334 , -0.0029473 ,  0.08160238,  0.16122487,  0.03177267,\n",
              "         0.15925013,  0.12936552,  0.08152311, -0.01394751,  0.031809  ,\n",
              "        -0.10060655]], dtype=float32)>"
            ]
          },
          "execution_count": 250,
          "metadata": {},
          "output_type": "execute_result"
        }
      ],
      "source": [
        "GRU_past(tf.expand_dims(train_tensor_past[0], axis=0))"
      ]
    },
    {
      "cell_type": "code",
      "execution_count": 251,
      "metadata": {},
      "outputs": [],
      "source": [
        "MLD_future = tf.keras.models.Sequential([\n",
        "        tf.keras.layers.Dense(64, input_shape=(np.shape(X_train_future)[1],), activation='relu'),\n",
        "        tf.keras.layers.Dense(32, 'relu'),\n",
        "        tf.keras.layers.Dense(16, 'relu'),\n",
        "        tf.keras.layers.Dropout(0.1)\n",
        "    ])"
      ]
    },
    {
      "cell_type": "code",
      "execution_count": 252,
      "metadata": {},
      "outputs": [
        {
          "data": {
            "text/plain": [
              "<tf.Tensor: shape=(1, 16), dtype=float32, numpy=\n",
              "array([[0.        , 0.        , 0.        , 0.6695769 , 0.        ,\n",
              "        0.29599252, 0.5569536 , 1.6155452 , 0.5588567 , 0.        ,\n",
              "        0.20568062, 0.        , 0.6619757 , 0.89234275, 0.03911621,\n",
              "        0.        ]], dtype=float32)>"
            ]
          },
          "execution_count": 252,
          "metadata": {},
          "output_type": "execute_result"
        }
      ],
      "source": [
        "MLD_future(tf.expand_dims(train_tensor_future[0], axis=0))"
      ]
    },
    {
      "cell_type": "code",
      "execution_count": 253,
      "metadata": {},
      "outputs": [],
      "source": [
        "input_GRU = tf.keras.layers.Input(shape=(3,np.shape(X_train_past)[1],))\n",
        "\n",
        "output_GRU = GRU_past(input_GRU)\n",
        "\n",
        "input_MLD = tf.keras.layers.Input(shape=(np.shape(X_train_future)[1],))\n",
        "\n",
        "output_MLD = MLD_future(input_MLD)\n",
        "\n",
        "x = tf.keras.layers.Concatenate(axis=1)([output_GRU, output_MLD])\n",
        "\n",
        "output = tf.keras.layers.Dense(6, 'softmax')(x)"
      ]
    },
    {
      "cell_type": "code",
      "execution_count": 254,
      "metadata": {},
      "outputs": [],
      "source": [
        "model = tf.keras.models.Model(inputs=[input_GRU, input_MLD], outputs=output)"
      ]
    },
    {
      "cell_type": "code",
      "execution_count": 255,
      "metadata": {},
      "outputs": [
        {
          "name": "stdout",
          "output_type": "stream",
          "text": [
            "Model: \"model_3\"\n",
            "__________________________________________________________________________________________________\n",
            " Layer (type)                   Output Shape         Param #     Connected to                     \n",
            "==================================================================================================\n",
            " input_8 (InputLayer)           [(None, 3, 50)]      0           []                               \n",
            "                                                                                                  \n",
            " input_9 (InputLayer)           [(None, 24)]         0           []                               \n",
            "                                                                                                  \n",
            " sequential_5 (Sequential)      (None, 16)           34080       ['input_8[0][0]']                \n",
            "                                                                                                  \n",
            " sequential_6 (Sequential)      (None, 16)           4208        ['input_9[0][0]']                \n",
            "                                                                                                  \n",
            " concatenate_3 (Concatenate)    (None, 32)           0           ['sequential_5[0][0]',           \n",
            "                                                                  'sequential_6[0][0]']           \n",
            "                                                                                                  \n",
            " dense_12 (Dense)               (None, 6)            198         ['concatenate_3[0][0]']          \n",
            "                                                                                                  \n",
            "==================================================================================================\n",
            "Total params: 38,486\n",
            "Trainable params: 38,486\n",
            "Non-trainable params: 0\n",
            "__________________________________________________________________________________________________\n"
          ]
        }
      ],
      "source": [
        "model.summary()"
      ]
    },
    {
      "cell_type": "code",
      "execution_count": 256,
      "metadata": {},
      "outputs": [],
      "source": [
        "model.compile(\n",
        "    loss=tf.keras.losses.SparseCategoricalCrossentropy(),\n",
        "    optimizer=tf.keras.optimizers.Adam(),\n",
        "    metrics=tf.keras.metrics.SparseCategoricalAccuracy())"
      ]
    },
    {
      "cell_type": "code",
      "execution_count": 258,
      "metadata": {},
      "outputs": [
        {
          "name": "stdout",
          "output_type": "stream",
          "text": [
            "Epoch 1/5\n",
            "15/15 [==============================] - 0s 18ms/step - loss: 1.3620 - sparse_categorical_accuracy: 0.4267 - val_loss: 1.2567 - val_sparse_categorical_accuracy: 0.4940\n",
            "Epoch 2/5\n",
            "15/15 [==============================] - 0s 13ms/step - loss: 1.3061 - sparse_categorical_accuracy: 0.4566 - val_loss: 1.1467 - val_sparse_categorical_accuracy: 0.5600\n",
            "Epoch 3/5\n",
            "15/15 [==============================] - 0s 13ms/step - loss: 1.2647 - sparse_categorical_accuracy: 0.4698 - val_loss: 1.1179 - val_sparse_categorical_accuracy: 0.5480\n",
            "Epoch 4/5\n",
            "15/15 [==============================] - 0s 13ms/step - loss: 1.2267 - sparse_categorical_accuracy: 0.4861 - val_loss: 1.1079 - val_sparse_categorical_accuracy: 0.5620\n",
            "Epoch 5/5\n",
            "15/15 [==============================] - 0s 14ms/step - loss: 1.1970 - sparse_categorical_accuracy: 0.5108 - val_loss: 1.0804 - val_sparse_categorical_accuracy: 0.5500\n"
          ]
        },
        {
          "data": {
            "text/plain": [
              "<keras.callbacks.History at 0x1683f6a8760>"
            ]
          },
          "execution_count": 258,
          "metadata": {},
          "output_type": "execute_result"
        }
      ],
      "source": [
        "model.fit(\n",
        "    x=[train_tensor_past, train_tensor_future],\n",
        "     y=y_train,\n",
        "     epochs=5,\n",
        "     batch_size=128,\n",
        "     validation_data=([test_tensor_past, test_tensor_future],\n",
        "     y_test))"
      ]
    },
    {
      "cell_type": "code",
      "execution_count": 259,
      "metadata": {},
      "outputs": [],
      "source": [
        "coeff_mean_GRU = []\n",
        "for i in range(np.shape(X_train_past)[1]):\n",
        "    coeff_mean_GRU.append(np.mean(model.layers[2].trainable_variables[0][i]))"
      ]
    },
    {
      "cell_type": "code",
      "execution_count": 260,
      "metadata": {},
      "outputs": [],
      "source": [
        "df_coef = pd.DataFrame(coeff_mean_GRU, columns=['Coeff_GRU'], index= (numerics_past + cat_ord_past + list_cat_strict_past) )"
      ]
    },
    {
      "cell_type": "code",
      "execution_count": 261,
      "metadata": {},
      "outputs": [
        {
          "data": {
            "application/vnd.plotly.v1+json": {
              "config": {
                "plotlyServerURL": "https://plot.ly"
              },
              "data": [
                {
                  "alignmentgroup": "True",
                  "hovertemplate": "variable=Coeff_GRU<br>index=%{x}<br>value=%{y}<extra></extra>",
                  "legendgroup": "Coeff_GRU",
                  "marker": {
                    "color": "#636efa",
                    "pattern": {
                      "shape": ""
                    }
                  },
                  "name": "Coeff_GRU",
                  "offsetgroup": "Coeff_GRU",
                  "orientation": "v",
                  "showlegend": true,
                  "textposition": "auto",
                  "type": "bar",
                  "x": [
                    "LFI",
                    "SLOPE25",
                    "25_GRID_PER",
                    "UNIT_ACCR",
                    "H_D",
                    "AI",
                    "SDI",
                    "AGE_PPL",
                    "ALT",
                    "TIGES_VIV_H",
                    "SURF_TER_HA",
                    "FEUILL_PER",
                    "CONIF_PER",
                    "PERF_CROI",
                    "TAUX_COUV_RAJ",
                    "HT_VEG",
                    "DEGRAD_PPL",
                    "NIV_DEV",
                    "QUAL_STATION",
                    "PRODREG_0",
                    "PRODREG_1",
                    "PRODREG_2",
                    "PRODREG_3",
                    "ESPECE_DOM_0",
                    "ESPECE_DOM_1",
                    "ESPECE_DOM_2",
                    "ESPECE_DOM_3",
                    "ESPECE_DOM_4",
                    "ESPECE_DOM_5",
                    "ESPECE_DOM_6",
                    "ESPECE_DOM_7",
                    "ESPECE_DOM_8",
                    "ESPECE_DOM_9",
                    "ESPECE_DOM_10",
                    "ESPECE_DOM_11",
                    "TYP_RAJ_PPL_0",
                    "TYP_RAJ_PPL_1",
                    "TYP_RAJ_PPL_2",
                    "ORIENTATION_0",
                    "ORIENTATION_1",
                    "ORIENTATION_2",
                    "ORIENTATION_3",
                    "ORIENTATION_4",
                    "ORIENTATION_5",
                    "ORIENTATION_6",
                    "RELIEF_0",
                    "RELIEF_1",
                    "RELIEF_2",
                    "RELIEF_3",
                    "RELIEF_4"
                  ],
                  "xaxis": "x",
                  "y": [
                    -0.011919490993022919,
                    0.004702006001025438,
                    0.012549296021461487,
                    0.005254562944173813,
                    -0.0025025608483701944,
                    0.0009157067979685962,
                    0.00869792141020298,
                    -0.0005309765110723674,
                    -0.004770052153617144,
                    0.0036995569244027138,
                    0.020003926008939743,
                    -0.0007951536099426448,
                    -0.002463600365445018,
                    -0.011545042507350445,
                    0.0018216395983472466,
                    0.0018057829001918435,
                    -0.012586395256221294,
                    0.010774790309369564,
                    -0.013118438422679901,
                    -0.0020124304573982954,
                    0.0043786964379251,
                    -0.007812411058694124,
                    0.0035164158325642347,
                    0.0022513524163514376,
                    0.0008446304127573967,
                    0.018397876992821693,
                    -0.003176364116370678,
                    0.005829502362757921,
                    -0.001744054607115686,
                    -0.004690750036388636,
                    -0.003634139895439148,
                    0.008009807206690311,
                    -0.012083947658538818,
                    0.0027199049945920706,
                    0.00006702449172735214,
                    0.002854868769645691,
                    -0.0023775864392518997,
                    -0.006572948303073645,
                    -0.004368487745523453,
                    -0.013765942305326462,
                    -0.003727187169715762,
                    0.007675236091017723,
                    -0.0019786274060606956,
                    -0.006658936385065317,
                    -0.010410288348793983,
                    -0.0004035457968711853,
                    -0.0001738159917294979,
                    -0.004975099582225084,
                    -0.004159534350037575,
                    -0.005811764393001795
                  ],
                  "yaxis": "y"
                }
              ],
              "layout": {
                "barmode": "relative",
                "legend": {
                  "title": {
                    "text": "variable"
                  },
                  "tracegroupgap": 0
                },
                "template": {
                  "data": {
                    "bar": [
                      {
                        "error_x": {
                          "color": "#2a3f5f"
                        },
                        "error_y": {
                          "color": "#2a3f5f"
                        },
                        "marker": {
                          "line": {
                            "color": "#E5ECF6",
                            "width": 0.5
                          },
                          "pattern": {
                            "fillmode": "overlay",
                            "size": 10,
                            "solidity": 0.2
                          }
                        },
                        "type": "bar"
                      }
                    ],
                    "barpolar": [
                      {
                        "marker": {
                          "line": {
                            "color": "#E5ECF6",
                            "width": 0.5
                          },
                          "pattern": {
                            "fillmode": "overlay",
                            "size": 10,
                            "solidity": 0.2
                          }
                        },
                        "type": "barpolar"
                      }
                    ],
                    "carpet": [
                      {
                        "aaxis": {
                          "endlinecolor": "#2a3f5f",
                          "gridcolor": "white",
                          "linecolor": "white",
                          "minorgridcolor": "white",
                          "startlinecolor": "#2a3f5f"
                        },
                        "baxis": {
                          "endlinecolor": "#2a3f5f",
                          "gridcolor": "white",
                          "linecolor": "white",
                          "minorgridcolor": "white",
                          "startlinecolor": "#2a3f5f"
                        },
                        "type": "carpet"
                      }
                    ],
                    "choropleth": [
                      {
                        "colorbar": {
                          "outlinewidth": 0,
                          "ticks": ""
                        },
                        "type": "choropleth"
                      }
                    ],
                    "contour": [
                      {
                        "colorbar": {
                          "outlinewidth": 0,
                          "ticks": ""
                        },
                        "colorscale": [
                          [
                            0,
                            "#0d0887"
                          ],
                          [
                            0.1111111111111111,
                            "#46039f"
                          ],
                          [
                            0.2222222222222222,
                            "#7201a8"
                          ],
                          [
                            0.3333333333333333,
                            "#9c179e"
                          ],
                          [
                            0.4444444444444444,
                            "#bd3786"
                          ],
                          [
                            0.5555555555555556,
                            "#d8576b"
                          ],
                          [
                            0.6666666666666666,
                            "#ed7953"
                          ],
                          [
                            0.7777777777777778,
                            "#fb9f3a"
                          ],
                          [
                            0.8888888888888888,
                            "#fdca26"
                          ],
                          [
                            1,
                            "#f0f921"
                          ]
                        ],
                        "type": "contour"
                      }
                    ],
                    "contourcarpet": [
                      {
                        "colorbar": {
                          "outlinewidth": 0,
                          "ticks": ""
                        },
                        "type": "contourcarpet"
                      }
                    ],
                    "heatmap": [
                      {
                        "colorbar": {
                          "outlinewidth": 0,
                          "ticks": ""
                        },
                        "colorscale": [
                          [
                            0,
                            "#0d0887"
                          ],
                          [
                            0.1111111111111111,
                            "#46039f"
                          ],
                          [
                            0.2222222222222222,
                            "#7201a8"
                          ],
                          [
                            0.3333333333333333,
                            "#9c179e"
                          ],
                          [
                            0.4444444444444444,
                            "#bd3786"
                          ],
                          [
                            0.5555555555555556,
                            "#d8576b"
                          ],
                          [
                            0.6666666666666666,
                            "#ed7953"
                          ],
                          [
                            0.7777777777777778,
                            "#fb9f3a"
                          ],
                          [
                            0.8888888888888888,
                            "#fdca26"
                          ],
                          [
                            1,
                            "#f0f921"
                          ]
                        ],
                        "type": "heatmap"
                      }
                    ],
                    "heatmapgl": [
                      {
                        "colorbar": {
                          "outlinewidth": 0,
                          "ticks": ""
                        },
                        "colorscale": [
                          [
                            0,
                            "#0d0887"
                          ],
                          [
                            0.1111111111111111,
                            "#46039f"
                          ],
                          [
                            0.2222222222222222,
                            "#7201a8"
                          ],
                          [
                            0.3333333333333333,
                            "#9c179e"
                          ],
                          [
                            0.4444444444444444,
                            "#bd3786"
                          ],
                          [
                            0.5555555555555556,
                            "#d8576b"
                          ],
                          [
                            0.6666666666666666,
                            "#ed7953"
                          ],
                          [
                            0.7777777777777778,
                            "#fb9f3a"
                          ],
                          [
                            0.8888888888888888,
                            "#fdca26"
                          ],
                          [
                            1,
                            "#f0f921"
                          ]
                        ],
                        "type": "heatmapgl"
                      }
                    ],
                    "histogram": [
                      {
                        "marker": {
                          "pattern": {
                            "fillmode": "overlay",
                            "size": 10,
                            "solidity": 0.2
                          }
                        },
                        "type": "histogram"
                      }
                    ],
                    "histogram2d": [
                      {
                        "colorbar": {
                          "outlinewidth": 0,
                          "ticks": ""
                        },
                        "colorscale": [
                          [
                            0,
                            "#0d0887"
                          ],
                          [
                            0.1111111111111111,
                            "#46039f"
                          ],
                          [
                            0.2222222222222222,
                            "#7201a8"
                          ],
                          [
                            0.3333333333333333,
                            "#9c179e"
                          ],
                          [
                            0.4444444444444444,
                            "#bd3786"
                          ],
                          [
                            0.5555555555555556,
                            "#d8576b"
                          ],
                          [
                            0.6666666666666666,
                            "#ed7953"
                          ],
                          [
                            0.7777777777777778,
                            "#fb9f3a"
                          ],
                          [
                            0.8888888888888888,
                            "#fdca26"
                          ],
                          [
                            1,
                            "#f0f921"
                          ]
                        ],
                        "type": "histogram2d"
                      }
                    ],
                    "histogram2dcontour": [
                      {
                        "colorbar": {
                          "outlinewidth": 0,
                          "ticks": ""
                        },
                        "colorscale": [
                          [
                            0,
                            "#0d0887"
                          ],
                          [
                            0.1111111111111111,
                            "#46039f"
                          ],
                          [
                            0.2222222222222222,
                            "#7201a8"
                          ],
                          [
                            0.3333333333333333,
                            "#9c179e"
                          ],
                          [
                            0.4444444444444444,
                            "#bd3786"
                          ],
                          [
                            0.5555555555555556,
                            "#d8576b"
                          ],
                          [
                            0.6666666666666666,
                            "#ed7953"
                          ],
                          [
                            0.7777777777777778,
                            "#fb9f3a"
                          ],
                          [
                            0.8888888888888888,
                            "#fdca26"
                          ],
                          [
                            1,
                            "#f0f921"
                          ]
                        ],
                        "type": "histogram2dcontour"
                      }
                    ],
                    "mesh3d": [
                      {
                        "colorbar": {
                          "outlinewidth": 0,
                          "ticks": ""
                        },
                        "type": "mesh3d"
                      }
                    ],
                    "parcoords": [
                      {
                        "line": {
                          "colorbar": {
                            "outlinewidth": 0,
                            "ticks": ""
                          }
                        },
                        "type": "parcoords"
                      }
                    ],
                    "pie": [
                      {
                        "automargin": true,
                        "type": "pie"
                      }
                    ],
                    "scatter": [
                      {
                        "fillpattern": {
                          "fillmode": "overlay",
                          "size": 10,
                          "solidity": 0.2
                        },
                        "type": "scatter"
                      }
                    ],
                    "scatter3d": [
                      {
                        "line": {
                          "colorbar": {
                            "outlinewidth": 0,
                            "ticks": ""
                          }
                        },
                        "marker": {
                          "colorbar": {
                            "outlinewidth": 0,
                            "ticks": ""
                          }
                        },
                        "type": "scatter3d"
                      }
                    ],
                    "scattercarpet": [
                      {
                        "marker": {
                          "colorbar": {
                            "outlinewidth": 0,
                            "ticks": ""
                          }
                        },
                        "type": "scattercarpet"
                      }
                    ],
                    "scattergeo": [
                      {
                        "marker": {
                          "colorbar": {
                            "outlinewidth": 0,
                            "ticks": ""
                          }
                        },
                        "type": "scattergeo"
                      }
                    ],
                    "scattergl": [
                      {
                        "marker": {
                          "colorbar": {
                            "outlinewidth": 0,
                            "ticks": ""
                          }
                        },
                        "type": "scattergl"
                      }
                    ],
                    "scattermapbox": [
                      {
                        "marker": {
                          "colorbar": {
                            "outlinewidth": 0,
                            "ticks": ""
                          }
                        },
                        "type": "scattermapbox"
                      }
                    ],
                    "scatterpolar": [
                      {
                        "marker": {
                          "colorbar": {
                            "outlinewidth": 0,
                            "ticks": ""
                          }
                        },
                        "type": "scatterpolar"
                      }
                    ],
                    "scatterpolargl": [
                      {
                        "marker": {
                          "colorbar": {
                            "outlinewidth": 0,
                            "ticks": ""
                          }
                        },
                        "type": "scatterpolargl"
                      }
                    ],
                    "scatterternary": [
                      {
                        "marker": {
                          "colorbar": {
                            "outlinewidth": 0,
                            "ticks": ""
                          }
                        },
                        "type": "scatterternary"
                      }
                    ],
                    "surface": [
                      {
                        "colorbar": {
                          "outlinewidth": 0,
                          "ticks": ""
                        },
                        "colorscale": [
                          [
                            0,
                            "#0d0887"
                          ],
                          [
                            0.1111111111111111,
                            "#46039f"
                          ],
                          [
                            0.2222222222222222,
                            "#7201a8"
                          ],
                          [
                            0.3333333333333333,
                            "#9c179e"
                          ],
                          [
                            0.4444444444444444,
                            "#bd3786"
                          ],
                          [
                            0.5555555555555556,
                            "#d8576b"
                          ],
                          [
                            0.6666666666666666,
                            "#ed7953"
                          ],
                          [
                            0.7777777777777778,
                            "#fb9f3a"
                          ],
                          [
                            0.8888888888888888,
                            "#fdca26"
                          ],
                          [
                            1,
                            "#f0f921"
                          ]
                        ],
                        "type": "surface"
                      }
                    ],
                    "table": [
                      {
                        "cells": {
                          "fill": {
                            "color": "#EBF0F8"
                          },
                          "line": {
                            "color": "white"
                          }
                        },
                        "header": {
                          "fill": {
                            "color": "#C8D4E3"
                          },
                          "line": {
                            "color": "white"
                          }
                        },
                        "type": "table"
                      }
                    ]
                  },
                  "layout": {
                    "annotationdefaults": {
                      "arrowcolor": "#2a3f5f",
                      "arrowhead": 0,
                      "arrowwidth": 1
                    },
                    "autotypenumbers": "strict",
                    "coloraxis": {
                      "colorbar": {
                        "outlinewidth": 0,
                        "ticks": ""
                      }
                    },
                    "colorscale": {
                      "diverging": [
                        [
                          0,
                          "#8e0152"
                        ],
                        [
                          0.1,
                          "#c51b7d"
                        ],
                        [
                          0.2,
                          "#de77ae"
                        ],
                        [
                          0.3,
                          "#f1b6da"
                        ],
                        [
                          0.4,
                          "#fde0ef"
                        ],
                        [
                          0.5,
                          "#f7f7f7"
                        ],
                        [
                          0.6,
                          "#e6f5d0"
                        ],
                        [
                          0.7,
                          "#b8e186"
                        ],
                        [
                          0.8,
                          "#7fbc41"
                        ],
                        [
                          0.9,
                          "#4d9221"
                        ],
                        [
                          1,
                          "#276419"
                        ]
                      ],
                      "sequential": [
                        [
                          0,
                          "#0d0887"
                        ],
                        [
                          0.1111111111111111,
                          "#46039f"
                        ],
                        [
                          0.2222222222222222,
                          "#7201a8"
                        ],
                        [
                          0.3333333333333333,
                          "#9c179e"
                        ],
                        [
                          0.4444444444444444,
                          "#bd3786"
                        ],
                        [
                          0.5555555555555556,
                          "#d8576b"
                        ],
                        [
                          0.6666666666666666,
                          "#ed7953"
                        ],
                        [
                          0.7777777777777778,
                          "#fb9f3a"
                        ],
                        [
                          0.8888888888888888,
                          "#fdca26"
                        ],
                        [
                          1,
                          "#f0f921"
                        ]
                      ],
                      "sequentialminus": [
                        [
                          0,
                          "#0d0887"
                        ],
                        [
                          0.1111111111111111,
                          "#46039f"
                        ],
                        [
                          0.2222222222222222,
                          "#7201a8"
                        ],
                        [
                          0.3333333333333333,
                          "#9c179e"
                        ],
                        [
                          0.4444444444444444,
                          "#bd3786"
                        ],
                        [
                          0.5555555555555556,
                          "#d8576b"
                        ],
                        [
                          0.6666666666666666,
                          "#ed7953"
                        ],
                        [
                          0.7777777777777778,
                          "#fb9f3a"
                        ],
                        [
                          0.8888888888888888,
                          "#fdca26"
                        ],
                        [
                          1,
                          "#f0f921"
                        ]
                      ]
                    },
                    "colorway": [
                      "#636efa",
                      "#EF553B",
                      "#00cc96",
                      "#ab63fa",
                      "#FFA15A",
                      "#19d3f3",
                      "#FF6692",
                      "#B6E880",
                      "#FF97FF",
                      "#FECB52"
                    ],
                    "font": {
                      "color": "#2a3f5f"
                    },
                    "geo": {
                      "bgcolor": "white",
                      "lakecolor": "white",
                      "landcolor": "#E5ECF6",
                      "showlakes": true,
                      "showland": true,
                      "subunitcolor": "white"
                    },
                    "hoverlabel": {
                      "align": "left"
                    },
                    "hovermode": "closest",
                    "mapbox": {
                      "style": "light"
                    },
                    "paper_bgcolor": "white",
                    "plot_bgcolor": "#E5ECF6",
                    "polar": {
                      "angularaxis": {
                        "gridcolor": "white",
                        "linecolor": "white",
                        "ticks": ""
                      },
                      "bgcolor": "#E5ECF6",
                      "radialaxis": {
                        "gridcolor": "white",
                        "linecolor": "white",
                        "ticks": ""
                      }
                    },
                    "scene": {
                      "xaxis": {
                        "backgroundcolor": "#E5ECF6",
                        "gridcolor": "white",
                        "gridwidth": 2,
                        "linecolor": "white",
                        "showbackground": true,
                        "ticks": "",
                        "zerolinecolor": "white"
                      },
                      "yaxis": {
                        "backgroundcolor": "#E5ECF6",
                        "gridcolor": "white",
                        "gridwidth": 2,
                        "linecolor": "white",
                        "showbackground": true,
                        "ticks": "",
                        "zerolinecolor": "white"
                      },
                      "zaxis": {
                        "backgroundcolor": "#E5ECF6",
                        "gridcolor": "white",
                        "gridwidth": 2,
                        "linecolor": "white",
                        "showbackground": true,
                        "ticks": "",
                        "zerolinecolor": "white"
                      }
                    },
                    "shapedefaults": {
                      "line": {
                        "color": "#2a3f5f"
                      }
                    },
                    "ternary": {
                      "aaxis": {
                        "gridcolor": "white",
                        "linecolor": "white",
                        "ticks": ""
                      },
                      "baxis": {
                        "gridcolor": "white",
                        "linecolor": "white",
                        "ticks": ""
                      },
                      "bgcolor": "#E5ECF6",
                      "caxis": {
                        "gridcolor": "white",
                        "linecolor": "white",
                        "ticks": ""
                      }
                    },
                    "title": {
                      "x": 0.05
                    },
                    "xaxis": {
                      "automargin": true,
                      "gridcolor": "white",
                      "linecolor": "white",
                      "ticks": "",
                      "title": {
                        "standoff": 15
                      },
                      "zerolinecolor": "white",
                      "zerolinewidth": 2
                    },
                    "yaxis": {
                      "automargin": true,
                      "gridcolor": "white",
                      "linecolor": "white",
                      "ticks": "",
                      "title": {
                        "standoff": 15
                      },
                      "zerolinecolor": "white",
                      "zerolinewidth": 2
                    }
                  }
                },
                "title": {
                  "text": "Features importance for target : TAUX_COUV_RAJ in GRU Layers"
                },
                "xaxis": {
                  "anchor": "y",
                  "domain": [
                    0,
                    1
                  ],
                  "title": {
                    "text": "index"
                  }
                },
                "yaxis": {
                  "anchor": "x",
                  "domain": [
                    0,
                    1
                  ],
                  "title": {
                    "text": "value"
                  }
                }
              }
            }
          },
          "metadata": {},
          "output_type": "display_data"
        }
      ],
      "source": [
        "fig = px.bar(df_coef['Coeff_GRU'], title=f\"Features importance for target : {TARGET} in GRU Layers\")\n",
        "fig.show()"
      ]
    },
    {
      "cell_type": "code",
      "execution_count": 262,
      "metadata": {},
      "outputs": [],
      "source": [
        "coeff_mean_MLP = []\n",
        "for i in range(np.shape(X_train_future)[1]):\n",
        "    coeff_mean_MLP.append(np.mean(model.layers[3].trainable_variables[0][i]))"
      ]
    },
    {
      "cell_type": "code",
      "execution_count": 263,
      "metadata": {},
      "outputs": [
        {
          "data": {
            "text/plain": [
              "array([ 1.34164079, -1.3152496 ,  0.02018139,  1.48765271, -2.3138333 ,\n",
              "        0.87323521, -2.41662254,  0.2591452 ,  0.65870923,  0.76074013,\n",
              "       -1.35714306, -1.92562728, -2.61876463, -1.12007659,  1.9589205 ,\n",
              "       -1.59354667,  3.        ,  0.        ,  1.        ,  0.        ,\n",
              "        0.        ,  0.        ,  0.        ,  0.        ])"
            ]
          },
          "execution_count": 263,
          "metadata": {},
          "output_type": "execute_result"
        }
      ],
      "source": [
        "X_train_future[0]"
      ]
    },
    {
      "cell_type": "code",
      "execution_count": 264,
      "metadata": {},
      "outputs": [],
      "source": [
        "df_coef_2 = pd.DataFrame(coeff_mean_MLP, columns=['Coeff_MLP'], index= feats_future_f_num + feats_future_f_ord + list_cat_strict_future)"
      ]
    },
    {
      "cell_type": "code",
      "execution_count": 265,
      "metadata": {},
      "outputs": [
        {
          "data": {
            "application/vnd.plotly.v1+json": {
              "config": {
                "plotlyServerURL": "https://plot.ly"
              },
              "data": [
                {
                  "alignmentgroup": "True",
                  "hovertemplate": "variable=Coeff_MLP<br>index=%{x}<br>value=%{y}<extra></extra>",
                  "legendgroup": "Coeff_MLP",
                  "marker": {
                    "color": "#636efa",
                    "pattern": {
                      "shape": ""
                    }
                  },
                  "name": "Coeff_MLP",
                  "offsetgroup": "Coeff_MLP",
                  "orientation": "v",
                  "showlegend": true,
                  "textposition": "auto",
                  "type": "bar",
                  "x": [
                    "LFI_f",
                    "ALT_f",
                    "SLOPE25_f",
                    "PERF_CROI_f",
                    "PRCP_f",
                    "TAVE_AVG_f",
                    "TAVE_f",
                    "TAVE_GROWTH_f",
                    "PRCP_S_S_f",
                    "PRCP_G_S_f",
                    "AI_f",
                    "NDVI_f",
                    "EVI_f",
                    "NDMI_f",
                    "NDWI_f",
                    "DSWI_f",
                    "QUAL_STATION_f",
                    "ORIENTATION_f_0",
                    "ORIENTATION_f_1",
                    "ORIENTATION_f_2",
                    "ORIENTATION_f_3",
                    "ORIENTATION_f_4",
                    "ORIENTATION_f_5",
                    "ORIENTATION_f_6"
                  ],
                  "xaxis": "x",
                  "y": [
                    0.0053780777379870415,
                    -0.023123502731323242,
                    0.008108874782919884,
                    0.018692903220653534,
                    0.007953854277729988,
                    0.019705915823578835,
                    -0.00018340162932872772,
                    -0.00424457062035799,
                    -0.007488717325031757,
                    -0.0020519187673926353,
                    -0.017519399523735046,
                    -0.00441518472507596,
                    0.008162491954863071,
                    -0.016480393707752228,
                    0.019978804513812065,
                    0.006507076323032379,
                    -0.0010166238062083721,
                    -0.006194966845214367,
                    -0.03054138831794262,
                    -0.04613526910543442,
                    -0.008926883339881897,
                    -0.005408796016126871,
                    -0.003479559440165758,
                    -0.010710975155234337
                  ],
                  "yaxis": "y"
                }
              ],
              "layout": {
                "barmode": "relative",
                "legend": {
                  "title": {
                    "text": "variable"
                  },
                  "tracegroupgap": 0
                },
                "template": {
                  "data": {
                    "bar": [
                      {
                        "error_x": {
                          "color": "#2a3f5f"
                        },
                        "error_y": {
                          "color": "#2a3f5f"
                        },
                        "marker": {
                          "line": {
                            "color": "#E5ECF6",
                            "width": 0.5
                          },
                          "pattern": {
                            "fillmode": "overlay",
                            "size": 10,
                            "solidity": 0.2
                          }
                        },
                        "type": "bar"
                      }
                    ],
                    "barpolar": [
                      {
                        "marker": {
                          "line": {
                            "color": "#E5ECF6",
                            "width": 0.5
                          },
                          "pattern": {
                            "fillmode": "overlay",
                            "size": 10,
                            "solidity": 0.2
                          }
                        },
                        "type": "barpolar"
                      }
                    ],
                    "carpet": [
                      {
                        "aaxis": {
                          "endlinecolor": "#2a3f5f",
                          "gridcolor": "white",
                          "linecolor": "white",
                          "minorgridcolor": "white",
                          "startlinecolor": "#2a3f5f"
                        },
                        "baxis": {
                          "endlinecolor": "#2a3f5f",
                          "gridcolor": "white",
                          "linecolor": "white",
                          "minorgridcolor": "white",
                          "startlinecolor": "#2a3f5f"
                        },
                        "type": "carpet"
                      }
                    ],
                    "choropleth": [
                      {
                        "colorbar": {
                          "outlinewidth": 0,
                          "ticks": ""
                        },
                        "type": "choropleth"
                      }
                    ],
                    "contour": [
                      {
                        "colorbar": {
                          "outlinewidth": 0,
                          "ticks": ""
                        },
                        "colorscale": [
                          [
                            0,
                            "#0d0887"
                          ],
                          [
                            0.1111111111111111,
                            "#46039f"
                          ],
                          [
                            0.2222222222222222,
                            "#7201a8"
                          ],
                          [
                            0.3333333333333333,
                            "#9c179e"
                          ],
                          [
                            0.4444444444444444,
                            "#bd3786"
                          ],
                          [
                            0.5555555555555556,
                            "#d8576b"
                          ],
                          [
                            0.6666666666666666,
                            "#ed7953"
                          ],
                          [
                            0.7777777777777778,
                            "#fb9f3a"
                          ],
                          [
                            0.8888888888888888,
                            "#fdca26"
                          ],
                          [
                            1,
                            "#f0f921"
                          ]
                        ],
                        "type": "contour"
                      }
                    ],
                    "contourcarpet": [
                      {
                        "colorbar": {
                          "outlinewidth": 0,
                          "ticks": ""
                        },
                        "type": "contourcarpet"
                      }
                    ],
                    "heatmap": [
                      {
                        "colorbar": {
                          "outlinewidth": 0,
                          "ticks": ""
                        },
                        "colorscale": [
                          [
                            0,
                            "#0d0887"
                          ],
                          [
                            0.1111111111111111,
                            "#46039f"
                          ],
                          [
                            0.2222222222222222,
                            "#7201a8"
                          ],
                          [
                            0.3333333333333333,
                            "#9c179e"
                          ],
                          [
                            0.4444444444444444,
                            "#bd3786"
                          ],
                          [
                            0.5555555555555556,
                            "#d8576b"
                          ],
                          [
                            0.6666666666666666,
                            "#ed7953"
                          ],
                          [
                            0.7777777777777778,
                            "#fb9f3a"
                          ],
                          [
                            0.8888888888888888,
                            "#fdca26"
                          ],
                          [
                            1,
                            "#f0f921"
                          ]
                        ],
                        "type": "heatmap"
                      }
                    ],
                    "heatmapgl": [
                      {
                        "colorbar": {
                          "outlinewidth": 0,
                          "ticks": ""
                        },
                        "colorscale": [
                          [
                            0,
                            "#0d0887"
                          ],
                          [
                            0.1111111111111111,
                            "#46039f"
                          ],
                          [
                            0.2222222222222222,
                            "#7201a8"
                          ],
                          [
                            0.3333333333333333,
                            "#9c179e"
                          ],
                          [
                            0.4444444444444444,
                            "#bd3786"
                          ],
                          [
                            0.5555555555555556,
                            "#d8576b"
                          ],
                          [
                            0.6666666666666666,
                            "#ed7953"
                          ],
                          [
                            0.7777777777777778,
                            "#fb9f3a"
                          ],
                          [
                            0.8888888888888888,
                            "#fdca26"
                          ],
                          [
                            1,
                            "#f0f921"
                          ]
                        ],
                        "type": "heatmapgl"
                      }
                    ],
                    "histogram": [
                      {
                        "marker": {
                          "pattern": {
                            "fillmode": "overlay",
                            "size": 10,
                            "solidity": 0.2
                          }
                        },
                        "type": "histogram"
                      }
                    ],
                    "histogram2d": [
                      {
                        "colorbar": {
                          "outlinewidth": 0,
                          "ticks": ""
                        },
                        "colorscale": [
                          [
                            0,
                            "#0d0887"
                          ],
                          [
                            0.1111111111111111,
                            "#46039f"
                          ],
                          [
                            0.2222222222222222,
                            "#7201a8"
                          ],
                          [
                            0.3333333333333333,
                            "#9c179e"
                          ],
                          [
                            0.4444444444444444,
                            "#bd3786"
                          ],
                          [
                            0.5555555555555556,
                            "#d8576b"
                          ],
                          [
                            0.6666666666666666,
                            "#ed7953"
                          ],
                          [
                            0.7777777777777778,
                            "#fb9f3a"
                          ],
                          [
                            0.8888888888888888,
                            "#fdca26"
                          ],
                          [
                            1,
                            "#f0f921"
                          ]
                        ],
                        "type": "histogram2d"
                      }
                    ],
                    "histogram2dcontour": [
                      {
                        "colorbar": {
                          "outlinewidth": 0,
                          "ticks": ""
                        },
                        "colorscale": [
                          [
                            0,
                            "#0d0887"
                          ],
                          [
                            0.1111111111111111,
                            "#46039f"
                          ],
                          [
                            0.2222222222222222,
                            "#7201a8"
                          ],
                          [
                            0.3333333333333333,
                            "#9c179e"
                          ],
                          [
                            0.4444444444444444,
                            "#bd3786"
                          ],
                          [
                            0.5555555555555556,
                            "#d8576b"
                          ],
                          [
                            0.6666666666666666,
                            "#ed7953"
                          ],
                          [
                            0.7777777777777778,
                            "#fb9f3a"
                          ],
                          [
                            0.8888888888888888,
                            "#fdca26"
                          ],
                          [
                            1,
                            "#f0f921"
                          ]
                        ],
                        "type": "histogram2dcontour"
                      }
                    ],
                    "mesh3d": [
                      {
                        "colorbar": {
                          "outlinewidth": 0,
                          "ticks": ""
                        },
                        "type": "mesh3d"
                      }
                    ],
                    "parcoords": [
                      {
                        "line": {
                          "colorbar": {
                            "outlinewidth": 0,
                            "ticks": ""
                          }
                        },
                        "type": "parcoords"
                      }
                    ],
                    "pie": [
                      {
                        "automargin": true,
                        "type": "pie"
                      }
                    ],
                    "scatter": [
                      {
                        "fillpattern": {
                          "fillmode": "overlay",
                          "size": 10,
                          "solidity": 0.2
                        },
                        "type": "scatter"
                      }
                    ],
                    "scatter3d": [
                      {
                        "line": {
                          "colorbar": {
                            "outlinewidth": 0,
                            "ticks": ""
                          }
                        },
                        "marker": {
                          "colorbar": {
                            "outlinewidth": 0,
                            "ticks": ""
                          }
                        },
                        "type": "scatter3d"
                      }
                    ],
                    "scattercarpet": [
                      {
                        "marker": {
                          "colorbar": {
                            "outlinewidth": 0,
                            "ticks": ""
                          }
                        },
                        "type": "scattercarpet"
                      }
                    ],
                    "scattergeo": [
                      {
                        "marker": {
                          "colorbar": {
                            "outlinewidth": 0,
                            "ticks": ""
                          }
                        },
                        "type": "scattergeo"
                      }
                    ],
                    "scattergl": [
                      {
                        "marker": {
                          "colorbar": {
                            "outlinewidth": 0,
                            "ticks": ""
                          }
                        },
                        "type": "scattergl"
                      }
                    ],
                    "scattermapbox": [
                      {
                        "marker": {
                          "colorbar": {
                            "outlinewidth": 0,
                            "ticks": ""
                          }
                        },
                        "type": "scattermapbox"
                      }
                    ],
                    "scatterpolar": [
                      {
                        "marker": {
                          "colorbar": {
                            "outlinewidth": 0,
                            "ticks": ""
                          }
                        },
                        "type": "scatterpolar"
                      }
                    ],
                    "scatterpolargl": [
                      {
                        "marker": {
                          "colorbar": {
                            "outlinewidth": 0,
                            "ticks": ""
                          }
                        },
                        "type": "scatterpolargl"
                      }
                    ],
                    "scatterternary": [
                      {
                        "marker": {
                          "colorbar": {
                            "outlinewidth": 0,
                            "ticks": ""
                          }
                        },
                        "type": "scatterternary"
                      }
                    ],
                    "surface": [
                      {
                        "colorbar": {
                          "outlinewidth": 0,
                          "ticks": ""
                        },
                        "colorscale": [
                          [
                            0,
                            "#0d0887"
                          ],
                          [
                            0.1111111111111111,
                            "#46039f"
                          ],
                          [
                            0.2222222222222222,
                            "#7201a8"
                          ],
                          [
                            0.3333333333333333,
                            "#9c179e"
                          ],
                          [
                            0.4444444444444444,
                            "#bd3786"
                          ],
                          [
                            0.5555555555555556,
                            "#d8576b"
                          ],
                          [
                            0.6666666666666666,
                            "#ed7953"
                          ],
                          [
                            0.7777777777777778,
                            "#fb9f3a"
                          ],
                          [
                            0.8888888888888888,
                            "#fdca26"
                          ],
                          [
                            1,
                            "#f0f921"
                          ]
                        ],
                        "type": "surface"
                      }
                    ],
                    "table": [
                      {
                        "cells": {
                          "fill": {
                            "color": "#EBF0F8"
                          },
                          "line": {
                            "color": "white"
                          }
                        },
                        "header": {
                          "fill": {
                            "color": "#C8D4E3"
                          },
                          "line": {
                            "color": "white"
                          }
                        },
                        "type": "table"
                      }
                    ]
                  },
                  "layout": {
                    "annotationdefaults": {
                      "arrowcolor": "#2a3f5f",
                      "arrowhead": 0,
                      "arrowwidth": 1
                    },
                    "autotypenumbers": "strict",
                    "coloraxis": {
                      "colorbar": {
                        "outlinewidth": 0,
                        "ticks": ""
                      }
                    },
                    "colorscale": {
                      "diverging": [
                        [
                          0,
                          "#8e0152"
                        ],
                        [
                          0.1,
                          "#c51b7d"
                        ],
                        [
                          0.2,
                          "#de77ae"
                        ],
                        [
                          0.3,
                          "#f1b6da"
                        ],
                        [
                          0.4,
                          "#fde0ef"
                        ],
                        [
                          0.5,
                          "#f7f7f7"
                        ],
                        [
                          0.6,
                          "#e6f5d0"
                        ],
                        [
                          0.7,
                          "#b8e186"
                        ],
                        [
                          0.8,
                          "#7fbc41"
                        ],
                        [
                          0.9,
                          "#4d9221"
                        ],
                        [
                          1,
                          "#276419"
                        ]
                      ],
                      "sequential": [
                        [
                          0,
                          "#0d0887"
                        ],
                        [
                          0.1111111111111111,
                          "#46039f"
                        ],
                        [
                          0.2222222222222222,
                          "#7201a8"
                        ],
                        [
                          0.3333333333333333,
                          "#9c179e"
                        ],
                        [
                          0.4444444444444444,
                          "#bd3786"
                        ],
                        [
                          0.5555555555555556,
                          "#d8576b"
                        ],
                        [
                          0.6666666666666666,
                          "#ed7953"
                        ],
                        [
                          0.7777777777777778,
                          "#fb9f3a"
                        ],
                        [
                          0.8888888888888888,
                          "#fdca26"
                        ],
                        [
                          1,
                          "#f0f921"
                        ]
                      ],
                      "sequentialminus": [
                        [
                          0,
                          "#0d0887"
                        ],
                        [
                          0.1111111111111111,
                          "#46039f"
                        ],
                        [
                          0.2222222222222222,
                          "#7201a8"
                        ],
                        [
                          0.3333333333333333,
                          "#9c179e"
                        ],
                        [
                          0.4444444444444444,
                          "#bd3786"
                        ],
                        [
                          0.5555555555555556,
                          "#d8576b"
                        ],
                        [
                          0.6666666666666666,
                          "#ed7953"
                        ],
                        [
                          0.7777777777777778,
                          "#fb9f3a"
                        ],
                        [
                          0.8888888888888888,
                          "#fdca26"
                        ],
                        [
                          1,
                          "#f0f921"
                        ]
                      ]
                    },
                    "colorway": [
                      "#636efa",
                      "#EF553B",
                      "#00cc96",
                      "#ab63fa",
                      "#FFA15A",
                      "#19d3f3",
                      "#FF6692",
                      "#B6E880",
                      "#FF97FF",
                      "#FECB52"
                    ],
                    "font": {
                      "color": "#2a3f5f"
                    },
                    "geo": {
                      "bgcolor": "white",
                      "lakecolor": "white",
                      "landcolor": "#E5ECF6",
                      "showlakes": true,
                      "showland": true,
                      "subunitcolor": "white"
                    },
                    "hoverlabel": {
                      "align": "left"
                    },
                    "hovermode": "closest",
                    "mapbox": {
                      "style": "light"
                    },
                    "paper_bgcolor": "white",
                    "plot_bgcolor": "#E5ECF6",
                    "polar": {
                      "angularaxis": {
                        "gridcolor": "white",
                        "linecolor": "white",
                        "ticks": ""
                      },
                      "bgcolor": "#E5ECF6",
                      "radialaxis": {
                        "gridcolor": "white",
                        "linecolor": "white",
                        "ticks": ""
                      }
                    },
                    "scene": {
                      "xaxis": {
                        "backgroundcolor": "#E5ECF6",
                        "gridcolor": "white",
                        "gridwidth": 2,
                        "linecolor": "white",
                        "showbackground": true,
                        "ticks": "",
                        "zerolinecolor": "white"
                      },
                      "yaxis": {
                        "backgroundcolor": "#E5ECF6",
                        "gridcolor": "white",
                        "gridwidth": 2,
                        "linecolor": "white",
                        "showbackground": true,
                        "ticks": "",
                        "zerolinecolor": "white"
                      },
                      "zaxis": {
                        "backgroundcolor": "#E5ECF6",
                        "gridcolor": "white",
                        "gridwidth": 2,
                        "linecolor": "white",
                        "showbackground": true,
                        "ticks": "",
                        "zerolinecolor": "white"
                      }
                    },
                    "shapedefaults": {
                      "line": {
                        "color": "#2a3f5f"
                      }
                    },
                    "ternary": {
                      "aaxis": {
                        "gridcolor": "white",
                        "linecolor": "white",
                        "ticks": ""
                      },
                      "baxis": {
                        "gridcolor": "white",
                        "linecolor": "white",
                        "ticks": ""
                      },
                      "bgcolor": "#E5ECF6",
                      "caxis": {
                        "gridcolor": "white",
                        "linecolor": "white",
                        "ticks": ""
                      }
                    },
                    "title": {
                      "x": 0.05
                    },
                    "xaxis": {
                      "automargin": true,
                      "gridcolor": "white",
                      "linecolor": "white",
                      "ticks": "",
                      "title": {
                        "standoff": 15
                      },
                      "zerolinecolor": "white",
                      "zerolinewidth": 2
                    },
                    "yaxis": {
                      "automargin": true,
                      "gridcolor": "white",
                      "linecolor": "white",
                      "ticks": "",
                      "title": {
                        "standoff": 15
                      },
                      "zerolinecolor": "white",
                      "zerolinewidth": 2
                    }
                  }
                },
                "title": {
                  "text": "Features importance for target : TAUX_COUV_RAJ in MLP Dense Layers"
                },
                "xaxis": {
                  "anchor": "y",
                  "domain": [
                    0,
                    1
                  ],
                  "title": {
                    "text": "index"
                  }
                },
                "yaxis": {
                  "anchor": "x",
                  "domain": [
                    0,
                    1
                  ],
                  "title": {
                    "text": "value"
                  }
                }
              }
            }
          },
          "metadata": {},
          "output_type": "display_data"
        }
      ],
      "source": [
        "fig = px.bar(df_coef_2['Coeff_MLP'], title=f\"Features importance for target : {TARGET} in MLP Dense Layers\")\n",
        "fig.show()"
      ]
    }
  ],
  "metadata": {
    "colab": {
      "provenance": []
    },
    "kernelspec": {
      "display_name": "Python 3.9.15 ('tf')",
      "language": "python",
      "name": "python3"
    },
    "language_info": {
      "codemirror_mode": {
        "name": "ipython",
        "version": 3
      },
      "file_extension": ".py",
      "mimetype": "text/x-python",
      "name": "python",
      "nbconvert_exporter": "python",
      "pygments_lexer": "ipython3",
      "version": "3.9.15"
    },
    "vscode": {
      "interpreter": {
        "hash": "5189243fad43be7f8e8d3cb4543ab2ad97db75cb5cafeb529b891f799005b4bf"
      }
    }
  },
  "nbformat": 4,
  "nbformat_minor": 0
}
