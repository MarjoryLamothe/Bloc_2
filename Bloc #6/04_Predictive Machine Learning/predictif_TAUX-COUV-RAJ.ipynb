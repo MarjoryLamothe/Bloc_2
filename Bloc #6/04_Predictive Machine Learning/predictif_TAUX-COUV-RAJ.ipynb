{
  "cells": [
    {
      "cell_type": "code",
      "execution_count": 24,
      "metadata": {
        "id": "F-xnvpnQb1eP"
      },
      "outputs": [],
      "source": [
        "import pandas as pd\n",
        "import numpy as np\n",
        "import plotly.express as px\n",
        "\n",
        "from sklearn.preprocessing import OneHotEncoder, StandardScaler, LabelEncoder\n",
        "from sklearn.impute import KNNImputer\n",
        "from sklearn.pipeline import Pipeline\n",
        "from sklearn.linear_model import Ridge, RidgeClassifier\n",
        "from sklearn.model_selection import train_test_split\n",
        "from sklearn.compose import ColumnTransformer\n",
        "from sklearn.model_selection import cross_val_score, GridSearchCV\n",
        "from sklearn.metrics import r2_score, accuracy_score\n",
        "\n",
        "import tensorflow as tf\n",
        "import tensorflow_addons as tfa"
      ]
    },
    {
      "cell_type": "code",
      "execution_count": 25,
      "metadata": {
        "id": "9P-_u-rOcDyp"
      },
      "outputs": [],
      "source": [
        "data_base = pd.read_excel('./big_merge_V2_meteo_SAT.xlsx').drop('Unnamed: 0', axis=1)"
      ]
    },
    {
      "cell_type": "code",
      "execution_count": 26,
      "metadata": {},
      "outputs": [],
      "source": [
        "data_base['TAUX_COUV_RAJ'] = data_base['TAUX_COUV_RAJ'].apply(lambda v : v if v!=-1 else 3)"
      ]
    },
    {
      "cell_type": "code",
      "execution_count": 27,
      "metadata": {},
      "outputs": [
        {
          "data": {
            "text/plain": [
              "3    4571\n",
              "2    2313\n",
              "4    1337\n",
              "5     629\n",
              "1     417\n",
              "6     345\n",
              "Name: TAUX_COUV_RAJ, dtype: int64"
            ]
          },
          "execution_count": 27,
          "metadata": {},
          "output_type": "execute_result"
        }
      ],
      "source": [
        "data_base['TAUX_COUV_RAJ'].value_counts()"
      ]
    },
    {
      "cell_type": "markdown",
      "metadata": {
        "id": "D9f0gOtzfjKT"
      },
      "source": [
        "PREPROCESSING _ Code base for models temporal predictions"
      ]
    },
    {
      "cell_type": "markdown",
      "metadata": {},
      "source": [
        "Ici, features engineering (création de nouvelles features à partir de la liste connues):"
      ]
    },
    {
      "cell_type": "code",
      "execution_count": 28,
      "metadata": {},
      "outputs": [],
      "source": [
        "# adding aridity index\n",
        "data_base[\"AI\"] = data_base['PRCP_GROWTH'] / data_base['TAVE_GROWTH']\n",
        "# adding H/D index\n",
        "data_base[\"H_D\"] = data_base['HAUTEUR_ARBRE'] / data_base['DBH']"
      ]
    },
    {
      "cell_type": "markdown",
      "metadata": {},
      "source": [
        "### Choix TARGET et Features :"
      ]
    },
    {
      "cell_type": "markdown",
      "metadata": {},
      "source": [
        "Target :"
      ]
    },
    {
      "cell_type": "code",
      "execution_count": 29,
      "metadata": {
        "id": "ONWylCfRdilS"
      },
      "outputs": [],
      "source": [
        "TARGET = ['TAUX_COUV_RAJ'] #exemple"
      ]
    },
    {
      "cell_type": "markdown",
      "metadata": {},
      "source": [
        "Features :"
      ]
    },
    {
      "cell_type": "code",
      "execution_count": 131,
      "metadata": {},
      "outputs": [],
      "source": [
        "# --- PAST --- \n",
        "# Attention : on peut, logiquement, inclure la TARGET... (connue dans le passé)\n",
        "cat_strict = ['PRODREG', 'ESPECE_DOM', 'TYP_RAJ_PPL', 'DEG_FERMETURE', 'STR_PPL', 'RELIEF', 'ORIENTATION'] #exemple\n",
        "cat_ord_miss = ['TAUX_COUV_RAJ', 'HT_VEG'] #exemple 'TAILLE_PPL', 'MELANGE', 'QUAL_STATION', 'SURF_TROU_AER'\n",
        "numerics = ['H_D','AI','SDI', 'AGE_PPL','ALT', 'TIGES_VIV_H', 'SURF_TER_HA', 'FEUILL_PER', 'CONIF_PER', 'PERF_CROI', 'NDVI', 'EVI', 'NDMI', 'NDWI', 'DSWI'] #exemple\n",
        "\n",
        "# --- FUTURE KNOWN ---\n",
        "# Attention : logiquement les features, potentiellement connues dans le futur ci-dessous sont aussi répertoriées ci-dessus dans le passé\n",
        "add_cat_IFN_stable = ['DEG_FERMETURE', 'STR_PPL'] # technos-substituts : 'DEG_FERMETURE', 'STR_PPL'\n",
        "add_cat_ord_IFN_stable = [] # technos-substituts : 'DEG_FERMETURE', 'STR_PPL', 'SURF_TROU_AER' 'TAILLE_PPL', 'SURF_TROU_AER'\n",
        "add_IFN_numerics_stable = ['SDI', 'H_D', 'TIGES_VIV_H'] # technos-substituts : , 'SDI'\n",
        "# données potentiellement connues car stables par parcelles :\n",
        "#['LAT', 'LON', 'ALT', 'PRODREG', 'HT_VEG', 'SLOPE25', 'ASPECT25', 'ORIENTATION', 'PERF_CROI', 'QUAL_STATION', 'UNIT_VEG_FINE',\n",
        "# 'UNIT_VEG_GROS', 'PROCESS_SILVA', 'PERI_CHENAUX', 'PERI_COULEES','PERI_AVALANCH', 'PERI_CHUTES', 'ETAGE', 'ENDOMMAGEMENT','NB_DEGAT_ARBRE']\n",
        "# + données extrapolées grâce à des technologies prometteuses (satellites ?)....\n",
        "\n",
        "add_meteo_known = ['PRCP', 'TAVE_AVG',\t'TAVE', 'TAVE_GROWTH', 'PRCP_S_S',\t'PRCP_G_S', 'AI']\n",
        "\n",
        "add_SAT_known = ['NDVI', 'EVI', 'NDMI', 'NDWI', 'DSWI']"
      ]
    },
    {
      "cell_type": "code",
      "execution_count": 132,
      "metadata": {},
      "outputs": [],
      "source": [
        "features_past = numerics + cat_strict + cat_ord_miss\n",
        "features_future = add_cat_IFN_stable + add_cat_ord_IFN_stable + add_IFN_numerics_stable + add_meteo_known + add_SAT_known"
      ]
    },
    {
      "cell_type": "code",
      "execution_count": 133,
      "metadata": {
        "id": "OkL-2XrZdDvZ"
      },
      "outputs": [],
      "source": [
        "data_LFI1 = data_base.loc[data_base['LFI']=='LFI1',:].sort_values('PARCELLE')\n",
        "data_LFI2 = data_base.loc[data_base['LFI']=='LFI2',:].sort_values('PARCELLE')\n",
        "data_LFI3 = data_base.loc[data_base['LFI']=='LFI3',:].sort_values('PARCELLE')\n",
        "data_LFI4 = data_base.loc[data_base['LFI']=='LFI4',:].sort_values('PARCELLE')"
      ]
    },
    {
      "cell_type": "code",
      "execution_count": 134,
      "metadata": {},
      "outputs": [
        {
          "data": {
            "text/plain": [
              "0.29646283832163833"
            ]
          },
          "execution_count": 134,
          "metadata": {},
          "output_type": "execute_result"
        }
      ],
      "source": [
        "r2_score(data_LFI4['TAUX_COUV_RAJ'], data_LFI3['TAUX_COUV_RAJ'])"
      ]
    },
    {
      "cell_type": "code",
      "execution_count": 135,
      "metadata": {},
      "outputs": [
        {
          "data": {
            "text/plain": [
              "0.4540158135663754"
            ]
          },
          "execution_count": 135,
          "metadata": {},
          "output_type": "execute_result"
        }
      ],
      "source": [
        "accuracy_score(data_LFI4['TAUX_COUV_RAJ'], data_LFI3['TAUX_COUV_RAJ'])"
      ]
    },
    {
      "cell_type": "code",
      "execution_count": 136,
      "metadata": {},
      "outputs": [],
      "source": [
        "future_feat_names = []\n",
        "add_cat_strict_feat_names = []\n",
        "add_cat_ord_feat_names = []\n",
        "add_numerics_feat_names = []\n",
        "\n",
        "for cat in features_future:\n",
        "    lfi2_list = data_LFI2[cat].to_list()\n",
        "    lfi3_list = data_LFI3[cat].to_list()\n",
        "    lfi4_list = data_LFI4[cat].to_list()\n",
        "    data_LFI1[cat + \"_f\"] = lfi2_list\n",
        "    data_LFI2[cat + \"_f\"] = lfi2_list\n",
        "    data_LFI3[cat + \"_f\"] = lfi2_list\n",
        "    future_feat_names.append(cat + '_f')\n",
        "    if cat in add_cat_ord_IFN_stable:\n",
        "        add_cat_ord_feat_names.append(cat + '_f')\n",
        "    elif cat in add_cat_IFN_stable:\n",
        "        add_cat_strict_feat_names.append(cat + '_f')\n",
        "    else:\n",
        "        add_numerics_feat_names.append(cat + '_f')\n"
      ]
    },
    {
      "cell_type": "code",
      "execution_count": 137,
      "metadata": {},
      "outputs": [],
      "source": [
        "data_red = pd.concat([data_LFI1, data_LFI2, data_LFI3], axis=0)[features_past + future_feat_names]\n",
        "Y = pd.concat([data_LFI2[TARGET], data_LFI3[TARGET], data_LFI4[TARGET]], axis = 0)"
      ]
    },
    {
      "cell_type": "code",
      "execution_count": 138,
      "metadata": {},
      "outputs": [
        {
          "data": {
            "text/html": [
              "<div>\n",
              "<style scoped>\n",
              "    .dataframe tbody tr th:only-of-type {\n",
              "        vertical-align: middle;\n",
              "    }\n",
              "\n",
              "    .dataframe tbody tr th {\n",
              "        vertical-align: top;\n",
              "    }\n",
              "\n",
              "    .dataframe thead th {\n",
              "        text-align: right;\n",
              "    }\n",
              "</style>\n",
              "<table border=\"1\" class=\"dataframe\">\n",
              "  <thead>\n",
              "    <tr style=\"text-align: right;\">\n",
              "      <th></th>\n",
              "      <th>H_D</th>\n",
              "      <th>AI</th>\n",
              "      <th>SDI</th>\n",
              "      <th>AGE_PPL</th>\n",
              "      <th>ALT</th>\n",
              "      <th>TIGES_VIV_H</th>\n",
              "      <th>SURF_TER_HA</th>\n",
              "      <th>FEUILL_PER</th>\n",
              "      <th>CONIF_PER</th>\n",
              "      <th>PERF_CROI</th>\n",
              "      <th>...</th>\n",
              "      <th>TAVE_f</th>\n",
              "      <th>TAVE_GROWTH_f</th>\n",
              "      <th>PRCP_S_S_f</th>\n",
              "      <th>PRCP_G_S_f</th>\n",
              "      <th>AI_f</th>\n",
              "      <th>NDVI_f</th>\n",
              "      <th>EVI_f</th>\n",
              "      <th>NDMI_f</th>\n",
              "      <th>NDWI_f</th>\n",
              "      <th>DSWI_f</th>\n",
              "    </tr>\n",
              "  </thead>\n",
              "  <tbody>\n",
              "    <tr>\n",
              "      <th>0</th>\n",
              "      <td>0.695652</td>\n",
              "      <td>NaN</td>\n",
              "      <td>571</td>\n",
              "      <td>85.0</td>\n",
              "      <td>715.918970</td>\n",
              "      <td>590.0</td>\n",
              "      <td>27.79</td>\n",
              "      <td>NaN</td>\n",
              "      <td>NaN</td>\n",
              "      <td>4676</td>\n",
              "      <td>...</td>\n",
              "      <td>9.026806</td>\n",
              "      <td>13.84776</td>\n",
              "      <td>117.278617</td>\n",
              "      <td>51.835496</td>\n",
              "      <td>41.138213</td>\n",
              "      <td>0.4992</td>\n",
              "      <td>0.0160</td>\n",
              "      <td>0.2705</td>\n",
              "      <td>-0.4653</td>\n",
              "      <td>0.6865</td>\n",
              "    </tr>\n",
              "    <tr>\n",
              "      <th>5</th>\n",
              "      <td>0.647727</td>\n",
              "      <td>NaN</td>\n",
              "      <td>890</td>\n",
              "      <td>140.0</td>\n",
              "      <td>563.829759</td>\n",
              "      <td>400.0</td>\n",
              "      <td>53.38</td>\n",
              "      <td>NaN</td>\n",
              "      <td>NaN</td>\n",
              "      <td>3402</td>\n",
              "      <td>...</td>\n",
              "      <td>19.793490</td>\n",
              "      <td>13.83959</td>\n",
              "      <td>122.675652</td>\n",
              "      <td>55.827235</td>\n",
              "      <td>46.389611</td>\n",
              "      <td>0.5552</td>\n",
              "      <td>0.0149</td>\n",
              "      <td>0.2017</td>\n",
              "      <td>-0.4864</td>\n",
              "      <td>0.6996</td>\n",
              "    </tr>\n",
              "    <tr>\n",
              "      <th>9</th>\n",
              "      <td>0.666667</td>\n",
              "      <td>NaN</td>\n",
              "      <td>489</td>\n",
              "      <td>80.0</td>\n",
              "      <td>564.885846</td>\n",
              "      <td>320.0</td>\n",
              "      <td>26.70</td>\n",
              "      <td>NaN</td>\n",
              "      <td>NaN</td>\n",
              "      <td>5617</td>\n",
              "      <td>...</td>\n",
              "      <td>11.671380</td>\n",
              "      <td>13.39843</td>\n",
              "      <td>128.067334</td>\n",
              "      <td>61.309991</td>\n",
              "      <td>50.289235</td>\n",
              "      <td>0.5633</td>\n",
              "      <td>0.0153</td>\n",
              "      <td>0.1727</td>\n",
              "      <td>-0.5002</td>\n",
              "      <td>0.6852</td>\n",
              "    </tr>\n",
              "    <tr>\n",
              "      <th>14</th>\n",
              "      <td>NaN</td>\n",
              "      <td>NaN</td>\n",
              "      <td>0</td>\n",
              "      <td>2.0</td>\n",
              "      <td>563.551602</td>\n",
              "      <td>0.0</td>\n",
              "      <td>0.00</td>\n",
              "      <td>NaN</td>\n",
              "      <td>NaN</td>\n",
              "      <td>4258</td>\n",
              "      <td>...</td>\n",
              "      <td>10.459870</td>\n",
              "      <td>13.15530</td>\n",
              "      <td>130.759873</td>\n",
              "      <td>63.219754</td>\n",
              "      <td>52.814083</td>\n",
              "      <td>0.6059</td>\n",
              "      <td>0.0197</td>\n",
              "      <td>0.2269</td>\n",
              "      <td>-0.5588</td>\n",
              "      <td>0.8384</td>\n",
              "    </tr>\n",
              "    <tr>\n",
              "      <th>19</th>\n",
              "      <td>0.676471</td>\n",
              "      <td>NaN</td>\n",
              "      <td>377</td>\n",
              "      <td>130.0</td>\n",
              "      <td>539.769096</td>\n",
              "      <td>150.0</td>\n",
              "      <td>23.32</td>\n",
              "      <td>NaN</td>\n",
              "      <td>NaN</td>\n",
              "      <td>4330</td>\n",
              "      <td>...</td>\n",
              "      <td>11.544840</td>\n",
              "      <td>13.16893</td>\n",
              "      <td>131.143585</td>\n",
              "      <td>62.702111</td>\n",
              "      <td>52.327425</td>\n",
              "      <td>0.6012</td>\n",
              "      <td>0.0184</td>\n",
              "      <td>0.2029</td>\n",
              "      <td>-0.5486</td>\n",
              "      <td>0.7902</td>\n",
              "    </tr>\n",
              "  </tbody>\n",
              "</table>\n",
              "<p>5 rows × 41 columns</p>\n",
              "</div>"
            ],
            "text/plain": [
              "         H_D  AI  SDI  AGE_PPL         ALT  TIGES_VIV_H  SURF_TER_HA  \\\n",
              "0   0.695652 NaN  571     85.0  715.918970        590.0        27.79   \n",
              "5   0.647727 NaN  890    140.0  563.829759        400.0        53.38   \n",
              "9   0.666667 NaN  489     80.0  564.885846        320.0        26.70   \n",
              "14       NaN NaN    0      2.0  563.551602          0.0         0.00   \n",
              "19  0.676471 NaN  377    130.0  539.769096        150.0        23.32   \n",
              "\n",
              "    FEUILL_PER  CONIF_PER  PERF_CROI  ...     TAVE_f  TAVE_GROWTH_f  \\\n",
              "0          NaN        NaN       4676  ...   9.026806       13.84776   \n",
              "5          NaN        NaN       3402  ...  19.793490       13.83959   \n",
              "9          NaN        NaN       5617  ...  11.671380       13.39843   \n",
              "14         NaN        NaN       4258  ...  10.459870       13.15530   \n",
              "19         NaN        NaN       4330  ...  11.544840       13.16893   \n",
              "\n",
              "    PRCP_S_S_f  PRCP_G_S_f       AI_f  NDVI_f   EVI_f  NDMI_f  NDWI_f  DSWI_f  \n",
              "0   117.278617   51.835496  41.138213  0.4992  0.0160  0.2705 -0.4653  0.6865  \n",
              "5   122.675652   55.827235  46.389611  0.5552  0.0149  0.2017 -0.4864  0.6996  \n",
              "9   128.067334   61.309991  50.289235  0.5633  0.0153  0.1727 -0.5002  0.6852  \n",
              "14  130.759873   63.219754  52.814083  0.6059  0.0197  0.2269 -0.5588  0.8384  \n",
              "19  131.143585   62.702111  52.327425  0.6012  0.0184  0.2029 -0.5486  0.7902  \n",
              "\n",
              "[5 rows x 41 columns]"
            ]
          },
          "execution_count": 138,
          "metadata": {},
          "output_type": "execute_result"
        }
      ],
      "source": [
        "data_red.head()"
      ]
    },
    {
      "cell_type": "code",
      "execution_count": 139,
      "metadata": {},
      "outputs": [],
      "source": [
        "Y = Y.to_numpy().ravel()"
      ]
    },
    {
      "cell_type": "markdown",
      "metadata": {},
      "source": [
        "Traitement des données catégorielles ordonnées en numériques (gestion des \"-1\" éventuels) :"
      ]
    },
    {
      "cell_type": "code",
      "execution_count": 140,
      "metadata": {},
      "outputs": [],
      "source": [
        "feats_cat_ord = cat_ord_miss + add_cat_ord_feat_names\n",
        "for cat in feats_cat_ord:\n",
        "  data_red[cat] = data_red[cat].apply(lambda v : v if v!=-1 else np.nan)"
      ]
    },
    {
      "cell_type": "markdown",
      "metadata": {},
      "source": [
        "LISTE DES FEATURES NUMERIQUES ET CATEGORIELLES EN VUE DU PREPROCESSING DE MODELE :"
      ]
    },
    {
      "cell_type": "code",
      "execution_count": 141,
      "metadata": {},
      "outputs": [],
      "source": [
        "numerics_features = numerics + feats_cat_ord + add_numerics_feat_names\n",
        "feats_cat_strict = cat_strict + add_cat_strict_feat_names"
      ]
    },
    {
      "cell_type": "code",
      "execution_count": 142,
      "metadata": {},
      "outputs": [
        {
          "data": {
            "text/plain": [
              "['PRODREG',\n",
              " 'ESPECE_DOM',\n",
              " 'TYP_RAJ_PPL',\n",
              " 'DEG_FERMETURE',\n",
              " 'STR_PPL',\n",
              " 'RELIEF',\n",
              " 'ORIENTATION',\n",
              " 'DEG_FERMETURE_f',\n",
              " 'STR_PPL_f']"
            ]
          },
          "execution_count": 142,
          "metadata": {},
          "output_type": "execute_result"
        }
      ],
      "source": [
        "feats_cat_strict"
      ]
    },
    {
      "cell_type": "code",
      "execution_count": 143,
      "metadata": {},
      "outputs": [],
      "source": [
        "numerics_transforms = Pipeline(\n",
        "    [('imputer',KNNImputer()),\n",
        "    ('encoder',StandardScaler())\n",
        "])\n",
        "categorials_transforms = Pipeline([\n",
        "    ('imputer',KNNImputer()),\n",
        "    ('encoder',OneHotEncoder(drop=\"first\"))\n",
        "])\n",
        "\n",
        "preprocessor = ColumnTransformer(\n",
        "    [(\"num\", numerics_transforms, numerics_features),\n",
        "     (\"cat\", categorials_transforms, feats_cat_strict)])"
      ]
    },
    {
      "cell_type": "code",
      "execution_count": 144,
      "metadata": {},
      "outputs": [],
      "source": [
        "data_red['ORIENTATION'] = data_red['ORIENTATION'].map({'N':0,'NE':1,'E':2,'SE':3,'S':4,'SO':5,'O':6,'NO':7})\n",
        "#data_red['ORIENTATION_f'] = data_red['ORIENTATION_f'].map({'N':0,'NE':1,'E':2,'SE':3,'S':4,'SO':5,'O':6,'NO':7})\n"
      ]
    },
    {
      "cell_type": "code",
      "execution_count": 145,
      "metadata": {},
      "outputs": [],
      "source": [
        "X_train, X_test, y_train, y_test = train_test_split(data_red, Y, test_size=0.2, random_state=2, stratify=Y)"
      ]
    },
    {
      "cell_type": "code",
      "execution_count": 146,
      "metadata": {},
      "outputs": [
        {
          "data": {
            "text/plain": [
              "(5767, 41)"
            ]
          },
          "execution_count": 146,
          "metadata": {},
          "output_type": "execute_result"
        }
      ],
      "source": [
        "np.shape(X_train)"
      ]
    },
    {
      "cell_type": "code",
      "execution_count": 147,
      "metadata": {},
      "outputs": [],
      "source": [
        "X_train = preprocessor.fit_transform(X_train)\n",
        "X_test = preprocessor.transform(X_test)"
      ]
    },
    {
      "cell_type": "code",
      "execution_count": 148,
      "metadata": {},
      "outputs": [
        {
          "data": {
            "text/plain": [
              "(5767, 90)"
            ]
          },
          "execution_count": 148,
          "metadata": {},
          "output_type": "execute_result"
        }
      ],
      "source": [
        "np.shape(X_train)"
      ]
    },
    {
      "cell_type": "code",
      "execution_count": 149,
      "metadata": {},
      "outputs": [
        {
          "data": {
            "text/plain": [
              "(1442, 90)"
            ]
          },
          "execution_count": 149,
          "metadata": {},
          "output_type": "execute_result"
        }
      ],
      "source": [
        "np.shape(X_test)"
      ]
    },
    {
      "cell_type": "code",
      "execution_count": 150,
      "metadata": {},
      "outputs": [],
      "source": [
        "model =  RidgeClassifier(max_iter=10000)"
      ]
    },
    {
      "cell_type": "code",
      "execution_count": 151,
      "metadata": {},
      "outputs": [],
      "source": [
        "params = {\n",
        "    'alpha':[18, 26, 36]\n",
        "}"
      ]
    },
    {
      "cell_type": "code",
      "execution_count": 152,
      "metadata": {},
      "outputs": [],
      "source": [
        "grid = GridSearchCV(model, param_grid=params, scoring='accuracy', verbose=2)"
      ]
    },
    {
      "cell_type": "code",
      "execution_count": 153,
      "metadata": {},
      "outputs": [
        {
          "name": "stdout",
          "output_type": "stream",
          "text": [
            "Fitting 5 folds for each of 3 candidates, totalling 15 fits\n",
            "[CV] END ...........................................alpha=18; total time=   0.0s\n",
            "[CV] END ...........................................alpha=18; total time=   0.0s\n",
            "[CV] END ...........................................alpha=18; total time=   0.0s\n",
            "[CV] END ...........................................alpha=18; total time=   0.0s\n",
            "[CV] END ...........................................alpha=18; total time=   0.0s\n",
            "[CV] END ...........................................alpha=26; total time=   0.0s\n",
            "[CV] END ...........................................alpha=26; total time=   0.0s\n",
            "[CV] END ...........................................alpha=26; total time=   0.0s\n",
            "[CV] END ...........................................alpha=26; total time=   0.0s\n",
            "[CV] END ...........................................alpha=26; total time=   0.0s\n",
            "[CV] END ...........................................alpha=36; total time=   0.0s\n",
            "[CV] END ...........................................alpha=36; total time=   0.0s\n",
            "[CV] END ...........................................alpha=36; total time=   0.0s\n",
            "[CV] END ...........................................alpha=36; total time=   0.0s\n",
            "[CV] END ...........................................alpha=36; total time=   0.0s\n"
          ]
        },
        {
          "data": {
            "text/plain": [
              "GridSearchCV(estimator=RidgeClassifier(max_iter=10000),\n",
              "             param_grid={'alpha': [18, 26, 36]}, scoring='accuracy', verbose=2)"
            ]
          },
          "execution_count": 153,
          "metadata": {},
          "output_type": "execute_result"
        }
      ],
      "source": [
        "grid.fit(X_train, y_train)"
      ]
    },
    {
      "cell_type": "code",
      "execution_count": 154,
      "metadata": {},
      "outputs": [
        {
          "data": {
            "text/plain": [
              "RidgeClassifier(alpha=26, max_iter=10000)"
            ]
          },
          "execution_count": 154,
          "metadata": {},
          "output_type": "execute_result"
        }
      ],
      "source": [
        "grid.best_estimator_"
      ]
    },
    {
      "cell_type": "code",
      "execution_count": 155,
      "metadata": {},
      "outputs": [
        {
          "name": "stdout",
          "output_type": "stream",
          "text": [
            "Train score mean : 0.4317667271423654\n",
            "Train score std : 0.010780147165774719\n",
            "Test score mean : 0.39599913494809685\n",
            "Test score std : 0.027566349970251182\n"
          ]
        }
      ],
      "source": [
        "train_scores = cross_val_score(grid.best_estimator_, X_train, y_train, cv=5)\n",
        "test_scores = cross_val_score(grid.best_estimator_, X_test, y_test, cv=5)\n",
        "print(f'Train score mean : {np.mean(train_scores)}')\n",
        "print(f'Train score std : {np.std(train_scores)}')\n",
        "print(f'Test score mean : {np.mean(test_scores)}')\n",
        "print(f'Test score std : {np.std(test_scores)}')"
      ]
    },
    {
      "cell_type": "code",
      "execution_count": 156,
      "metadata": {},
      "outputs": [],
      "source": [
        "list_features_in = []\n",
        "for feat in numerics_features:\n",
        "  list_features_in.append(feat)\n",
        "for cat in feats_cat_strict:\n",
        "  nb_lab = len(data_red[cat].unique())-1\n",
        "  for i in range(nb_lab):\n",
        "    list_features_in.append(f'{cat}_{i}')"
      ]
    },
    {
      "cell_type": "code",
      "execution_count": 157,
      "metadata": {},
      "outputs": [],
      "source": [
        "df_coef_inter = pd.DataFrame(grid.best_estimator_.coef_)"
      ]
    },
    {
      "cell_type": "code",
      "execution_count": 158,
      "metadata": {},
      "outputs": [
        {
          "data": {
            "text/plain": [
              "90"
            ]
          },
          "execution_count": 158,
          "metadata": {},
          "output_type": "execute_result"
        }
      ],
      "source": [
        "len(abs(df_coef_inter).sum())"
      ]
    },
    {
      "cell_type": "code",
      "execution_count": 159,
      "metadata": {},
      "outputs": [],
      "source": [
        "df_coef = pd.DataFrame(abs(df_coef_inter).sum(), columns=['Coeff'])"
      ]
    },
    {
      "cell_type": "code",
      "execution_count": 160,
      "metadata": {},
      "outputs": [
        {
          "data": {
            "text/html": [
              "<div>\n",
              "<style scoped>\n",
              "    .dataframe tbody tr th:only-of-type {\n",
              "        vertical-align: middle;\n",
              "    }\n",
              "\n",
              "    .dataframe tbody tr th {\n",
              "        vertical-align: top;\n",
              "    }\n",
              "\n",
              "    .dataframe thead th {\n",
              "        text-align: right;\n",
              "    }\n",
              "</style>\n",
              "<table border=\"1\" class=\"dataframe\">\n",
              "  <thead>\n",
              "    <tr style=\"text-align: right;\">\n",
              "      <th></th>\n",
              "      <th>Coeff</th>\n",
              "    </tr>\n",
              "  </thead>\n",
              "  <tbody>\n",
              "    <tr>\n",
              "      <th>0</th>\n",
              "      <td>0.058299</td>\n",
              "    </tr>\n",
              "    <tr>\n",
              "      <th>1</th>\n",
              "      <td>0.112665</td>\n",
              "    </tr>\n",
              "    <tr>\n",
              "      <th>2</th>\n",
              "      <td>0.518108</td>\n",
              "    </tr>\n",
              "    <tr>\n",
              "      <th>3</th>\n",
              "      <td>0.228557</td>\n",
              "    </tr>\n",
              "    <tr>\n",
              "      <th>4</th>\n",
              "      <td>0.170451</td>\n",
              "    </tr>\n",
              "    <tr>\n",
              "      <th>...</th>\n",
              "      <td>...</td>\n",
              "    </tr>\n",
              "    <tr>\n",
              "      <th>85</th>\n",
              "      <td>0.368844</td>\n",
              "    </tr>\n",
              "    <tr>\n",
              "      <th>86</th>\n",
              "      <td>0.696961</td>\n",
              "    </tr>\n",
              "    <tr>\n",
              "      <th>87</th>\n",
              "      <td>0.388909</td>\n",
              "    </tr>\n",
              "    <tr>\n",
              "      <th>88</th>\n",
              "      <td>0.313900</td>\n",
              "    </tr>\n",
              "    <tr>\n",
              "      <th>89</th>\n",
              "      <td>0.449755</td>\n",
              "    </tr>\n",
              "  </tbody>\n",
              "</table>\n",
              "<p>90 rows × 1 columns</p>\n",
              "</div>"
            ],
            "text/plain": [
              "       Coeff\n",
              "0   0.058299\n",
              "1   0.112665\n",
              "2   0.518108\n",
              "3   0.228557\n",
              "4   0.170451\n",
              "..       ...\n",
              "85  0.368844\n",
              "86  0.696961\n",
              "87  0.388909\n",
              "88  0.313900\n",
              "89  0.449755\n",
              "\n",
              "[90 rows x 1 columns]"
            ]
          },
          "execution_count": 160,
          "metadata": {},
          "output_type": "execute_result"
        }
      ],
      "source": [
        "df_coef"
      ]
    },
    {
      "cell_type": "code",
      "execution_count": 161,
      "metadata": {},
      "outputs": [
        {
          "data": {
            "text/plain": [
              "90"
            ]
          },
          "execution_count": 161,
          "metadata": {},
          "output_type": "execute_result"
        }
      ],
      "source": [
        "len(list_features_in)"
      ]
    },
    {
      "cell_type": "code",
      "execution_count": 162,
      "metadata": {},
      "outputs": [],
      "source": [
        "df_coef['Features'] = list_features_in"
      ]
    },
    {
      "cell_type": "code",
      "execution_count": 163,
      "metadata": {},
      "outputs": [],
      "source": [
        "df_coef = df_coef.set_index('Features')"
      ]
    },
    {
      "cell_type": "code",
      "execution_count": 164,
      "metadata": {},
      "outputs": [
        {
          "data": {
            "application/vnd.plotly.v1+json": {
              "config": {
                "plotlyServerURL": "https://plot.ly"
              },
              "data": [
                {
                  "alignmentgroup": "True",
                  "hovertemplate": "variable=Coeff<br>Features=%{x}<br>value=%{y}<extra></extra>",
                  "legendgroup": "Coeff",
                  "marker": {
                    "color": "#636efa",
                    "pattern": {
                      "shape": ""
                    }
                  },
                  "name": "Coeff",
                  "offsetgroup": "Coeff",
                  "orientation": "v",
                  "showlegend": true,
                  "textposition": "auto",
                  "type": "bar",
                  "x": [
                    "H_D",
                    "AI",
                    "SDI",
                    "AGE_PPL",
                    "ALT",
                    "TIGES_VIV_H",
                    "SURF_TER_HA",
                    "FEUILL_PER",
                    "CONIF_PER",
                    "PERF_CROI",
                    "NDVI",
                    "EVI",
                    "NDMI",
                    "NDWI",
                    "DSWI",
                    "TAUX_COUV_RAJ",
                    "HT_VEG",
                    "SDI_f",
                    "H_D_f",
                    "TIGES_VIV_H_f",
                    "PRCP_f",
                    "TAVE_AVG_f",
                    "TAVE_f",
                    "TAVE_GROWTH_f",
                    "PRCP_S_S_f",
                    "PRCP_G_S_f",
                    "AI_f",
                    "NDVI_f",
                    "EVI_f",
                    "NDMI_f",
                    "NDWI_f",
                    "DSWI_f",
                    "PRODREG_0",
                    "PRODREG_1",
                    "PRODREG_2",
                    "PRODREG_3",
                    "ESPECE_DOM_0",
                    "ESPECE_DOM_1",
                    "ESPECE_DOM_2",
                    "ESPECE_DOM_3",
                    "ESPECE_DOM_4",
                    "ESPECE_DOM_5",
                    "ESPECE_DOM_6",
                    "ESPECE_DOM_7",
                    "ESPECE_DOM_8",
                    "ESPECE_DOM_9",
                    "ESPECE_DOM_10",
                    "ESPECE_DOM_11",
                    "TYP_RAJ_PPL_0",
                    "TYP_RAJ_PPL_1",
                    "TYP_RAJ_PPL_2",
                    "DEG_FERMETURE_0",
                    "DEG_FERMETURE_1",
                    "DEG_FERMETURE_2",
                    "DEG_FERMETURE_3",
                    "DEG_FERMETURE_4",
                    "DEG_FERMETURE_5",
                    "DEG_FERMETURE_6",
                    "DEG_FERMETURE_7",
                    "DEG_FERMETURE_8",
                    "DEG_FERMETURE_9",
                    "DEG_FERMETURE_10",
                    "STR_PPL_0",
                    "STR_PPL_1",
                    "STR_PPL_2",
                    "STR_PPL_3",
                    "RELIEF_0",
                    "RELIEF_1",
                    "RELIEF_2",
                    "RELIEF_3",
                    "RELIEF_4",
                    "ORIENTATION_0",
                    "ORIENTATION_1",
                    "ORIENTATION_2",
                    "ORIENTATION_3",
                    "ORIENTATION_4",
                    "ORIENTATION_5",
                    "ORIENTATION_6",
                    "DEG_FERMETURE_f_0",
                    "DEG_FERMETURE_f_1",
                    "DEG_FERMETURE_f_2",
                    "DEG_FERMETURE_f_3",
                    "DEG_FERMETURE_f_4",
                    "DEG_FERMETURE_f_5",
                    "DEG_FERMETURE_f_6",
                    "DEG_FERMETURE_f_7",
                    "STR_PPL_f_0",
                    "STR_PPL_f_1",
                    "STR_PPL_f_2",
                    "STR_PPL_f_3"
                  ],
                  "xaxis": "x",
                  "y": [
                    0.05829913958836191,
                    0.11266533718492493,
                    0.5181082126416595,
                    0.22855685196774175,
                    0.1704508650153972,
                    0.4177785835485099,
                    0.34051118743984776,
                    0.17977422599052761,
                    0.16493276128304865,
                    0.08744109729926497,
                    0.43986045185909106,
                    0.17286434288626973,
                    0.08197819665717,
                    0.7389933617220702,
                    0.15758563061381428,
                    0.4943128603614629,
                    0.09538446554336234,
                    0.05790810845217357,
                    0.051727146808359145,
                    0.16580397375319686,
                    0.04650640504504077,
                    0.048470371987782875,
                    0.0821375758462758,
                    0.38103261260989024,
                    0.32923332540187633,
                    0.27360554684867855,
                    0.22302309185084074,
                    0.3676507782558148,
                    0.13890340665343393,
                    0.0828071395818592,
                    0.39295624997396267,
                    0.3727023455394801,
                    0.40830249044011147,
                    0.17174548968158113,
                    0.20722295950777336,
                    0.6060112579743916,
                    0.23965566982311054,
                    0.18125266330381934,
                    0.2684886974574757,
                    0.16306866261381725,
                    0.18852781624477308,
                    0.4447054206651204,
                    0.12378511117688709,
                    0.21188712853304176,
                    0.4234329086199454,
                    0.21974642615658196,
                    0.3991778642751595,
                    0.22347183474614357,
                    0.6874760834115715,
                    0.5738167928584789,
                    0.5508286514033878,
                    0.22709933657131948,
                    0.2553286114918017,
                    0.24563575439438293,
                    0.10157308059109302,
                    0.2102745172215529,
                    0.3621432573745719,
                    0.33399861519417673,
                    0.3835357904993257,
                    0.14624826526817708,
                    0.17042872035286794,
                    0.09508085009509021,
                    0.6362552821408679,
                    0.46698917020167957,
                    0.31307500425125967,
                    0.48397755884680854,
                    0.22263622917338882,
                    0.21982574174785482,
                    0.1851807613322473,
                    0.13983043079791987,
                    0.24047529812883173,
                    0.09323649928542746,
                    0.11467822774315051,
                    0.1529725349835619,
                    0.12515347592606565,
                    0.10689120438766173,
                    0.11958054915046384,
                    0.2007694768381393,
                    0.14838943178369202,
                    0.12303653650970844,
                    0.21451181592883267,
                    0.26802421453489983,
                    0.358717934697715,
                    0.33652605049481654,
                    0.31816009717287813,
                    0.3688435967312072,
                    0.69696088861779,
                    0.3889090249532825,
                    0.3138998963952976,
                    0.44975535230736646
                  ],
                  "yaxis": "y"
                }
              ],
              "layout": {
                "barmode": "relative",
                "legend": {
                  "title": {
                    "text": "variable"
                  },
                  "tracegroupgap": 0
                },
                "template": {
                  "data": {
                    "bar": [
                      {
                        "error_x": {
                          "color": "#2a3f5f"
                        },
                        "error_y": {
                          "color": "#2a3f5f"
                        },
                        "marker": {
                          "line": {
                            "color": "#E5ECF6",
                            "width": 0.5
                          },
                          "pattern": {
                            "fillmode": "overlay",
                            "size": 10,
                            "solidity": 0.2
                          }
                        },
                        "type": "bar"
                      }
                    ],
                    "barpolar": [
                      {
                        "marker": {
                          "line": {
                            "color": "#E5ECF6",
                            "width": 0.5
                          },
                          "pattern": {
                            "fillmode": "overlay",
                            "size": 10,
                            "solidity": 0.2
                          }
                        },
                        "type": "barpolar"
                      }
                    ],
                    "carpet": [
                      {
                        "aaxis": {
                          "endlinecolor": "#2a3f5f",
                          "gridcolor": "white",
                          "linecolor": "white",
                          "minorgridcolor": "white",
                          "startlinecolor": "#2a3f5f"
                        },
                        "baxis": {
                          "endlinecolor": "#2a3f5f",
                          "gridcolor": "white",
                          "linecolor": "white",
                          "minorgridcolor": "white",
                          "startlinecolor": "#2a3f5f"
                        },
                        "type": "carpet"
                      }
                    ],
                    "choropleth": [
                      {
                        "colorbar": {
                          "outlinewidth": 0,
                          "ticks": ""
                        },
                        "type": "choropleth"
                      }
                    ],
                    "contour": [
                      {
                        "colorbar": {
                          "outlinewidth": 0,
                          "ticks": ""
                        },
                        "colorscale": [
                          [
                            0,
                            "#0d0887"
                          ],
                          [
                            0.1111111111111111,
                            "#46039f"
                          ],
                          [
                            0.2222222222222222,
                            "#7201a8"
                          ],
                          [
                            0.3333333333333333,
                            "#9c179e"
                          ],
                          [
                            0.4444444444444444,
                            "#bd3786"
                          ],
                          [
                            0.5555555555555556,
                            "#d8576b"
                          ],
                          [
                            0.6666666666666666,
                            "#ed7953"
                          ],
                          [
                            0.7777777777777778,
                            "#fb9f3a"
                          ],
                          [
                            0.8888888888888888,
                            "#fdca26"
                          ],
                          [
                            1,
                            "#f0f921"
                          ]
                        ],
                        "type": "contour"
                      }
                    ],
                    "contourcarpet": [
                      {
                        "colorbar": {
                          "outlinewidth": 0,
                          "ticks": ""
                        },
                        "type": "contourcarpet"
                      }
                    ],
                    "heatmap": [
                      {
                        "colorbar": {
                          "outlinewidth": 0,
                          "ticks": ""
                        },
                        "colorscale": [
                          [
                            0,
                            "#0d0887"
                          ],
                          [
                            0.1111111111111111,
                            "#46039f"
                          ],
                          [
                            0.2222222222222222,
                            "#7201a8"
                          ],
                          [
                            0.3333333333333333,
                            "#9c179e"
                          ],
                          [
                            0.4444444444444444,
                            "#bd3786"
                          ],
                          [
                            0.5555555555555556,
                            "#d8576b"
                          ],
                          [
                            0.6666666666666666,
                            "#ed7953"
                          ],
                          [
                            0.7777777777777778,
                            "#fb9f3a"
                          ],
                          [
                            0.8888888888888888,
                            "#fdca26"
                          ],
                          [
                            1,
                            "#f0f921"
                          ]
                        ],
                        "type": "heatmap"
                      }
                    ],
                    "heatmapgl": [
                      {
                        "colorbar": {
                          "outlinewidth": 0,
                          "ticks": ""
                        },
                        "colorscale": [
                          [
                            0,
                            "#0d0887"
                          ],
                          [
                            0.1111111111111111,
                            "#46039f"
                          ],
                          [
                            0.2222222222222222,
                            "#7201a8"
                          ],
                          [
                            0.3333333333333333,
                            "#9c179e"
                          ],
                          [
                            0.4444444444444444,
                            "#bd3786"
                          ],
                          [
                            0.5555555555555556,
                            "#d8576b"
                          ],
                          [
                            0.6666666666666666,
                            "#ed7953"
                          ],
                          [
                            0.7777777777777778,
                            "#fb9f3a"
                          ],
                          [
                            0.8888888888888888,
                            "#fdca26"
                          ],
                          [
                            1,
                            "#f0f921"
                          ]
                        ],
                        "type": "heatmapgl"
                      }
                    ],
                    "histogram": [
                      {
                        "marker": {
                          "pattern": {
                            "fillmode": "overlay",
                            "size": 10,
                            "solidity": 0.2
                          }
                        },
                        "type": "histogram"
                      }
                    ],
                    "histogram2d": [
                      {
                        "colorbar": {
                          "outlinewidth": 0,
                          "ticks": ""
                        },
                        "colorscale": [
                          [
                            0,
                            "#0d0887"
                          ],
                          [
                            0.1111111111111111,
                            "#46039f"
                          ],
                          [
                            0.2222222222222222,
                            "#7201a8"
                          ],
                          [
                            0.3333333333333333,
                            "#9c179e"
                          ],
                          [
                            0.4444444444444444,
                            "#bd3786"
                          ],
                          [
                            0.5555555555555556,
                            "#d8576b"
                          ],
                          [
                            0.6666666666666666,
                            "#ed7953"
                          ],
                          [
                            0.7777777777777778,
                            "#fb9f3a"
                          ],
                          [
                            0.8888888888888888,
                            "#fdca26"
                          ],
                          [
                            1,
                            "#f0f921"
                          ]
                        ],
                        "type": "histogram2d"
                      }
                    ],
                    "histogram2dcontour": [
                      {
                        "colorbar": {
                          "outlinewidth": 0,
                          "ticks": ""
                        },
                        "colorscale": [
                          [
                            0,
                            "#0d0887"
                          ],
                          [
                            0.1111111111111111,
                            "#46039f"
                          ],
                          [
                            0.2222222222222222,
                            "#7201a8"
                          ],
                          [
                            0.3333333333333333,
                            "#9c179e"
                          ],
                          [
                            0.4444444444444444,
                            "#bd3786"
                          ],
                          [
                            0.5555555555555556,
                            "#d8576b"
                          ],
                          [
                            0.6666666666666666,
                            "#ed7953"
                          ],
                          [
                            0.7777777777777778,
                            "#fb9f3a"
                          ],
                          [
                            0.8888888888888888,
                            "#fdca26"
                          ],
                          [
                            1,
                            "#f0f921"
                          ]
                        ],
                        "type": "histogram2dcontour"
                      }
                    ],
                    "mesh3d": [
                      {
                        "colorbar": {
                          "outlinewidth": 0,
                          "ticks": ""
                        },
                        "type": "mesh3d"
                      }
                    ],
                    "parcoords": [
                      {
                        "line": {
                          "colorbar": {
                            "outlinewidth": 0,
                            "ticks": ""
                          }
                        },
                        "type": "parcoords"
                      }
                    ],
                    "pie": [
                      {
                        "automargin": true,
                        "type": "pie"
                      }
                    ],
                    "scatter": [
                      {
                        "fillpattern": {
                          "fillmode": "overlay",
                          "size": 10,
                          "solidity": 0.2
                        },
                        "type": "scatter"
                      }
                    ],
                    "scatter3d": [
                      {
                        "line": {
                          "colorbar": {
                            "outlinewidth": 0,
                            "ticks": ""
                          }
                        },
                        "marker": {
                          "colorbar": {
                            "outlinewidth": 0,
                            "ticks": ""
                          }
                        },
                        "type": "scatter3d"
                      }
                    ],
                    "scattercarpet": [
                      {
                        "marker": {
                          "colorbar": {
                            "outlinewidth": 0,
                            "ticks": ""
                          }
                        },
                        "type": "scattercarpet"
                      }
                    ],
                    "scattergeo": [
                      {
                        "marker": {
                          "colorbar": {
                            "outlinewidth": 0,
                            "ticks": ""
                          }
                        },
                        "type": "scattergeo"
                      }
                    ],
                    "scattergl": [
                      {
                        "marker": {
                          "colorbar": {
                            "outlinewidth": 0,
                            "ticks": ""
                          }
                        },
                        "type": "scattergl"
                      }
                    ],
                    "scattermapbox": [
                      {
                        "marker": {
                          "colorbar": {
                            "outlinewidth": 0,
                            "ticks": ""
                          }
                        },
                        "type": "scattermapbox"
                      }
                    ],
                    "scatterpolar": [
                      {
                        "marker": {
                          "colorbar": {
                            "outlinewidth": 0,
                            "ticks": ""
                          }
                        },
                        "type": "scatterpolar"
                      }
                    ],
                    "scatterpolargl": [
                      {
                        "marker": {
                          "colorbar": {
                            "outlinewidth": 0,
                            "ticks": ""
                          }
                        },
                        "type": "scatterpolargl"
                      }
                    ],
                    "scatterternary": [
                      {
                        "marker": {
                          "colorbar": {
                            "outlinewidth": 0,
                            "ticks": ""
                          }
                        },
                        "type": "scatterternary"
                      }
                    ],
                    "surface": [
                      {
                        "colorbar": {
                          "outlinewidth": 0,
                          "ticks": ""
                        },
                        "colorscale": [
                          [
                            0,
                            "#0d0887"
                          ],
                          [
                            0.1111111111111111,
                            "#46039f"
                          ],
                          [
                            0.2222222222222222,
                            "#7201a8"
                          ],
                          [
                            0.3333333333333333,
                            "#9c179e"
                          ],
                          [
                            0.4444444444444444,
                            "#bd3786"
                          ],
                          [
                            0.5555555555555556,
                            "#d8576b"
                          ],
                          [
                            0.6666666666666666,
                            "#ed7953"
                          ],
                          [
                            0.7777777777777778,
                            "#fb9f3a"
                          ],
                          [
                            0.8888888888888888,
                            "#fdca26"
                          ],
                          [
                            1,
                            "#f0f921"
                          ]
                        ],
                        "type": "surface"
                      }
                    ],
                    "table": [
                      {
                        "cells": {
                          "fill": {
                            "color": "#EBF0F8"
                          },
                          "line": {
                            "color": "white"
                          }
                        },
                        "header": {
                          "fill": {
                            "color": "#C8D4E3"
                          },
                          "line": {
                            "color": "white"
                          }
                        },
                        "type": "table"
                      }
                    ]
                  },
                  "layout": {
                    "annotationdefaults": {
                      "arrowcolor": "#2a3f5f",
                      "arrowhead": 0,
                      "arrowwidth": 1
                    },
                    "autotypenumbers": "strict",
                    "coloraxis": {
                      "colorbar": {
                        "outlinewidth": 0,
                        "ticks": ""
                      }
                    },
                    "colorscale": {
                      "diverging": [
                        [
                          0,
                          "#8e0152"
                        ],
                        [
                          0.1,
                          "#c51b7d"
                        ],
                        [
                          0.2,
                          "#de77ae"
                        ],
                        [
                          0.3,
                          "#f1b6da"
                        ],
                        [
                          0.4,
                          "#fde0ef"
                        ],
                        [
                          0.5,
                          "#f7f7f7"
                        ],
                        [
                          0.6,
                          "#e6f5d0"
                        ],
                        [
                          0.7,
                          "#b8e186"
                        ],
                        [
                          0.8,
                          "#7fbc41"
                        ],
                        [
                          0.9,
                          "#4d9221"
                        ],
                        [
                          1,
                          "#276419"
                        ]
                      ],
                      "sequential": [
                        [
                          0,
                          "#0d0887"
                        ],
                        [
                          0.1111111111111111,
                          "#46039f"
                        ],
                        [
                          0.2222222222222222,
                          "#7201a8"
                        ],
                        [
                          0.3333333333333333,
                          "#9c179e"
                        ],
                        [
                          0.4444444444444444,
                          "#bd3786"
                        ],
                        [
                          0.5555555555555556,
                          "#d8576b"
                        ],
                        [
                          0.6666666666666666,
                          "#ed7953"
                        ],
                        [
                          0.7777777777777778,
                          "#fb9f3a"
                        ],
                        [
                          0.8888888888888888,
                          "#fdca26"
                        ],
                        [
                          1,
                          "#f0f921"
                        ]
                      ],
                      "sequentialminus": [
                        [
                          0,
                          "#0d0887"
                        ],
                        [
                          0.1111111111111111,
                          "#46039f"
                        ],
                        [
                          0.2222222222222222,
                          "#7201a8"
                        ],
                        [
                          0.3333333333333333,
                          "#9c179e"
                        ],
                        [
                          0.4444444444444444,
                          "#bd3786"
                        ],
                        [
                          0.5555555555555556,
                          "#d8576b"
                        ],
                        [
                          0.6666666666666666,
                          "#ed7953"
                        ],
                        [
                          0.7777777777777778,
                          "#fb9f3a"
                        ],
                        [
                          0.8888888888888888,
                          "#fdca26"
                        ],
                        [
                          1,
                          "#f0f921"
                        ]
                      ]
                    },
                    "colorway": [
                      "#636efa",
                      "#EF553B",
                      "#00cc96",
                      "#ab63fa",
                      "#FFA15A",
                      "#19d3f3",
                      "#FF6692",
                      "#B6E880",
                      "#FF97FF",
                      "#FECB52"
                    ],
                    "font": {
                      "color": "#2a3f5f"
                    },
                    "geo": {
                      "bgcolor": "white",
                      "lakecolor": "white",
                      "landcolor": "#E5ECF6",
                      "showlakes": true,
                      "showland": true,
                      "subunitcolor": "white"
                    },
                    "hoverlabel": {
                      "align": "left"
                    },
                    "hovermode": "closest",
                    "mapbox": {
                      "style": "light"
                    },
                    "paper_bgcolor": "white",
                    "plot_bgcolor": "#E5ECF6",
                    "polar": {
                      "angularaxis": {
                        "gridcolor": "white",
                        "linecolor": "white",
                        "ticks": ""
                      },
                      "bgcolor": "#E5ECF6",
                      "radialaxis": {
                        "gridcolor": "white",
                        "linecolor": "white",
                        "ticks": ""
                      }
                    },
                    "scene": {
                      "xaxis": {
                        "backgroundcolor": "#E5ECF6",
                        "gridcolor": "white",
                        "gridwidth": 2,
                        "linecolor": "white",
                        "showbackground": true,
                        "ticks": "",
                        "zerolinecolor": "white"
                      },
                      "yaxis": {
                        "backgroundcolor": "#E5ECF6",
                        "gridcolor": "white",
                        "gridwidth": 2,
                        "linecolor": "white",
                        "showbackground": true,
                        "ticks": "",
                        "zerolinecolor": "white"
                      },
                      "zaxis": {
                        "backgroundcolor": "#E5ECF6",
                        "gridcolor": "white",
                        "gridwidth": 2,
                        "linecolor": "white",
                        "showbackground": true,
                        "ticks": "",
                        "zerolinecolor": "white"
                      }
                    },
                    "shapedefaults": {
                      "line": {
                        "color": "#2a3f5f"
                      }
                    },
                    "ternary": {
                      "aaxis": {
                        "gridcolor": "white",
                        "linecolor": "white",
                        "ticks": ""
                      },
                      "baxis": {
                        "gridcolor": "white",
                        "linecolor": "white",
                        "ticks": ""
                      },
                      "bgcolor": "#E5ECF6",
                      "caxis": {
                        "gridcolor": "white",
                        "linecolor": "white",
                        "ticks": ""
                      }
                    },
                    "title": {
                      "x": 0.05
                    },
                    "xaxis": {
                      "automargin": true,
                      "gridcolor": "white",
                      "linecolor": "white",
                      "ticks": "",
                      "title": {
                        "standoff": 15
                      },
                      "zerolinecolor": "white",
                      "zerolinewidth": 2
                    },
                    "yaxis": {
                      "automargin": true,
                      "gridcolor": "white",
                      "linecolor": "white",
                      "ticks": "",
                      "title": {
                        "standoff": 15
                      },
                      "zerolinecolor": "white",
                      "zerolinewidth": 2
                    }
                  }
                },
                "title": {
                  "text": "Features importance for target : ['TAUX_COUV_RAJ'] with Lasso Linear Regression"
                },
                "xaxis": {
                  "anchor": "y",
                  "domain": [
                    0,
                    1
                  ],
                  "title": {
                    "text": "Features"
                  }
                },
                "yaxis": {
                  "anchor": "x",
                  "domain": [
                    0,
                    1
                  ],
                  "title": {
                    "text": "value"
                  }
                }
              }
            }
          },
          "metadata": {},
          "output_type": "display_data"
        }
      ],
      "source": [
        "fig = px.bar(df_coef['Coeff'], title=f\"Features importance for target : {TARGET} with Lasso Linear Regression\")\n",
        "fig.show()"
      ]
    },
    {
      "cell_type": "markdown",
      "metadata": {},
      "source": [
        "-----------------"
      ]
    },
    {
      "cell_type": "code",
      "execution_count": 165,
      "metadata": {},
      "outputs": [
        {
          "data": {
            "text/plain": [
              "array([4, 2, 3, ..., 1, 4, 2], dtype=int64)"
            ]
          },
          "execution_count": 165,
          "metadata": {},
          "output_type": "execute_result"
        }
      ],
      "source": [
        "y_train"
      ]
    },
    {
      "cell_type": "code",
      "execution_count": 166,
      "metadata": {},
      "outputs": [],
      "source": [
        "processor_y = OneHotEncoder(sparse=False)\n",
        "y_train = processor_y.fit_transform(y_train.reshape(-1, 1))\n",
        "y_test = processor_y.transform(y_test.reshape(-1, 1))"
      ]
    },
    {
      "cell_type": "code",
      "execution_count": 167,
      "metadata": {},
      "outputs": [],
      "source": [
        "train_batch = tf.data.Dataset.from_tensor_slices((X_train, y_train)).shuffle(buffer_size=len(X_train)).batch(batch_size=32)\n",
        "test_batch = tf.data.Dataset.from_tensor_slices((X_test, y_test)).batch(batch_size=32)"
      ]
    },
    {
      "cell_type": "code",
      "execution_count": 168,
      "metadata": {},
      "outputs": [
        {
          "name": "stdout",
          "output_type": "stream",
          "text": [
            "tf.Tensor(\n",
            "[[-1.0610367   0.96361502 -1.1069141  ...  0.          0.\n",
            "   0.        ]\n",
            " [-0.59457642 -1.00768412  2.20968862 ...  1.          0.\n",
            "   0.        ]\n",
            " [-0.35231801 -1.67497877 -0.50688067 ...  1.          0.\n",
            "   0.        ]\n",
            " ...\n",
            " [-0.92109862 -0.85050972 -0.71883278 ...  0.          1.\n",
            "   0.        ]\n",
            " [-0.19963297  1.15108452 -0.88600627 ...  1.          0.\n",
            "   0.        ]\n",
            " [ 0.47828225 -0.79277947  0.87827115 ...  1.          0.\n",
            "   0.        ]], shape=(32, 90), dtype=float64)\n",
            "tf.Tensor(\n",
            "[[0. 0. 0. 1. 0. 0.]\n",
            " [0. 0. 1. 0. 0. 0.]\n",
            " [0. 0. 1. 0. 0. 0.]\n",
            " [1. 0. 0. 0. 0. 0.]\n",
            " [0. 0. 1. 0. 0. 0.]\n",
            " [0. 0. 0. 0. 0. 1.]\n",
            " [0. 0. 1. 0. 0. 0.]\n",
            " [0. 1. 0. 0. 0. 0.]\n",
            " [0. 0. 1. 0. 0. 0.]\n",
            " [0. 0. 1. 0. 0. 0.]\n",
            " [0. 0. 1. 0. 0. 0.]\n",
            " [0. 0. 1. 0. 0. 0.]\n",
            " [0. 1. 0. 0. 0. 0.]\n",
            " [0. 0. 0. 0. 1. 0.]\n",
            " [0. 0. 1. 0. 0. 0.]\n",
            " [0. 1. 0. 0. 0. 0.]\n",
            " [0. 0. 0. 1. 0. 0.]\n",
            " [0. 1. 0. 0. 0. 0.]\n",
            " [0. 0. 1. 0. 0. 0.]\n",
            " [0. 0. 0. 1. 0. 0.]\n",
            " [0. 0. 1. 0. 0. 0.]\n",
            " [0. 1. 0. 0. 0. 0.]\n",
            " [0. 0. 1. 0. 0. 0.]\n",
            " [0. 1. 0. 0. 0. 0.]\n",
            " [0. 1. 0. 0. 0. 0.]\n",
            " [0. 1. 0. 0. 0. 0.]\n",
            " [0. 0. 1. 0. 0. 0.]\n",
            " [0. 1. 0. 0. 0. 0.]\n",
            " [1. 0. 0. 0. 0. 0.]\n",
            " [0. 1. 0. 0. 0. 0.]\n",
            " [0. 0. 0. 0. 1. 0.]\n",
            " [0. 1. 0. 0. 0. 0.]], shape=(32, 6), dtype=float64)\n"
          ]
        }
      ],
      "source": [
        "for x, y in train_batch.take(1):\n",
        "    print(x)\n",
        "    print(y)"
      ]
    },
    {
      "cell_type": "code",
      "execution_count": 172,
      "metadata": {},
      "outputs": [],
      "source": [
        "model = tf.keras.models.Sequential([\n",
        "        tf.keras.Input(shape=(90,)),\n",
        "        tf.keras.layers.Dense(64,\"relu\"),\n",
        "        tf.keras.layers.Dense(32,\"relu\"),\n",
        "        tf.keras.layers.Dropout(0.1),\n",
        "        tf.keras.layers.Dense(16,\"relu\"),\n",
        "        tf.keras.layers.Dense(6,\"softmax\")\n",
        "    ])"
      ]
    },
    {
      "cell_type": "code",
      "execution_count": 173,
      "metadata": {},
      "outputs": [],
      "source": [
        "model.compile(\n",
        "    loss=tf.keras.losses.CategoricalCrossentropy(),\n",
        "    optimizer=tf.keras.optimizers.Adam(),\n",
        "    metrics=tf.keras.metrics.CategoricalAccuracy())"
      ]
    },
    {
      "cell_type": "code",
      "execution_count": 174,
      "metadata": {},
      "outputs": [
        {
          "name": "stdout",
          "output_type": "stream",
          "text": [
            "Epoch 1/20\n",
            "181/181 [==============================] - 3s 12ms/step - loss: 1.5423 - categorical_accuracy: 0.3480 - val_loss: 1.3948 - val_categorical_accuracy: 0.4008\n",
            "Epoch 2/20\n",
            "181/181 [==============================] - 2s 10ms/step - loss: 1.3548 - categorical_accuracy: 0.4205 - val_loss: 1.3198 - val_categorical_accuracy: 0.4168\n",
            "Epoch 3/20\n",
            "181/181 [==============================] - 2s 10ms/step - loss: 1.2973 - categorical_accuracy: 0.4547 - val_loss: 1.3096 - val_categorical_accuracy: 0.4279\n",
            "Epoch 4/20\n",
            "181/181 [==============================] - 2s 10ms/step - loss: 1.2738 - categorical_accuracy: 0.4515 - val_loss: 1.2999 - val_categorical_accuracy: 0.4286\n",
            "Epoch 5/20\n",
            "181/181 [==============================] - 2s 10ms/step - loss: 1.2490 - categorical_accuracy: 0.4694 - val_loss: 1.2957 - val_categorical_accuracy: 0.4307\n",
            "Epoch 6/20\n",
            "181/181 [==============================] - 2s 10ms/step - loss: 1.2342 - categorical_accuracy: 0.4763 - val_loss: 1.2961 - val_categorical_accuracy: 0.4320\n",
            "Epoch 7/20\n",
            "181/181 [==============================] - 2s 9ms/step - loss: 1.2167 - categorical_accuracy: 0.4779 - val_loss: 1.2999 - val_categorical_accuracy: 0.4327\n",
            "Epoch 8/20\n",
            "181/181 [==============================] - 2s 10ms/step - loss: 1.2007 - categorical_accuracy: 0.4893 - val_loss: 1.2962 - val_categorical_accuracy: 0.4390\n",
            "Epoch 9/20\n",
            "181/181 [==============================] - 2s 10ms/step - loss: 1.1810 - categorical_accuracy: 0.4907 - val_loss: 1.3045 - val_categorical_accuracy: 0.4383\n",
            "Epoch 10/20\n",
            "181/181 [==============================] - 2s 10ms/step - loss: 1.1679 - categorical_accuracy: 0.4984 - val_loss: 1.3056 - val_categorical_accuracy: 0.4251\n",
            "Epoch 11/20\n",
            "181/181 [==============================] - 2s 10ms/step - loss: 1.1525 - categorical_accuracy: 0.5089 - val_loss: 1.3142 - val_categorical_accuracy: 0.4348\n",
            "Epoch 12/20\n",
            "181/181 [==============================] - 2s 10ms/step - loss: 1.1364 - categorical_accuracy: 0.5100 - val_loss: 1.3094 - val_categorical_accuracy: 0.4265\n",
            "Epoch 13/20\n",
            "181/181 [==============================] - 2s 10ms/step - loss: 1.1274 - categorical_accuracy: 0.5251 - val_loss: 1.3113 - val_categorical_accuracy: 0.4223\n",
            "Epoch 14/20\n",
            "181/181 [==============================] - 2s 10ms/step - loss: 1.1109 - categorical_accuracy: 0.5202 - val_loss: 1.3311 - val_categorical_accuracy: 0.4209\n",
            "Epoch 15/20\n",
            "181/181 [==============================] - 2s 10ms/step - loss: 1.0908 - categorical_accuracy: 0.5342 - val_loss: 1.3314 - val_categorical_accuracy: 0.4237\n",
            "Epoch 16/20\n",
            "181/181 [==============================] - 2s 10ms/step - loss: 1.0826 - categorical_accuracy: 0.5500 - val_loss: 1.3363 - val_categorical_accuracy: 0.4341\n",
            "Epoch 17/20\n",
            "181/181 [==============================] - 2s 10ms/step - loss: 1.0609 - categorical_accuracy: 0.5566 - val_loss: 1.3686 - val_categorical_accuracy: 0.4161\n",
            "Epoch 18/20\n",
            "181/181 [==============================] - 2s 10ms/step - loss: 1.0537 - categorical_accuracy: 0.5526 - val_loss: 1.3710 - val_categorical_accuracy: 0.4230\n",
            "Epoch 19/20\n",
            "181/181 [==============================] - 2s 10ms/step - loss: 1.0353 - categorical_accuracy: 0.5634 - val_loss: 1.3580 - val_categorical_accuracy: 0.4223\n",
            "Epoch 20/20\n",
            "181/181 [==============================] - 2s 10ms/step - loss: 1.0216 - categorical_accuracy: 0.5686 - val_loss: 1.3766 - val_categorical_accuracy: 0.4230\n"
          ]
        },
        {
          "data": {
            "text/plain": [
              "<keras.callbacks.History at 0x20798817fa0>"
            ]
          },
          "execution_count": 174,
          "metadata": {},
          "output_type": "execute_result"
        }
      ],
      "source": [
        "model.fit(train_batch, epochs=20, validation_data=test_batch)"
      ]
    },
    {
      "cell_type": "code",
      "execution_count": 177,
      "metadata": {},
      "outputs": [],
      "source": [
        "coeff_mean = []\n",
        "for i in range(90):\n",
        "    coeff_mean.append(np.mean(model.layers[0].trainable_variables[0][i]))"
      ]
    },
    {
      "cell_type": "code",
      "execution_count": 178,
      "metadata": {},
      "outputs": [],
      "source": [
        "df_coef = pd.DataFrame(coeff_mean, columns=['Coeff'], index= list_features_in)"
      ]
    },
    {
      "cell_type": "code",
      "execution_count": 179,
      "metadata": {},
      "outputs": [
        {
          "data": {
            "application/vnd.plotly.v1+json": {
              "config": {
                "plotlyServerURL": "https://plot.ly"
              },
              "data": [
                {
                  "alignmentgroup": "True",
                  "hovertemplate": "variable=Coeff<br>index=%{x}<br>value=%{y}<extra></extra>",
                  "legendgroup": "Coeff",
                  "marker": {
                    "color": "#636efa",
                    "pattern": {
                      "shape": ""
                    }
                  },
                  "name": "Coeff",
                  "offsetgroup": "Coeff",
                  "orientation": "v",
                  "showlegend": true,
                  "textposition": "auto",
                  "type": "bar",
                  "x": [
                    "H_D",
                    "AI",
                    "SDI",
                    "AGE_PPL",
                    "ALT",
                    "TIGES_VIV_H",
                    "SURF_TER_HA",
                    "FEUILL_PER",
                    "CONIF_PER",
                    "PERF_CROI",
                    "NDVI",
                    "EVI",
                    "NDMI",
                    "NDWI",
                    "DSWI",
                    "TAUX_COUV_RAJ",
                    "HT_VEG",
                    "SDI_f",
                    "H_D_f",
                    "TIGES_VIV_H_f",
                    "PRCP_f",
                    "TAVE_AVG_f",
                    "TAVE_f",
                    "TAVE_GROWTH_f",
                    "PRCP_S_S_f",
                    "PRCP_G_S_f",
                    "AI_f",
                    "NDVI_f",
                    "EVI_f",
                    "NDMI_f",
                    "NDWI_f",
                    "DSWI_f",
                    "PRODREG_0",
                    "PRODREG_1",
                    "PRODREG_2",
                    "PRODREG_3",
                    "ESPECE_DOM_0",
                    "ESPECE_DOM_1",
                    "ESPECE_DOM_2",
                    "ESPECE_DOM_3",
                    "ESPECE_DOM_4",
                    "ESPECE_DOM_5",
                    "ESPECE_DOM_6",
                    "ESPECE_DOM_7",
                    "ESPECE_DOM_8",
                    "ESPECE_DOM_9",
                    "ESPECE_DOM_10",
                    "ESPECE_DOM_11",
                    "TYP_RAJ_PPL_0",
                    "TYP_RAJ_PPL_1",
                    "TYP_RAJ_PPL_2",
                    "DEG_FERMETURE_0",
                    "DEG_FERMETURE_1",
                    "DEG_FERMETURE_2",
                    "DEG_FERMETURE_3",
                    "DEG_FERMETURE_4",
                    "DEG_FERMETURE_5",
                    "DEG_FERMETURE_6",
                    "DEG_FERMETURE_7",
                    "DEG_FERMETURE_8",
                    "DEG_FERMETURE_9",
                    "DEG_FERMETURE_10",
                    "STR_PPL_0",
                    "STR_PPL_1",
                    "STR_PPL_2",
                    "STR_PPL_3",
                    "RELIEF_0",
                    "RELIEF_1",
                    "RELIEF_2",
                    "RELIEF_3",
                    "RELIEF_4",
                    "ORIENTATION_0",
                    "ORIENTATION_1",
                    "ORIENTATION_2",
                    "ORIENTATION_3",
                    "ORIENTATION_4",
                    "ORIENTATION_5",
                    "ORIENTATION_6",
                    "DEG_FERMETURE_f_0",
                    "DEG_FERMETURE_f_1",
                    "DEG_FERMETURE_f_2",
                    "DEG_FERMETURE_f_3",
                    "DEG_FERMETURE_f_4",
                    "DEG_FERMETURE_f_5",
                    "DEG_FERMETURE_f_6",
                    "DEG_FERMETURE_f_7",
                    "STR_PPL_f_0",
                    "STR_PPL_f_1",
                    "STR_PPL_f_2",
                    "STR_PPL_f_3"
                  ],
                  "xaxis": "x",
                  "y": [
                    0.016332510858774185,
                    0.002590746618807316,
                    -0.008061856031417847,
                    -0.00011303089559078217,
                    0.009345857426524162,
                    0.005525317974388599,
                    0.012661131098866463,
                    -0.0012964446796104312,
                    -0.009154688566923141,
                    0.013549275696277618,
                    0.01966383308172226,
                    0.023200420662760735,
                    0.01753970794379711,
                    -0.005851508118212223,
                    0.0059419674798846245,
                    0.009813942015171051,
                    -0.027327068150043488,
                    0.007827921770513058,
                    -0.010971251875162125,
                    -0.003212518058717251,
                    0.03888065740466118,
                    -0.0011704498901963234,
                    -0.005442334339022636,
                    0.02526724524796009,
                    -0.0012465333566069603,
                    0.010462410748004913,
                    0.010041379369795322,
                    -0.006624438799917698,
                    -0.007905915379524231,
                    0.00034827645868062973,
                    -0.0011116592213511467,
                    -0.015431445091962814,
                    0.0008409004658460617,
                    -0.008901836350560188,
                    0.0011840341612696648,
                    0.00866284966468811,
                    -0.017188025638461113,
                    0.0051986477337777615,
                    -0.001220807433128357,
                    0.023184698075056076,
                    -0.03500262647867203,
                    0.01885077729821205,
                    -0.010728069581091404,
                    0.017711836844682693,
                    -0.038863930851221085,
                    0.05630581080913544,
                    -0.022648122161626816,
                    -0.04149291291832924,
                    -0.024297427386045456,
                    -0.05717932805418968,
                    -0.025409279391169548,
                    -0.041764892637729645,
                    -0.009336957708001137,
                    0.02057195082306862,
                    -0.012736129574477673,
                    -0.025892015546560287,
                    -0.03285515308380127,
                    -0.04124445468187332,
                    0.007170083932578564,
                    0.03879635035991669,
                    -0.018931377679109573,
                    0.0034964019432663918,
                    -0.021123100072145462,
                    0.00972886011004448,
                    -0.029403366148471832,
                    -0.011288359761238098,
                    0.005853136535733938,
                    0.01893741637468338,
                    -0.007750331424176693,
                    -0.015159757807850838,
                    0.019867217168211937,
                    0.021334759891033173,
                    0.005614943336695433,
                    -0.0028970669955015182,
                    -0.004478623159229755,
                    0.020521309226751328,
                    -0.019072504714131355,
                    -0.014784279279410839,
                    -0.02488907240331173,
                    -0.004407847300171852,
                    0.028366312384605408,
                    -0.011489556171000004,
                    -0.030724432319402695,
                    -0.020397093147039413,
                    -0.002834766171872616,
                    0.0022244565188884735,
                    -0.02347804605960846,
                    0.022691790014505386,
                    0.030530543997883797,
                    0.02058122307062149
                  ],
                  "yaxis": "y"
                }
              ],
              "layout": {
                "barmode": "relative",
                "legend": {
                  "title": {
                    "text": "variable"
                  },
                  "tracegroupgap": 0
                },
                "template": {
                  "data": {
                    "bar": [
                      {
                        "error_x": {
                          "color": "#2a3f5f"
                        },
                        "error_y": {
                          "color": "#2a3f5f"
                        },
                        "marker": {
                          "line": {
                            "color": "#E5ECF6",
                            "width": 0.5
                          },
                          "pattern": {
                            "fillmode": "overlay",
                            "size": 10,
                            "solidity": 0.2
                          }
                        },
                        "type": "bar"
                      }
                    ],
                    "barpolar": [
                      {
                        "marker": {
                          "line": {
                            "color": "#E5ECF6",
                            "width": 0.5
                          },
                          "pattern": {
                            "fillmode": "overlay",
                            "size": 10,
                            "solidity": 0.2
                          }
                        },
                        "type": "barpolar"
                      }
                    ],
                    "carpet": [
                      {
                        "aaxis": {
                          "endlinecolor": "#2a3f5f",
                          "gridcolor": "white",
                          "linecolor": "white",
                          "minorgridcolor": "white",
                          "startlinecolor": "#2a3f5f"
                        },
                        "baxis": {
                          "endlinecolor": "#2a3f5f",
                          "gridcolor": "white",
                          "linecolor": "white",
                          "minorgridcolor": "white",
                          "startlinecolor": "#2a3f5f"
                        },
                        "type": "carpet"
                      }
                    ],
                    "choropleth": [
                      {
                        "colorbar": {
                          "outlinewidth": 0,
                          "ticks": ""
                        },
                        "type": "choropleth"
                      }
                    ],
                    "contour": [
                      {
                        "colorbar": {
                          "outlinewidth": 0,
                          "ticks": ""
                        },
                        "colorscale": [
                          [
                            0,
                            "#0d0887"
                          ],
                          [
                            0.1111111111111111,
                            "#46039f"
                          ],
                          [
                            0.2222222222222222,
                            "#7201a8"
                          ],
                          [
                            0.3333333333333333,
                            "#9c179e"
                          ],
                          [
                            0.4444444444444444,
                            "#bd3786"
                          ],
                          [
                            0.5555555555555556,
                            "#d8576b"
                          ],
                          [
                            0.6666666666666666,
                            "#ed7953"
                          ],
                          [
                            0.7777777777777778,
                            "#fb9f3a"
                          ],
                          [
                            0.8888888888888888,
                            "#fdca26"
                          ],
                          [
                            1,
                            "#f0f921"
                          ]
                        ],
                        "type": "contour"
                      }
                    ],
                    "contourcarpet": [
                      {
                        "colorbar": {
                          "outlinewidth": 0,
                          "ticks": ""
                        },
                        "type": "contourcarpet"
                      }
                    ],
                    "heatmap": [
                      {
                        "colorbar": {
                          "outlinewidth": 0,
                          "ticks": ""
                        },
                        "colorscale": [
                          [
                            0,
                            "#0d0887"
                          ],
                          [
                            0.1111111111111111,
                            "#46039f"
                          ],
                          [
                            0.2222222222222222,
                            "#7201a8"
                          ],
                          [
                            0.3333333333333333,
                            "#9c179e"
                          ],
                          [
                            0.4444444444444444,
                            "#bd3786"
                          ],
                          [
                            0.5555555555555556,
                            "#d8576b"
                          ],
                          [
                            0.6666666666666666,
                            "#ed7953"
                          ],
                          [
                            0.7777777777777778,
                            "#fb9f3a"
                          ],
                          [
                            0.8888888888888888,
                            "#fdca26"
                          ],
                          [
                            1,
                            "#f0f921"
                          ]
                        ],
                        "type": "heatmap"
                      }
                    ],
                    "heatmapgl": [
                      {
                        "colorbar": {
                          "outlinewidth": 0,
                          "ticks": ""
                        },
                        "colorscale": [
                          [
                            0,
                            "#0d0887"
                          ],
                          [
                            0.1111111111111111,
                            "#46039f"
                          ],
                          [
                            0.2222222222222222,
                            "#7201a8"
                          ],
                          [
                            0.3333333333333333,
                            "#9c179e"
                          ],
                          [
                            0.4444444444444444,
                            "#bd3786"
                          ],
                          [
                            0.5555555555555556,
                            "#d8576b"
                          ],
                          [
                            0.6666666666666666,
                            "#ed7953"
                          ],
                          [
                            0.7777777777777778,
                            "#fb9f3a"
                          ],
                          [
                            0.8888888888888888,
                            "#fdca26"
                          ],
                          [
                            1,
                            "#f0f921"
                          ]
                        ],
                        "type": "heatmapgl"
                      }
                    ],
                    "histogram": [
                      {
                        "marker": {
                          "pattern": {
                            "fillmode": "overlay",
                            "size": 10,
                            "solidity": 0.2
                          }
                        },
                        "type": "histogram"
                      }
                    ],
                    "histogram2d": [
                      {
                        "colorbar": {
                          "outlinewidth": 0,
                          "ticks": ""
                        },
                        "colorscale": [
                          [
                            0,
                            "#0d0887"
                          ],
                          [
                            0.1111111111111111,
                            "#46039f"
                          ],
                          [
                            0.2222222222222222,
                            "#7201a8"
                          ],
                          [
                            0.3333333333333333,
                            "#9c179e"
                          ],
                          [
                            0.4444444444444444,
                            "#bd3786"
                          ],
                          [
                            0.5555555555555556,
                            "#d8576b"
                          ],
                          [
                            0.6666666666666666,
                            "#ed7953"
                          ],
                          [
                            0.7777777777777778,
                            "#fb9f3a"
                          ],
                          [
                            0.8888888888888888,
                            "#fdca26"
                          ],
                          [
                            1,
                            "#f0f921"
                          ]
                        ],
                        "type": "histogram2d"
                      }
                    ],
                    "histogram2dcontour": [
                      {
                        "colorbar": {
                          "outlinewidth": 0,
                          "ticks": ""
                        },
                        "colorscale": [
                          [
                            0,
                            "#0d0887"
                          ],
                          [
                            0.1111111111111111,
                            "#46039f"
                          ],
                          [
                            0.2222222222222222,
                            "#7201a8"
                          ],
                          [
                            0.3333333333333333,
                            "#9c179e"
                          ],
                          [
                            0.4444444444444444,
                            "#bd3786"
                          ],
                          [
                            0.5555555555555556,
                            "#d8576b"
                          ],
                          [
                            0.6666666666666666,
                            "#ed7953"
                          ],
                          [
                            0.7777777777777778,
                            "#fb9f3a"
                          ],
                          [
                            0.8888888888888888,
                            "#fdca26"
                          ],
                          [
                            1,
                            "#f0f921"
                          ]
                        ],
                        "type": "histogram2dcontour"
                      }
                    ],
                    "mesh3d": [
                      {
                        "colorbar": {
                          "outlinewidth": 0,
                          "ticks": ""
                        },
                        "type": "mesh3d"
                      }
                    ],
                    "parcoords": [
                      {
                        "line": {
                          "colorbar": {
                            "outlinewidth": 0,
                            "ticks": ""
                          }
                        },
                        "type": "parcoords"
                      }
                    ],
                    "pie": [
                      {
                        "automargin": true,
                        "type": "pie"
                      }
                    ],
                    "scatter": [
                      {
                        "fillpattern": {
                          "fillmode": "overlay",
                          "size": 10,
                          "solidity": 0.2
                        },
                        "type": "scatter"
                      }
                    ],
                    "scatter3d": [
                      {
                        "line": {
                          "colorbar": {
                            "outlinewidth": 0,
                            "ticks": ""
                          }
                        },
                        "marker": {
                          "colorbar": {
                            "outlinewidth": 0,
                            "ticks": ""
                          }
                        },
                        "type": "scatter3d"
                      }
                    ],
                    "scattercarpet": [
                      {
                        "marker": {
                          "colorbar": {
                            "outlinewidth": 0,
                            "ticks": ""
                          }
                        },
                        "type": "scattercarpet"
                      }
                    ],
                    "scattergeo": [
                      {
                        "marker": {
                          "colorbar": {
                            "outlinewidth": 0,
                            "ticks": ""
                          }
                        },
                        "type": "scattergeo"
                      }
                    ],
                    "scattergl": [
                      {
                        "marker": {
                          "colorbar": {
                            "outlinewidth": 0,
                            "ticks": ""
                          }
                        },
                        "type": "scattergl"
                      }
                    ],
                    "scattermapbox": [
                      {
                        "marker": {
                          "colorbar": {
                            "outlinewidth": 0,
                            "ticks": ""
                          }
                        },
                        "type": "scattermapbox"
                      }
                    ],
                    "scatterpolar": [
                      {
                        "marker": {
                          "colorbar": {
                            "outlinewidth": 0,
                            "ticks": ""
                          }
                        },
                        "type": "scatterpolar"
                      }
                    ],
                    "scatterpolargl": [
                      {
                        "marker": {
                          "colorbar": {
                            "outlinewidth": 0,
                            "ticks": ""
                          }
                        },
                        "type": "scatterpolargl"
                      }
                    ],
                    "scatterternary": [
                      {
                        "marker": {
                          "colorbar": {
                            "outlinewidth": 0,
                            "ticks": ""
                          }
                        },
                        "type": "scatterternary"
                      }
                    ],
                    "surface": [
                      {
                        "colorbar": {
                          "outlinewidth": 0,
                          "ticks": ""
                        },
                        "colorscale": [
                          [
                            0,
                            "#0d0887"
                          ],
                          [
                            0.1111111111111111,
                            "#46039f"
                          ],
                          [
                            0.2222222222222222,
                            "#7201a8"
                          ],
                          [
                            0.3333333333333333,
                            "#9c179e"
                          ],
                          [
                            0.4444444444444444,
                            "#bd3786"
                          ],
                          [
                            0.5555555555555556,
                            "#d8576b"
                          ],
                          [
                            0.6666666666666666,
                            "#ed7953"
                          ],
                          [
                            0.7777777777777778,
                            "#fb9f3a"
                          ],
                          [
                            0.8888888888888888,
                            "#fdca26"
                          ],
                          [
                            1,
                            "#f0f921"
                          ]
                        ],
                        "type": "surface"
                      }
                    ],
                    "table": [
                      {
                        "cells": {
                          "fill": {
                            "color": "#EBF0F8"
                          },
                          "line": {
                            "color": "white"
                          }
                        },
                        "header": {
                          "fill": {
                            "color": "#C8D4E3"
                          },
                          "line": {
                            "color": "white"
                          }
                        },
                        "type": "table"
                      }
                    ]
                  },
                  "layout": {
                    "annotationdefaults": {
                      "arrowcolor": "#2a3f5f",
                      "arrowhead": 0,
                      "arrowwidth": 1
                    },
                    "autotypenumbers": "strict",
                    "coloraxis": {
                      "colorbar": {
                        "outlinewidth": 0,
                        "ticks": ""
                      }
                    },
                    "colorscale": {
                      "diverging": [
                        [
                          0,
                          "#8e0152"
                        ],
                        [
                          0.1,
                          "#c51b7d"
                        ],
                        [
                          0.2,
                          "#de77ae"
                        ],
                        [
                          0.3,
                          "#f1b6da"
                        ],
                        [
                          0.4,
                          "#fde0ef"
                        ],
                        [
                          0.5,
                          "#f7f7f7"
                        ],
                        [
                          0.6,
                          "#e6f5d0"
                        ],
                        [
                          0.7,
                          "#b8e186"
                        ],
                        [
                          0.8,
                          "#7fbc41"
                        ],
                        [
                          0.9,
                          "#4d9221"
                        ],
                        [
                          1,
                          "#276419"
                        ]
                      ],
                      "sequential": [
                        [
                          0,
                          "#0d0887"
                        ],
                        [
                          0.1111111111111111,
                          "#46039f"
                        ],
                        [
                          0.2222222222222222,
                          "#7201a8"
                        ],
                        [
                          0.3333333333333333,
                          "#9c179e"
                        ],
                        [
                          0.4444444444444444,
                          "#bd3786"
                        ],
                        [
                          0.5555555555555556,
                          "#d8576b"
                        ],
                        [
                          0.6666666666666666,
                          "#ed7953"
                        ],
                        [
                          0.7777777777777778,
                          "#fb9f3a"
                        ],
                        [
                          0.8888888888888888,
                          "#fdca26"
                        ],
                        [
                          1,
                          "#f0f921"
                        ]
                      ],
                      "sequentialminus": [
                        [
                          0,
                          "#0d0887"
                        ],
                        [
                          0.1111111111111111,
                          "#46039f"
                        ],
                        [
                          0.2222222222222222,
                          "#7201a8"
                        ],
                        [
                          0.3333333333333333,
                          "#9c179e"
                        ],
                        [
                          0.4444444444444444,
                          "#bd3786"
                        ],
                        [
                          0.5555555555555556,
                          "#d8576b"
                        ],
                        [
                          0.6666666666666666,
                          "#ed7953"
                        ],
                        [
                          0.7777777777777778,
                          "#fb9f3a"
                        ],
                        [
                          0.8888888888888888,
                          "#fdca26"
                        ],
                        [
                          1,
                          "#f0f921"
                        ]
                      ]
                    },
                    "colorway": [
                      "#636efa",
                      "#EF553B",
                      "#00cc96",
                      "#ab63fa",
                      "#FFA15A",
                      "#19d3f3",
                      "#FF6692",
                      "#B6E880",
                      "#FF97FF",
                      "#FECB52"
                    ],
                    "font": {
                      "color": "#2a3f5f"
                    },
                    "geo": {
                      "bgcolor": "white",
                      "lakecolor": "white",
                      "landcolor": "#E5ECF6",
                      "showlakes": true,
                      "showland": true,
                      "subunitcolor": "white"
                    },
                    "hoverlabel": {
                      "align": "left"
                    },
                    "hovermode": "closest",
                    "mapbox": {
                      "style": "light"
                    },
                    "paper_bgcolor": "white",
                    "plot_bgcolor": "#E5ECF6",
                    "polar": {
                      "angularaxis": {
                        "gridcolor": "white",
                        "linecolor": "white",
                        "ticks": ""
                      },
                      "bgcolor": "#E5ECF6",
                      "radialaxis": {
                        "gridcolor": "white",
                        "linecolor": "white",
                        "ticks": ""
                      }
                    },
                    "scene": {
                      "xaxis": {
                        "backgroundcolor": "#E5ECF6",
                        "gridcolor": "white",
                        "gridwidth": 2,
                        "linecolor": "white",
                        "showbackground": true,
                        "ticks": "",
                        "zerolinecolor": "white"
                      },
                      "yaxis": {
                        "backgroundcolor": "#E5ECF6",
                        "gridcolor": "white",
                        "gridwidth": 2,
                        "linecolor": "white",
                        "showbackground": true,
                        "ticks": "",
                        "zerolinecolor": "white"
                      },
                      "zaxis": {
                        "backgroundcolor": "#E5ECF6",
                        "gridcolor": "white",
                        "gridwidth": 2,
                        "linecolor": "white",
                        "showbackground": true,
                        "ticks": "",
                        "zerolinecolor": "white"
                      }
                    },
                    "shapedefaults": {
                      "line": {
                        "color": "#2a3f5f"
                      }
                    },
                    "ternary": {
                      "aaxis": {
                        "gridcolor": "white",
                        "linecolor": "white",
                        "ticks": ""
                      },
                      "baxis": {
                        "gridcolor": "white",
                        "linecolor": "white",
                        "ticks": ""
                      },
                      "bgcolor": "#E5ECF6",
                      "caxis": {
                        "gridcolor": "white",
                        "linecolor": "white",
                        "ticks": ""
                      }
                    },
                    "title": {
                      "x": 0.05
                    },
                    "xaxis": {
                      "automargin": true,
                      "gridcolor": "white",
                      "linecolor": "white",
                      "ticks": "",
                      "title": {
                        "standoff": 15
                      },
                      "zerolinecolor": "white",
                      "zerolinewidth": 2
                    },
                    "yaxis": {
                      "automargin": true,
                      "gridcolor": "white",
                      "linecolor": "white",
                      "ticks": "",
                      "title": {
                        "standoff": 15
                      },
                      "zerolinecolor": "white",
                      "zerolinewidth": 2
                    }
                  }
                },
                "title": {
                  "text": "Features importance for target : ['TAUX_COUV_RAJ'] with Lasso Linear Regression"
                },
                "xaxis": {
                  "anchor": "y",
                  "domain": [
                    0,
                    1
                  ],
                  "title": {
                    "text": "index"
                  }
                },
                "yaxis": {
                  "anchor": "x",
                  "domain": [
                    0,
                    1
                  ],
                  "title": {
                    "text": "value"
                  }
                }
              }
            }
          },
          "metadata": {},
          "output_type": "display_data"
        }
      ],
      "source": [
        "fig = px.bar(df_coef['Coeff'], title=f\"Features importance for target : {TARGET} with Lasso Linear Regression\")\n",
        "fig.show()"
      ]
    }
  ],
  "metadata": {
    "colab": {
      "provenance": []
    },
    "kernelspec": {
      "display_name": "Python 3.9.13 ('base')",
      "language": "python",
      "name": "python3"
    },
    "language_info": {
      "codemirror_mode": {
        "name": "ipython",
        "version": 3
      },
      "file_extension": ".py",
      "mimetype": "text/x-python",
      "name": "python",
      "nbconvert_exporter": "python",
      "pygments_lexer": "ipython3",
      "version": "3.9.13"
    },
    "vscode": {
      "interpreter": {
        "hash": "1cca9558bc5ad879ec93cc030b157d75f18267527c60932cecaace349eef54dd"
      }
    }
  },
  "nbformat": 4,
  "nbformat_minor": 0
}
