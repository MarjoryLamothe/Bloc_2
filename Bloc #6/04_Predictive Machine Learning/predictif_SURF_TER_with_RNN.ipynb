{
  "cells": [
    {
      "cell_type": "code",
      "execution_count": 1,
      "metadata": {
        "id": "F-xnvpnQb1eP"
      },
      "outputs": [
        {
          "name": "stderr",
          "output_type": "stream",
          "text": [
            "c:\\Users\\PC\\anaconda3\\envs\\tf\\lib\\site-packages\\tensorflow_addons\\utils\\ensure_tf_install.py:53: UserWarning: Tensorflow Addons supports using Python ops for all Tensorflow versions above or equal to 2.8.0 and strictly below 2.11.0 (nightly versions are not supported). \n",
            " The versions of TensorFlow you are currently using is 2.11.0 and is not supported. \n",
            "Some things might work, some things might not.\n",
            "If you were to encounter a bug, do not file an issue.\n",
            "If you want to make sure you're using a tested and supported configuration, either change the TensorFlow version or the TensorFlow Addons's version. \n",
            "You can find the compatibility matrix in TensorFlow Addon's readme:\n",
            "https://github.com/tensorflow/addons\n",
            "  warnings.warn(\n"
          ]
        }
      ],
      "source": [
        "import pandas as pd\n",
        "import numpy as np\n",
        "import plotly.express as px\n",
        "import copy\n",
        "\n",
        "from sklearn.preprocessing import OneHotEncoder, StandardScaler, LabelEncoder, OrdinalEncoder\n",
        "from sklearn.impute import KNNImputer, SimpleImputer\n",
        "from sklearn.pipeline import Pipeline\n",
        "from sklearn.linear_model import Ridge, RidgeClassifier\n",
        "from sklearn.model_selection import train_test_split\n",
        "from sklearn.compose import ColumnTransformer\n",
        "from sklearn.model_selection import cross_val_score, GridSearchCV\n",
        "from sklearn.metrics import r2_score, accuracy_score, f1_score\n",
        "\n",
        "import tensorflow as tf\n",
        "import tensorflow_addons as tfa"
      ]
    },
    {
      "cell_type": "code",
      "execution_count": 2,
      "metadata": {},
      "outputs": [],
      "source": [
        "TARGET = 'SURF_TER_HA'"
      ]
    },
    {
      "cell_type": "code",
      "execution_count": 3,
      "metadata": {
        "id": "9P-_u-rOcDyp"
      },
      "outputs": [],
      "source": [
        "data_base = pd.read_excel('./big_merge_V2_meteo_SAT.xlsx').drop('Unnamed: 0', axis=1)"
      ]
    },
    {
      "cell_type": "code",
      "execution_count": 4,
      "metadata": {},
      "outputs": [],
      "source": [
        "data_base['LFI'] = data_base['LFI'].map({'LFI1' : 1,\n",
        "                                               'LFI2' : 2,\n",
        "                                               'LFI3' : 3,\n",
        "                                               'LFI4' : 4 })"
      ]
    },
    {
      "cell_type": "code",
      "execution_count": 5,
      "metadata": {},
      "outputs": [],
      "source": [
        "data_base.sort_values(['PARCELLE', 'LFI'], inplace=True)"
      ]
    },
    {
      "cell_type": "code",
      "execution_count": 9,
      "metadata": {},
      "outputs": [
        {
          "data": {
            "text/html": [
              "<div>\n",
              "<style scoped>\n",
              "    .dataframe tbody tr th:only-of-type {\n",
              "        vertical-align: middle;\n",
              "    }\n",
              "\n",
              "    .dataframe tbody tr th {\n",
              "        vertical-align: top;\n",
              "    }\n",
              "\n",
              "    .dataframe thead th {\n",
              "        text-align: right;\n",
              "    }\n",
              "</style>\n",
              "<table border=\"1\" class=\"dataframe\">\n",
              "  <thead>\n",
              "    <tr style=\"text-align: right;\">\n",
              "      <th></th>\n",
              "      <th>PARCELLE</th>\n",
              "      <th>LAT</th>\n",
              "      <th>LON</th>\n",
              "      <th>ALT</th>\n",
              "      <th>PRODREG</th>\n",
              "      <th>HT_VEG</th>\n",
              "      <th>DATE</th>\n",
              "      <th>SLOPE25</th>\n",
              "      <th>ASPECT25</th>\n",
              "      <th>ORIENTATION</th>\n",
              "      <th>...</th>\n",
              "      <th>TAVE_AVG</th>\n",
              "      <th>TAVE</th>\n",
              "      <th>TAVE_GROWTH</th>\n",
              "      <th>PRCP_S_S</th>\n",
              "      <th>PRCP_G_S</th>\n",
              "      <th>NDVI</th>\n",
              "      <th>EVI</th>\n",
              "      <th>NDMI</th>\n",
              "      <th>NDWI</th>\n",
              "      <th>DSWI</th>\n",
              "    </tr>\n",
              "  </thead>\n",
              "  <tbody>\n",
              "  </tbody>\n",
              "</table>\n",
              "<p>0 rows × 117 columns</p>\n",
              "</div>"
            ],
            "text/plain": [
              "Empty DataFrame\n",
              "Columns: [PARCELLE, LAT, LON, ALT, PRODREG, HT_VEG, DATE, SLOPE25, ASPECT25, ORIENTATION, PERF_CROI, QUAL_STATION, UNIT_VEG_FINE, UNIT_VEG_GROS, REBOISEMENT_AN, SURF_TER_HA, AGE_PPL, MODE_REGEN, TAILLE_PPL, INTENSITE_EXPLOIT, TRACES_FEU, DEGRAD_PPL, DIV_STR_PPL, DIV_STR_PPL_CLASS, DDOM, DEG_SUR_PER, LAST_INTER_DATE, TIGES_VIV_H, SDI, SDI_CLASSE, INT_IFN2_IFN3, INT_IFN3-IFN4, NIV_DEV, MELANGE, NEXT_INTER_DATE, NEXT_INTER_TYPE, RELIEF, DEG_FERMETURE, STR_PPL, TYPE_FORET305, SURCHARGE, TYP_RAJ_PPL, TAUX_COUV_RAJ, TAUX_COUV_RAJ_FIN, TAUX_COUV_RAJ_ASS, ESPECE_DOM, FEU_RES, TYPE_FORET, EPIC_PER, SAPIN_PER, PIN_PER, MELEZ_PER, ARO_PER, OTHER_CONIF_PER, HETR_PER, ERAB_PER, FREN_PER, CHEN_PER, DGANTCA, OTHER_FEUILL_PER, CONIF_PER_STD, ARBUST_PER, FEUILL_PER, CONIF_PER, PROCESS_SILVA, PERI_CHENAUX, PERI_COULEES, PERI_AVALANCH, PERI_CHUTES, 25_GRID_PER, SURF_TROU_AER, V_ALL, V_FICHT, V_TANNE, V_FOEHR, V_LARCH, V_ARVEN, V_UENDH, V_BUCHE, V_AHORN, V_ESCHE, V_EICHE, V_CASTA, V_UELBH, LFI, NB_SAISON, VOL_BOIS_MANQUANT_NDH, VOL_BOIS_MANQUANT_LBH, VOL_BOIS_MANQUANT, UNIT_VOL_BOIS_MANQUANT_NDH, UNIT_VOL_BOIS_MANQUANT_LBH, UNIT_VOL_BOIS_MANQUANT, ACCR_NDH, ACCR_LBH, ACCR, UNIT_ACCR_NDH, UNIT_ACCR_LBH, UNIT_ACCR, DBH, HAUTEUR_ARBRE, ...]\n",
              "Index: []\n",
              "\n",
              "[0 rows x 117 columns]"
            ]
          },
          "execution_count": 9,
          "metadata": {},
          "output_type": "execute_result"
        }
      ],
      "source": [
        "data_base.loc[(data_base[TARGET]==-1) & (data_base['LFI']==3),:]"
      ]
    },
    {
      "cell_type": "markdown",
      "metadata": {
        "id": "D9f0gOtzfjKT"
      },
      "source": [
        "PREPROCESSING _ Code base for models temporal predictions"
      ]
    },
    {
      "cell_type": "markdown",
      "metadata": {},
      "source": [
        "Ici, features engineering (création de nouvelles features à partir de la liste connues):"
      ]
    },
    {
      "cell_type": "code",
      "execution_count": 10,
      "metadata": {},
      "outputs": [],
      "source": [
        "# adding aridity index\n",
        "data_base[\"AI\"] = data_base['PRCP_GROWTH'] / data_base['TAVE_GROWTH']\n",
        "# adding H/D index\n",
        "data_base[\"H_D\"] = data_base['HAUTEUR_ARBRE'] / data_base['DBH']\n"
      ]
    },
    {
      "cell_type": "code",
      "execution_count": 11,
      "metadata": {},
      "outputs": [],
      "source": [
        "cat_strict = ['PRODREG', 'ESPECE_DOM', 'TYP_RAJ_PPL', 'DEG_FERMETURE', 'STR_PPL', 'RELIEF'] #exemple 'PRODREG', 'ESPECE_DOM', 'TYP_RAJ_PPL', 'DEG_FERMETURE', 'STR_PPL', 'RELIEF'\n",
        "cat_ord_miss = ['TAUX_COUV_RAJ', 'HT_VEG'] #exemple 'TAILLE_PPL', 'MELANGE', 'QUAL_STATION', 'TAUX_COUV_RAJ', 'SURF_TROU_AER', 'HT_VEG'\n",
        "numerics = ['PARCELLE', 'LFI', 'UNIT_ACCR','H_D','AI','SDI', 'AGE_PPL','ALT', 'TIGES_VIV_H', 'SURF_TER_HA', 'FEUILL_PER', 'CONIF_PER','PERF_CROI'] #exemple\n",
        "\n",
        "add_meteo_known = ['PRCP', 'TAVE_AVG',\t'TAVE', 'TAVE_GROWTH', 'PRCP_S_S',\t'PRCP_G_S']\n",
        "\n",
        "add_SAT_known = ['NDVI', 'EVI', 'NDMI', 'NDWI', 'DSWI']"
      ]
    },
    {
      "cell_type": "code",
      "execution_count": 12,
      "metadata": {},
      "outputs": [],
      "source": [
        "data_red = data_base[numerics + add_meteo_known + add_SAT_known + cat_ord_miss + cat_strict]"
      ]
    },
    {
      "cell_type": "markdown",
      "metadata": {},
      "source": [
        "Traitement des données catégorielles ordonnées en numériques (gestion des \"-1\" éventuels) :"
      ]
    },
    {
      "cell_type": "code",
      "execution_count": 13,
      "metadata": {},
      "outputs": [
        {
          "name": "stderr",
          "output_type": "stream",
          "text": [
            "C:\\Users\\PC\\AppData\\Local\\Temp\\ipykernel_2376\\3536129329.py:2: SettingWithCopyWarning: \n",
            "A value is trying to be set on a copy of a slice from a DataFrame.\n",
            "Try using .loc[row_indexer,col_indexer] = value instead\n",
            "\n",
            "See the caveats in the documentation: https://pandas.pydata.org/pandas-docs/stable/user_guide/indexing.html#returning-a-view-versus-a-copy\n",
            "  data_red[cat] = data_red[cat].apply(lambda v : int(v) if v!=-1 else np.nan)\n"
          ]
        }
      ],
      "source": [
        "for cat in cat_ord_miss:\n",
        "  data_red[cat] = data_red[cat].apply(lambda v : int(v) if v!=-1 else np.nan)"
      ]
    },
    {
      "cell_type": "code",
      "execution_count": 14,
      "metadata": {},
      "outputs": [],
      "source": [
        "for i in range(len(data_red)):\n",
        "    for j in range(len(data_red.columns)):\n",
        "        if np.isnan(data_red.iloc[i,j]) or data_red.iloc[i,j]==np.nan:\n",
        "            next_value = copy.copy(data_red.iloc[i+1,j])\n",
        "            data_red.iloc[i,j] = next_value"
      ]
    },
    {
      "cell_type": "code",
      "execution_count": 15,
      "metadata": {},
      "outputs": [],
      "source": [
        "numerics_features = numerics + add_meteo_known + add_SAT_known"
      ]
    },
    {
      "cell_type": "code",
      "execution_count": 16,
      "metadata": {},
      "outputs": [],
      "source": [
        "preprocessor_past = ColumnTransformer(\n",
        "    [(\"num\", KNNImputer(), numerics_features),\n",
        "    ('ord_cat', SimpleImputer(strategy='most_frequent'), cat_ord_miss),\n",
        "     (\"cat_strict\", SimpleImputer(strategy='most_frequent'), cat_strict)])"
      ]
    },
    {
      "cell_type": "code",
      "execution_count": 17,
      "metadata": {},
      "outputs": [],
      "source": [
        "data_red_past = data_red.loc[data_red['LFI']!=4,:]\n",
        "data_red_future = data_red.loc[data_red['LFI']==4,:]"
      ]
    },
    {
      "cell_type": "code",
      "execution_count": 18,
      "metadata": {},
      "outputs": [],
      "source": [
        "data_part_past = pd.DataFrame(preprocessor_past.fit_transform(data_red_past), columns=data_red.columns)"
      ]
    },
    {
      "cell_type": "code",
      "execution_count": 19,
      "metadata": {},
      "outputs": [],
      "source": [
        "data_red_clean = pd.concat([data_part_past, data_red_future], axis=0)"
      ]
    },
    {
      "cell_type": "code",
      "execution_count": 20,
      "metadata": {},
      "outputs": [],
      "source": [
        "data_red_clean.sort_values(['PARCELLE','LFI'], inplace=True)"
      ]
    },
    {
      "cell_type": "code",
      "execution_count": 21,
      "metadata": {},
      "outputs": [],
      "source": [
        "data_red_clean.drop('PARCELLE', axis=1, inplace=True)"
      ]
    },
    {
      "cell_type": "code",
      "execution_count": 22,
      "metadata": {},
      "outputs": [
        {
          "data": {
            "text/plain": [
              "'PARCELLE'"
            ]
          },
          "execution_count": 22,
          "metadata": {},
          "output_type": "execute_result"
        }
      ],
      "source": [
        "numerics_features.pop(0)"
      ]
    },
    {
      "cell_type": "code",
      "execution_count": 23,
      "metadata": {},
      "outputs": [],
      "source": [
        "numerics_transforms_tot = Pipeline(\n",
        "    [(\"imputer\", SimpleImputer()),\n",
        "    ('encoder',StandardScaler())\n",
        "])\n",
        "categorials_transforms_tot = Pipeline([\n",
        "    (\"imputer\", SimpleImputer(strategy='most_frequent')),\n",
        "    ('encoder',OneHotEncoder(drop=\"first\"))\n",
        "])\n",
        "\n",
        "ordinal_cat_transforms_tot = Pipeline([\n",
        "    (\"imputer\", SimpleImputer(strategy='most_frequent')),\n",
        "    ('encoder',OrdinalEncoder())\n",
        "])\n",
        "\n",
        "preprocessor_tot = ColumnTransformer(\n",
        "    [(\"num\", numerics_transforms_tot, numerics_features),\n",
        "    (\"ord_cat\", ordinal_cat_transforms_tot, cat_ord_miss),\n",
        "     (\"cat_strict\", categorials_transforms_tot, cat_strict)])"
      ]
    },
    {
      "cell_type": "code",
      "execution_count": 19,
      "metadata": {},
      "outputs": [],
      "source": [
        "#data_red['ORIENTATION'] = data_red['ORIENTATION'].map({'N':0,'NE':1,'E':2,'SE':3,'S':4,'SO':5,'O':6,'NO':7})\n",
        "#data_red['ORIENTATION_f'] = data_red['ORIENTATION_f'].map({'N':0,'NE':1,'E':2,'SE':3,'S':4,'SO':5,'O':6,'NO':7})\n"
      ]
    },
    {
      "cell_type": "code",
      "execution_count": 24,
      "metadata": {},
      "outputs": [],
      "source": [
        "X_train, X_test = train_test_split(data_red_clean, test_size=2000, shuffle=False, random_state=2)"
      ]
    },
    {
      "cell_type": "code",
      "execution_count": 25,
      "metadata": {},
      "outputs": [],
      "source": [
        "X_train = preprocessor_tot.fit_transform(X_train)\n",
        "X_test = preprocessor_tot.transform(X_test)"
      ]
    },
    {
      "cell_type": "code",
      "execution_count": 26,
      "metadata": {},
      "outputs": [],
      "source": [
        "list_features_in = []\n",
        "for feat in (numerics_features + cat_ord_miss):\n",
        "  list_features_in.append(feat)\n",
        "for cat in cat_strict:\n",
        "  nb_lab = len(data_red[cat].unique())-1\n",
        "  for i in range(nb_lab):\n",
        "    list_features_in.append(f'{cat}_{i}')"
      ]
    },
    {
      "cell_type": "code",
      "execution_count": 27,
      "metadata": {},
      "outputs": [],
      "source": [
        "df_train = pd.DataFrame(X_train, columns=list_features_in)\n",
        "df_test = pd.DataFrame(X_test, columns=list_features_in)"
      ]
    },
    {
      "cell_type": "code",
      "execution_count": 28,
      "metadata": {},
      "outputs": [
        {
          "name": "stderr",
          "output_type": "stream",
          "text": [
            "c:\\Users\\PC\\anaconda3\\envs\\tf\\lib\\site-packages\\keras\\utils\\timeseries_dataset.py:270: FutureWarning: The behavior of `series[i:j]` with an integer-dtype index is deprecated. In a future version, this will be treated as *label-based* indexing, consistent with e.g. `series[i]` lookups. To retain the old behavior, use `series.iloc[i:j]`. To get the future behavior, use `series.loc[i:j]`.\n",
            "  dataset = tf.data.Dataset.from_tensors(array[start_index:end_index])\n"
          ]
        }
      ],
      "source": [
        "ds_train = tf.keras.utils.timeseries_dataset_from_array(\n",
        "    data=X_train,\n",
        "    targets=df_train[TARGET][3:],\n",
        "    sequence_length=3,\n",
        "    sequence_stride=4,\n",
        "    shuffle=False,\n",
        "    batch_size=32)"
      ]
    },
    {
      "cell_type": "code",
      "execution_count": 29,
      "metadata": {},
      "outputs": [],
      "source": [
        "for batch in ds_train.take(1):\n",
        "  inputs, targets = batch"
      ]
    },
    {
      "cell_type": "code",
      "execution_count": 30,
      "metadata": {},
      "outputs": [
        {
          "data": {
            "text/plain": [
              "<tf.Tensor: shape=(3, 64), dtype=float64, numpy=\n",
              "array([[-1.34164079,  0.38951802, -0.23575207,  0.595565  , -0.10945651,\n",
              "        -0.39908786, -1.3152496 ,  0.4506092 , -0.28471247,  0.84699012,\n",
              "        -0.76347084,  1.48765271, -0.48237455,  0.64459185, -1.30976505,\n",
              "        -0.75013904, -1.70349493, -1.65952795,  0.40569241,  0.86018684,\n",
              "         0.79631398, -0.41554427,  0.4174749 ,  1.        ,  1.        ,\n",
              "         0.        ,  0.        ,  0.        ,  0.        ,  0.        ,\n",
              "         0.        ,  0.        ,  0.        ,  0.        ,  0.        ,\n",
              "         1.        ,  0.        ,  0.        ,  0.        ,  0.        ,\n",
              "         0.        ,  0.        ,  0.        ,  0.        ,  1.        ,\n",
              "         0.        ,  0.        ,  0.        ,  0.        ,  0.        ,\n",
              "         0.        ,  0.        ,  0.        ,  0.        ,  0.        ,\n",
              "         0.        ,  1.        ,  0.        ,  0.        ,  0.        ,\n",
              "         0.        ,  1.        ,  0.        ,  0.        ],\n",
              "       [-0.4472136 ,  0.38951802,  0.7387722 ,  0.595565  ,  0.27893092,\n",
              "        -0.31254952, -1.3152496 ,  0.64361851,  0.09567832,  0.76364306,\n",
              "        -0.65550859,  1.48765271, -0.48237455,  0.64459185, -1.30976505,\n",
              "        -0.75013904,  0.59367837,  0.51094124,  0.96720833,  1.03163763,\n",
              "         1.18783387, -1.12451796,  1.20479608,  1.        ,  1.        ,\n",
              "         0.        ,  0.        ,  0.        ,  0.        ,  0.        ,\n",
              "         0.        ,  0.        ,  0.        ,  0.        ,  0.        ,\n",
              "         1.        ,  0.        ,  0.        ,  0.        ,  0.        ,\n",
              "         0.        ,  1.        ,  0.        ,  0.        ,  0.        ,\n",
              "         1.        ,  0.        ,  0.        ,  0.        ,  0.        ,\n",
              "         0.        ,  0.        ,  0.        ,  0.        ,  0.        ,\n",
              "         0.        ,  1.        ,  0.        ,  0.        ,  0.        ,\n",
              "         0.        ,  1.        ,  0.        ,  0.        ],\n",
              "       [ 0.4472136 ,  0.18291863,  0.87974112,  0.74990436,  0.74143809,\n",
              "        -0.57216456, -1.3152496 ,  0.86879603,  0.557136  ,  0.76364306,\n",
              "        -0.65550859,  1.48765271, -1.74034622,  0.86697291, -2.80005908,\n",
              "        -0.08636798,  0.70573066,  0.66635372,  1.86109723,  2.40324391,\n",
              "         0.82294798, -2.00646415,  2.19405056,  1.        ,  1.        ,\n",
              "         0.        ,  0.        ,  0.        ,  0.        ,  0.        ,\n",
              "         0.        ,  0.        ,  0.        ,  0.        ,  0.        ,\n",
              "         1.        ,  0.        ,  0.        ,  0.        ,  0.        ,\n",
              "         0.        ,  1.        ,  0.        ,  0.        ,  1.        ,\n",
              "         0.        ,  0.        ,  0.        ,  0.        ,  0.        ,\n",
              "         0.        ,  0.        ,  0.        ,  0.        ,  0.        ,\n",
              "         1.        ,  0.        ,  0.        ,  0.        ,  0.        ,\n",
              "         0.        ,  1.        ,  0.        ,  0.        ]])>"
            ]
          },
          "execution_count": 30,
          "metadata": {},
          "output_type": "execute_result"
        }
      ],
      "source": [
        "inputs[0]"
      ]
    },
    {
      "cell_type": "code",
      "execution_count": 31,
      "metadata": {},
      "outputs": [
        {
          "data": {
            "text/plain": [
              "<tf.Tensor: shape=(32,), dtype=float64, numpy=\n",
              "array([ 6.46517447e-01, -1.01792309e-01,  3.78373118e-01, -8.45944787e-01,\n",
              "       -1.72884637e+00, -1.49801492e-03, -6.63024625e-01, -5.19078929e-01,\n",
              "       -1.72884637e+00,  7.18230465e-01,  3.58106395e-01, -3.60063106e-01,\n",
              "        1.20131334e-02, -4.18264976e-01,  4.63597284e-01,  7.29662975e-01,\n",
              "       -6.47434838e-01, -5.24795184e-01,  1.19631725e+00, -2.04684900e-01,\n",
              "        1.15578381e+00, -2.61327791e-01, -6.87448624e-01, -1.00496061e+00,\n",
              "        8.93355734e-01, -2.69122684e-01, -7.13951261e-01, -5.79359437e-01,\n",
              "        2.22472351e+00,  1.16305904e+00, -5.04528462e-01,  1.83500786e-01])>"
            ]
          },
          "execution_count": 31,
          "metadata": {},
          "output_type": "execute_result"
        }
      ],
      "source": [
        "targets"
      ]
    },
    {
      "cell_type": "code",
      "execution_count": 32,
      "metadata": {},
      "outputs": [
        {
          "data": {
            "text/plain": [
              "[0.6465174468466115,\n",
              " -0.10179230851926926,\n",
              " 0.3783731178405041,\n",
              " -0.8459447874664506,\n",
              " -1.7288463668877223,\n",
              " -0.0014980149181475937,\n",
              " -0.6630246250436796,\n",
              " -0.5190789290462151,\n",
              " -1.7288463668877223,\n",
              " 0.7182304650691752]"
            ]
          },
          "execution_count": 32,
          "metadata": {},
          "output_type": "execute_result"
        }
      ],
      "source": [
        "true_values = []\n",
        "for i in range(len(X_train)//4):\n",
        "    true_values.append(df_train.iloc[i*4+3,:][TARGET])\n",
        "true_values[0:10]"
      ]
    },
    {
      "cell_type": "code",
      "execution_count": 33,
      "metadata": {},
      "outputs": [],
      "source": [
        "ds_test = tf.keras.utils.timeseries_dataset_from_array(\n",
        "    data=X_test,\n",
        "    targets=df_test[TARGET][3:],\n",
        "    sequence_length=3,\n",
        "    sequence_stride=4,\n",
        "    shuffle=False,\n",
        "    batch_size=32)"
      ]
    },
    {
      "cell_type": "code",
      "execution_count": 91,
      "metadata": {},
      "outputs": [],
      "source": [
        "model = tf.keras.models.Sequential([\n",
        "        tf.keras.layers.GRU(128, input_shape=(3,64,), return_sequences=True),\n",
        "        tf.keras.layers.GRU(64, return_sequences=True),\n",
        "        tf.keras.layers.GRU(32, return_sequences=False),\n",
        "        tf.keras.layers.Dense(8, \"linear\"),\n",
        "        tf.keras.layers.Dense(1, \"linear\")\n",
        "    ])"
      ]
    },
    {
      "cell_type": "code",
      "execution_count": 92,
      "metadata": {},
      "outputs": [
        {
          "name": "stdout",
          "output_type": "stream",
          "text": [
            "Model: \"sequential_12\"\n",
            "_________________________________________________________________\n",
            " Layer (type)                Output Shape              Param #   \n",
            "=================================================================\n",
            " gru_32 (GRU)                (None, 3, 128)            74496     \n",
            "                                                                 \n",
            " gru_33 (GRU)                (None, 3, 64)             37248     \n",
            "                                                                 \n",
            " gru_34 (GRU)                (None, 32)                9408      \n",
            "                                                                 \n",
            " dense_21 (Dense)            (None, 8)                 264       \n",
            "                                                                 \n",
            " dense_22 (Dense)            (None, 1)                 9         \n",
            "                                                                 \n",
            "=================================================================\n",
            "Total params: 121,425\n",
            "Trainable params: 121,425\n",
            "Non-trainable params: 0\n",
            "_________________________________________________________________\n"
          ]
        }
      ],
      "source": [
        "model.summary()"
      ]
    },
    {
      "cell_type": "code",
      "execution_count": 93,
      "metadata": {},
      "outputs": [],
      "source": [
        "model.compile(\n",
        "    loss=tf.keras.losses.MeanSquaredError(),\n",
        "    optimizer=tf.keras.optimizers.Adam(),\n",
        "    metrics=tfa.metrics.RSquare())"
      ]
    },
    {
      "cell_type": "code",
      "execution_count": 94,
      "metadata": {},
      "outputs": [
        {
          "name": "stdout",
          "output_type": "stream",
          "text": [
            "Epoch 1/5\n",
            "60/60 [==============================] - 8s 30ms/step - loss: 0.6109 - r_square: 0.4676 - val_loss: 0.3043 - val_r_square: 0.7255\n",
            "Epoch 2/5\n",
            "60/60 [==============================] - 1s 11ms/step - loss: 0.4595 - r_square: 0.5996 - val_loss: 0.2747 - val_r_square: 0.7522\n",
            "Epoch 3/5\n",
            "60/60 [==============================] - 1s 11ms/step - loss: 0.4206 - r_square: 0.6335 - val_loss: 0.2652 - val_r_square: 0.7607\n",
            "Epoch 4/5\n",
            "60/60 [==============================] - 1s 11ms/step - loss: 0.4032 - r_square: 0.6486 - val_loss: 0.2605 - val_r_square: 0.7650\n",
            "Epoch 5/5\n",
            "60/60 [==============================] - 1s 11ms/step - loss: 0.3873 - r_square: 0.6624 - val_loss: 0.2580 - val_r_square: 0.7672\n"
          ]
        },
        {
          "data": {
            "text/plain": [
              "<keras.callbacks.History at 0x2120dacd910>"
            ]
          },
          "execution_count": 94,
          "metadata": {},
          "output_type": "execute_result"
        }
      ],
      "source": [
        "model.fit(ds_train, epochs=5, validation_data=ds_test)"
      ]
    },
    {
      "cell_type": "code",
      "execution_count": 99,
      "metadata": {},
      "outputs": [],
      "source": [
        "true_values = []\n",
        "predictions = []\n",
        "for i in range(int(len(X_test)/4)):\n",
        "    true_values.append(df_test.iloc[i*4+3,:][TARGET])\n",
        "    predictions.append(np.array(model(tf.expand_dims(X_test[i*4:i*4+3], axis=0))))\n"
      ]
    },
    {
      "cell_type": "code",
      "execution_count": 103,
      "metadata": {},
      "outputs": [
        {
          "data": {
            "text/plain": [
              "0.767219143553783"
            ]
          },
          "execution_count": 103,
          "metadata": {},
          "output_type": "execute_result"
        }
      ],
      "source": [
        "r2_score(true_values, np.array(predictions).ravel())"
      ]
    },
    {
      "cell_type": "code",
      "execution_count": 104,
      "metadata": {},
      "outputs": [
        {
          "data": {
            "text/plain": [
              "<tf.Variable 'gru_32/gru_cell_32/kernel:0' shape=(64, 384) dtype=float32, numpy=\n",
              "array([[ 0.06008945, -0.0208231 ,  0.05647784, ..., -0.0252794 ,\n",
              "         0.07640408, -0.04780112],\n",
              "       [-0.10494728, -0.06508765,  0.11623695, ..., -0.03886441,\n",
              "        -0.00513382, -0.04098175],\n",
              "       [ 0.02636033, -0.07488547, -0.03994165, ...,  0.0994485 ,\n",
              "        -0.06447626,  0.08275823],\n",
              "       ...,\n",
              "       [ 0.05040737, -0.09723269,  0.10408894, ..., -0.04169362,\n",
              "         0.0207759 , -0.09330749],\n",
              "       [-0.07891459, -0.1026121 ,  0.11228173, ..., -0.07103606,\n",
              "         0.04577089,  0.11043668],\n",
              "       [-0.04790527, -0.14083073, -0.03386193, ..., -0.00904732,\n",
              "        -0.09307924,  0.09162017]], dtype=float32)>"
            ]
          },
          "execution_count": 104,
          "metadata": {},
          "output_type": "execute_result"
        }
      ],
      "source": [
        "model.layers[0].trainable_variables[0]"
      ]
    },
    {
      "cell_type": "code",
      "execution_count": 108,
      "metadata": {},
      "outputs": [],
      "source": [
        "coeff_mean = []\n",
        "for i in range(64):\n",
        "    coeff_mean.append(np.mean(model.layers[0].trainable_variables[0][i]))"
      ]
    },
    {
      "cell_type": "code",
      "execution_count": 109,
      "metadata": {},
      "outputs": [],
      "source": [
        "df_coef = pd.DataFrame(coeff_mean, columns=['Coeff'], index= list_features_in)"
      ]
    },
    {
      "cell_type": "code",
      "execution_count": 110,
      "metadata": {},
      "outputs": [
        {
          "data": {
            "application/vnd.plotly.v1+json": {
              "config": {
                "plotlyServerURL": "https://plot.ly"
              },
              "data": [
                {
                  "alignmentgroup": "True",
                  "hovertemplate": "variable=Coeff<br>index=%{x}<br>value=%{y}<extra></extra>",
                  "legendgroup": "Coeff",
                  "marker": {
                    "color": "#636efa",
                    "pattern": {
                      "shape": ""
                    }
                  },
                  "name": "Coeff",
                  "offsetgroup": "Coeff",
                  "orientation": "v",
                  "showlegend": true,
                  "textposition": "auto",
                  "type": "bar",
                  "x": [
                    "LFI",
                    "UNIT_ACCR",
                    "H_D",
                    "AI",
                    "SDI",
                    "AGE_PPL",
                    "ALT",
                    "TIGES_VIV_H",
                    "SURF_TER_HA",
                    "FEUILL_PER",
                    "CONIF_PER",
                    "PERF_CROI",
                    "PRCP",
                    "TAVE_AVG",
                    "TAVE",
                    "TAVE_GROWTH",
                    "PRCP_S_S",
                    "PRCP_G_S",
                    "NDVI",
                    "EVI",
                    "NDMI",
                    "NDWI",
                    "DSWI",
                    "TAUX_COUV_RAJ",
                    "HT_VEG",
                    "PRODREG_0",
                    "PRODREG_1",
                    "PRODREG_2",
                    "PRODREG_3",
                    "ESPECE_DOM_0",
                    "ESPECE_DOM_1",
                    "ESPECE_DOM_2",
                    "ESPECE_DOM_3",
                    "ESPECE_DOM_4",
                    "ESPECE_DOM_5",
                    "ESPECE_DOM_6",
                    "ESPECE_DOM_7",
                    "ESPECE_DOM_8",
                    "ESPECE_DOM_9",
                    "ESPECE_DOM_10",
                    "ESPECE_DOM_11",
                    "TYP_RAJ_PPL_0",
                    "TYP_RAJ_PPL_1",
                    "TYP_RAJ_PPL_2",
                    "DEG_FERMETURE_0",
                    "DEG_FERMETURE_1",
                    "DEG_FERMETURE_2",
                    "DEG_FERMETURE_3",
                    "DEG_FERMETURE_4",
                    "DEG_FERMETURE_5",
                    "DEG_FERMETURE_6",
                    "DEG_FERMETURE_7",
                    "DEG_FERMETURE_8",
                    "DEG_FERMETURE_9",
                    "DEG_FERMETURE_10",
                    "STR_PPL_0",
                    "STR_PPL_1",
                    "STR_PPL_2",
                    "STR_PPL_3",
                    "RELIEF_0",
                    "RELIEF_1",
                    "RELIEF_2",
                    "RELIEF_3",
                    "RELIEF_4"
                  ],
                  "xaxis": "x",
                  "y": [
                    -0.01050813589245081,
                    -0.001503176405094564,
                    0.008047639392316341,
                    -0.0010190097382292151,
                    0.0018927293131127954,
                    -0.0002076645178021863,
                    -0.004559023771435022,
                    0.012247338891029358,
                    0.004404889885336161,
                    -0.0004070168361067772,
                    0.0006057351711206138,
                    0.004896549042314291,
                    -0.0014410908333957195,
                    0.0060318089090287685,
                    -0.00154222606215626,
                    0.00004442346471478231,
                    -0.0033703253138810396,
                    -0.00367733184248209,
                    -0.0035900380462408066,
                    -0.008443102240562439,
                    -0.001462323241867125,
                    0.0021896883845329285,
                    0.0024790773168206215,
                    0.0013206162257120013,
                    -0.004076946526765823,
                    0.0011186000192537904,
                    -0.006805731449276209,
                    0.00038495645276270807,
                    -0.011229344643652439,
                    0.002052093157544732,
                    -0.0035977091174572706,
                    -0.005640762392431498,
                    0.005601796787232161,
                    0.0016360512236133218,
                    -0.008155759423971176,
                    -0.0032562643755227327,
                    -0.011787929572165012,
                    -0.004971764516085386,
                    0.003665902651846409,
                    0.001960041932761669,
                    0.0033717744518071413,
                    0.00009153658902505413,
                    0.0005470056203193963,
                    -0.008391288109123707,
                    0.007414850872009993,
                    0.004465873818844557,
                    0.002864167094230652,
                    -0.0004564705304801464,
                    -0.011335211805999279,
                    0.010112104006111622,
                    -0.0034268212039023638,
                    -0.0023384580854326487,
                    -0.00338733964599669,
                    0.003304882673546672,
                    0.007084408774971962,
                    -0.0001635004737181589,
                    -0.008039026521146297,
                    0.0021316574420779943,
                    0.007883443497121334,
                    -0.0047339750453829765,
                    0.010355849750339985,
                    -0.010624685324728489,
                    -0.006953523959964514,
                    -0.000016916854292503558
                  ],
                  "yaxis": "y"
                }
              ],
              "layout": {
                "barmode": "relative",
                "legend": {
                  "title": {
                    "text": "variable"
                  },
                  "tracegroupgap": 0
                },
                "template": {
                  "data": {
                    "bar": [
                      {
                        "error_x": {
                          "color": "#2a3f5f"
                        },
                        "error_y": {
                          "color": "#2a3f5f"
                        },
                        "marker": {
                          "line": {
                            "color": "#E5ECF6",
                            "width": 0.5
                          },
                          "pattern": {
                            "fillmode": "overlay",
                            "size": 10,
                            "solidity": 0.2
                          }
                        },
                        "type": "bar"
                      }
                    ],
                    "barpolar": [
                      {
                        "marker": {
                          "line": {
                            "color": "#E5ECF6",
                            "width": 0.5
                          },
                          "pattern": {
                            "fillmode": "overlay",
                            "size": 10,
                            "solidity": 0.2
                          }
                        },
                        "type": "barpolar"
                      }
                    ],
                    "carpet": [
                      {
                        "aaxis": {
                          "endlinecolor": "#2a3f5f",
                          "gridcolor": "white",
                          "linecolor": "white",
                          "minorgridcolor": "white",
                          "startlinecolor": "#2a3f5f"
                        },
                        "baxis": {
                          "endlinecolor": "#2a3f5f",
                          "gridcolor": "white",
                          "linecolor": "white",
                          "minorgridcolor": "white",
                          "startlinecolor": "#2a3f5f"
                        },
                        "type": "carpet"
                      }
                    ],
                    "choropleth": [
                      {
                        "colorbar": {
                          "outlinewidth": 0,
                          "ticks": ""
                        },
                        "type": "choropleth"
                      }
                    ],
                    "contour": [
                      {
                        "colorbar": {
                          "outlinewidth": 0,
                          "ticks": ""
                        },
                        "colorscale": [
                          [
                            0,
                            "#0d0887"
                          ],
                          [
                            0.1111111111111111,
                            "#46039f"
                          ],
                          [
                            0.2222222222222222,
                            "#7201a8"
                          ],
                          [
                            0.3333333333333333,
                            "#9c179e"
                          ],
                          [
                            0.4444444444444444,
                            "#bd3786"
                          ],
                          [
                            0.5555555555555556,
                            "#d8576b"
                          ],
                          [
                            0.6666666666666666,
                            "#ed7953"
                          ],
                          [
                            0.7777777777777778,
                            "#fb9f3a"
                          ],
                          [
                            0.8888888888888888,
                            "#fdca26"
                          ],
                          [
                            1,
                            "#f0f921"
                          ]
                        ],
                        "type": "contour"
                      }
                    ],
                    "contourcarpet": [
                      {
                        "colorbar": {
                          "outlinewidth": 0,
                          "ticks": ""
                        },
                        "type": "contourcarpet"
                      }
                    ],
                    "heatmap": [
                      {
                        "colorbar": {
                          "outlinewidth": 0,
                          "ticks": ""
                        },
                        "colorscale": [
                          [
                            0,
                            "#0d0887"
                          ],
                          [
                            0.1111111111111111,
                            "#46039f"
                          ],
                          [
                            0.2222222222222222,
                            "#7201a8"
                          ],
                          [
                            0.3333333333333333,
                            "#9c179e"
                          ],
                          [
                            0.4444444444444444,
                            "#bd3786"
                          ],
                          [
                            0.5555555555555556,
                            "#d8576b"
                          ],
                          [
                            0.6666666666666666,
                            "#ed7953"
                          ],
                          [
                            0.7777777777777778,
                            "#fb9f3a"
                          ],
                          [
                            0.8888888888888888,
                            "#fdca26"
                          ],
                          [
                            1,
                            "#f0f921"
                          ]
                        ],
                        "type": "heatmap"
                      }
                    ],
                    "heatmapgl": [
                      {
                        "colorbar": {
                          "outlinewidth": 0,
                          "ticks": ""
                        },
                        "colorscale": [
                          [
                            0,
                            "#0d0887"
                          ],
                          [
                            0.1111111111111111,
                            "#46039f"
                          ],
                          [
                            0.2222222222222222,
                            "#7201a8"
                          ],
                          [
                            0.3333333333333333,
                            "#9c179e"
                          ],
                          [
                            0.4444444444444444,
                            "#bd3786"
                          ],
                          [
                            0.5555555555555556,
                            "#d8576b"
                          ],
                          [
                            0.6666666666666666,
                            "#ed7953"
                          ],
                          [
                            0.7777777777777778,
                            "#fb9f3a"
                          ],
                          [
                            0.8888888888888888,
                            "#fdca26"
                          ],
                          [
                            1,
                            "#f0f921"
                          ]
                        ],
                        "type": "heatmapgl"
                      }
                    ],
                    "histogram": [
                      {
                        "marker": {
                          "pattern": {
                            "fillmode": "overlay",
                            "size": 10,
                            "solidity": 0.2
                          }
                        },
                        "type": "histogram"
                      }
                    ],
                    "histogram2d": [
                      {
                        "colorbar": {
                          "outlinewidth": 0,
                          "ticks": ""
                        },
                        "colorscale": [
                          [
                            0,
                            "#0d0887"
                          ],
                          [
                            0.1111111111111111,
                            "#46039f"
                          ],
                          [
                            0.2222222222222222,
                            "#7201a8"
                          ],
                          [
                            0.3333333333333333,
                            "#9c179e"
                          ],
                          [
                            0.4444444444444444,
                            "#bd3786"
                          ],
                          [
                            0.5555555555555556,
                            "#d8576b"
                          ],
                          [
                            0.6666666666666666,
                            "#ed7953"
                          ],
                          [
                            0.7777777777777778,
                            "#fb9f3a"
                          ],
                          [
                            0.8888888888888888,
                            "#fdca26"
                          ],
                          [
                            1,
                            "#f0f921"
                          ]
                        ],
                        "type": "histogram2d"
                      }
                    ],
                    "histogram2dcontour": [
                      {
                        "colorbar": {
                          "outlinewidth": 0,
                          "ticks": ""
                        },
                        "colorscale": [
                          [
                            0,
                            "#0d0887"
                          ],
                          [
                            0.1111111111111111,
                            "#46039f"
                          ],
                          [
                            0.2222222222222222,
                            "#7201a8"
                          ],
                          [
                            0.3333333333333333,
                            "#9c179e"
                          ],
                          [
                            0.4444444444444444,
                            "#bd3786"
                          ],
                          [
                            0.5555555555555556,
                            "#d8576b"
                          ],
                          [
                            0.6666666666666666,
                            "#ed7953"
                          ],
                          [
                            0.7777777777777778,
                            "#fb9f3a"
                          ],
                          [
                            0.8888888888888888,
                            "#fdca26"
                          ],
                          [
                            1,
                            "#f0f921"
                          ]
                        ],
                        "type": "histogram2dcontour"
                      }
                    ],
                    "mesh3d": [
                      {
                        "colorbar": {
                          "outlinewidth": 0,
                          "ticks": ""
                        },
                        "type": "mesh3d"
                      }
                    ],
                    "parcoords": [
                      {
                        "line": {
                          "colorbar": {
                            "outlinewidth": 0,
                            "ticks": ""
                          }
                        },
                        "type": "parcoords"
                      }
                    ],
                    "pie": [
                      {
                        "automargin": true,
                        "type": "pie"
                      }
                    ],
                    "scatter": [
                      {
                        "fillpattern": {
                          "fillmode": "overlay",
                          "size": 10,
                          "solidity": 0.2
                        },
                        "type": "scatter"
                      }
                    ],
                    "scatter3d": [
                      {
                        "line": {
                          "colorbar": {
                            "outlinewidth": 0,
                            "ticks": ""
                          }
                        },
                        "marker": {
                          "colorbar": {
                            "outlinewidth": 0,
                            "ticks": ""
                          }
                        },
                        "type": "scatter3d"
                      }
                    ],
                    "scattercarpet": [
                      {
                        "marker": {
                          "colorbar": {
                            "outlinewidth": 0,
                            "ticks": ""
                          }
                        },
                        "type": "scattercarpet"
                      }
                    ],
                    "scattergeo": [
                      {
                        "marker": {
                          "colorbar": {
                            "outlinewidth": 0,
                            "ticks": ""
                          }
                        },
                        "type": "scattergeo"
                      }
                    ],
                    "scattergl": [
                      {
                        "marker": {
                          "colorbar": {
                            "outlinewidth": 0,
                            "ticks": ""
                          }
                        },
                        "type": "scattergl"
                      }
                    ],
                    "scattermapbox": [
                      {
                        "marker": {
                          "colorbar": {
                            "outlinewidth": 0,
                            "ticks": ""
                          }
                        },
                        "type": "scattermapbox"
                      }
                    ],
                    "scatterpolar": [
                      {
                        "marker": {
                          "colorbar": {
                            "outlinewidth": 0,
                            "ticks": ""
                          }
                        },
                        "type": "scatterpolar"
                      }
                    ],
                    "scatterpolargl": [
                      {
                        "marker": {
                          "colorbar": {
                            "outlinewidth": 0,
                            "ticks": ""
                          }
                        },
                        "type": "scatterpolargl"
                      }
                    ],
                    "scatterternary": [
                      {
                        "marker": {
                          "colorbar": {
                            "outlinewidth": 0,
                            "ticks": ""
                          }
                        },
                        "type": "scatterternary"
                      }
                    ],
                    "surface": [
                      {
                        "colorbar": {
                          "outlinewidth": 0,
                          "ticks": ""
                        },
                        "colorscale": [
                          [
                            0,
                            "#0d0887"
                          ],
                          [
                            0.1111111111111111,
                            "#46039f"
                          ],
                          [
                            0.2222222222222222,
                            "#7201a8"
                          ],
                          [
                            0.3333333333333333,
                            "#9c179e"
                          ],
                          [
                            0.4444444444444444,
                            "#bd3786"
                          ],
                          [
                            0.5555555555555556,
                            "#d8576b"
                          ],
                          [
                            0.6666666666666666,
                            "#ed7953"
                          ],
                          [
                            0.7777777777777778,
                            "#fb9f3a"
                          ],
                          [
                            0.8888888888888888,
                            "#fdca26"
                          ],
                          [
                            1,
                            "#f0f921"
                          ]
                        ],
                        "type": "surface"
                      }
                    ],
                    "table": [
                      {
                        "cells": {
                          "fill": {
                            "color": "#EBF0F8"
                          },
                          "line": {
                            "color": "white"
                          }
                        },
                        "header": {
                          "fill": {
                            "color": "#C8D4E3"
                          },
                          "line": {
                            "color": "white"
                          }
                        },
                        "type": "table"
                      }
                    ]
                  },
                  "layout": {
                    "annotationdefaults": {
                      "arrowcolor": "#2a3f5f",
                      "arrowhead": 0,
                      "arrowwidth": 1
                    },
                    "autotypenumbers": "strict",
                    "coloraxis": {
                      "colorbar": {
                        "outlinewidth": 0,
                        "ticks": ""
                      }
                    },
                    "colorscale": {
                      "diverging": [
                        [
                          0,
                          "#8e0152"
                        ],
                        [
                          0.1,
                          "#c51b7d"
                        ],
                        [
                          0.2,
                          "#de77ae"
                        ],
                        [
                          0.3,
                          "#f1b6da"
                        ],
                        [
                          0.4,
                          "#fde0ef"
                        ],
                        [
                          0.5,
                          "#f7f7f7"
                        ],
                        [
                          0.6,
                          "#e6f5d0"
                        ],
                        [
                          0.7,
                          "#b8e186"
                        ],
                        [
                          0.8,
                          "#7fbc41"
                        ],
                        [
                          0.9,
                          "#4d9221"
                        ],
                        [
                          1,
                          "#276419"
                        ]
                      ],
                      "sequential": [
                        [
                          0,
                          "#0d0887"
                        ],
                        [
                          0.1111111111111111,
                          "#46039f"
                        ],
                        [
                          0.2222222222222222,
                          "#7201a8"
                        ],
                        [
                          0.3333333333333333,
                          "#9c179e"
                        ],
                        [
                          0.4444444444444444,
                          "#bd3786"
                        ],
                        [
                          0.5555555555555556,
                          "#d8576b"
                        ],
                        [
                          0.6666666666666666,
                          "#ed7953"
                        ],
                        [
                          0.7777777777777778,
                          "#fb9f3a"
                        ],
                        [
                          0.8888888888888888,
                          "#fdca26"
                        ],
                        [
                          1,
                          "#f0f921"
                        ]
                      ],
                      "sequentialminus": [
                        [
                          0,
                          "#0d0887"
                        ],
                        [
                          0.1111111111111111,
                          "#46039f"
                        ],
                        [
                          0.2222222222222222,
                          "#7201a8"
                        ],
                        [
                          0.3333333333333333,
                          "#9c179e"
                        ],
                        [
                          0.4444444444444444,
                          "#bd3786"
                        ],
                        [
                          0.5555555555555556,
                          "#d8576b"
                        ],
                        [
                          0.6666666666666666,
                          "#ed7953"
                        ],
                        [
                          0.7777777777777778,
                          "#fb9f3a"
                        ],
                        [
                          0.8888888888888888,
                          "#fdca26"
                        ],
                        [
                          1,
                          "#f0f921"
                        ]
                      ]
                    },
                    "colorway": [
                      "#636efa",
                      "#EF553B",
                      "#00cc96",
                      "#ab63fa",
                      "#FFA15A",
                      "#19d3f3",
                      "#FF6692",
                      "#B6E880",
                      "#FF97FF",
                      "#FECB52"
                    ],
                    "font": {
                      "color": "#2a3f5f"
                    },
                    "geo": {
                      "bgcolor": "white",
                      "lakecolor": "white",
                      "landcolor": "#E5ECF6",
                      "showlakes": true,
                      "showland": true,
                      "subunitcolor": "white"
                    },
                    "hoverlabel": {
                      "align": "left"
                    },
                    "hovermode": "closest",
                    "mapbox": {
                      "style": "light"
                    },
                    "paper_bgcolor": "white",
                    "plot_bgcolor": "#E5ECF6",
                    "polar": {
                      "angularaxis": {
                        "gridcolor": "white",
                        "linecolor": "white",
                        "ticks": ""
                      },
                      "bgcolor": "#E5ECF6",
                      "radialaxis": {
                        "gridcolor": "white",
                        "linecolor": "white",
                        "ticks": ""
                      }
                    },
                    "scene": {
                      "xaxis": {
                        "backgroundcolor": "#E5ECF6",
                        "gridcolor": "white",
                        "gridwidth": 2,
                        "linecolor": "white",
                        "showbackground": true,
                        "ticks": "",
                        "zerolinecolor": "white"
                      },
                      "yaxis": {
                        "backgroundcolor": "#E5ECF6",
                        "gridcolor": "white",
                        "gridwidth": 2,
                        "linecolor": "white",
                        "showbackground": true,
                        "ticks": "",
                        "zerolinecolor": "white"
                      },
                      "zaxis": {
                        "backgroundcolor": "#E5ECF6",
                        "gridcolor": "white",
                        "gridwidth": 2,
                        "linecolor": "white",
                        "showbackground": true,
                        "ticks": "",
                        "zerolinecolor": "white"
                      }
                    },
                    "shapedefaults": {
                      "line": {
                        "color": "#2a3f5f"
                      }
                    },
                    "ternary": {
                      "aaxis": {
                        "gridcolor": "white",
                        "linecolor": "white",
                        "ticks": ""
                      },
                      "baxis": {
                        "gridcolor": "white",
                        "linecolor": "white",
                        "ticks": ""
                      },
                      "bgcolor": "#E5ECF6",
                      "caxis": {
                        "gridcolor": "white",
                        "linecolor": "white",
                        "ticks": ""
                      }
                    },
                    "title": {
                      "x": 0.05
                    },
                    "xaxis": {
                      "automargin": true,
                      "gridcolor": "white",
                      "linecolor": "white",
                      "ticks": "",
                      "title": {
                        "standoff": 15
                      },
                      "zerolinecolor": "white",
                      "zerolinewidth": 2
                    },
                    "yaxis": {
                      "automargin": true,
                      "gridcolor": "white",
                      "linecolor": "white",
                      "ticks": "",
                      "title": {
                        "standoff": 15
                      },
                      "zerolinecolor": "white",
                      "zerolinewidth": 2
                    }
                  }
                },
                "title": {
                  "text": "Features importance for target : SURF_TER_HA with Lasso Linear Regression"
                },
                "xaxis": {
                  "anchor": "y",
                  "domain": [
                    0,
                    1
                  ],
                  "title": {
                    "text": "index"
                  }
                },
                "yaxis": {
                  "anchor": "x",
                  "domain": [
                    0,
                    1
                  ],
                  "title": {
                    "text": "value"
                  }
                }
              }
            }
          },
          "metadata": {},
          "output_type": "display_data"
        }
      ],
      "source": [
        "fig = px.bar(df_coef['Coeff'], title=f\"Features importance for target : {TARGET} with Lasso Linear Regression\")\n",
        "fig.show()"
      ]
    },
    {
      "cell_type": "code",
      "execution_count": null,
      "metadata": {},
      "outputs": [],
      "source": []
    }
  ],
  "metadata": {
    "colab": {
      "provenance": []
    },
    "kernelspec": {
      "display_name": "Python 3.9.15 ('tf')",
      "language": "python",
      "name": "python3"
    },
    "language_info": {
      "codemirror_mode": {
        "name": "ipython",
        "version": 3
      },
      "file_extension": ".py",
      "mimetype": "text/x-python",
      "name": "python",
      "nbconvert_exporter": "python",
      "pygments_lexer": "ipython3",
      "version": "3.9.15"
    },
    "vscode": {
      "interpreter": {
        "hash": "5189243fad43be7f8e8d3cb4543ab2ad97db75cb5cafeb529b891f799005b4bf"
      }
    }
  },
  "nbformat": 4,
  "nbformat_minor": 0
}
