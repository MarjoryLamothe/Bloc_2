{
  "cells": [
    {
      "cell_type": "code",
      "execution_count": 233,
      "metadata": {
        "id": "F-xnvpnQb1eP"
      },
      "outputs": [],
      "source": [
        "import pandas as pd\n",
        "import numpy as np\n",
        "import plotly.express as px\n",
        "\n",
        "from sklearn.preprocessing import OneHotEncoder, StandardScaler, LabelEncoder\n",
        "from sklearn.impute import KNNImputer\n",
        "from sklearn.pipeline import Pipeline\n",
        "from sklearn.linear_model import Ridge, RidgeClassifier\n",
        "from sklearn.model_selection import train_test_split\n",
        "from sklearn.compose import ColumnTransformer\n",
        "from sklearn.model_selection import cross_val_score, GridSearchCV\n",
        "from sklearn.metrics import r2_score\n",
        "\n",
        "import tensorflow as tf\n",
        "import tensorflow_addons as tfa"
      ]
    },
    {
      "cell_type": "code",
      "execution_count": 176,
      "metadata": {
        "id": "9P-_u-rOcDyp"
      },
      "outputs": [],
      "source": [
        "data_base = pd.read_excel('./big_merge_V2_meteo_SAT.xlsx').drop('Unnamed: 0', axis=1)"
      ]
    },
    {
      "cell_type": "markdown",
      "metadata": {
        "id": "D9f0gOtzfjKT"
      },
      "source": [
        "PREPROCESSING _ Code base for models temporal predictions"
      ]
    },
    {
      "cell_type": "markdown",
      "metadata": {},
      "source": [
        "Ici, features engineering (création de nouvelles features à partir de la liste connues):"
      ]
    },
    {
      "cell_type": "code",
      "execution_count": 177,
      "metadata": {},
      "outputs": [],
      "source": [
        "# adding aridity index\n",
        "data_base[\"AI\"] = data_base['PRCP_GROWTH'] / data_base['TAVE_GROWTH']\n",
        "# adding H/D index\n",
        "data_base[\"H_D\"] = data_base['HAUTEUR_ARBRE'] / data_base['DBH']"
      ]
    },
    {
      "cell_type": "markdown",
      "metadata": {},
      "source": [
        "### Choix TARGET et Features :"
      ]
    },
    {
      "cell_type": "markdown",
      "metadata": {},
      "source": [
        "Target :"
      ]
    },
    {
      "cell_type": "code",
      "execution_count": 178,
      "metadata": {
        "id": "ONWylCfRdilS"
      },
      "outputs": [],
      "source": [
        "TARGET = ['SURF_TER_HA'] #exemple"
      ]
    },
    {
      "cell_type": "markdown",
      "metadata": {},
      "source": [
        "Features :"
      ]
    },
    {
      "cell_type": "code",
      "execution_count": 179,
      "metadata": {},
      "outputs": [],
      "source": [
        "# --- PAST --- \n",
        "# Attention : on peut, logiquement, inclure la TARGET... (connue dans le passé)\n",
        "cat_strict = ['PRODREG', 'ESPECE_DOM', 'TYP_RAJ_PPL', 'DEG_FERMETURE', 'STR_PPL', 'RELIEF'] #exemple 'PRODREG', 'ESPECE_DOM', 'TYP_RAJ_PPL', 'DEG_FERMETURE', 'STR_PPL', 'RELIEF'\n",
        "cat_ord_miss = ['HT_VEG'] #exemple 'TAILLE_PPL', 'MELANGE', 'QUAL_STATION', 'TAUX_COUV_RAJ', 'SURF_TROU_AER', 'HT_VEG'\n",
        "numerics = ['UNIT_ACCR','H_D','AI','SDI', 'AGE_PPL','ALT', 'TIGES_VIV_H', 'SURF_TER_HA', 'FEUILL_PER', 'CONIF_PER','PERF_CROI', 'NDVI', 'EVI', 'NDMI', 'NDWI', 'DSWI'] #exemple\n",
        "\n",
        "# --- FUTURE KNOWN ---\n",
        "# Attention : logiquement les features, potentiellement connues dans le futur ci-dessous sont aussi répertoriées ci-dessus dans le passé\n",
        "add_cat_IFN_stable = [] # technos-substituts : 'DEG_FERMETURE', 'STR_PPL', 'ESPECE_DOM', 'DEG_FERMETURE'\n",
        "add_cat_ord_IFN_stable = [] # technos-substituts : 'DEG_FERMETURE', 'STR_PPL', 'SURF_TROU_AER' 'SURF_TROU_AER'\n",
        "add_IFN_numerics_stable = [] # technos-substituts : , 'SDI'\n",
        "# données potentiellement connues car stables par parcelles :\n",
        "#['LAT', 'LON', 'ALT', 'PRODREG', 'HT_VEG', 'SLOPE25', 'ASPECT25', 'ORIENTATION', 'PERF_CROI', 'QUAL_STATION', 'UNIT_VEG_FINE',\n",
        "# 'UNIT_VEG_GROS', 'PROCESS_SILVA', 'PERI_CHENAUX', 'PERI_COULEES','PERI_AVALANCH', 'PERI_CHUTES', 'ETAGE', 'ENDOMMAGEMENT','NB_DEGAT_ARBRE']\n",
        "# + données extrapolées grâce à des technologies prometteuses (satellites ?)....\n",
        "\n",
        "add_meteo_known = ['PRCP', 'TAVE_AVG',\t'TAVE', 'TAVE_GROWTH', 'PRCP_S_S',\t'PRCP_G_S']\n",
        "\n",
        "add_SAT_known = ['NDVI', 'EVI', 'NDMI', 'NDWI', 'DSWI']"
      ]
    },
    {
      "cell_type": "code",
      "execution_count": 180,
      "metadata": {},
      "outputs": [],
      "source": [
        "features_past = numerics + cat_strict + cat_ord_miss\n",
        "features_future = add_cat_IFN_stable + add_cat_ord_IFN_stable + add_IFN_numerics_stable + add_meteo_known + add_SAT_known"
      ]
    },
    {
      "cell_type": "code",
      "execution_count": 181,
      "metadata": {
        "id": "OkL-2XrZdDvZ"
      },
      "outputs": [],
      "source": [
        "data_LFI1 = data_base.loc[data_base['LFI']=='LFI1',:].sort_values('PARCELLE')\n",
        "data_LFI2 = data_base.loc[data_base['LFI']=='LFI2',:].sort_values('PARCELLE')\n",
        "data_LFI3 = data_base.loc[data_base['LFI']=='LFI3',:].sort_values('PARCELLE')\n",
        "data_LFI4 = data_base.loc[data_base['LFI']=='LFI4',:].sort_values('PARCELLE')"
      ]
    },
    {
      "cell_type": "code",
      "execution_count": 182,
      "metadata": {},
      "outputs": [],
      "source": [
        "future_feat_names = []\n",
        "add_cat_strict_feat_names = []\n",
        "add_cat_ord_feat_names = []\n",
        "add_numerics_feat_names = []\n",
        "\n",
        "for cat in features_future:\n",
        "    lfi2_list = data_LFI2[cat].to_list()\n",
        "    lfi3_list = data_LFI3[cat].to_list()\n",
        "    lfi4_list = data_LFI4[cat].to_list()\n",
        "    data_LFI1[cat + \"_f\"] = lfi2_list\n",
        "    data_LFI2[cat + \"_f\"] = lfi2_list\n",
        "    data_LFI3[cat + \"_f\"] = lfi2_list\n",
        "    future_feat_names.append(cat + '_f')\n",
        "    if cat in add_cat_ord_IFN_stable:\n",
        "        add_cat_ord_feat_names.append(cat + '_f')\n",
        "    elif cat in add_cat_IFN_stable:\n",
        "        add_cat_strict_feat_names.append(cat + '_f')\n",
        "    else:\n",
        "        add_numerics_feat_names.append(cat + '_f')\n"
      ]
    },
    {
      "cell_type": "code",
      "execution_count": 183,
      "metadata": {},
      "outputs": [],
      "source": [
        "data_red = pd.concat([data_LFI1, data_LFI2, data_LFI3], axis=0)[features_past + future_feat_names]\n",
        "Y = pd.concat([data_LFI2[TARGET], data_LFI3[TARGET], data_LFI4[TARGET]], axis = 0)"
      ]
    },
    {
      "cell_type": "code",
      "execution_count": 184,
      "metadata": {},
      "outputs": [
        {
          "data": {
            "text/html": [
              "<div>\n",
              "<style scoped>\n",
              "    .dataframe tbody tr th:only-of-type {\n",
              "        vertical-align: middle;\n",
              "    }\n",
              "\n",
              "    .dataframe tbody tr th {\n",
              "        vertical-align: top;\n",
              "    }\n",
              "\n",
              "    .dataframe thead th {\n",
              "        text-align: right;\n",
              "    }\n",
              "</style>\n",
              "<table border=\"1\" class=\"dataframe\">\n",
              "  <thead>\n",
              "    <tr style=\"text-align: right;\">\n",
              "      <th></th>\n",
              "      <th>UNIT_ACCR</th>\n",
              "      <th>H_D</th>\n",
              "      <th>AI</th>\n",
              "      <th>SDI</th>\n",
              "      <th>AGE_PPL</th>\n",
              "      <th>ALT</th>\n",
              "      <th>TIGES_VIV_H</th>\n",
              "      <th>SURF_TER_HA</th>\n",
              "      <th>FEUILL_PER</th>\n",
              "      <th>CONIF_PER</th>\n",
              "      <th>...</th>\n",
              "      <th>TAVE_AVG_f</th>\n",
              "      <th>TAVE_f</th>\n",
              "      <th>TAVE_GROWTH_f</th>\n",
              "      <th>PRCP_S_S_f</th>\n",
              "      <th>PRCP_G_S_f</th>\n",
              "      <th>NDVI_f</th>\n",
              "      <th>EVI_f</th>\n",
              "      <th>NDMI_f</th>\n",
              "      <th>NDWI_f</th>\n",
              "      <th>DSWI_f</th>\n",
              "    </tr>\n",
              "  </thead>\n",
              "  <tbody>\n",
              "    <tr>\n",
              "      <th>0</th>\n",
              "      <td>NaN</td>\n",
              "      <td>0.695652</td>\n",
              "      <td>NaN</td>\n",
              "      <td>571</td>\n",
              "      <td>85.0</td>\n",
              "      <td>715.918970</td>\n",
              "      <td>590.0</td>\n",
              "      <td>27.79</td>\n",
              "      <td>NaN</td>\n",
              "      <td>NaN</td>\n",
              "      <td>...</td>\n",
              "      <td>8.8859</td>\n",
              "      <td>9.026806</td>\n",
              "      <td>13.84776</td>\n",
              "      <td>117.278617</td>\n",
              "      <td>51.835496</td>\n",
              "      <td>0.4992</td>\n",
              "      <td>0.0160</td>\n",
              "      <td>0.2705</td>\n",
              "      <td>-0.4653</td>\n",
              "      <td>0.6865</td>\n",
              "    </tr>\n",
              "    <tr>\n",
              "      <th>5</th>\n",
              "      <td>NaN</td>\n",
              "      <td>0.647727</td>\n",
              "      <td>NaN</td>\n",
              "      <td>890</td>\n",
              "      <td>140.0</td>\n",
              "      <td>563.829759</td>\n",
              "      <td>400.0</td>\n",
              "      <td>53.38</td>\n",
              "      <td>NaN</td>\n",
              "      <td>NaN</td>\n",
              "      <td>...</td>\n",
              "      <td>8.9951</td>\n",
              "      <td>19.793490</td>\n",
              "      <td>13.83959</td>\n",
              "      <td>122.675652</td>\n",
              "      <td>55.827235</td>\n",
              "      <td>0.5552</td>\n",
              "      <td>0.0149</td>\n",
              "      <td>0.2017</td>\n",
              "      <td>-0.4864</td>\n",
              "      <td>0.6996</td>\n",
              "    </tr>\n",
              "    <tr>\n",
              "      <th>9</th>\n",
              "      <td>NaN</td>\n",
              "      <td>0.666667</td>\n",
              "      <td>NaN</td>\n",
              "      <td>489</td>\n",
              "      <td>80.0</td>\n",
              "      <td>564.885846</td>\n",
              "      <td>320.0</td>\n",
              "      <td>26.70</td>\n",
              "      <td>NaN</td>\n",
              "      <td>NaN</td>\n",
              "      <td>...</td>\n",
              "      <td>9.0637</td>\n",
              "      <td>11.671380</td>\n",
              "      <td>13.39843</td>\n",
              "      <td>128.067334</td>\n",
              "      <td>61.309991</td>\n",
              "      <td>0.5633</td>\n",
              "      <td>0.0153</td>\n",
              "      <td>0.1727</td>\n",
              "      <td>-0.5002</td>\n",
              "      <td>0.6852</td>\n",
              "    </tr>\n",
              "    <tr>\n",
              "      <th>14</th>\n",
              "      <td>NaN</td>\n",
              "      <td>NaN</td>\n",
              "      <td>NaN</td>\n",
              "      <td>0</td>\n",
              "      <td>2.0</td>\n",
              "      <td>563.551602</td>\n",
              "      <td>0.0</td>\n",
              "      <td>0.00</td>\n",
              "      <td>NaN</td>\n",
              "      <td>NaN</td>\n",
              "      <td>...</td>\n",
              "      <td>8.8805</td>\n",
              "      <td>10.459870</td>\n",
              "      <td>13.15530</td>\n",
              "      <td>130.759873</td>\n",
              "      <td>63.219754</td>\n",
              "      <td>0.6059</td>\n",
              "      <td>0.0197</td>\n",
              "      <td>0.2269</td>\n",
              "      <td>-0.5588</td>\n",
              "      <td>0.8384</td>\n",
              "    </tr>\n",
              "    <tr>\n",
              "      <th>19</th>\n",
              "      <td>NaN</td>\n",
              "      <td>0.676471</td>\n",
              "      <td>NaN</td>\n",
              "      <td>377</td>\n",
              "      <td>130.0</td>\n",
              "      <td>539.769096</td>\n",
              "      <td>150.0</td>\n",
              "      <td>23.32</td>\n",
              "      <td>NaN</td>\n",
              "      <td>NaN</td>\n",
              "      <td>...</td>\n",
              "      <td>8.8384</td>\n",
              "      <td>11.544840</td>\n",
              "      <td>13.16893</td>\n",
              "      <td>131.143585</td>\n",
              "      <td>62.702111</td>\n",
              "      <td>0.6012</td>\n",
              "      <td>0.0184</td>\n",
              "      <td>0.2029</td>\n",
              "      <td>-0.5486</td>\n",
              "      <td>0.7902</td>\n",
              "    </tr>\n",
              "  </tbody>\n",
              "</table>\n",
              "<p>5 rows × 34 columns</p>\n",
              "</div>"
            ],
            "text/plain": [
              "    UNIT_ACCR       H_D  AI  SDI  AGE_PPL         ALT  TIGES_VIV_H  \\\n",
              "0         NaN  0.695652 NaN  571     85.0  715.918970        590.0   \n",
              "5         NaN  0.647727 NaN  890    140.0  563.829759        400.0   \n",
              "9         NaN  0.666667 NaN  489     80.0  564.885846        320.0   \n",
              "14        NaN       NaN NaN    0      2.0  563.551602          0.0   \n",
              "19        NaN  0.676471 NaN  377    130.0  539.769096        150.0   \n",
              "\n",
              "    SURF_TER_HA  FEUILL_PER  CONIF_PER  ...  TAVE_AVG_f     TAVE_f  \\\n",
              "0         27.79         NaN        NaN  ...      8.8859   9.026806   \n",
              "5         53.38         NaN        NaN  ...      8.9951  19.793490   \n",
              "9         26.70         NaN        NaN  ...      9.0637  11.671380   \n",
              "14         0.00         NaN        NaN  ...      8.8805  10.459870   \n",
              "19        23.32         NaN        NaN  ...      8.8384  11.544840   \n",
              "\n",
              "    TAVE_GROWTH_f  PRCP_S_S_f  PRCP_G_S_f  NDVI_f   EVI_f  NDMI_f  NDWI_f  \\\n",
              "0        13.84776  117.278617   51.835496  0.4992  0.0160  0.2705 -0.4653   \n",
              "5        13.83959  122.675652   55.827235  0.5552  0.0149  0.2017 -0.4864   \n",
              "9        13.39843  128.067334   61.309991  0.5633  0.0153  0.1727 -0.5002   \n",
              "14       13.15530  130.759873   63.219754  0.6059  0.0197  0.2269 -0.5588   \n",
              "19       13.16893  131.143585   62.702111  0.6012  0.0184  0.2029 -0.5486   \n",
              "\n",
              "    DSWI_f  \n",
              "0   0.6865  \n",
              "5   0.6996  \n",
              "9   0.6852  \n",
              "14  0.8384  \n",
              "19  0.7902  \n",
              "\n",
              "[5 rows x 34 columns]"
            ]
          },
          "execution_count": 184,
          "metadata": {},
          "output_type": "execute_result"
        }
      ],
      "source": [
        "data_red.head()"
      ]
    },
    {
      "cell_type": "code",
      "execution_count": 185,
      "metadata": {},
      "outputs": [],
      "source": [
        "Y = Y.to_numpy().ravel()"
      ]
    },
    {
      "cell_type": "markdown",
      "metadata": {},
      "source": [
        "Traitement des données catégorielles ordonnées en numériques (gestion des \"-1\" éventuels) :"
      ]
    },
    {
      "cell_type": "code",
      "execution_count": 186,
      "metadata": {},
      "outputs": [],
      "source": [
        "feats_cat_ord = cat_ord_miss + add_cat_ord_feat_names\n",
        "for cat in feats_cat_ord:\n",
        "  data_red[cat] = data_red[cat].apply(lambda v : v if v!=-1 else np.nan)"
      ]
    },
    {
      "cell_type": "markdown",
      "metadata": {},
      "source": [
        "LISTE DES FEATURES NUMERIQUES ET CATEGORIELLES EN VUE DU PREPROCESSING DE MODELE :"
      ]
    },
    {
      "cell_type": "code",
      "execution_count": 187,
      "metadata": {},
      "outputs": [],
      "source": [
        "numerics_features = numerics + feats_cat_ord + add_numerics_feat_names\n",
        "feats_cat_strict = cat_strict + add_cat_strict_feat_names"
      ]
    },
    {
      "cell_type": "code",
      "execution_count": 188,
      "metadata": {},
      "outputs": [
        {
          "data": {
            "text/plain": [
              "['PRODREG', 'ESPECE_DOM', 'TYP_RAJ_PPL', 'DEG_FERMETURE', 'STR_PPL', 'RELIEF']"
            ]
          },
          "execution_count": 188,
          "metadata": {},
          "output_type": "execute_result"
        }
      ],
      "source": [
        "feats_cat_strict"
      ]
    },
    {
      "cell_type": "code",
      "execution_count": 189,
      "metadata": {},
      "outputs": [],
      "source": [
        "numerics_transforms = Pipeline(\n",
        "    [('imputer',KNNImputer()),\n",
        "    ('encoder',StandardScaler())\n",
        "])\n",
        "categorials_transforms = Pipeline([\n",
        "    ('imputer',KNNImputer()),\n",
        "    ('encoder',OneHotEncoder(drop=\"first\"))\n",
        "])\n",
        "\n",
        "preprocessor = ColumnTransformer(\n",
        "    [(\"num\", numerics_transforms, numerics_features),\n",
        "     (\"cat\", categorials_transforms, feats_cat_strict)])"
      ]
    },
    {
      "cell_type": "code",
      "execution_count": 19,
      "metadata": {},
      "outputs": [],
      "source": [
        "#data_red['ORIENTATION'] = data_red['ORIENTATION'].map({'N':0,'NE':1,'E':2,'SE':3,'S':4,'SO':5,'O':6,'NO':7})\n",
        "#data_red['ORIENTATION_f'] = data_red['ORIENTATION_f'].map({'N':0,'NE':1,'E':2,'SE':3,'S':4,'SO':5,'O':6,'NO':7})\n"
      ]
    },
    {
      "cell_type": "code",
      "execution_count": 190,
      "metadata": {},
      "outputs": [],
      "source": [
        "X_train, X_test, y_train, y_test = train_test_split(data_red, Y, test_size=0.2, random_state=2)"
      ]
    },
    {
      "cell_type": "code",
      "execution_count": 191,
      "metadata": {},
      "outputs": [],
      "source": [
        "X_train = preprocessor.fit_transform(X_train)\n",
        "X_test = preprocessor.transform(X_test)"
      ]
    },
    {
      "cell_type": "code",
      "execution_count": 192,
      "metadata": {},
      "outputs": [
        {
          "data": {
            "text/plain": [
              "(5767, 67)"
            ]
          },
          "execution_count": 192,
          "metadata": {},
          "output_type": "execute_result"
        }
      ],
      "source": [
        "np.shape(X_train)"
      ]
    },
    {
      "cell_type": "code",
      "execution_count": 193,
      "metadata": {},
      "outputs": [
        {
          "data": {
            "text/plain": [
              "(1442, 67)"
            ]
          },
          "execution_count": 193,
          "metadata": {},
          "output_type": "execute_result"
        }
      ],
      "source": [
        "np.shape(X_test)"
      ]
    },
    {
      "cell_type": "code",
      "execution_count": 194,
      "metadata": {},
      "outputs": [],
      "source": [
        "model =  Ridge(max_iter=10000)"
      ]
    },
    {
      "cell_type": "code",
      "execution_count": 195,
      "metadata": {},
      "outputs": [],
      "source": [
        "params = {\n",
        "    'alpha':[110, 120, 130]\n",
        "}"
      ]
    },
    {
      "cell_type": "code",
      "execution_count": 196,
      "metadata": {},
      "outputs": [],
      "source": [
        "grid = GridSearchCV(model, param_grid=params, scoring='r2', verbose=2)"
      ]
    },
    {
      "cell_type": "code",
      "execution_count": 197,
      "metadata": {},
      "outputs": [
        {
          "name": "stdout",
          "output_type": "stream",
          "text": [
            "Fitting 5 folds for each of 3 candidates, totalling 15 fits\n",
            "[CV] END ..........................................alpha=110; total time=   0.0s\n",
            "[CV] END ..........................................alpha=110; total time=   0.0s\n",
            "[CV] END ..........................................alpha=110; total time=   0.0s\n",
            "[CV] END ..........................................alpha=110; total time=   0.0s\n",
            "[CV] END ..........................................alpha=110; total time=   0.0s\n",
            "[CV] END ..........................................alpha=120; total time=   0.0s\n",
            "[CV] END ..........................................alpha=120; total time=   0.0s\n",
            "[CV] END ..........................................alpha=120; total time=   0.0s\n",
            "[CV] END ..........................................alpha=120; total time=   0.0s\n",
            "[CV] END ..........................................alpha=120; total time=   0.0s\n",
            "[CV] END ..........................................alpha=130; total time=   0.0s\n",
            "[CV] END ..........................................alpha=130; total time=   0.0s\n",
            "[CV] END ..........................................alpha=130; total time=   0.0s\n",
            "[CV] END ..........................................alpha=130; total time=   0.0s\n",
            "[CV] END ..........................................alpha=130; total time=   0.0s\n"
          ]
        },
        {
          "data": {
            "text/plain": [
              "GridSearchCV(estimator=Ridge(max_iter=10000),\n",
              "             param_grid={'alpha': [110, 120, 130]}, scoring='r2', verbose=2)"
            ]
          },
          "execution_count": 197,
          "metadata": {},
          "output_type": "execute_result"
        }
      ],
      "source": [
        "grid.fit(X_train, y_train)"
      ]
    },
    {
      "cell_type": "code",
      "execution_count": 198,
      "metadata": {},
      "outputs": [
        {
          "data": {
            "text/plain": [
              "Ridge(alpha=110, max_iter=10000)"
            ]
          },
          "execution_count": 198,
          "metadata": {},
          "output_type": "execute_result"
        }
      ],
      "source": [
        "grid.best_estimator_"
      ]
    },
    {
      "cell_type": "code",
      "execution_count": 199,
      "metadata": {},
      "outputs": [
        {
          "name": "stdout",
          "output_type": "stream",
          "text": [
            "Train score mean : 0.6567868522982752\n",
            "Train score std : 0.038255169075672564\n",
            "Test score mean : 0.6849304953755128\n",
            "Test score std : 0.037340866306863646\n"
          ]
        }
      ],
      "source": [
        "train_scores = cross_val_score(grid.best_estimator_, X_train, y_train, cv=5)\n",
        "test_scores = cross_val_score(grid.best_estimator_, X_test, y_test, cv=5)\n",
        "print(f'Train score mean : {np.mean(train_scores)}')\n",
        "print(f'Train score std : {np.std(train_scores)}')\n",
        "print(f'Test score mean : {np.mean(test_scores)}')\n",
        "print(f'Test score std : {np.std(test_scores)}')"
      ]
    },
    {
      "cell_type": "code",
      "execution_count": 200,
      "metadata": {},
      "outputs": [],
      "source": [
        "list_features_in = []\n",
        "for feat in numerics_features:\n",
        "  list_features_in.append(feat)\n",
        "for cat in feats_cat_strict:\n",
        "  nb_lab = len(data_red[cat].unique())-1\n",
        "  for i in range(nb_lab):\n",
        "    list_features_in.append(f'{cat}_{i}')"
      ]
    },
    {
      "cell_type": "code",
      "execution_count": 201,
      "metadata": {},
      "outputs": [
        {
          "data": {
            "text/plain": [
              "['UNIT_ACCR',\n",
              " 'H_D',\n",
              " 'AI',\n",
              " 'SDI',\n",
              " 'AGE_PPL',\n",
              " 'ALT',\n",
              " 'TIGES_VIV_H',\n",
              " 'SURF_TER_HA',\n",
              " 'FEUILL_PER',\n",
              " 'CONIF_PER',\n",
              " 'PERF_CROI',\n",
              " 'NDVI',\n",
              " 'EVI',\n",
              " 'NDMI',\n",
              " 'NDWI',\n",
              " 'DSWI',\n",
              " 'HT_VEG',\n",
              " 'PRCP_f',\n",
              " 'TAVE_AVG_f',\n",
              " 'TAVE_f',\n",
              " 'TAVE_GROWTH_f',\n",
              " 'PRCP_S_S_f',\n",
              " 'PRCP_G_S_f',\n",
              " 'NDVI_f',\n",
              " 'EVI_f',\n",
              " 'NDMI_f',\n",
              " 'NDWI_f',\n",
              " 'DSWI_f',\n",
              " 'PRODREG_0',\n",
              " 'PRODREG_1',\n",
              " 'PRODREG_2',\n",
              " 'PRODREG_3',\n",
              " 'ESPECE_DOM_0',\n",
              " 'ESPECE_DOM_1',\n",
              " 'ESPECE_DOM_2',\n",
              " 'ESPECE_DOM_3',\n",
              " 'ESPECE_DOM_4',\n",
              " 'ESPECE_DOM_5',\n",
              " 'ESPECE_DOM_6',\n",
              " 'ESPECE_DOM_7',\n",
              " 'ESPECE_DOM_8',\n",
              " 'ESPECE_DOM_9',\n",
              " 'ESPECE_DOM_10',\n",
              " 'ESPECE_DOM_11',\n",
              " 'TYP_RAJ_PPL_0',\n",
              " 'TYP_RAJ_PPL_1',\n",
              " 'TYP_RAJ_PPL_2',\n",
              " 'DEG_FERMETURE_0',\n",
              " 'DEG_FERMETURE_1',\n",
              " 'DEG_FERMETURE_2',\n",
              " 'DEG_FERMETURE_3',\n",
              " 'DEG_FERMETURE_4',\n",
              " 'DEG_FERMETURE_5',\n",
              " 'DEG_FERMETURE_6',\n",
              " 'DEG_FERMETURE_7',\n",
              " 'DEG_FERMETURE_8',\n",
              " 'DEG_FERMETURE_9',\n",
              " 'DEG_FERMETURE_10',\n",
              " 'STR_PPL_0',\n",
              " 'STR_PPL_1',\n",
              " 'STR_PPL_2',\n",
              " 'STR_PPL_3',\n",
              " 'RELIEF_0',\n",
              " 'RELIEF_1',\n",
              " 'RELIEF_2',\n",
              " 'RELIEF_3',\n",
              " 'RELIEF_4']"
            ]
          },
          "execution_count": 201,
          "metadata": {},
          "output_type": "execute_result"
        }
      ],
      "source": [
        "list_features_in"
      ]
    },
    {
      "cell_type": "code",
      "execution_count": 202,
      "metadata": {},
      "outputs": [],
      "source": [
        "df_coef = pd.DataFrame(grid.best_estimator_.coef_, columns=['Coeff'], index= list_features_in)"
      ]
    },
    {
      "cell_type": "code",
      "execution_count": 203,
      "metadata": {},
      "outputs": [
        {
          "data": {
            "text/html": [
              "<div>\n",
              "<style scoped>\n",
              "    .dataframe tbody tr th:only-of-type {\n",
              "        vertical-align: middle;\n",
              "    }\n",
              "\n",
              "    .dataframe tbody tr th {\n",
              "        vertical-align: top;\n",
              "    }\n",
              "\n",
              "    .dataframe thead th {\n",
              "        text-align: right;\n",
              "    }\n",
              "</style>\n",
              "<table border=\"1\" class=\"dataframe\">\n",
              "  <thead>\n",
              "    <tr style=\"text-align: right;\">\n",
              "      <th></th>\n",
              "      <th>Coeff</th>\n",
              "    </tr>\n",
              "  </thead>\n",
              "  <tbody>\n",
              "    <tr>\n",
              "      <th>UNIT_ACCR</th>\n",
              "      <td>0.194342</td>\n",
              "    </tr>\n",
              "    <tr>\n",
              "      <th>H_D</th>\n",
              "      <td>-0.624101</td>\n",
              "    </tr>\n",
              "    <tr>\n",
              "      <th>AI</th>\n",
              "      <td>-0.537192</td>\n",
              "    </tr>\n",
              "    <tr>\n",
              "      <th>SDI</th>\n",
              "      <td>4.508372</td>\n",
              "    </tr>\n",
              "    <tr>\n",
              "      <th>AGE_PPL</th>\n",
              "      <td>0.130372</td>\n",
              "    </tr>\n",
              "    <tr>\n",
              "      <th>...</th>\n",
              "      <td>...</td>\n",
              "    </tr>\n",
              "    <tr>\n",
              "      <th>RELIEF_0</th>\n",
              "      <td>0.755609</td>\n",
              "    </tr>\n",
              "    <tr>\n",
              "      <th>RELIEF_1</th>\n",
              "      <td>-0.591321</td>\n",
              "    </tr>\n",
              "    <tr>\n",
              "      <th>RELIEF_2</th>\n",
              "      <td>-0.536332</td>\n",
              "    </tr>\n",
              "    <tr>\n",
              "      <th>RELIEF_3</th>\n",
              "      <td>0.105369</td>\n",
              "    </tr>\n",
              "    <tr>\n",
              "      <th>RELIEF_4</th>\n",
              "      <td>0.305812</td>\n",
              "    </tr>\n",
              "  </tbody>\n",
              "</table>\n",
              "<p>67 rows × 1 columns</p>\n",
              "</div>"
            ],
            "text/plain": [
              "              Coeff\n",
              "UNIT_ACCR  0.194342\n",
              "H_D       -0.624101\n",
              "AI        -0.537192\n",
              "SDI        4.508372\n",
              "AGE_PPL    0.130372\n",
              "...             ...\n",
              "RELIEF_0   0.755609\n",
              "RELIEF_1  -0.591321\n",
              "RELIEF_2  -0.536332\n",
              "RELIEF_3   0.105369\n",
              "RELIEF_4   0.305812\n",
              "\n",
              "[67 rows x 1 columns]"
            ]
          },
          "execution_count": 203,
          "metadata": {},
          "output_type": "execute_result"
        }
      ],
      "source": [
        "df_coef"
      ]
    },
    {
      "cell_type": "code",
      "execution_count": 204,
      "metadata": {},
      "outputs": [
        {
          "data": {
            "application/vnd.plotly.v1+json": {
              "config": {
                "plotlyServerURL": "https://plot.ly"
              },
              "data": [
                {
                  "alignmentgroup": "True",
                  "hovertemplate": "variable=Coeff<br>index=%{x}<br>value=%{y}<extra></extra>",
                  "legendgroup": "Coeff",
                  "marker": {
                    "color": "#636efa",
                    "pattern": {
                      "shape": ""
                    }
                  },
                  "name": "Coeff",
                  "offsetgroup": "Coeff",
                  "orientation": "v",
                  "showlegend": true,
                  "textposition": "auto",
                  "type": "bar",
                  "x": [
                    "UNIT_ACCR",
                    "H_D",
                    "AI",
                    "SDI",
                    "AGE_PPL",
                    "ALT",
                    "TIGES_VIV_H",
                    "SURF_TER_HA",
                    "FEUILL_PER",
                    "CONIF_PER",
                    "PERF_CROI",
                    "NDVI",
                    "EVI",
                    "NDMI",
                    "NDWI",
                    "DSWI",
                    "HT_VEG",
                    "PRCP_f",
                    "TAVE_AVG_f",
                    "TAVE_f",
                    "TAVE_GROWTH_f",
                    "PRCP_S_S_f",
                    "PRCP_G_S_f",
                    "NDVI_f",
                    "EVI_f",
                    "NDMI_f",
                    "NDWI_f",
                    "DSWI_f",
                    "PRODREG_0",
                    "PRODREG_1",
                    "PRODREG_2",
                    "PRODREG_3",
                    "ESPECE_DOM_0",
                    "ESPECE_DOM_1",
                    "ESPECE_DOM_2",
                    "ESPECE_DOM_3",
                    "ESPECE_DOM_4",
                    "ESPECE_DOM_5",
                    "ESPECE_DOM_6",
                    "ESPECE_DOM_7",
                    "ESPECE_DOM_8",
                    "ESPECE_DOM_9",
                    "ESPECE_DOM_10",
                    "ESPECE_DOM_11",
                    "TYP_RAJ_PPL_0",
                    "TYP_RAJ_PPL_1",
                    "TYP_RAJ_PPL_2",
                    "DEG_FERMETURE_0",
                    "DEG_FERMETURE_1",
                    "DEG_FERMETURE_2",
                    "DEG_FERMETURE_3",
                    "DEG_FERMETURE_4",
                    "DEG_FERMETURE_5",
                    "DEG_FERMETURE_6",
                    "DEG_FERMETURE_7",
                    "DEG_FERMETURE_8",
                    "DEG_FERMETURE_9",
                    "DEG_FERMETURE_10",
                    "STR_PPL_0",
                    "STR_PPL_1",
                    "STR_PPL_2",
                    "STR_PPL_3",
                    "RELIEF_0",
                    "RELIEF_1",
                    "RELIEF_2",
                    "RELIEF_3",
                    "RELIEF_4"
                  ],
                  "xaxis": "x",
                  "y": [
                    0.19434154865881004,
                    -0.6241012170134916,
                    -0.5371919210849782,
                    4.50837209601739,
                    0.1303721860171102,
                    1.4500379807581218,
                    0.8436613308149191,
                    10.827359521729285,
                    0.7494038072228804,
                    0.8817058646341026,
                    0.3117875485377455,
                    -1.0552994587243718,
                    0.8645382841118817,
                    0.15444860012415831,
                    0.6000698524991964,
                    1.1801525765267717,
                    0.1494399631658123,
                    0.013958543045016814,
                    -0.3658894997019547,
                    -0.09958934534941061,
                    0.14947641699029976,
                    0.008073198477626619,
                    0.3533931310059853,
                    -1.5165134839418135,
                    -0.27073968523914743,
                    0.6429379105776696,
                    -0.36572770187593634,
                    2.0910098845725313,
                    -0.49946273593180607,
                    0.15972157396846703,
                    0.046405484018611894,
                    0.8439964045303171,
                    0.11052706465543473,
                    1.205951481734201,
                    -0.1355663521273223,
                    0.4091244650971089,
                    -0.19580547054971487,
                    -0.07025348765951218,
                    0.5170881471913547,
                    0.025609343309755336,
                    0.5981047972622788,
                    -0.07794815474995216,
                    1.0822346224587756,
                    -1.0209140704236357,
                    0.6263855100913833,
                    0.35422705941738153,
                    0.7312854737442877,
                    -0.3437567986685645,
                    0.17715588749395472,
                    0.030171061004828227,
                    0.5536372962424426,
                    -0.4065150918588595,
                    0.013487908574974247,
                    0.2001481983074842,
                    -0.16123886641367238,
                    -0.21504821901697144,
                    -1.164525935312591,
                    0.8632620860899617,
                    0.12176479927415802,
                    0.33505743780863617,
                    -0.44454674094379887,
                    -0.46549796969605045,
                    0.7556091382440483,
                    -0.5913212202846694,
                    -0.5363315448564009,
                    0.10536869695527057,
                    0.30581243467605956
                  ],
                  "yaxis": "y"
                }
              ],
              "layout": {
                "barmode": "relative",
                "legend": {
                  "title": {
                    "text": "variable"
                  },
                  "tracegroupgap": 0
                },
                "template": {
                  "data": {
                    "bar": [
                      {
                        "error_x": {
                          "color": "#2a3f5f"
                        },
                        "error_y": {
                          "color": "#2a3f5f"
                        },
                        "marker": {
                          "line": {
                            "color": "#E5ECF6",
                            "width": 0.5
                          },
                          "pattern": {
                            "fillmode": "overlay",
                            "size": 10,
                            "solidity": 0.2
                          }
                        },
                        "type": "bar"
                      }
                    ],
                    "barpolar": [
                      {
                        "marker": {
                          "line": {
                            "color": "#E5ECF6",
                            "width": 0.5
                          },
                          "pattern": {
                            "fillmode": "overlay",
                            "size": 10,
                            "solidity": 0.2
                          }
                        },
                        "type": "barpolar"
                      }
                    ],
                    "carpet": [
                      {
                        "aaxis": {
                          "endlinecolor": "#2a3f5f",
                          "gridcolor": "white",
                          "linecolor": "white",
                          "minorgridcolor": "white",
                          "startlinecolor": "#2a3f5f"
                        },
                        "baxis": {
                          "endlinecolor": "#2a3f5f",
                          "gridcolor": "white",
                          "linecolor": "white",
                          "minorgridcolor": "white",
                          "startlinecolor": "#2a3f5f"
                        },
                        "type": "carpet"
                      }
                    ],
                    "choropleth": [
                      {
                        "colorbar": {
                          "outlinewidth": 0,
                          "ticks": ""
                        },
                        "type": "choropleth"
                      }
                    ],
                    "contour": [
                      {
                        "colorbar": {
                          "outlinewidth": 0,
                          "ticks": ""
                        },
                        "colorscale": [
                          [
                            0,
                            "#0d0887"
                          ],
                          [
                            0.1111111111111111,
                            "#46039f"
                          ],
                          [
                            0.2222222222222222,
                            "#7201a8"
                          ],
                          [
                            0.3333333333333333,
                            "#9c179e"
                          ],
                          [
                            0.4444444444444444,
                            "#bd3786"
                          ],
                          [
                            0.5555555555555556,
                            "#d8576b"
                          ],
                          [
                            0.6666666666666666,
                            "#ed7953"
                          ],
                          [
                            0.7777777777777778,
                            "#fb9f3a"
                          ],
                          [
                            0.8888888888888888,
                            "#fdca26"
                          ],
                          [
                            1,
                            "#f0f921"
                          ]
                        ],
                        "type": "contour"
                      }
                    ],
                    "contourcarpet": [
                      {
                        "colorbar": {
                          "outlinewidth": 0,
                          "ticks": ""
                        },
                        "type": "contourcarpet"
                      }
                    ],
                    "heatmap": [
                      {
                        "colorbar": {
                          "outlinewidth": 0,
                          "ticks": ""
                        },
                        "colorscale": [
                          [
                            0,
                            "#0d0887"
                          ],
                          [
                            0.1111111111111111,
                            "#46039f"
                          ],
                          [
                            0.2222222222222222,
                            "#7201a8"
                          ],
                          [
                            0.3333333333333333,
                            "#9c179e"
                          ],
                          [
                            0.4444444444444444,
                            "#bd3786"
                          ],
                          [
                            0.5555555555555556,
                            "#d8576b"
                          ],
                          [
                            0.6666666666666666,
                            "#ed7953"
                          ],
                          [
                            0.7777777777777778,
                            "#fb9f3a"
                          ],
                          [
                            0.8888888888888888,
                            "#fdca26"
                          ],
                          [
                            1,
                            "#f0f921"
                          ]
                        ],
                        "type": "heatmap"
                      }
                    ],
                    "heatmapgl": [
                      {
                        "colorbar": {
                          "outlinewidth": 0,
                          "ticks": ""
                        },
                        "colorscale": [
                          [
                            0,
                            "#0d0887"
                          ],
                          [
                            0.1111111111111111,
                            "#46039f"
                          ],
                          [
                            0.2222222222222222,
                            "#7201a8"
                          ],
                          [
                            0.3333333333333333,
                            "#9c179e"
                          ],
                          [
                            0.4444444444444444,
                            "#bd3786"
                          ],
                          [
                            0.5555555555555556,
                            "#d8576b"
                          ],
                          [
                            0.6666666666666666,
                            "#ed7953"
                          ],
                          [
                            0.7777777777777778,
                            "#fb9f3a"
                          ],
                          [
                            0.8888888888888888,
                            "#fdca26"
                          ],
                          [
                            1,
                            "#f0f921"
                          ]
                        ],
                        "type": "heatmapgl"
                      }
                    ],
                    "histogram": [
                      {
                        "marker": {
                          "pattern": {
                            "fillmode": "overlay",
                            "size": 10,
                            "solidity": 0.2
                          }
                        },
                        "type": "histogram"
                      }
                    ],
                    "histogram2d": [
                      {
                        "colorbar": {
                          "outlinewidth": 0,
                          "ticks": ""
                        },
                        "colorscale": [
                          [
                            0,
                            "#0d0887"
                          ],
                          [
                            0.1111111111111111,
                            "#46039f"
                          ],
                          [
                            0.2222222222222222,
                            "#7201a8"
                          ],
                          [
                            0.3333333333333333,
                            "#9c179e"
                          ],
                          [
                            0.4444444444444444,
                            "#bd3786"
                          ],
                          [
                            0.5555555555555556,
                            "#d8576b"
                          ],
                          [
                            0.6666666666666666,
                            "#ed7953"
                          ],
                          [
                            0.7777777777777778,
                            "#fb9f3a"
                          ],
                          [
                            0.8888888888888888,
                            "#fdca26"
                          ],
                          [
                            1,
                            "#f0f921"
                          ]
                        ],
                        "type": "histogram2d"
                      }
                    ],
                    "histogram2dcontour": [
                      {
                        "colorbar": {
                          "outlinewidth": 0,
                          "ticks": ""
                        },
                        "colorscale": [
                          [
                            0,
                            "#0d0887"
                          ],
                          [
                            0.1111111111111111,
                            "#46039f"
                          ],
                          [
                            0.2222222222222222,
                            "#7201a8"
                          ],
                          [
                            0.3333333333333333,
                            "#9c179e"
                          ],
                          [
                            0.4444444444444444,
                            "#bd3786"
                          ],
                          [
                            0.5555555555555556,
                            "#d8576b"
                          ],
                          [
                            0.6666666666666666,
                            "#ed7953"
                          ],
                          [
                            0.7777777777777778,
                            "#fb9f3a"
                          ],
                          [
                            0.8888888888888888,
                            "#fdca26"
                          ],
                          [
                            1,
                            "#f0f921"
                          ]
                        ],
                        "type": "histogram2dcontour"
                      }
                    ],
                    "mesh3d": [
                      {
                        "colorbar": {
                          "outlinewidth": 0,
                          "ticks": ""
                        },
                        "type": "mesh3d"
                      }
                    ],
                    "parcoords": [
                      {
                        "line": {
                          "colorbar": {
                            "outlinewidth": 0,
                            "ticks": ""
                          }
                        },
                        "type": "parcoords"
                      }
                    ],
                    "pie": [
                      {
                        "automargin": true,
                        "type": "pie"
                      }
                    ],
                    "scatter": [
                      {
                        "fillpattern": {
                          "fillmode": "overlay",
                          "size": 10,
                          "solidity": 0.2
                        },
                        "type": "scatter"
                      }
                    ],
                    "scatter3d": [
                      {
                        "line": {
                          "colorbar": {
                            "outlinewidth": 0,
                            "ticks": ""
                          }
                        },
                        "marker": {
                          "colorbar": {
                            "outlinewidth": 0,
                            "ticks": ""
                          }
                        },
                        "type": "scatter3d"
                      }
                    ],
                    "scattercarpet": [
                      {
                        "marker": {
                          "colorbar": {
                            "outlinewidth": 0,
                            "ticks": ""
                          }
                        },
                        "type": "scattercarpet"
                      }
                    ],
                    "scattergeo": [
                      {
                        "marker": {
                          "colorbar": {
                            "outlinewidth": 0,
                            "ticks": ""
                          }
                        },
                        "type": "scattergeo"
                      }
                    ],
                    "scattergl": [
                      {
                        "marker": {
                          "colorbar": {
                            "outlinewidth": 0,
                            "ticks": ""
                          }
                        },
                        "type": "scattergl"
                      }
                    ],
                    "scattermapbox": [
                      {
                        "marker": {
                          "colorbar": {
                            "outlinewidth": 0,
                            "ticks": ""
                          }
                        },
                        "type": "scattermapbox"
                      }
                    ],
                    "scatterpolar": [
                      {
                        "marker": {
                          "colorbar": {
                            "outlinewidth": 0,
                            "ticks": ""
                          }
                        },
                        "type": "scatterpolar"
                      }
                    ],
                    "scatterpolargl": [
                      {
                        "marker": {
                          "colorbar": {
                            "outlinewidth": 0,
                            "ticks": ""
                          }
                        },
                        "type": "scatterpolargl"
                      }
                    ],
                    "scatterternary": [
                      {
                        "marker": {
                          "colorbar": {
                            "outlinewidth": 0,
                            "ticks": ""
                          }
                        },
                        "type": "scatterternary"
                      }
                    ],
                    "surface": [
                      {
                        "colorbar": {
                          "outlinewidth": 0,
                          "ticks": ""
                        },
                        "colorscale": [
                          [
                            0,
                            "#0d0887"
                          ],
                          [
                            0.1111111111111111,
                            "#46039f"
                          ],
                          [
                            0.2222222222222222,
                            "#7201a8"
                          ],
                          [
                            0.3333333333333333,
                            "#9c179e"
                          ],
                          [
                            0.4444444444444444,
                            "#bd3786"
                          ],
                          [
                            0.5555555555555556,
                            "#d8576b"
                          ],
                          [
                            0.6666666666666666,
                            "#ed7953"
                          ],
                          [
                            0.7777777777777778,
                            "#fb9f3a"
                          ],
                          [
                            0.8888888888888888,
                            "#fdca26"
                          ],
                          [
                            1,
                            "#f0f921"
                          ]
                        ],
                        "type": "surface"
                      }
                    ],
                    "table": [
                      {
                        "cells": {
                          "fill": {
                            "color": "#EBF0F8"
                          },
                          "line": {
                            "color": "white"
                          }
                        },
                        "header": {
                          "fill": {
                            "color": "#C8D4E3"
                          },
                          "line": {
                            "color": "white"
                          }
                        },
                        "type": "table"
                      }
                    ]
                  },
                  "layout": {
                    "annotationdefaults": {
                      "arrowcolor": "#2a3f5f",
                      "arrowhead": 0,
                      "arrowwidth": 1
                    },
                    "autotypenumbers": "strict",
                    "coloraxis": {
                      "colorbar": {
                        "outlinewidth": 0,
                        "ticks": ""
                      }
                    },
                    "colorscale": {
                      "diverging": [
                        [
                          0,
                          "#8e0152"
                        ],
                        [
                          0.1,
                          "#c51b7d"
                        ],
                        [
                          0.2,
                          "#de77ae"
                        ],
                        [
                          0.3,
                          "#f1b6da"
                        ],
                        [
                          0.4,
                          "#fde0ef"
                        ],
                        [
                          0.5,
                          "#f7f7f7"
                        ],
                        [
                          0.6,
                          "#e6f5d0"
                        ],
                        [
                          0.7,
                          "#b8e186"
                        ],
                        [
                          0.8,
                          "#7fbc41"
                        ],
                        [
                          0.9,
                          "#4d9221"
                        ],
                        [
                          1,
                          "#276419"
                        ]
                      ],
                      "sequential": [
                        [
                          0,
                          "#0d0887"
                        ],
                        [
                          0.1111111111111111,
                          "#46039f"
                        ],
                        [
                          0.2222222222222222,
                          "#7201a8"
                        ],
                        [
                          0.3333333333333333,
                          "#9c179e"
                        ],
                        [
                          0.4444444444444444,
                          "#bd3786"
                        ],
                        [
                          0.5555555555555556,
                          "#d8576b"
                        ],
                        [
                          0.6666666666666666,
                          "#ed7953"
                        ],
                        [
                          0.7777777777777778,
                          "#fb9f3a"
                        ],
                        [
                          0.8888888888888888,
                          "#fdca26"
                        ],
                        [
                          1,
                          "#f0f921"
                        ]
                      ],
                      "sequentialminus": [
                        [
                          0,
                          "#0d0887"
                        ],
                        [
                          0.1111111111111111,
                          "#46039f"
                        ],
                        [
                          0.2222222222222222,
                          "#7201a8"
                        ],
                        [
                          0.3333333333333333,
                          "#9c179e"
                        ],
                        [
                          0.4444444444444444,
                          "#bd3786"
                        ],
                        [
                          0.5555555555555556,
                          "#d8576b"
                        ],
                        [
                          0.6666666666666666,
                          "#ed7953"
                        ],
                        [
                          0.7777777777777778,
                          "#fb9f3a"
                        ],
                        [
                          0.8888888888888888,
                          "#fdca26"
                        ],
                        [
                          1,
                          "#f0f921"
                        ]
                      ]
                    },
                    "colorway": [
                      "#636efa",
                      "#EF553B",
                      "#00cc96",
                      "#ab63fa",
                      "#FFA15A",
                      "#19d3f3",
                      "#FF6692",
                      "#B6E880",
                      "#FF97FF",
                      "#FECB52"
                    ],
                    "font": {
                      "color": "#2a3f5f"
                    },
                    "geo": {
                      "bgcolor": "white",
                      "lakecolor": "white",
                      "landcolor": "#E5ECF6",
                      "showlakes": true,
                      "showland": true,
                      "subunitcolor": "white"
                    },
                    "hoverlabel": {
                      "align": "left"
                    },
                    "hovermode": "closest",
                    "mapbox": {
                      "style": "light"
                    },
                    "paper_bgcolor": "white",
                    "plot_bgcolor": "#E5ECF6",
                    "polar": {
                      "angularaxis": {
                        "gridcolor": "white",
                        "linecolor": "white",
                        "ticks": ""
                      },
                      "bgcolor": "#E5ECF6",
                      "radialaxis": {
                        "gridcolor": "white",
                        "linecolor": "white",
                        "ticks": ""
                      }
                    },
                    "scene": {
                      "xaxis": {
                        "backgroundcolor": "#E5ECF6",
                        "gridcolor": "white",
                        "gridwidth": 2,
                        "linecolor": "white",
                        "showbackground": true,
                        "ticks": "",
                        "zerolinecolor": "white"
                      },
                      "yaxis": {
                        "backgroundcolor": "#E5ECF6",
                        "gridcolor": "white",
                        "gridwidth": 2,
                        "linecolor": "white",
                        "showbackground": true,
                        "ticks": "",
                        "zerolinecolor": "white"
                      },
                      "zaxis": {
                        "backgroundcolor": "#E5ECF6",
                        "gridcolor": "white",
                        "gridwidth": 2,
                        "linecolor": "white",
                        "showbackground": true,
                        "ticks": "",
                        "zerolinecolor": "white"
                      }
                    },
                    "shapedefaults": {
                      "line": {
                        "color": "#2a3f5f"
                      }
                    },
                    "ternary": {
                      "aaxis": {
                        "gridcolor": "white",
                        "linecolor": "white",
                        "ticks": ""
                      },
                      "baxis": {
                        "gridcolor": "white",
                        "linecolor": "white",
                        "ticks": ""
                      },
                      "bgcolor": "#E5ECF6",
                      "caxis": {
                        "gridcolor": "white",
                        "linecolor": "white",
                        "ticks": ""
                      }
                    },
                    "title": {
                      "x": 0.05
                    },
                    "xaxis": {
                      "automargin": true,
                      "gridcolor": "white",
                      "linecolor": "white",
                      "ticks": "",
                      "title": {
                        "standoff": 15
                      },
                      "zerolinecolor": "white",
                      "zerolinewidth": 2
                    },
                    "yaxis": {
                      "automargin": true,
                      "gridcolor": "white",
                      "linecolor": "white",
                      "ticks": "",
                      "title": {
                        "standoff": 15
                      },
                      "zerolinecolor": "white",
                      "zerolinewidth": 2
                    }
                  }
                },
                "title": {
                  "text": "Features importance for target : ['SURF_TER_HA'] with Lasso Linear Regression"
                },
                "xaxis": {
                  "anchor": "y",
                  "domain": [
                    0,
                    1
                  ],
                  "title": {
                    "text": "index"
                  }
                },
                "yaxis": {
                  "anchor": "x",
                  "domain": [
                    0,
                    1
                  ],
                  "title": {
                    "text": "value"
                  }
                }
              }
            }
          },
          "metadata": {},
          "output_type": "display_data"
        }
      ],
      "source": [
        "fig = px.bar(df_coef['Coeff'], title=f\"Features importance for target : {TARGET} with Lasso Linear Regression\")\n",
        "fig.show()"
      ]
    },
    {
      "cell_type": "markdown",
      "metadata": {},
      "source": [
        "-----------------"
      ]
    },
    {
      "cell_type": "code",
      "execution_count": 207,
      "metadata": {},
      "outputs": [],
      "source": [
        "train_batch = tf.data.Dataset.from_tensor_slices((X_train, y_train)).shuffle(buffer_size=len(X_train)).batch(batch_size=32)\n",
        "test_batch = tf.data.Dataset.from_tensor_slices((X_test, y_test)).batch(batch_size=32)"
      ]
    },
    {
      "cell_type": "code",
      "execution_count": 209,
      "metadata": {},
      "outputs": [
        {
          "data": {
            "text/plain": [
              "(5767, 67)"
            ]
          },
          "execution_count": 209,
          "metadata": {},
          "output_type": "execute_result"
        }
      ],
      "source": [
        "np.shape(X_train)"
      ]
    },
    {
      "cell_type": "code",
      "execution_count": 208,
      "metadata": {},
      "outputs": [
        {
          "name": "stdout",
          "output_type": "stream",
          "text": [
            "tf.Tensor(\n",
            "[41.23  7.5  20.81  4.28 23.29 10.37 40.57 56.68 44.88 76.25 33.68  8.28\n",
            " 18.58 41.9  32.65  4.54 44.91 34.88 16.05 35.9  16.83 46.99 50.94 15.12\n",
            " 53.22 66.58 45.69  0.   12.15 29.14 30.73 20.79], shape=(32,), dtype=float64)\n"
          ]
        }
      ],
      "source": [
        "for x, y in train_batch.take(1):\n",
        "    print(y)"
      ]
    },
    {
      "cell_type": "code",
      "execution_count": 210,
      "metadata": {},
      "outputs": [],
      "source": [
        "model = tf.keras.models.Sequential([\n",
        "        tf.keras.Input(shape=(np.shape(X_train)[1],)),\n",
        "        tf.keras.layers.Dense(32,\"relu\"),\n",
        "        tf.keras.layers.Dropout(0.2),\n",
        "        tf.keras.layers.Dense(16,\"relu\"),\n",
        "        tf.keras.layers.Dense(8,\"relu\"),\n",
        "        tf.keras.layers.Dense(1)\n",
        "    ])"
      ]
    },
    {
      "cell_type": "code",
      "execution_count": 212,
      "metadata": {},
      "outputs": [],
      "source": [
        "model.compile(\n",
        "    loss=tf.keras.losses.MeanSquaredError(),\n",
        "    optimizer=tf.keras.optimizers.Adam(0.001),\n",
        "    metrics=tfa.metrics.RSquare())"
      ]
    },
    {
      "cell_type": "code",
      "execution_count": 213,
      "metadata": {},
      "outputs": [
        {
          "name": "stdout",
          "output_type": "stream",
          "text": [
            "Epoch 1/20\n",
            "181/181 [==============================] - 4s 12ms/step - loss: 950.1282 - r_square: -1.3445 - val_loss: 185.3095 - val_r_square: 0.4907\n",
            "Epoch 2/20\n",
            "181/181 [==============================] - 2s 11ms/step - loss: 194.2164 - r_square: 0.5208 - val_loss: 133.3752 - val_r_square: 0.6334\n",
            "Epoch 3/20\n",
            "181/181 [==============================] - 2s 11ms/step - loss: 173.8271 - r_square: 0.5711 - val_loss: 126.7428 - val_r_square: 0.6517\n",
            "Epoch 4/20\n",
            "181/181 [==============================] - 2s 10ms/step - loss: 168.4070 - r_square: 0.5845 - val_loss: 122.0445 - val_r_square: 0.6646\n",
            "Epoch 5/20\n",
            "181/181 [==============================] - 2s 10ms/step - loss: 159.4179 - r_square: 0.6066 - val_loss: 119.8295 - val_r_square: 0.6707\n",
            "Epoch 6/20\n",
            "181/181 [==============================] - 2s 9ms/step - loss: 160.4852 - r_square: 0.6040 - val_loss: 119.8649 - val_r_square: 0.6706\n",
            "Epoch 7/20\n",
            "181/181 [==============================] - 2s 10ms/step - loss: 156.0993 - r_square: 0.6148 - val_loss: 117.5726 - val_r_square: 0.6769\n",
            "Epoch 8/20\n",
            "181/181 [==============================] - 2s 10ms/step - loss: 152.4581 - r_square: 0.6238 - val_loss: 117.9044 - val_r_square: 0.6759\n",
            "Epoch 9/20\n",
            "181/181 [==============================] - 2s 10ms/step - loss: 151.6608 - r_square: 0.6258 - val_loss: 118.2042 - val_r_square: 0.6751\n",
            "Epoch 10/20\n",
            "181/181 [==============================] - 2s 10ms/step - loss: 153.1384 - r_square: 0.6221 - val_loss: 116.6468 - val_r_square: 0.6794\n",
            "Epoch 11/20\n",
            "181/181 [==============================] - 2s 10ms/step - loss: 152.6165 - r_square: 0.6234 - val_loss: 118.4475 - val_r_square: 0.6745\n",
            "Epoch 12/20\n",
            "181/181 [==============================] - 2s 10ms/step - loss: 153.4726 - r_square: 0.6213 - val_loss: 120.8995 - val_r_square: 0.6677\n",
            "Epoch 13/20\n",
            "181/181 [==============================] - 2s 9ms/step - loss: 150.3490 - r_square: 0.6290 - val_loss: 115.6460 - val_r_square: 0.6822\n",
            "Epoch 14/20\n",
            "181/181 [==============================] - 2s 10ms/step - loss: 150.9430 - r_square: 0.6275 - val_loss: 117.0115 - val_r_square: 0.6784\n",
            "Epoch 15/20\n",
            "181/181 [==============================] - 2s 9ms/step - loss: 149.0101 - r_square: 0.6323 - val_loss: 116.1220 - val_r_square: 0.6808\n",
            "Epoch 16/20\n",
            "181/181 [==============================] - 2s 10ms/step - loss: 150.8403 - r_square: 0.6278 - val_loss: 116.0611 - val_r_square: 0.6810\n",
            "Epoch 17/20\n",
            "181/181 [==============================] - 2s 10ms/step - loss: 149.5064 - r_square: 0.6311 - val_loss: 117.1798 - val_r_square: 0.6779\n",
            "Epoch 18/20\n",
            "181/181 [==============================] - 2s 10ms/step - loss: 148.5082 - r_square: 0.6336 - val_loss: 115.6529 - val_r_square: 0.6821\n",
            "Epoch 19/20\n",
            "181/181 [==============================] - 2s 10ms/step - loss: 146.5562 - r_square: 0.6384 - val_loss: 116.8341 - val_r_square: 0.6789\n",
            "Epoch 20/20\n",
            "181/181 [==============================] - 2s 10ms/step - loss: 146.2348 - r_square: 0.6392 - val_loss: 114.5909 - val_r_square: 0.6851\n"
          ]
        },
        {
          "data": {
            "text/plain": [
              "<keras.callbacks.History at 0x1250196a940>"
            ]
          },
          "execution_count": 213,
          "metadata": {},
          "output_type": "execute_result"
        }
      ],
      "source": [
        "model.fit(train_batch, epochs=20, validation_data=test_batch)"
      ]
    },
    {
      "cell_type": "code",
      "execution_count": 226,
      "metadata": {},
      "outputs": [],
      "source": [
        "coeff_mean = []\n",
        "for i in range(67):\n",
        "    coeff_mean.append(np.mean(model.layers[0].trainable_variables[0][i]))\n"
      ]
    },
    {
      "cell_type": "code",
      "execution_count": 229,
      "metadata": {},
      "outputs": [],
      "source": [
        "df_coef = pd.DataFrame(coeff_mean, columns=['Coeff'], index= list_features_in)"
      ]
    },
    {
      "cell_type": "code",
      "execution_count": 230,
      "metadata": {},
      "outputs": [
        {
          "data": {
            "application/vnd.plotly.v1+json": {
              "config": {
                "plotlyServerURL": "https://plot.ly"
              },
              "data": [
                {
                  "alignmentgroup": "True",
                  "hovertemplate": "variable=Coeff<br>index=%{x}<br>value=%{y}<extra></extra>",
                  "legendgroup": "Coeff",
                  "marker": {
                    "color": "#636efa",
                    "pattern": {
                      "shape": ""
                    }
                  },
                  "name": "Coeff",
                  "offsetgroup": "Coeff",
                  "orientation": "v",
                  "showlegend": true,
                  "textposition": "auto",
                  "type": "bar",
                  "x": [
                    "UNIT_ACCR",
                    "H_D",
                    "AI",
                    "SDI",
                    "AGE_PPL",
                    "ALT",
                    "TIGES_VIV_H",
                    "SURF_TER_HA",
                    "FEUILL_PER",
                    "CONIF_PER",
                    "PERF_CROI",
                    "NDVI",
                    "EVI",
                    "NDMI",
                    "NDWI",
                    "DSWI",
                    "HT_VEG",
                    "PRCP_f",
                    "TAVE_AVG_f",
                    "TAVE_f",
                    "TAVE_GROWTH_f",
                    "PRCP_S_S_f",
                    "PRCP_G_S_f",
                    "NDVI_f",
                    "EVI_f",
                    "NDMI_f",
                    "NDWI_f",
                    "DSWI_f",
                    "PRODREG_0",
                    "PRODREG_1",
                    "PRODREG_2",
                    "PRODREG_3",
                    "ESPECE_DOM_0",
                    "ESPECE_DOM_1",
                    "ESPECE_DOM_2",
                    "ESPECE_DOM_3",
                    "ESPECE_DOM_4",
                    "ESPECE_DOM_5",
                    "ESPECE_DOM_6",
                    "ESPECE_DOM_7",
                    "ESPECE_DOM_8",
                    "ESPECE_DOM_9",
                    "ESPECE_DOM_10",
                    "ESPECE_DOM_11",
                    "TYP_RAJ_PPL_0",
                    "TYP_RAJ_PPL_1",
                    "TYP_RAJ_PPL_2",
                    "DEG_FERMETURE_0",
                    "DEG_FERMETURE_1",
                    "DEG_FERMETURE_2",
                    "DEG_FERMETURE_3",
                    "DEG_FERMETURE_4",
                    "DEG_FERMETURE_5",
                    "DEG_FERMETURE_6",
                    "DEG_FERMETURE_7",
                    "DEG_FERMETURE_8",
                    "DEG_FERMETURE_9",
                    "DEG_FERMETURE_10",
                    "STR_PPL_0",
                    "STR_PPL_1",
                    "STR_PPL_2",
                    "STR_PPL_3",
                    "RELIEF_0",
                    "RELIEF_1",
                    "RELIEF_2",
                    "RELIEF_3",
                    "RELIEF_4"
                  ],
                  "xaxis": "x",
                  "y": [
                    0.016059430316090584,
                    -0.05478857830166817,
                    -0.03674045577645302,
                    0.2755447030067444,
                    0.014758025296032429,
                    0.04568144679069519,
                    0.02056046389043331,
                    0.3107985556125641,
                    0.006292879581451416,
                    0.0379507951438427,
                    0.013748791068792343,
                    -0.028637107461690903,
                    0.029430845752358437,
                    0.014042269438505173,
                    0.0033446275629103184,
                    0.025699660181999207,
                    0.006367148831486702,
                    0.003453059121966362,
                    -0.010851926170289516,
                    -0.009898786433041096,
                    0.017295215278863907,
                    -0.005743271205574274,
                    0.02646508440375328,
                    -0.02486301399767399,
                    -0.03436574712395668,
                    0.022049307823181152,
                    -0.023552246391773224,
                    0.07940883934497833,
                    0.025355566293001175,
                    0.11471103131771088,
                    0.10766413062810898,
                    0.1603337824344635,
                    0.15292252600193024,
                    0.20856526494026184,
                    0.14112596213817596,
                    0.1586473435163498,
                    0.09140684455633163,
                    0.04591839388012886,
                    0.18145158886909485,
                    0.13983848690986633,
                    0.1766124814748764,
                    0.10644848644733429,
                    0.19192177057266235,
                    0.028407281264662743,
                    0.047539614140987396,
                    0.05698038637638092,
                    0.03036371059715748,
                    0.07128789275884628,
                    0.09721304476261139,
                    0.06827833503484726,
                    0.10855816304683685,
                    0.06326550245285034,
                    0.08507797867059708,
                    0.12245674431324005,
                    0.06803399324417114,
                    0.09494249522686005,
                    0.032144732773303986,
                    0.14937902987003326,
                    0.113247811794281,
                    0.12772506475448608,
                    0.08088959008455276,
                    0.06459558010101318,
                    0.2657196521759033,
                    0.16757577657699585,
                    0.17858099937438965,
                    0.2205946445465088,
                    0.26438984274864197
                  ],
                  "yaxis": "y"
                }
              ],
              "layout": {
                "barmode": "relative",
                "legend": {
                  "title": {
                    "text": "variable"
                  },
                  "tracegroupgap": 0
                },
                "template": {
                  "data": {
                    "bar": [
                      {
                        "error_x": {
                          "color": "#2a3f5f"
                        },
                        "error_y": {
                          "color": "#2a3f5f"
                        },
                        "marker": {
                          "line": {
                            "color": "#E5ECF6",
                            "width": 0.5
                          },
                          "pattern": {
                            "fillmode": "overlay",
                            "size": 10,
                            "solidity": 0.2
                          }
                        },
                        "type": "bar"
                      }
                    ],
                    "barpolar": [
                      {
                        "marker": {
                          "line": {
                            "color": "#E5ECF6",
                            "width": 0.5
                          },
                          "pattern": {
                            "fillmode": "overlay",
                            "size": 10,
                            "solidity": 0.2
                          }
                        },
                        "type": "barpolar"
                      }
                    ],
                    "carpet": [
                      {
                        "aaxis": {
                          "endlinecolor": "#2a3f5f",
                          "gridcolor": "white",
                          "linecolor": "white",
                          "minorgridcolor": "white",
                          "startlinecolor": "#2a3f5f"
                        },
                        "baxis": {
                          "endlinecolor": "#2a3f5f",
                          "gridcolor": "white",
                          "linecolor": "white",
                          "minorgridcolor": "white",
                          "startlinecolor": "#2a3f5f"
                        },
                        "type": "carpet"
                      }
                    ],
                    "choropleth": [
                      {
                        "colorbar": {
                          "outlinewidth": 0,
                          "ticks": ""
                        },
                        "type": "choropleth"
                      }
                    ],
                    "contour": [
                      {
                        "colorbar": {
                          "outlinewidth": 0,
                          "ticks": ""
                        },
                        "colorscale": [
                          [
                            0,
                            "#0d0887"
                          ],
                          [
                            0.1111111111111111,
                            "#46039f"
                          ],
                          [
                            0.2222222222222222,
                            "#7201a8"
                          ],
                          [
                            0.3333333333333333,
                            "#9c179e"
                          ],
                          [
                            0.4444444444444444,
                            "#bd3786"
                          ],
                          [
                            0.5555555555555556,
                            "#d8576b"
                          ],
                          [
                            0.6666666666666666,
                            "#ed7953"
                          ],
                          [
                            0.7777777777777778,
                            "#fb9f3a"
                          ],
                          [
                            0.8888888888888888,
                            "#fdca26"
                          ],
                          [
                            1,
                            "#f0f921"
                          ]
                        ],
                        "type": "contour"
                      }
                    ],
                    "contourcarpet": [
                      {
                        "colorbar": {
                          "outlinewidth": 0,
                          "ticks": ""
                        },
                        "type": "contourcarpet"
                      }
                    ],
                    "heatmap": [
                      {
                        "colorbar": {
                          "outlinewidth": 0,
                          "ticks": ""
                        },
                        "colorscale": [
                          [
                            0,
                            "#0d0887"
                          ],
                          [
                            0.1111111111111111,
                            "#46039f"
                          ],
                          [
                            0.2222222222222222,
                            "#7201a8"
                          ],
                          [
                            0.3333333333333333,
                            "#9c179e"
                          ],
                          [
                            0.4444444444444444,
                            "#bd3786"
                          ],
                          [
                            0.5555555555555556,
                            "#d8576b"
                          ],
                          [
                            0.6666666666666666,
                            "#ed7953"
                          ],
                          [
                            0.7777777777777778,
                            "#fb9f3a"
                          ],
                          [
                            0.8888888888888888,
                            "#fdca26"
                          ],
                          [
                            1,
                            "#f0f921"
                          ]
                        ],
                        "type": "heatmap"
                      }
                    ],
                    "heatmapgl": [
                      {
                        "colorbar": {
                          "outlinewidth": 0,
                          "ticks": ""
                        },
                        "colorscale": [
                          [
                            0,
                            "#0d0887"
                          ],
                          [
                            0.1111111111111111,
                            "#46039f"
                          ],
                          [
                            0.2222222222222222,
                            "#7201a8"
                          ],
                          [
                            0.3333333333333333,
                            "#9c179e"
                          ],
                          [
                            0.4444444444444444,
                            "#bd3786"
                          ],
                          [
                            0.5555555555555556,
                            "#d8576b"
                          ],
                          [
                            0.6666666666666666,
                            "#ed7953"
                          ],
                          [
                            0.7777777777777778,
                            "#fb9f3a"
                          ],
                          [
                            0.8888888888888888,
                            "#fdca26"
                          ],
                          [
                            1,
                            "#f0f921"
                          ]
                        ],
                        "type": "heatmapgl"
                      }
                    ],
                    "histogram": [
                      {
                        "marker": {
                          "pattern": {
                            "fillmode": "overlay",
                            "size": 10,
                            "solidity": 0.2
                          }
                        },
                        "type": "histogram"
                      }
                    ],
                    "histogram2d": [
                      {
                        "colorbar": {
                          "outlinewidth": 0,
                          "ticks": ""
                        },
                        "colorscale": [
                          [
                            0,
                            "#0d0887"
                          ],
                          [
                            0.1111111111111111,
                            "#46039f"
                          ],
                          [
                            0.2222222222222222,
                            "#7201a8"
                          ],
                          [
                            0.3333333333333333,
                            "#9c179e"
                          ],
                          [
                            0.4444444444444444,
                            "#bd3786"
                          ],
                          [
                            0.5555555555555556,
                            "#d8576b"
                          ],
                          [
                            0.6666666666666666,
                            "#ed7953"
                          ],
                          [
                            0.7777777777777778,
                            "#fb9f3a"
                          ],
                          [
                            0.8888888888888888,
                            "#fdca26"
                          ],
                          [
                            1,
                            "#f0f921"
                          ]
                        ],
                        "type": "histogram2d"
                      }
                    ],
                    "histogram2dcontour": [
                      {
                        "colorbar": {
                          "outlinewidth": 0,
                          "ticks": ""
                        },
                        "colorscale": [
                          [
                            0,
                            "#0d0887"
                          ],
                          [
                            0.1111111111111111,
                            "#46039f"
                          ],
                          [
                            0.2222222222222222,
                            "#7201a8"
                          ],
                          [
                            0.3333333333333333,
                            "#9c179e"
                          ],
                          [
                            0.4444444444444444,
                            "#bd3786"
                          ],
                          [
                            0.5555555555555556,
                            "#d8576b"
                          ],
                          [
                            0.6666666666666666,
                            "#ed7953"
                          ],
                          [
                            0.7777777777777778,
                            "#fb9f3a"
                          ],
                          [
                            0.8888888888888888,
                            "#fdca26"
                          ],
                          [
                            1,
                            "#f0f921"
                          ]
                        ],
                        "type": "histogram2dcontour"
                      }
                    ],
                    "mesh3d": [
                      {
                        "colorbar": {
                          "outlinewidth": 0,
                          "ticks": ""
                        },
                        "type": "mesh3d"
                      }
                    ],
                    "parcoords": [
                      {
                        "line": {
                          "colorbar": {
                            "outlinewidth": 0,
                            "ticks": ""
                          }
                        },
                        "type": "parcoords"
                      }
                    ],
                    "pie": [
                      {
                        "automargin": true,
                        "type": "pie"
                      }
                    ],
                    "scatter": [
                      {
                        "fillpattern": {
                          "fillmode": "overlay",
                          "size": 10,
                          "solidity": 0.2
                        },
                        "type": "scatter"
                      }
                    ],
                    "scatter3d": [
                      {
                        "line": {
                          "colorbar": {
                            "outlinewidth": 0,
                            "ticks": ""
                          }
                        },
                        "marker": {
                          "colorbar": {
                            "outlinewidth": 0,
                            "ticks": ""
                          }
                        },
                        "type": "scatter3d"
                      }
                    ],
                    "scattercarpet": [
                      {
                        "marker": {
                          "colorbar": {
                            "outlinewidth": 0,
                            "ticks": ""
                          }
                        },
                        "type": "scattercarpet"
                      }
                    ],
                    "scattergeo": [
                      {
                        "marker": {
                          "colorbar": {
                            "outlinewidth": 0,
                            "ticks": ""
                          }
                        },
                        "type": "scattergeo"
                      }
                    ],
                    "scattergl": [
                      {
                        "marker": {
                          "colorbar": {
                            "outlinewidth": 0,
                            "ticks": ""
                          }
                        },
                        "type": "scattergl"
                      }
                    ],
                    "scattermapbox": [
                      {
                        "marker": {
                          "colorbar": {
                            "outlinewidth": 0,
                            "ticks": ""
                          }
                        },
                        "type": "scattermapbox"
                      }
                    ],
                    "scatterpolar": [
                      {
                        "marker": {
                          "colorbar": {
                            "outlinewidth": 0,
                            "ticks": ""
                          }
                        },
                        "type": "scatterpolar"
                      }
                    ],
                    "scatterpolargl": [
                      {
                        "marker": {
                          "colorbar": {
                            "outlinewidth": 0,
                            "ticks": ""
                          }
                        },
                        "type": "scatterpolargl"
                      }
                    ],
                    "scatterternary": [
                      {
                        "marker": {
                          "colorbar": {
                            "outlinewidth": 0,
                            "ticks": ""
                          }
                        },
                        "type": "scatterternary"
                      }
                    ],
                    "surface": [
                      {
                        "colorbar": {
                          "outlinewidth": 0,
                          "ticks": ""
                        },
                        "colorscale": [
                          [
                            0,
                            "#0d0887"
                          ],
                          [
                            0.1111111111111111,
                            "#46039f"
                          ],
                          [
                            0.2222222222222222,
                            "#7201a8"
                          ],
                          [
                            0.3333333333333333,
                            "#9c179e"
                          ],
                          [
                            0.4444444444444444,
                            "#bd3786"
                          ],
                          [
                            0.5555555555555556,
                            "#d8576b"
                          ],
                          [
                            0.6666666666666666,
                            "#ed7953"
                          ],
                          [
                            0.7777777777777778,
                            "#fb9f3a"
                          ],
                          [
                            0.8888888888888888,
                            "#fdca26"
                          ],
                          [
                            1,
                            "#f0f921"
                          ]
                        ],
                        "type": "surface"
                      }
                    ],
                    "table": [
                      {
                        "cells": {
                          "fill": {
                            "color": "#EBF0F8"
                          },
                          "line": {
                            "color": "white"
                          }
                        },
                        "header": {
                          "fill": {
                            "color": "#C8D4E3"
                          },
                          "line": {
                            "color": "white"
                          }
                        },
                        "type": "table"
                      }
                    ]
                  },
                  "layout": {
                    "annotationdefaults": {
                      "arrowcolor": "#2a3f5f",
                      "arrowhead": 0,
                      "arrowwidth": 1
                    },
                    "autotypenumbers": "strict",
                    "coloraxis": {
                      "colorbar": {
                        "outlinewidth": 0,
                        "ticks": ""
                      }
                    },
                    "colorscale": {
                      "diverging": [
                        [
                          0,
                          "#8e0152"
                        ],
                        [
                          0.1,
                          "#c51b7d"
                        ],
                        [
                          0.2,
                          "#de77ae"
                        ],
                        [
                          0.3,
                          "#f1b6da"
                        ],
                        [
                          0.4,
                          "#fde0ef"
                        ],
                        [
                          0.5,
                          "#f7f7f7"
                        ],
                        [
                          0.6,
                          "#e6f5d0"
                        ],
                        [
                          0.7,
                          "#b8e186"
                        ],
                        [
                          0.8,
                          "#7fbc41"
                        ],
                        [
                          0.9,
                          "#4d9221"
                        ],
                        [
                          1,
                          "#276419"
                        ]
                      ],
                      "sequential": [
                        [
                          0,
                          "#0d0887"
                        ],
                        [
                          0.1111111111111111,
                          "#46039f"
                        ],
                        [
                          0.2222222222222222,
                          "#7201a8"
                        ],
                        [
                          0.3333333333333333,
                          "#9c179e"
                        ],
                        [
                          0.4444444444444444,
                          "#bd3786"
                        ],
                        [
                          0.5555555555555556,
                          "#d8576b"
                        ],
                        [
                          0.6666666666666666,
                          "#ed7953"
                        ],
                        [
                          0.7777777777777778,
                          "#fb9f3a"
                        ],
                        [
                          0.8888888888888888,
                          "#fdca26"
                        ],
                        [
                          1,
                          "#f0f921"
                        ]
                      ],
                      "sequentialminus": [
                        [
                          0,
                          "#0d0887"
                        ],
                        [
                          0.1111111111111111,
                          "#46039f"
                        ],
                        [
                          0.2222222222222222,
                          "#7201a8"
                        ],
                        [
                          0.3333333333333333,
                          "#9c179e"
                        ],
                        [
                          0.4444444444444444,
                          "#bd3786"
                        ],
                        [
                          0.5555555555555556,
                          "#d8576b"
                        ],
                        [
                          0.6666666666666666,
                          "#ed7953"
                        ],
                        [
                          0.7777777777777778,
                          "#fb9f3a"
                        ],
                        [
                          0.8888888888888888,
                          "#fdca26"
                        ],
                        [
                          1,
                          "#f0f921"
                        ]
                      ]
                    },
                    "colorway": [
                      "#636efa",
                      "#EF553B",
                      "#00cc96",
                      "#ab63fa",
                      "#FFA15A",
                      "#19d3f3",
                      "#FF6692",
                      "#B6E880",
                      "#FF97FF",
                      "#FECB52"
                    ],
                    "font": {
                      "color": "#2a3f5f"
                    },
                    "geo": {
                      "bgcolor": "white",
                      "lakecolor": "white",
                      "landcolor": "#E5ECF6",
                      "showlakes": true,
                      "showland": true,
                      "subunitcolor": "white"
                    },
                    "hoverlabel": {
                      "align": "left"
                    },
                    "hovermode": "closest",
                    "mapbox": {
                      "style": "light"
                    },
                    "paper_bgcolor": "white",
                    "plot_bgcolor": "#E5ECF6",
                    "polar": {
                      "angularaxis": {
                        "gridcolor": "white",
                        "linecolor": "white",
                        "ticks": ""
                      },
                      "bgcolor": "#E5ECF6",
                      "radialaxis": {
                        "gridcolor": "white",
                        "linecolor": "white",
                        "ticks": ""
                      }
                    },
                    "scene": {
                      "xaxis": {
                        "backgroundcolor": "#E5ECF6",
                        "gridcolor": "white",
                        "gridwidth": 2,
                        "linecolor": "white",
                        "showbackground": true,
                        "ticks": "",
                        "zerolinecolor": "white"
                      },
                      "yaxis": {
                        "backgroundcolor": "#E5ECF6",
                        "gridcolor": "white",
                        "gridwidth": 2,
                        "linecolor": "white",
                        "showbackground": true,
                        "ticks": "",
                        "zerolinecolor": "white"
                      },
                      "zaxis": {
                        "backgroundcolor": "#E5ECF6",
                        "gridcolor": "white",
                        "gridwidth": 2,
                        "linecolor": "white",
                        "showbackground": true,
                        "ticks": "",
                        "zerolinecolor": "white"
                      }
                    },
                    "shapedefaults": {
                      "line": {
                        "color": "#2a3f5f"
                      }
                    },
                    "ternary": {
                      "aaxis": {
                        "gridcolor": "white",
                        "linecolor": "white",
                        "ticks": ""
                      },
                      "baxis": {
                        "gridcolor": "white",
                        "linecolor": "white",
                        "ticks": ""
                      },
                      "bgcolor": "#E5ECF6",
                      "caxis": {
                        "gridcolor": "white",
                        "linecolor": "white",
                        "ticks": ""
                      }
                    },
                    "title": {
                      "x": 0.05
                    },
                    "xaxis": {
                      "automargin": true,
                      "gridcolor": "white",
                      "linecolor": "white",
                      "ticks": "",
                      "title": {
                        "standoff": 15
                      },
                      "zerolinecolor": "white",
                      "zerolinewidth": 2
                    },
                    "yaxis": {
                      "automargin": true,
                      "gridcolor": "white",
                      "linecolor": "white",
                      "ticks": "",
                      "title": {
                        "standoff": 15
                      },
                      "zerolinecolor": "white",
                      "zerolinewidth": 2
                    }
                  }
                },
                "title": {
                  "text": "Features importance for target : ['SURF_TER_HA'] with Lasso Linear Regression"
                },
                "xaxis": {
                  "anchor": "y",
                  "domain": [
                    0,
                    1
                  ],
                  "title": {
                    "text": "index"
                  }
                },
                "yaxis": {
                  "anchor": "x",
                  "domain": [
                    0,
                    1
                  ],
                  "title": {
                    "text": "value"
                  }
                }
              }
            }
          },
          "metadata": {},
          "output_type": "display_data"
        }
      ],
      "source": [
        "fig = px.bar(df_coef['Coeff'], title=f\"Features importance for target : {TARGET} with Lasso Linear Regression\")\n",
        "fig.show()"
      ]
    },
    {
      "cell_type": "code",
      "execution_count": 235,
      "metadata": {},
      "outputs": [],
      "source": [
        "y_dum = np.mean(Y) * np.ones(7209)"
      ]
    },
    {
      "cell_type": "code",
      "execution_count": 238,
      "metadata": {},
      "outputs": [
        {
          "data": {
            "text/plain": [
              "array([33.350086, 33.350086, 33.350086, ..., 33.350086, 33.350086,\n",
              "       33.350086])"
            ]
          },
          "execution_count": 238,
          "metadata": {},
          "output_type": "execute_result"
        }
      ],
      "source": [
        "y_dum"
      ]
    },
    {
      "cell_type": "code",
      "execution_count": 234,
      "metadata": {},
      "outputs": [
        {
          "data": {
            "text/plain": [
              "7209"
            ]
          },
          "execution_count": 234,
          "metadata": {},
          "output_type": "execute_result"
        }
      ],
      "source": [
        "len(Y)"
      ]
    },
    {
      "cell_type": "code",
      "execution_count": 239,
      "metadata": {},
      "outputs": [
        {
          "data": {
            "text/plain": [
              "0.0"
            ]
          },
          "execution_count": 239,
          "metadata": {},
          "output_type": "execute_result"
        }
      ],
      "source": [
        "r2_score(Y, y_dum)"
      ]
    }
  ],
  "metadata": {
    "colab": {
      "provenance": []
    },
    "kernelspec": {
      "display_name": "Python 3.9.13 ('base')",
      "language": "python",
      "name": "python3"
    },
    "language_info": {
      "codemirror_mode": {
        "name": "ipython",
        "version": 3
      },
      "file_extension": ".py",
      "mimetype": "text/x-python",
      "name": "python",
      "nbconvert_exporter": "python",
      "pygments_lexer": "ipython3",
      "version": "3.9.13"
    },
    "vscode": {
      "interpreter": {
        "hash": "1cca9558bc5ad879ec93cc030b157d75f18267527c60932cecaace349eef54dd"
      }
    }
  },
  "nbformat": 4,
  "nbformat_minor": 0
}
