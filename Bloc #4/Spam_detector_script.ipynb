{
  "cells": [
    {
      "cell_type": "markdown",
      "metadata": {
        "id": "KXevgt6hQg1X"
      },
      "source": [
        "Importing the necessary libraries"
      ]
    },
    {
      "cell_type": "code",
      "execution_count": null,
      "metadata": {
        "id": "c8X9j4L8Qg1Z"
      },
      "outputs": [],
      "source": [
        "import tensorflow as tf\n",
        "import matplotlib.pyplot as plt\n",
        "import numpy as np\n",
        "import pandas as pd\n",
        "import io\n",
        "\n",
        "from tensorflow.keras.preprocessing.text import Tokenizer\n",
        "from tensorflow.keras.preprocessing.sequence import pad_sequences"
      ]
    },
    {
      "cell_type": "markdown",
      "metadata": {
        "id": "rYdehd5vQg1a"
      },
      "source": [
        "Loading the dataset"
      ]
    },
    {
      "cell_type": "code",
      "execution_count": null,
      "metadata": {
        "id": "WrMWF000Qg1a"
      },
      "outputs": [],
      "source": [
        "dataset = pd.read_csv('/content/spam.csv', encoding='ISO-8859-1')"
      ]
    },
    {
      "cell_type": "markdown",
      "metadata": {
        "id": "i9fS5taSQg1a"
      },
      "source": [
        "Quick EDA "
      ]
    },
    {
      "cell_type": "code",
      "execution_count": null,
      "metadata": {
        "colab": {
          "base_uri": "https://localhost:8080/",
          "height": 590
        },
        "id": "fyc6VlKCQg1a",
        "outputId": "c9131276-2a7a-4e39-f349-c6fe0d3f1142"
      },
      "outputs": [
        {
          "output_type": "stream",
          "name": "stdout",
          "text": [
            "Number of rows : 5572\n",
            "\n",
            "Display of dataset: \n"
          ]
        },
        {
          "output_type": "display_data",
          "data": {
            "text/plain": [
              "     v1                                                 v2 Unnamed: 2  \\\n",
              "0   ham  Go until jurong point, crazy.. Available only ...        NaN   \n",
              "1   ham                      Ok lar... Joking wif u oni...        NaN   \n",
              "2  spam  Free entry in 2 a wkly comp to win FA Cup fina...        NaN   \n",
              "3   ham  U dun say so early hor... U c already then say...        NaN   \n",
              "4   ham  Nah I don't think he goes to usf, he lives aro...        NaN   \n",
              "\n",
              "  Unnamed: 3 Unnamed: 4  \n",
              "0        NaN        NaN  \n",
              "1        NaN        NaN  \n",
              "2        NaN        NaN  \n",
              "3        NaN        NaN  \n",
              "4        NaN        NaN  "
            ],
            "text/html": [
              "\n",
              "  <div id=\"df-c5ffd644-ce08-4b89-ab77-80e674838a1f\">\n",
              "    <div class=\"colab-df-container\">\n",
              "      <div>\n",
              "<style scoped>\n",
              "    .dataframe tbody tr th:only-of-type {\n",
              "        vertical-align: middle;\n",
              "    }\n",
              "\n",
              "    .dataframe tbody tr th {\n",
              "        vertical-align: top;\n",
              "    }\n",
              "\n",
              "    .dataframe thead th {\n",
              "        text-align: right;\n",
              "    }\n",
              "</style>\n",
              "<table border=\"1\" class=\"dataframe\">\n",
              "  <thead>\n",
              "    <tr style=\"text-align: right;\">\n",
              "      <th></th>\n",
              "      <th>v1</th>\n",
              "      <th>v2</th>\n",
              "      <th>Unnamed: 2</th>\n",
              "      <th>Unnamed: 3</th>\n",
              "      <th>Unnamed: 4</th>\n",
              "    </tr>\n",
              "  </thead>\n",
              "  <tbody>\n",
              "    <tr>\n",
              "      <th>0</th>\n",
              "      <td>ham</td>\n",
              "      <td>Go until jurong point, crazy.. Available only ...</td>\n",
              "      <td>NaN</td>\n",
              "      <td>NaN</td>\n",
              "      <td>NaN</td>\n",
              "    </tr>\n",
              "    <tr>\n",
              "      <th>1</th>\n",
              "      <td>ham</td>\n",
              "      <td>Ok lar... Joking wif u oni...</td>\n",
              "      <td>NaN</td>\n",
              "      <td>NaN</td>\n",
              "      <td>NaN</td>\n",
              "    </tr>\n",
              "    <tr>\n",
              "      <th>2</th>\n",
              "      <td>spam</td>\n",
              "      <td>Free entry in 2 a wkly comp to win FA Cup fina...</td>\n",
              "      <td>NaN</td>\n",
              "      <td>NaN</td>\n",
              "      <td>NaN</td>\n",
              "    </tr>\n",
              "    <tr>\n",
              "      <th>3</th>\n",
              "      <td>ham</td>\n",
              "      <td>U dun say so early hor... U c already then say...</td>\n",
              "      <td>NaN</td>\n",
              "      <td>NaN</td>\n",
              "      <td>NaN</td>\n",
              "    </tr>\n",
              "    <tr>\n",
              "      <th>4</th>\n",
              "      <td>ham</td>\n",
              "      <td>Nah I don't think he goes to usf, he lives aro...</td>\n",
              "      <td>NaN</td>\n",
              "      <td>NaN</td>\n",
              "      <td>NaN</td>\n",
              "    </tr>\n",
              "  </tbody>\n",
              "</table>\n",
              "</div>\n",
              "      <button class=\"colab-df-convert\" onclick=\"convertToInteractive('df-c5ffd644-ce08-4b89-ab77-80e674838a1f')\"\n",
              "              title=\"Convert this dataframe to an interactive table.\"\n",
              "              style=\"display:none;\">\n",
              "        \n",
              "  <svg xmlns=\"http://www.w3.org/2000/svg\" height=\"24px\"viewBox=\"0 0 24 24\"\n",
              "       width=\"24px\">\n",
              "    <path d=\"M0 0h24v24H0V0z\" fill=\"none\"/>\n",
              "    <path d=\"M18.56 5.44l.94 2.06.94-2.06 2.06-.94-2.06-.94-.94-2.06-.94 2.06-2.06.94zm-11 1L8.5 8.5l.94-2.06 2.06-.94-2.06-.94L8.5 2.5l-.94 2.06-2.06.94zm10 10l.94 2.06.94-2.06 2.06-.94-2.06-.94-.94-2.06-.94 2.06-2.06.94z\"/><path d=\"M17.41 7.96l-1.37-1.37c-.4-.4-.92-.59-1.43-.59-.52 0-1.04.2-1.43.59L10.3 9.45l-7.72 7.72c-.78.78-.78 2.05 0 2.83L4 21.41c.39.39.9.59 1.41.59.51 0 1.02-.2 1.41-.59l7.78-7.78 2.81-2.81c.8-.78.8-2.07 0-2.86zM5.41 20L4 18.59l7.72-7.72 1.47 1.35L5.41 20z\"/>\n",
              "  </svg>\n",
              "      </button>\n",
              "      \n",
              "  <style>\n",
              "    .colab-df-container {\n",
              "      display:flex;\n",
              "      flex-wrap:wrap;\n",
              "      gap: 12px;\n",
              "    }\n",
              "\n",
              "    .colab-df-convert {\n",
              "      background-color: #E8F0FE;\n",
              "      border: none;\n",
              "      border-radius: 50%;\n",
              "      cursor: pointer;\n",
              "      display: none;\n",
              "      fill: #1967D2;\n",
              "      height: 32px;\n",
              "      padding: 0 0 0 0;\n",
              "      width: 32px;\n",
              "    }\n",
              "\n",
              "    .colab-df-convert:hover {\n",
              "      background-color: #E2EBFA;\n",
              "      box-shadow: 0px 1px 2px rgba(60, 64, 67, 0.3), 0px 1px 3px 1px rgba(60, 64, 67, 0.15);\n",
              "      fill: #174EA6;\n",
              "    }\n",
              "\n",
              "    [theme=dark] .colab-df-convert {\n",
              "      background-color: #3B4455;\n",
              "      fill: #D2E3FC;\n",
              "    }\n",
              "\n",
              "    [theme=dark] .colab-df-convert:hover {\n",
              "      background-color: #434B5C;\n",
              "      box-shadow: 0px 1px 3px 1px rgba(0, 0, 0, 0.15);\n",
              "      filter: drop-shadow(0px 1px 2px rgba(0, 0, 0, 0.3));\n",
              "      fill: #FFFFFF;\n",
              "    }\n",
              "  </style>\n",
              "\n",
              "      <script>\n",
              "        const buttonEl =\n",
              "          document.querySelector('#df-c5ffd644-ce08-4b89-ab77-80e674838a1f button.colab-df-convert');\n",
              "        buttonEl.style.display =\n",
              "          google.colab.kernel.accessAllowed ? 'block' : 'none';\n",
              "\n",
              "        async function convertToInteractive(key) {\n",
              "          const element = document.querySelector('#df-c5ffd644-ce08-4b89-ab77-80e674838a1f');\n",
              "          const dataTable =\n",
              "            await google.colab.kernel.invokeFunction('convertToInteractive',\n",
              "                                                     [key], {});\n",
              "          if (!dataTable) return;\n",
              "\n",
              "          const docLinkHtml = 'Like what you see? Visit the ' +\n",
              "            '<a target=\"_blank\" href=https://colab.research.google.com/notebooks/data_table.ipynb>data table notebook</a>'\n",
              "            + ' to learn more about interactive tables.';\n",
              "          element.innerHTML = '';\n",
              "          dataTable['output_type'] = 'display_data';\n",
              "          await google.colab.output.renderOutput(dataTable, element);\n",
              "          const docLink = document.createElement('div');\n",
              "          docLink.innerHTML = docLinkHtml;\n",
              "          element.appendChild(docLink);\n",
              "        }\n",
              "      </script>\n",
              "    </div>\n",
              "  </div>\n",
              "  "
            ]
          },
          "metadata": {}
        },
        {
          "output_type": "stream",
          "name": "stdout",
          "text": [
            "\n",
            "Basics statistics: \n"
          ]
        },
        {
          "output_type": "display_data",
          "data": {
            "text/plain": [
              "          v1                      v2  \\\n",
              "count   5572                    5572   \n",
              "unique     2                    5169   \n",
              "top      ham  Sorry, I'll call later   \n",
              "freq    4825                      30   \n",
              "\n",
              "                                               Unnamed: 2  \\\n",
              "count                                                  50   \n",
              "unique                                                 43   \n",
              "top      bt not his girlfrnd... G o o d n i g h t . . .@\"   \n",
              "freq                                                    3   \n",
              "\n",
              "                   Unnamed: 3 Unnamed: 4  \n",
              "count                      12          6  \n",
              "unique                     10          5  \n",
              "top      MK17 92H. 450Ppw 16\"    GNT:-)\"  \n",
              "freq                        2          2  "
            ],
            "text/html": [
              "\n",
              "  <div id=\"df-4089394c-ffe0-45ff-9fa9-371f9d78fe92\">\n",
              "    <div class=\"colab-df-container\">\n",
              "      <div>\n",
              "<style scoped>\n",
              "    .dataframe tbody tr th:only-of-type {\n",
              "        vertical-align: middle;\n",
              "    }\n",
              "\n",
              "    .dataframe tbody tr th {\n",
              "        vertical-align: top;\n",
              "    }\n",
              "\n",
              "    .dataframe thead th {\n",
              "        text-align: right;\n",
              "    }\n",
              "</style>\n",
              "<table border=\"1\" class=\"dataframe\">\n",
              "  <thead>\n",
              "    <tr style=\"text-align: right;\">\n",
              "      <th></th>\n",
              "      <th>v1</th>\n",
              "      <th>v2</th>\n",
              "      <th>Unnamed: 2</th>\n",
              "      <th>Unnamed: 3</th>\n",
              "      <th>Unnamed: 4</th>\n",
              "    </tr>\n",
              "  </thead>\n",
              "  <tbody>\n",
              "    <tr>\n",
              "      <th>count</th>\n",
              "      <td>5572</td>\n",
              "      <td>5572</td>\n",
              "      <td>50</td>\n",
              "      <td>12</td>\n",
              "      <td>6</td>\n",
              "    </tr>\n",
              "    <tr>\n",
              "      <th>unique</th>\n",
              "      <td>2</td>\n",
              "      <td>5169</td>\n",
              "      <td>43</td>\n",
              "      <td>10</td>\n",
              "      <td>5</td>\n",
              "    </tr>\n",
              "    <tr>\n",
              "      <th>top</th>\n",
              "      <td>ham</td>\n",
              "      <td>Sorry, I'll call later</td>\n",
              "      <td>bt not his girlfrnd... G o o d n i g h t . . .@\"</td>\n",
              "      <td>MK17 92H. 450Ppw 16\"</td>\n",
              "      <td>GNT:-)\"</td>\n",
              "    </tr>\n",
              "    <tr>\n",
              "      <th>freq</th>\n",
              "      <td>4825</td>\n",
              "      <td>30</td>\n",
              "      <td>3</td>\n",
              "      <td>2</td>\n",
              "      <td>2</td>\n",
              "    </tr>\n",
              "  </tbody>\n",
              "</table>\n",
              "</div>\n",
              "      <button class=\"colab-df-convert\" onclick=\"convertToInteractive('df-4089394c-ffe0-45ff-9fa9-371f9d78fe92')\"\n",
              "              title=\"Convert this dataframe to an interactive table.\"\n",
              "              style=\"display:none;\">\n",
              "        \n",
              "  <svg xmlns=\"http://www.w3.org/2000/svg\" height=\"24px\"viewBox=\"0 0 24 24\"\n",
              "       width=\"24px\">\n",
              "    <path d=\"M0 0h24v24H0V0z\" fill=\"none\"/>\n",
              "    <path d=\"M18.56 5.44l.94 2.06.94-2.06 2.06-.94-2.06-.94-.94-2.06-.94 2.06-2.06.94zm-11 1L8.5 8.5l.94-2.06 2.06-.94-2.06-.94L8.5 2.5l-.94 2.06-2.06.94zm10 10l.94 2.06.94-2.06 2.06-.94-2.06-.94-.94-2.06-.94 2.06-2.06.94z\"/><path d=\"M17.41 7.96l-1.37-1.37c-.4-.4-.92-.59-1.43-.59-.52 0-1.04.2-1.43.59L10.3 9.45l-7.72 7.72c-.78.78-.78 2.05 0 2.83L4 21.41c.39.39.9.59 1.41.59.51 0 1.02-.2 1.41-.59l7.78-7.78 2.81-2.81c.8-.78.8-2.07 0-2.86zM5.41 20L4 18.59l7.72-7.72 1.47 1.35L5.41 20z\"/>\n",
              "  </svg>\n",
              "      </button>\n",
              "      \n",
              "  <style>\n",
              "    .colab-df-container {\n",
              "      display:flex;\n",
              "      flex-wrap:wrap;\n",
              "      gap: 12px;\n",
              "    }\n",
              "\n",
              "    .colab-df-convert {\n",
              "      background-color: #E8F0FE;\n",
              "      border: none;\n",
              "      border-radius: 50%;\n",
              "      cursor: pointer;\n",
              "      display: none;\n",
              "      fill: #1967D2;\n",
              "      height: 32px;\n",
              "      padding: 0 0 0 0;\n",
              "      width: 32px;\n",
              "    }\n",
              "\n",
              "    .colab-df-convert:hover {\n",
              "      background-color: #E2EBFA;\n",
              "      box-shadow: 0px 1px 2px rgba(60, 64, 67, 0.3), 0px 1px 3px 1px rgba(60, 64, 67, 0.15);\n",
              "      fill: #174EA6;\n",
              "    }\n",
              "\n",
              "    [theme=dark] .colab-df-convert {\n",
              "      background-color: #3B4455;\n",
              "      fill: #D2E3FC;\n",
              "    }\n",
              "\n",
              "    [theme=dark] .colab-df-convert:hover {\n",
              "      background-color: #434B5C;\n",
              "      box-shadow: 0px 1px 3px 1px rgba(0, 0, 0, 0.15);\n",
              "      filter: drop-shadow(0px 1px 2px rgba(0, 0, 0, 0.3));\n",
              "      fill: #FFFFFF;\n",
              "    }\n",
              "  </style>\n",
              "\n",
              "      <script>\n",
              "        const buttonEl =\n",
              "          document.querySelector('#df-4089394c-ffe0-45ff-9fa9-371f9d78fe92 button.colab-df-convert');\n",
              "        buttonEl.style.display =\n",
              "          google.colab.kernel.accessAllowed ? 'block' : 'none';\n",
              "\n",
              "        async function convertToInteractive(key) {\n",
              "          const element = document.querySelector('#df-4089394c-ffe0-45ff-9fa9-371f9d78fe92');\n",
              "          const dataTable =\n",
              "            await google.colab.kernel.invokeFunction('convertToInteractive',\n",
              "                                                     [key], {});\n",
              "          if (!dataTable) return;\n",
              "\n",
              "          const docLinkHtml = 'Like what you see? Visit the ' +\n",
              "            '<a target=\"_blank\" href=https://colab.research.google.com/notebooks/data_table.ipynb>data table notebook</a>'\n",
              "            + ' to learn more about interactive tables.';\n",
              "          element.innerHTML = '';\n",
              "          dataTable['output_type'] = 'display_data';\n",
              "          await google.colab.output.renderOutput(dataTable, element);\n",
              "          const docLink = document.createElement('div');\n",
              "          docLink.innerHTML = docLinkHtml;\n",
              "          element.appendChild(docLink);\n",
              "        }\n",
              "      </script>\n",
              "    </div>\n",
              "  </div>\n",
              "  "
            ]
          },
          "metadata": {}
        },
        {
          "output_type": "stream",
          "name": "stdout",
          "text": [
            "\n",
            "Percentage of missing values: \n"
          ]
        },
        {
          "output_type": "display_data",
          "data": {
            "text/plain": [
              "v1             0.000000\n",
              "v2             0.000000\n",
              "Unnamed: 2    99.102656\n",
              "Unnamed: 3    99.784637\n",
              "Unnamed: 4    99.892319\n",
              "dtype: float64"
            ]
          },
          "metadata": {}
        }
      ],
      "source": [
        "print(\"Number of rows : {}\".format(dataset.shape[0]))\n",
        "print()\n",
        "\n",
        "print(\"Display of dataset: \")\n",
        "display(dataset.head())\n",
        "print()\n",
        "\n",
        "print(\"Basics statistics: \")\n",
        "data_taxi_desc = dataset.describe(include='all')\n",
        "display(data_taxi_desc)\n",
        "print()\n",
        "\n",
        "print(\"Percentage of missing values: \")\n",
        "display(100*dataset.isnull().sum()/dataset.shape[0])"
      ]
    },
    {
      "cell_type": "markdown",
      "metadata": {
        "id": "hjnvpvuEQg1b"
      },
      "source": [
        "Dropping uninteresting columns"
      ]
    },
    {
      "cell_type": "code",
      "execution_count": null,
      "metadata": {
        "id": "dMeUCLX1Qg1b"
      },
      "outputs": [],
      "source": [
        "dataset=dataset.drop(['Unnamed: 2', 'Unnamed: 3', 'Unnamed: 4'], axis=1)"
      ]
    },
    {
      "cell_type": "code",
      "source": [
        "dataset[\"v1\"] = dataset[\"v1\"].apply(lambda x: 1 if x == \"ham\"\n",
        "                                                      else 0 if x == 'spam'\n",
        "                                                      else x)"
      ],
      "metadata": {
        "id": "EOk0B2ELTDnj"
      },
      "execution_count": null,
      "outputs": []
    },
    {
      "cell_type": "code",
      "execution_count": null,
      "metadata": {
        "id": "-k4o-K7KQg1b"
      },
      "outputs": [],
      "source": [
        "sentences = dataset['v2'].tolist()\n",
        "labels = dataset['v1'].tolist()\n",
        "\n",
        "# Separate out the sentences and labels into training and test sets\n",
        "training_size = int(len(sentences) * 0.8)\n",
        "\n",
        "training_sentences = sentences[0:training_size]\n",
        "testing_sentences = sentences[training_size:]\n",
        "training_labels = labels[0:training_size]\n",
        "testing_labels = labels[training_size:]\n",
        "\n",
        "# Make labels into numpy arrays for use with the network later\n",
        "training_labels_final = np.array(training_labels)\n",
        "testing_labels_final = np.array(testing_labels)"
      ]
    },
    {
      "cell_type": "markdown",
      "metadata": {
        "id": "QugiXZm0Qg1c"
      },
      "source": [
        "Tokenizing the dataset"
      ]
    },
    {
      "cell_type": "code",
      "execution_count": null,
      "metadata": {
        "id": "6O5HU6hkQg1c"
      },
      "outputs": [],
      "source": [
        "vocab_size = 600\n",
        "embedding_dim = 16\n",
        "max_length = 60\n",
        "trunc_type='post'\n",
        "padding_type='post'\n",
        "oov_tok = \"<OOV>\"\n",
        "\n",
        "tokenizer = Tokenizer(num_words = vocab_size, oov_token=oov_tok)\n",
        "tokenizer.fit_on_texts(training_sentences)\n",
        "word_index = tokenizer.word_index\n",
        "sequences = tokenizer.texts_to_sequences(training_sentences)\n",
        "padded = pad_sequences(sequences,maxlen=max_length, padding=padding_type, \n",
        "                       truncating=trunc_type)\n",
        "\n",
        "testing_sequences = tokenizer.texts_to_sequences(testing_sentences)\n",
        "testing_padded = pad_sequences(testing_sequences,maxlen=max_length, \n",
        "                               padding=padding_type, truncating=trunc_type)"
      ]
    },
    {
      "cell_type": "markdown",
      "metadata": {
        "id": "WrWKwD3nQg1c"
      },
      "source": [
        "Reviewing a sequence"
      ]
    },
    {
      "cell_type": "code",
      "execution_count": null,
      "metadata": {
        "colab": {
          "base_uri": "https://localhost:8080/"
        },
        "id": "INkn6b2vQg1c",
        "outputId": "c0f4b68f-27bf-4c4b-e7b4-97f7b0a566e0"
      },
      "outputs": [
        {
          "output_type": "stream",
          "name": "stdout",
          "text": [
            "ok lar <OOV> wif u <OOV> ? ? ? ? ? ? ? ? ? ? ? ? ? ? ? ? ? ? ? ? ? ? ? ? ? ? ? ? ? ? ? ? ? ? ? ? ? ? ? ? ? ? ? ? ? ? ? ? ? ? ? ? ? ?\n",
            "Ok lar... Joking wif u oni...\n"
          ]
        }
      ],
      "source": [
        "reverse_word_index = dict([(value, key) for (key, value) in word_index.items()])\n",
        "\n",
        "def decode_review(text):\n",
        "    return ' '.join([reverse_word_index.get(i, '?') for i in text])\n",
        "\n",
        "print(decode_review(padded[1]))\n",
        "print(training_sentences[1])"
      ]
    },
    {
      "cell_type": "markdown",
      "metadata": {
        "id": "PfFZ9nkvQg1d"
      },
      "source": [
        "Training the model with embeddings"
      ]
    },
    {
      "cell_type": "code",
      "execution_count": null,
      "metadata": {
        "colab": {
          "base_uri": "https://localhost:8080/"
        },
        "id": "AiH4C9fRQg1d",
        "outputId": "e4a5e7db-9c30-4ee6-efdf-024110ecd03e"
      },
      "outputs": [
        {
          "output_type": "stream",
          "name": "stdout",
          "text": [
            "Model: \"sequential\"\n",
            "_________________________________________________________________\n",
            " Layer (type)                Output Shape              Param #   \n",
            "=================================================================\n",
            " embedding (Embedding)       (None, 60, 16)            9600      \n",
            "                                                                 \n",
            " global_average_pooling1d (G  (None, 16)               0         \n",
            " lobalAveragePooling1D)                                          \n",
            "                                                                 \n",
            " dense (Dense)               (None, 6)                 102       \n",
            "                                                                 \n",
            " dense_1 (Dense)             (None, 1)                 7         \n",
            "                                                                 \n",
            "=================================================================\n",
            "Total params: 9,709\n",
            "Trainable params: 9,709\n",
            "Non-trainable params: 0\n",
            "_________________________________________________________________\n"
          ]
        }
      ],
      "source": [
        "model = tf.keras.Sequential([\n",
        "    tf.keras.layers.Embedding(vocab_size, embedding_dim, input_length=max_length),\n",
        "    tf.keras.layers.GlobalAveragePooling1D(),\n",
        "    tf.keras.layers.Dense(6, activation='relu'),\n",
        "    tf.keras.layers.Dense(1, activation='sigmoid')\n",
        "])\n",
        "model.compile(loss='binary_crossentropy',optimizer='adam',metrics=['accuracy'])\n",
        "model.summary()"
      ]
    },
    {
      "cell_type": "code",
      "execution_count": null,
      "metadata": {
        "colab": {
          "base_uri": "https://localhost:8080/",
          "height": 1000
        },
        "id": "5q3ID77KQg1d",
        "outputId": "cc8dac00-1f4f-4cd6-bcf2-d93901922b1a"
      },
      "outputs": [
        {
          "output_type": "stream",
          "name": "stdout",
          "text": [
            "Epoch 1/30\n",
            "140/140 [==============================] - 3s 8ms/step - loss: 0.5141 - accuracy: 0.8649 - val_loss: 0.3674 - val_accuracy: 0.8700\n",
            "Epoch 2/30\n",
            "140/140 [==============================] - 1s 6ms/step - loss: 0.3338 - accuracy: 0.8649 - val_loss: 0.2951 - val_accuracy: 0.8700\n",
            "Epoch 3/30\n",
            "140/140 [==============================] - 1s 7ms/step - loss: 0.2780 - accuracy: 0.8652 - val_loss: 0.2318 - val_accuracy: 0.8717\n",
            "Epoch 4/30\n",
            "140/140 [==============================] - 1s 7ms/step - loss: 0.2048 - accuracy: 0.9096 - val_loss: 0.1581 - val_accuracy: 0.9543\n",
            "Epoch 5/30\n",
            "140/140 [==============================] - 1s 6ms/step - loss: 0.1443 - accuracy: 0.9567 - val_loss: 0.1154 - val_accuracy: 0.9668\n",
            "Epoch 6/30\n",
            "140/140 [==============================] - 1s 7ms/step - loss: 0.1097 - accuracy: 0.9681 - val_loss: 0.0911 - val_accuracy: 0.9731\n",
            "Epoch 7/30\n",
            "140/140 [==============================] - 1s 9ms/step - loss: 0.0882 - accuracy: 0.9733 - val_loss: 0.0779 - val_accuracy: 0.9794\n",
            "Epoch 8/30\n",
            "140/140 [==============================] - 2s 11ms/step - loss: 0.0743 - accuracy: 0.9773 - val_loss: 0.0657 - val_accuracy: 0.9794\n",
            "Epoch 9/30\n",
            "140/140 [==============================] - 1s 10ms/step - loss: 0.0648 - accuracy: 0.9805 - val_loss: 0.0632 - val_accuracy: 0.9794\n",
            "Epoch 10/30\n",
            "140/140 [==============================] - 1s 9ms/step - loss: 0.0584 - accuracy: 0.9827 - val_loss: 0.0558 - val_accuracy: 0.9794\n",
            "Epoch 11/30\n",
            "140/140 [==============================] - 1s 7ms/step - loss: 0.0534 - accuracy: 0.9850 - val_loss: 0.0541 - val_accuracy: 0.9821\n",
            "Epoch 12/30\n",
            "140/140 [==============================] - 1s 7ms/step - loss: 0.0496 - accuracy: 0.9859 - val_loss: 0.0508 - val_accuracy: 0.9812\n",
            "Epoch 13/30\n",
            "140/140 [==============================] - 1s 6ms/step - loss: 0.0454 - accuracy: 0.9861 - val_loss: 0.0493 - val_accuracy: 0.9830\n",
            "Epoch 14/30\n",
            "140/140 [==============================] - 1s 7ms/step - loss: 0.0426 - accuracy: 0.9870 - val_loss: 0.0479 - val_accuracy: 0.9821\n",
            "Epoch 15/30\n",
            "140/140 [==============================] - 1s 7ms/step - loss: 0.0398 - accuracy: 0.9881 - val_loss: 0.0472 - val_accuracy: 0.9830\n",
            "Epoch 16/30\n",
            "140/140 [==============================] - 1s 8ms/step - loss: 0.0375 - accuracy: 0.9888 - val_loss: 0.0468 - val_accuracy: 0.9839\n",
            "Epoch 17/30\n",
            "140/140 [==============================] - 1s 7ms/step - loss: 0.0356 - accuracy: 0.9899 - val_loss: 0.0456 - val_accuracy: 0.9839\n",
            "Epoch 18/30\n",
            "140/140 [==============================] - 0s 3ms/step - loss: 0.0338 - accuracy: 0.9899 - val_loss: 0.0458 - val_accuracy: 0.9839\n",
            "Epoch 19/30\n",
            "140/140 [==============================] - 0s 3ms/step - loss: 0.0321 - accuracy: 0.9899 - val_loss: 0.0451 - val_accuracy: 0.9839\n",
            "Epoch 20/30\n",
            "140/140 [==============================] - 0s 3ms/step - loss: 0.0306 - accuracy: 0.9908 - val_loss: 0.0448 - val_accuracy: 0.9848\n",
            "Epoch 21/30\n",
            "140/140 [==============================] - 1s 5ms/step - loss: 0.0293 - accuracy: 0.9908 - val_loss: 0.0448 - val_accuracy: 0.9848\n",
            "Epoch 22/30\n",
            "140/140 [==============================] - 1s 5ms/step - loss: 0.0275 - accuracy: 0.9921 - val_loss: 0.0448 - val_accuracy: 0.9857\n",
            "Epoch 23/30\n",
            "140/140 [==============================] - 1s 5ms/step - loss: 0.0269 - accuracy: 0.9917 - val_loss: 0.0456 - val_accuracy: 0.9830\n",
            "Epoch 24/30\n",
            "140/140 [==============================] - 1s 5ms/step - loss: 0.0257 - accuracy: 0.9917 - val_loss: 0.0473 - val_accuracy: 0.9812\n",
            "Epoch 25/30\n",
            "140/140 [==============================] - 1s 4ms/step - loss: 0.0245 - accuracy: 0.9919 - val_loss: 0.0454 - val_accuracy: 0.9857\n",
            "Epoch 26/30\n",
            "140/140 [==============================] - 0s 3ms/step - loss: 0.0229 - accuracy: 0.9930 - val_loss: 0.0457 - val_accuracy: 0.9865\n",
            "Epoch 27/30\n",
            "140/140 [==============================] - 0s 3ms/step - loss: 0.0221 - accuracy: 0.9928 - val_loss: 0.0467 - val_accuracy: 0.9830\n",
            "Epoch 28/30\n",
            "140/140 [==============================] - 0s 3ms/step - loss: 0.0212 - accuracy: 0.9933 - val_loss: 0.0463 - val_accuracy: 0.9874\n",
            "Epoch 29/30\n",
            "140/140 [==============================] - 0s 3ms/step - loss: 0.0203 - accuracy: 0.9933 - val_loss: 0.0469 - val_accuracy: 0.9874\n",
            "Epoch 30/30\n",
            "140/140 [==============================] - 0s 3ms/step - loss: 0.0202 - accuracy: 0.9935 - val_loss: 0.0476 - val_accuracy: 0.9830\n",
            "dict_keys(['loss', 'accuracy', 'val_loss', 'val_accuracy'])\n"
          ]
        },
        {
          "output_type": "display_data",
          "data": {
            "text/plain": [
              "<Figure size 432x288 with 1 Axes>"
            ],
            "image/png": "[encoded data removed]"
          },
          "metadata": {
            "needs_background": "light"
          }
        }
      ],
      "source": [
        "num_epochs = 30\n",
        "history=model.fit(padded, training_labels_final, epochs=num_epochs, validation_data=(testing_padded, testing_labels_final))\n",
        "\n",
        "# list all data in history\n",
        "print(history.history.keys())\n",
        "# summarize history for accuracy\n",
        "plt.plot(history.history['loss'])\n",
        "plt.plot(history.history['val_loss'])\n",
        "plt.title('model loss')\n",
        "plt.ylabel('loss')\n",
        "plt.xlabel('epoch')\n",
        "plt.legend(['train', 'val'], loc='upper left')\n",
        "plt.show()"
      ]
    },
    {
      "cell_type": "code",
      "execution_count": null,
      "metadata": {
        "colab": {
          "base_uri": "https://localhost:8080/"
        },
        "id": "1XEKIUh2Qg1d",
        "outputId": "fbae4eaa-6f4e-4c68-b478-005c3eb42b48"
      },
      "outputs": [
        {
          "output_type": "stream",
          "name": "stdout",
          "text": [
            "(600, 16)\n"
          ]
        }
      ],
      "source": [
        "# First get the weights of the embedding layer\n",
        "e = model.layers[0]\n",
        "weights = e.get_weights()[0]\n",
        "print(weights.shape) # shape: (vocab_size, embedding_dim)"
      ]
    },
    {
      "cell_type": "code",
      "execution_count": null,
      "metadata": {
        "id": "Hduth3jyQg1d"
      },
      "outputs": [],
      "source": [
        "# Write out the embedding vectors and metadata\n",
        "out_v = io.open('vecs.tsv', 'w', encoding='utf-8')\n",
        "out_m = io.open('meta.tsv', 'w', encoding='utf-8')\n",
        "for word_num in range(1, vocab_size):\n",
        "  word = reverse_word_index[word_num]\n",
        "  embeddings = weights[word_num]\n",
        "  out_m.write(word + \"\\n\")\n",
        "  out_v.write('\\t'.join([str(x) for x in embeddings]) + \"\\n\")\n",
        "out_v.close()\n",
        "out_m.close()"
      ]
    },
    {
      "cell_type": "markdown",
      "metadata": {
        "id": "X1DbmSJTQg1e"
      },
      "source": [
        "Detecting Spam Across New Messages"
      ]
    },
    {
      "cell_type": "code",
      "execution_count": null,
      "metadata": {
        "colab": {
          "base_uri": "https://localhost:8080/"
        },
        "id": "vEbEzQNVQg1e",
        "outputId": "d18ddddf-e389-4996-df10-858144ce2ee6"
      },
      "outputs": [
        {
          "output_type": "stream",
          "name": "stdout",
          "text": [
            "['Greg, can you call me back once you get this?', 'Congrats on your new iPhone! Click here to claim your prize...', 'Really like that new photo of you', 'Did you hear the news today? Terrible what has happened...', 'Attend this free COVID webinar today: Book your session now...', 'Are you coming to the party tonight?', 'Your parcel has gone missing', 'Do not forget to bring friends!', 'You have won a million dollars! Fill out your bank details here...', 'Looking forward to seeing you again']\n",
            "1/1 [==============================] - 0s 109ms/step\n",
            "Greg, can you call me back once you get this?\n",
            "[0.9783273]\n",
            "\n",
            "\n",
            "Congrats on your new iPhone! Click here to claim your prize...\n",
            "[0.05184577]\n",
            "\n",
            "\n",
            "Really like that new photo of you\n",
            "[0.9932901]\n",
            "\n",
            "\n",
            "Did you hear the news today? Terrible what has happened...\n",
            "[0.99024445]\n",
            "\n",
            "\n",
            "Attend this free COVID webinar today: Book your session now...\n",
            "[0.6181397]\n",
            "\n",
            "\n",
            "Are you coming to the party tonight?\n",
            "[0.99725735]\n",
            "\n",
            "\n",
            "Your parcel has gone missing\n",
            "[0.9925135]\n",
            "\n",
            "\n",
            "Do not forget to bring friends!\n",
            "[0.99966305]\n",
            "\n",
            "\n",
            "You have won a million dollars! Fill out your bank details here...\n",
            "[0.57991105]\n",
            "\n",
            "\n",
            "Looking forward to seeing you again\n",
            "[0.9727676]\n",
            "\n",
            "\n"
          ]
        }
      ],
      "source": [
        "# Use the model to predict whether a message is spam\n",
        "text_messages = ['Greg, can you call me back once you get this?',\n",
        "                'Congrats on your new iPhone! Click here to claim your prize...', \n",
        "                'Really like that new photo of you',\n",
        "                'Did you hear the news today? Terrible what has happened...',\n",
        "                'Attend this free COVID webinar today: Book your session now...',\n",
        "                'Are you coming to the party tonight?',\n",
        "                'Your parcel has gone missing',\n",
        "                'Do not forget to bring friends!',\n",
        "                'You have won a million dollars! Fill out your bank details here...',\n",
        "                'Looking forward to seeing you again']\n",
        "\n",
        "print(text_messages) \n",
        "\n",
        "# Create the sequences\n",
        "padding_type='post'\n",
        "sample_sequences = tokenizer.texts_to_sequences(text_messages)\n",
        "fakes_padded = pad_sequences(sample_sequences, padding=padding_type, maxlen=max_length)           \n",
        "\n",
        "classes = model.predict(fakes_padded)\n",
        "\n",
        "# The closer the class is to 1, the more likely that the message is spam\n",
        "for x in range(len(text_messages)):\n",
        "  print(text_messages[x])\n",
        "  print(classes[x])\n",
        "  print('\\n')"
      ]
    }
  ],
  "metadata": {
    "kernelspec": {
      "display_name": "base",
      "language": "python",
      "name": "python3"
    },
    "language_info": {
      "codemirror_mode": {
        "name": "ipython",
        "version": 3
      },
      "file_extension": ".py",
      "mimetype": "text/x-python",
      "name": "python",
      "nbconvert_exporter": "python",
      "pygments_lexer": "ipython3",
      "version": "3.9.13"
    },
    "orig_nbformat": 4,
    "vscode": {
      "interpreter": {
        "hash": "dc8dc8349333fea9e1b128ebd3de032e754d3490cc97f3d6768073c19ac73772"
      }
    },
    "colab": {
      "provenance": []
    }
  },
  "nbformat": 4,
  "nbformat_minor": 0
}